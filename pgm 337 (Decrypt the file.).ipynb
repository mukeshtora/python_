{
 "cells": [
  {
   "cell_type": "code",
   "execution_count": 6,
   "id": "408e93ed",
   "metadata": {},
   "outputs": [],
   "source": [
    "\"\"\"\n",
    "pg.no.336\n",
    "30/11/23\n",
    "Decrypt the file\n",
    "\"\"\"\n",
    "f=open('ss.txt','r')\n",
    "f1=open('ss1.txt','w')\n",
    "\n",
    "for i in f:\n",
    "    for j in i:\n",
    "        s=''\n",
    "        a=ord(j)-1\n",
    "        s+=chr(a)\n",
    "    f1.write(s)"
   ]
  },
  {
   "cell_type": "code",
   "execution_count": null,
   "id": "c69ee5bc",
   "metadata": {},
   "outputs": [],
   "source": []
  },
  {
   "cell_type": "code",
   "execution_count": 7,
   "id": "7cf2c7b0",
   "metadata": {},
   "outputs": [
    {
     "name": "stdout",
     "output_type": "stream",
     "text": [
      "\n",
      "\n"
     ]
    }
   ],
   "source": [
    "d=open('ss1.txt','r')\n",
    "for i in d:\n",
    "    print(i)"
   ]
  },
  {
   "cell_type": "code",
   "execution_count": null,
   "id": "4e80228e",
   "metadata": {},
   "outputs": [],
   "source": []
  }
 ],
 "metadata": {
  "kernelspec": {
   "display_name": "Python 3 (ipykernel)",
   "language": "python",
   "name": "python3"
  },
  "language_info": {
   "codemirror_mode": {
    "name": "ipython",
    "version": 3
   },
   "file_extension": ".py",
   "mimetype": "text/x-python",
   "name": "python",
   "nbconvert_exporter": "python",
   "pygments_lexer": "ipython3",
   "version": "3.8.5"
  }
 },
 "nbformat": 4,
 "nbformat_minor": 5
}

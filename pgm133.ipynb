{
 "cells": [
  {
   "cell_type": "code",
   "execution_count": 2,
   "id": "e1a22788",
   "metadata": {},
   "outputs": [
    {
     "name": "stdout",
     "output_type": "stream",
     "text": [
      "enter x:12\n",
      "enter x:13\n",
      "enter x:14\n",
      "enter x:15\n",
      "enter x:16\n",
      "enter x:17\n",
      "enter x:18\n",
      "enter x:19\n",
      "enter x:20\n",
      "\n",
      "enter y:1\n",
      "enter y:2\n",
      "enter y:3\n",
      "enter y:4\n",
      "enter y:5\n",
      "enter y:6\n",
      "enter y:7\n",
      "enter y:8\n",
      "enter y:9\n",
      "[[11, 11, 11], [11, 11, 11], [11, 11, 11]]\n"
     ]
    }
   ],
   "source": [
    "#09/08/23\n",
    "#difference of two matrix\n",
    "m=[]\n",
    "i=0\n",
    "while i<3:\n",
    "    j=0\n",
    "    a=[]\n",
    "    while j<3:\n",
    "        x=int(input(\"enter x:\"))\n",
    "        a.append(x)\n",
    "        j=j+1\n",
    "    m.append(a)\n",
    "    i=i+1\n",
    "print()\n",
    "i=0\n",
    "n=[]\n",
    "while i<3:\n",
    "    j=0\n",
    "    b=[]\n",
    "    while j<3:\n",
    "        y=int(input(\"enter y:\"))\n",
    "        b.append(y)\n",
    "        j=j+1\n",
    "    n.append(b)\n",
    "    i=i+1\n",
    "o=[]\n",
    "i=0\n",
    "while i<3:\n",
    "    j=0\n",
    "    c=[]\n",
    "    d=0\n",
    "    while j<3:\n",
    "        d=m[i][j]-n[i][j]\n",
    "        c.append(d)\n",
    "        j=j+1\n",
    "    o.append(c)\n",
    "    i=i+1\n",
    "print(o)\n",
    "        \n"
   ]
  },
  {
   "cell_type": "code",
   "execution_count": null,
   "id": "71b1661c",
   "metadata": {},
   "outputs": [],
   "source": []
  }
 ],
 "metadata": {
  "kernelspec": {
   "display_name": "Python 3 (ipykernel)",
   "language": "python",
   "name": "python3"
  },
  "language_info": {
   "codemirror_mode": {
    "name": "ipython",
    "version": 3
   },
   "file_extension": ".py",
   "mimetype": "text/x-python",
   "name": "python",
   "nbconvert_exporter": "python",
   "pygments_lexer": "ipython3",
   "version": "3.8.5"
  }
 },
 "nbformat": 4,
 "nbformat_minor": 5
}

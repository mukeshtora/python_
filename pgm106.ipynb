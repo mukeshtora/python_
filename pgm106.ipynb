{
 "cells": [
  {
   "cell_type": "code",
   "execution_count": 1,
   "id": "2f534924",
   "metadata": {},
   "outputs": [
    {
     "name": "stdout",
     "output_type": "stream",
     "text": [
      "enter string:Linsoft Academy\n",
      "6\n",
      "t Academy\n"
     ]
    }
   ],
   "source": [
    "#pg.no.106\n",
    "#03/08/23\n",
    "#get input string copy all character from Mth position\n",
    "\n",
    "s1=input(\"enter string:\")\n",
    "s2=\"\"\n",
    "m=int(input())\n",
    "i=m\n",
    "n=len(s1)\n",
    "while i<n:\n",
    "    s2=s2+s1[i]\n",
    "    i=i+1\n",
    "print(s2)"
   ]
  },
  {
   "cell_type": "code",
   "execution_count": null,
   "id": "4ac45b00",
   "metadata": {},
   "outputs": [],
   "source": []
  }
 ],
 "metadata": {
  "kernelspec": {
   "display_name": "Python 3 (ipykernel)",
   "language": "python",
   "name": "python3"
  },
  "language_info": {
   "codemirror_mode": {
    "name": "ipython",
    "version": 3
   },
   "file_extension": ".py",
   "mimetype": "text/x-python",
   "name": "python",
   "nbconvert_exporter": "python",
   "pygments_lexer": "ipython3",
   "version": "3.8.5"
  }
 },
 "nbformat": 4,
 "nbformat_minor": 5
}

{
 "cells": [
  {
   "cell_type": "code",
   "execution_count": 9,
   "id": "330ee167",
   "metadata": {},
   "outputs": [
    {
     "name": "stdout",
     "output_type": "stream",
     "text": [
      "enter n:1\n",
      "enter n:2\n",
      "enter n:3\n",
      "enter n:4\n",
      "enter n:5\n",
      "enter n:6\n",
      "enter n:7\n",
      "enter n:8\n",
      "enter n:9\n",
      "[[1, 2, 3], [4, 5, 6], [7, 8, 9]]\n",
      "biggest element of row 0 : 3\n",
      "biggest element of row 1 : 6\n",
      "biggest element of row 2 : 9\n"
     ]
    }
   ],
   "source": [
    "#09/08/23\n",
    "#biggest element of each row\n",
    "m=[]\n",
    "i=0\n",
    "while i<3:\n",
    "    a=[]\n",
    "    j=0\n",
    "    while j<3:\n",
    "        n=int(input(\"enter n:\"))\n",
    "        a.append(n)\n",
    "        j=j+1\n",
    "    m.append(a)\n",
    "    i=i+1\n",
    "print(m)\n",
    "i=0\n",
    "while i<3:\n",
    "    b=0\n",
    "    j=0\n",
    "    while j<3:\n",
    "        if m[i][j]>b:\n",
    "            b=m[i][j]\n",
    "            j=j+1\n",
    "    print('biggest element of row',i,':',b)\n",
    "    i=i+1"
   ]
  },
  {
   "cell_type": "code",
   "execution_count": null,
   "id": "4377621d",
   "metadata": {},
   "outputs": [],
   "source": []
  }
 ],
 "metadata": {
  "kernelspec": {
   "display_name": "Python 3 (ipykernel)",
   "language": "python",
   "name": "python3"
  },
  "language_info": {
   "codemirror_mode": {
    "name": "ipython",
    "version": 3
   },
   "file_extension": ".py",
   "mimetype": "text/x-python",
   "name": "python",
   "nbconvert_exporter": "python",
   "pygments_lexer": "ipython3",
   "version": "3.8.5"
  }
 },
 "nbformat": 4,
 "nbformat_minor": 5
}

{
 "cells": [
  {
   "cell_type": "code",
   "execution_count": 1,
   "id": "c68291f9",
   "metadata": {},
   "outputs": [],
   "source": [
    "class A2nos():\n",
    "    __x=None\n",
    "    __y=None\n",
    "    \n",
    "    def __init__(self,x=500,y=350):\n",
    "        self.__x=x\n",
    "        self.__y=y\n",
    "    def disp(self):\n",
    "        print(self.__x,self.__y)\n",
    "    def setx(self,x=23):\n",
    "        self.__x=x\n",
    "    def sety(self,y=78):\n",
    "        self.__y=y\n",
    "    def setxy(self,x=89,y=90):\n",
    "        self.__x=x\n",
    "        self.__y=y\n",
    "    def setobj(self,ob):\n",
    "        self.__x=ob.__x\n",
    "        self.__y=ob.__y\n",
    "    def reset(self):\n",
    "        self.__x=500\n",
    "        self.__y=350\n",
    "    def getx(self):\n",
    "        return self.__x\n",
    "    def gety(self):\n",
    "        return self.__y\n",
    "    def getxy(self):\n",
    "        return self.__x,self.__y\n",
    "    def getobj(self):\n",
    "        return self"
   ]
  },
  {
   "cell_type": "code",
   "execution_count": 6,
   "id": "fe52384f",
   "metadata": {},
   "outputs": [
    {
     "name": "stdout",
     "output_type": "stream",
     "text": [
      "sum: 130\n",
      "sum: 3090\n",
      "sum: 4000\n",
      "sum: 30\n"
     ]
    }
   ],
   "source": [
    "\"\"\"\n",
    "pg.no.370\n",
    "22/12/23\n",
    "Operation on two numbers\n",
    "\"\"\"\n",
    "class Op2nos(A2nos):\n",
    "    def __init__(self,x=500,y=350):\n",
    "        super().__init__(x, y)\n",
    "    def sum(self):\n",
    "            a=self.getx()\n",
    "            b=self.gety()\n",
    "            return a+b\n",
    "\n",
    "#main\n",
    "a=Op2nos(40,90)\n",
    "\n",
    "x=a.sum()\n",
    "print(\"sum:\",x)\n",
    "\n",
    "a.setx(3000)\n",
    "x=a.sum()\n",
    "print(\"sum:\",x)\n",
    "\n",
    "a.sety(1000)\n",
    "x=a.sum()\n",
    "print(\"sum:\",x)\n",
    "\n",
    "a.setxy(15,15)\n",
    "x=a.sum()\n",
    "print(\"sum:\",x)\n",
    "\n",
    "b=A2nos()\n",
    "b.setx(15)\n"
   ]
  },
  {
   "cell_type": "code",
   "execution_count": null,
   "id": "d088df63",
   "metadata": {},
   "outputs": [],
   "source": [
    "obj=A3nos()\n",
    "obj.setxyz(1001,2002,3003)\n",
    "a.setobject(obj)\n",
    "a.displayall()\n",
    "\n",
    "x=a.getz()\n",
    "print(x)\n",
    "\n",
    "x=self.getobject()\n",
    "print(x.displayall())\n",
    "\n",
    "a.displayz()\n",
    "a.displayall()"
   ]
  }
 ],
 "metadata": {
  "kernelspec": {
   "display_name": "Python 3 (ipykernel)",
   "language": "python",
   "name": "python3"
  },
  "language_info": {
   "codemirror_mode": {
    "name": "ipython",
    "version": 3
   },
   "file_extension": ".py",
   "mimetype": "text/x-python",
   "name": "python",
   "nbconvert_exporter": "python",
   "pygments_lexer": "ipython3",
   "version": "3.8.5"
  }
 },
 "nbformat": 4,
 "nbformat_minor": 5
}

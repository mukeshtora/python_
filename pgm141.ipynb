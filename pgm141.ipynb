{
 "cells": [
  {
   "cell_type": "code",
   "execution_count": 1,
   "id": "e0d61ea2",
   "metadata": {},
   "outputs": [
    {
     "name": "stdout",
     "output_type": "stream",
     "text": [
      "enter a:3\n",
      "3\n",
      "enter a:6\n",
      "6\n",
      "enter a:0\n",
      "0\n",
      "enter a:2\n",
      "2\n",
      "enter a:5\n",
      "5\n",
      "enter a:7\n",
      "7\n",
      "enter a:8\n",
      "8\n",
      "enter a:9\n",
      "9\n",
      "enter a:2\n",
      "2\n",
      "enter a:5\n",
      "5\n",
      "enter a:6\n",
      "6\n"
     ]
    }
   ],
   "source": [
    "#09/08/23\n",
    "#read and display 10 numbers\n",
    "for i in range(11):\n",
    "    a=int(input('enter a:'))\n",
    "    print(a)"
   ]
  },
  {
   "cell_type": "code",
   "execution_count": null,
   "id": "4ce2fbab",
   "metadata": {},
   "outputs": [],
   "source": []
  }
 ],
 "metadata": {
  "kernelspec": {
   "display_name": "Python 3 (ipykernel)",
   "language": "python",
   "name": "python3"
  },
  "language_info": {
   "codemirror_mode": {
    "name": "ipython",
    "version": 3
   },
   "file_extension": ".py",
   "mimetype": "text/x-python",
   "name": "python",
   "nbconvert_exporter": "python",
   "pygments_lexer": "ipython3",
   "version": "3.8.5"
  }
 },
 "nbformat": 4,
 "nbformat_minor": 5
}

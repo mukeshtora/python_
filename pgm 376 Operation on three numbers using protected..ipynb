{
 "cells": [
  {
   "cell_type": "code",
   "execution_count": 2,
   "id": "052860fe",
   "metadata": {},
   "outputs": [],
   "source": [
    "class A2nospro():\n",
    "    _x=None\n",
    "    _y=None\n",
    "    \n",
    "    def __init__(self,x=500,y=350):\n",
    "        self._x=x\n",
    "        self._y=y\n",
    "    def disp(self):\n",
    "        print(self._x,self._y)\n",
    "    def setx(self,x=23):\n",
    "        self._x=x\n",
    "    def sety(self,y=78):\n",
    "        self._y=y\n",
    "    def setxy(self,x=89,y=90):\n",
    "        self._x=x\n",
    "        self._y=y\n",
    "    def setobj(self,ob):\n",
    "        self._x=ob._x\n",
    "        self._y=ob._y\n",
    "    def reset(self):\n",
    "        self._x=500\n",
    "        self._y=350\n",
    "    def getx(self):\n",
    "        return self._x\n",
    "    def gety(self):\n",
    "        return self._y\n",
    "    def getxy(self):\n",
    "        return self._x,self._y\n",
    "    def getobj(self):\n",
    "        return self"
   ]
  },
  {
   "cell_type": "code",
   "execution_count": 3,
   "id": "511960ff",
   "metadata": {},
   "outputs": [],
   "source": [
    "class A3nospro (A2nospro):\n",
    "    _z=None\n",
    "    \n",
    "    def __init__(self,a=100,b=200,c=300):\n",
    "        self._x=a\n",
    "        self._y=b\n",
    "        self._z=c\n",
    "        \n",
    "    def setz(self,a):\n",
    "        self._z=a\n",
    "        \n",
    "    def setxyz(self,a,b,c):\n",
    "        self._x=a\n",
    "        self._y=b\n",
    "        self._z=c\n",
    "        \n",
    "    def reset(self):\n",
    "        self._x=100\n",
    "        self._y=200\n",
    "        self._z=300\n",
    "        \n",
    "    def setobject(self,a):\n",
    "        self._x=a._x\n",
    "        self._y=a._y\n",
    "        self._z=a._z\n",
    "        \n",
    "    def displayz(self):\n",
    "        print(self._z)\n",
    "        \n",
    "    def displayall(self):\n",
    "        print(self._x,self._y,self._z)\n",
    "        "
   ]
  },
  {
   "cell_type": "code",
   "execution_count": 16,
   "id": "4a77633b",
   "metadata": {},
   "outputs": [
    {
     "name": "stdout",
     "output_type": "stream",
     "text": [
      "600\n",
      "6000000\n",
      "300\n",
      "100\n"
     ]
    }
   ],
   "source": [
    "\"\"\"\n",
    "pg.no.376\n",
    "28/12/23\n",
    "operation on three numbers using protected variable.\n",
    "\"\"\"\n",
    "class Op3nospro(A3nospro):\n",
    "    _x=None\n",
    "    _y=None\n",
    "    _z=None\n",
    "    \n",
    "    def __init__(self, x=100,y=200,z=300):\n",
    "        self._x=x\n",
    "        self._y=y\n",
    "        self._z=z\n",
    "        \n",
    "    def sums(self):\n",
    "            return self._x+self._y+self._z\n",
    "    def prod(self):\n",
    "            return self._x*self._y*self._z\n",
    "    def big(self):\n",
    "            d=(self._x if self._x>self._z else self._z) if self._x>self._y else (self._y if self._y>self._z else self._z)\n",
    "            return d\n",
    "    def small(self):\n",
    "            d=(self._x if self._x<self._z else self._z) if self._x<self._y else (self._y if self._y<self._z else self._z)\n",
    "            return d\n",
    "        \n",
    "#main\n",
    "a=Op3nospro()\n",
    "x=a.sums()\n",
    "print(x)\n",
    "\n",
    "x=a.prod()\n",
    "print(x)\n",
    "\n",
    "x=a.big()\n",
    "print(x)\n",
    "\n",
    "x=a.small()\n",
    "print(x)\n"
   ]
  },
  {
   "cell_type": "code",
   "execution_count": 15,
   "id": "12e8356d",
   "metadata": {},
   "outputs": [
    {
     "name": "stdout",
     "output_type": "stream",
     "text": [
      "10 200 300\n"
     ]
    }
   ],
   "source": [
    "a.setx(10)\n",
    "a.displayall()"
   ]
  },
  {
   "cell_type": "code",
   "execution_count": null,
   "id": "4b481b87",
   "metadata": {},
   "outputs": [],
   "source": []
  }
 ],
 "metadata": {
  "kernelspec": {
   "display_name": "Python 3 (ipykernel)",
   "language": "python",
   "name": "python3"
  },
  "language_info": {
   "codemirror_mode": {
    "name": "ipython",
    "version": 3
   },
   "file_extension": ".py",
   "mimetype": "text/x-python",
   "name": "python",
   "nbconvert_exporter": "python",
   "pygments_lexer": "ipython3",
   "version": "3.8.5"
  }
 },
 "nbformat": 4,
 "nbformat_minor": 5
}

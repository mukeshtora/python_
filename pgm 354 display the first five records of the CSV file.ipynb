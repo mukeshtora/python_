{
 "cells": [
  {
   "cell_type": "code",
   "execution_count": 1,
   "id": "0638857d",
   "metadata": {},
   "outputs": [
    {
     "name": "stdout",
     "output_type": "stream",
     "text": [
      "['rollno', 'name', 'class ', 'Tamil', 'English', 'Maths', 'Science', 'social', 'percentage', 'result']\n",
      "['101', 'Jesy', 'II - Msc DS', '48', '33', '78', '89', '56', '60.8', 'pass']\n",
      "['102', 'Rexi', 'II - Msc DS', '65', '67', '45', '78', '50', '61', 'pass']\n",
      "['103', 'Arul', 'II - Msc DS', '75', '22', '35', '29', '40', '60.9', 'pass']\n",
      "['104', 'Asha', 'II - Msc DS', '49', '78', '90', '58', '70', '69', 'pass']\n"
     ]
    }
   ],
   "source": [
    "\"\"\"\n",
    "pg.no.354\n",
    "07/12/23\n",
    " display the first five records of the CSV file\n",
    " \"\"\"\n",
    "import csv\n",
    "f=open(\"filehandling(ls).csv\")\n",
    "x=csv.reader(f)\n",
    "\n",
    "y=next(x)\n",
    "print(y)\n",
    "y2=next(x)\n",
    "print(y2)\n",
    "y3=next(x)\n",
    "print(y3)\n",
    "y4=next(x)\n",
    "print(y4)\n",
    "y5=next(x)\n",
    "print(y5)"
   ]
  },
  {
   "cell_type": "code",
   "execution_count": null,
   "id": "544db08a",
   "metadata": {},
   "outputs": [],
   "source": []
  }
 ],
 "metadata": {
  "kernelspec": {
   "display_name": "Python 3 (ipykernel)",
   "language": "python",
   "name": "python3"
  },
  "language_info": {
   "codemirror_mode": {
    "name": "ipython",
    "version": 3
   },
   "file_extension": ".py",
   "mimetype": "text/x-python",
   "name": "python",
   "nbconvert_exporter": "python",
   "pygments_lexer": "ipython3",
   "version": "3.8.5"
  }
 },
 "nbformat": 4,
 "nbformat_minor": 5
}

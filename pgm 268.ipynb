{
 "cells": [
  {
   "cell_type": "code",
   "execution_count": 2,
   "id": "49d0b7a7",
   "metadata": {},
   "outputs": [
    {
     "name": "stdout",
     "output_type": "stream",
     "text": [
      "q:12\n",
      "r:54\n",
      "30\n",
      "22\n",
      "66\n"
     ]
    }
   ],
   "source": [
    "\"\"\"\n",
    "sum of 2 numbers using keyword aurgument\n",
    "21/09/23\n",
    "\"\"\"\n",
    "def add(a=10,b=20):\n",
    "    c=a+b\n",
    "    return c\n",
    "#main\n",
    "x=add()\n",
    "q=int(input('q:'))\n",
    "y=add(b=q)\n",
    "r=int(input('r:'))\n",
    "z=add(b=q,a=r)\n",
    "print(x)\n",
    "print(y)\n",
    "print(z)\n"
   ]
  },
  {
   "cell_type": "markdown",
   "id": "b5952ad3",
   "metadata": {},
   "source": [
    " "
   ]
  }
 ],
 "metadata": {
  "kernelspec": {
   "display_name": "Python 3 (ipykernel)",
   "language": "python",
   "name": "python3"
  },
  "language_info": {
   "codemirror_mode": {
    "name": "ipython",
    "version": 3
   },
   "file_extension": ".py",
   "mimetype": "text/x-python",
   "name": "python",
   "nbconvert_exporter": "python",
   "pygments_lexer": "ipython3",
   "version": "3.8.5"
  }
 },
 "nbformat": 4,
 "nbformat_minor": 5
}

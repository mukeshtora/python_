{
 "cells": [
  {
   "cell_type": "code",
   "execution_count": 1,
   "id": "0593d0a6",
   "metadata": {},
   "outputs": [],
   "source": [
    "import random as r\n",
    "class Mylist():\n",
    "    _a=[]\n",
    "    def __init__(self,n=10):\n",
    "        self._a=[r.randint(1,100) for i in range(n)]\n",
    "        \n",
    "    def disp(self):\n",
    "            for i in self._a:\n",
    "                print(i,end=' ')\n",
    "            print()\n",
    "    def __str__(self):\n",
    "            x=','.join(map(str,self._a))\n",
    "            return x"
   ]
  },
  {
   "cell_type": "code",
   "execution_count": 11,
   "id": "2ce7d44f",
   "metadata": {},
   "outputs": [
    {
     "name": "stdout",
     "output_type": "stream",
     "text": [
      "Mylist: [8, 45, 53, 18, 94, 76, 5, 98, 81, 83]\n",
      "vector: [100, 20, 300, 40, 500, 60, 700, 80, 900, 10]\n",
      "[108, 65, 353, 58, 594, 136, 705, 178, 981, 93]\n",
      "[-92, 25, -247, -22, -406, 16, -695, 18, -819, 73]\n",
      "[800, 900, 15900, 720, 47000, 4560, 3500, 7840, 72900, 830]\n",
      "[0.08, 2.25, 0.17666666666666667, 0.45, 0.188, 1.2666666666666666, 0.007142857142857143, 1.225, 0.09, 8.3]\n",
      "[0, 2, 0, 0, 0, 1, 0, 1, 0, 8]\n",
      "[8, 5, 53, 18, 94, 16, 5, 18, 81, 3]\n"
     ]
    }
   ],
   "source": [
    "\"\"\"\n",
    "pg.no.380\n",
    "29/12/23\n",
    "perform vector operations on your list.\n",
    "\"\"\"\n",
    "class Vop(Mylist):\n",
    "    def __init__(self,n):\n",
    "        super().__init__(n)\n",
    "    def __add__(self,v):\n",
    "        d=[self._a[i]+v[i] for i in range(len(v))]\n",
    "        return d\n",
    "    def __sub__(self,v):\n",
    "        d=[self._a[i]-v[i] for i in range(len(v))]\n",
    "        return d\n",
    "    def __mul__(self,v):\n",
    "        d=[self._a[i]*v[i] for i in range(len(v))]\n",
    "        return d\n",
    "    def __truediv__(self,v):\n",
    "        d=[self._a[i]/v[i] for i in range(len(v))]\n",
    "        return d\n",
    "    def __floordiv__(self,v):\n",
    "        d=[self._a[i]//v[i] for i in range(len(v))]\n",
    "        return d\n",
    "    def __mod__(self,v):\n",
    "        d=[self._a[i]%v[i] for i in range(len(v))]\n",
    "        return d\n",
    "#main\n",
    "a=Vop(10)\n",
    "l=[100,20,300,40,500,60,700,80,900,10]\n",
    "\n",
    "print(\"Mylist:\",a._a)\n",
    "print(\"vector:\",l)\n",
    "x=a+l\n",
    "print(x)\n",
    "\n",
    "x=a-l\n",
    "print(x)\n",
    "\n",
    "x=a*l\n",
    "print(x)\n",
    "\n",
    "x=a/l\n",
    "print(x)\n",
    "\n",
    "x=a//l\n",
    "print(x)\n",
    "\n",
    "x=a%l\n",
    "print(x)"
   ]
  },
  {
   "cell_type": "code",
   "execution_count": null,
   "id": "79eeb70b",
   "metadata": {},
   "outputs": [],
   "source": []
  }
 ],
 "metadata": {
  "kernelspec": {
   "display_name": "Python 3 (ipykernel)",
   "language": "python",
   "name": "python3"
  },
  "language_info": {
   "codemirror_mode": {
    "name": "ipython",
    "version": 3
   },
   "file_extension": ".py",
   "mimetype": "text/x-python",
   "name": "python",
   "nbconvert_exporter": "python",
   "pygments_lexer": "ipython3",
   "version": "3.8.5"
  }
 },
 "nbformat": 4,
 "nbformat_minor": 5
}

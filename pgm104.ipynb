{
 "cells": [
  {
   "cell_type": "code",
   "execution_count": 2,
   "id": "c4a71f3b",
   "metadata": {},
   "outputs": [
    {
     "name": "stdout",
     "output_type": "stream",
     "text": [
      "Linsoft Academy\n",
      "lINSOFT aCADEMY\n"
     ]
    }
   ],
   "source": [
    "#pg.no.104\n",
    "#03/08/23\n",
    "#Read string convert upper case to lower case and store in another string\n",
    "\n",
    "s1=input()\n",
    "s2=''\n",
    "n=len(s1)\n",
    "i=0\n",
    "while i<n:\n",
    "    x=ord(s1[i])\n",
    "    if x>=65 and x<=90:\n",
    "        y=x+32\n",
    "        s2=s2+chr(y)\n",
    "    elif x>=97 and x<=122:\n",
    "        y=x-32\n",
    "        s2=s2+chr(y)\n",
    "    else:\n",
    "        s2=s2+s1[i]\n",
    "    i=i+1\n",
    "print(s2)"
   ]
  },
  {
   "cell_type": "code",
   "execution_count": null,
   "id": "6e70b3d7",
   "metadata": {},
   "outputs": [],
   "source": []
  }
 ],
 "metadata": {
  "kernelspec": {
   "display_name": "Python 3 (ipykernel)",
   "language": "python",
   "name": "python3"
  },
  "language_info": {
   "codemirror_mode": {
    "name": "ipython",
    "version": 3
   },
   "file_extension": ".py",
   "mimetype": "text/x-python",
   "name": "python",
   "nbconvert_exporter": "python",
   "pygments_lexer": "ipython3",
   "version": "3.8.5"
  }
 },
 "nbformat": 4,
 "nbformat_minor": 5
}

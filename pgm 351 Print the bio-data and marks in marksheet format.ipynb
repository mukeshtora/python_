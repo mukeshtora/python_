{
 "cells": [
  {
   "cell_type": "code",
   "execution_count": 30,
   "id": "565bd210",
   "metadata": {},
   "outputs": [
    {
     "name": "stdout",
     "output_type": "stream",
     "text": [
      "Bishop Heber College\n",
      "       Trichy\n",
      "name: mj       rollno: 119\n",
      "subject         marks\n",
      "Tamil           45\n",
      "english         67\n",
      "Maths           89\n",
      "Physics         90\n",
      "Social          67\n",
      "Bishop Heber College\n",
      "       Trichy\n",
      "name: mjk       rollno: 120\n",
      "subject         marks\n",
      "Tamil           78\n",
      "english         90\n",
      "Maths           87\n",
      "Physics         96\n",
      "Social          67\n",
      "Bishop Heber College\n",
      "       Trichy\n",
      "name: shri       rollno: 121\n",
      "subject         marks\n",
      "Tamil           89\n",
      "english         76\n",
      "Maths           97\n",
      "Physics         69\n",
      "Social          59\n",
      "Bishop Heber College\n",
      "       Trichy\n",
      "name: jai       rollno: 122\n",
      "subject         marks\n",
      "Tamil           59\n",
      "english         67\n",
      "Maths           45\n",
      "Physics         86\n",
      "Social          66\n",
      "***End of file***\n"
     ]
    }
   ],
   "source": [
    "\"\"\"\n",
    "pg.no. 351\n",
    "04/12/23\n",
    "Print the bio-data and marks in marksheet format\n",
    "\"\"\"\n",
    "import pickle\n",
    "f=open('file12.dat','rb')\n",
    "try:\n",
    "    x=pickle.load(f)\n",
    "    while x:\n",
    "        print('Bishop Heber College')\n",
    "        print(' '*7+'Trichy')\n",
    "        k=list(x.keys())\n",
    "        v=list(x.values())\n",
    "        print('name:',v[0][0],' '*5,'rollno:',k[0])\n",
    "        print('subject',' '*7,'marks')\n",
    "        print('Tamil',' '*9,v[0][3])\n",
    "        print('english',' '*7,v[0][4])\n",
    "        print('Maths',' '*9,v[0][5])\n",
    "        print('Physics',' '*7,v[0][6])\n",
    "        print('Social',' '*8,v[0][7])\n",
    "        \n",
    "        x=pickle.load(f)\n",
    "        \n",
    "except EOFError:\n",
    "    print('***End of file***')\n",
    "        "
   ]
  },
  {
   "cell_type": "code",
   "execution_count": null,
   "id": "680ce095",
   "metadata": {},
   "outputs": [],
   "source": []
  }
 ],
 "metadata": {
  "kernelspec": {
   "display_name": "Python 3 (ipykernel)",
   "language": "python",
   "name": "python3"
  },
  "language_info": {
   "codemirror_mode": {
    "name": "ipython",
    "version": 3
   },
   "file_extension": ".py",
   "mimetype": "text/x-python",
   "name": "python",
   "nbconvert_exporter": "python",
   "pygments_lexer": "ipython3",
   "version": "3.8.5"
  }
 },
 "nbformat": 4,
 "nbformat_minor": 5
}

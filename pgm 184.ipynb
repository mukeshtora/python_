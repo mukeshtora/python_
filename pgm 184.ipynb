{
 "cells": [
  {
   "cell_type": "code",
   "execution_count": 12,
   "id": "8a07b852",
   "metadata": {},
   "outputs": [
    {
     "name": "stdout",
     "output_type": "stream",
     "text": [
      "enter n:5\n",
      "enter a:34\n",
      "enter a:56\n",
      "enter a:23\n",
      "enter a:75\n",
      "enter a:989\n",
      "index of biggest num: 4\n",
      "index of smallest num: 2\n"
     ]
    }
   ],
   "source": [
    "#21/07/23\n",
    "#find the index of biggest and smallest element of the list\n",
    "a=[]\n",
    "n=int(input('enter n:'))\n",
    "for i in range(n):\n",
    "    l=int(input('enter a:'))\n",
    "    a.append(l)\n",
    "b=0\n",
    "s=0\n",
    "c=0\n",
    "d=0\n",
    "for i in range(len(a)):\n",
    "    b=a[i] if a[i]>b else b\n",
    "    c=i if a[i] > a[c] else c\n",
    "    \n",
    "    s=a[i] if a[i]<d else s\n",
    "    d=i if a[i] < a[d] else d\n",
    "    \n",
    "print('index of biggest num:',c)\n",
    "print('index of smallest num:',d)\n"
   ]
  },
  {
   "cell_type": "code",
   "execution_count": null,
   "id": "669be36d",
   "metadata": {},
   "outputs": [],
   "source": []
  }
 ],
 "metadata": {
  "kernelspec": {
   "display_name": "Python 3 (ipykernel)",
   "language": "python",
   "name": "python3"
  },
  "language_info": {
   "codemirror_mode": {
    "name": "ipython",
    "version": 3
   },
   "file_extension": ".py",
   "mimetype": "text/x-python",
   "name": "python",
   "nbconvert_exporter": "python",
   "pygments_lexer": "ipython3",
   "version": "3.8.5"
  }
 },
 "nbformat": 4,
 "nbformat_minor": 5
}

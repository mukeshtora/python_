{
 "cells": [
  {
   "cell_type": "code",
   "execution_count": 50,
   "id": "a425a58e",
   "metadata": {},
   "outputs": [
    {
     "name": "stdout",
     "output_type": "stream",
     "text": [
      "Before interchange: [60, 90, 2, 12, 45, 4, 76, 88, 23, 6, -1]\n",
      "biggest: 90 smallest: -1 \n",
      " index of big: 1 index of small: 10\n",
      "\n",
      "second biggest: 88 second smallest: 2 \n",
      " index of sb: 7 index of ss: 2\n",
      "\n",
      "after interchange: [60, 90, 88, 12, 45, 4, 76, 2, 23, 6, -1]\n"
     ]
    }
   ],
   "source": [
    "#21/07/23\n",
    "#interchange the position of 2nd biggest and 2nd smallest element in the list\n",
    "a=[60,90,2,12,45,4,76,88,23,6,-1]\n",
    "\"\"\"n=int(input('enter n:'))\n",
    "for i in range(n):\n",
    "    l=int(input('enter a:'))\n",
    "    a.append(l)\"\"\"\n",
    "\n",
    "print('Before interchange:',a)\n",
    "b=0\n",
    "s=999\n",
    "c=0\n",
    "d=0\n",
    "for i in range(len(a)):\n",
    "    b=a[i] if a[i]>b else b\n",
    "    c=i if a[i] > a[c] else c\n",
    "    \n",
    "    s=a[i] if a[i]<s else s\n",
    "    d=i if a[i] < a[d] else d\n",
    "    \n",
    "sb=0\n",
    "ss=999\n",
    "p=0\n",
    "q=0\n",
    "for i in range(len(a)):\n",
    "    sb=a[i] if a[i]!=b and a[i]>sb else sb\n",
    "    p= i if a[i]==sb and a[i]>p else p\n",
    "    \n",
    "    ss=a[i] if a[i]!=s and a[i]<ss else ss\n",
    "    q=i if a[i]==ss and q<a[i] else q\n",
    "    \n",
    "z=a[p]\n",
    "a[p]=a[q]\n",
    "a[q]=z\n",
    "print('biggest:',b,'smallest:',s,'\\n','index of big:',c,'index of small:',d)\n",
    "print()\n",
    "print('second biggest:',sb,'second smallest:',ss,'\\n','index of sb:',p,'index of ss:',q)\n",
    "print()\n",
    "print('after interchange:',a)\n"
   ]
  },
  {
   "cell_type": "code",
   "execution_count": null,
   "id": "ec3cfbfa",
   "metadata": {},
   "outputs": [],
   "source": []
  },
  {
   "cell_type": "code",
   "execution_count": null,
   "id": "32f1ae57",
   "metadata": {},
   "outputs": [],
   "source": []
  }
 ],
 "metadata": {
  "kernelspec": {
   "display_name": "Python 3 (ipykernel)",
   "language": "python",
   "name": "python3"
  },
  "language_info": {
   "codemirror_mode": {
    "name": "ipython",
    "version": 3
   },
   "file_extension": ".py",
   "mimetype": "text/x-python",
   "name": "python",
   "nbconvert_exporter": "python",
   "pygments_lexer": "ipython3",
   "version": "3.8.5"
  }
 },
 "nbformat": 4,
 "nbformat_minor": 5
}

{
 "cells": [
  {
   "cell_type": "code",
   "execution_count": 4,
   "id": "20dda5ad",
   "metadata": {},
   "outputs": [],
   "source": [
    "\"\"\"\n",
    "pg.no. 398 \n",
    "06/01/2024\n",
    "Get input from the user using entry box.\n",
    "\"\"\"\n",
    "import tkinter as tk\n",
    "w=tk.Tk()\n",
    "\n",
    "def mainwindow():\n",
    "    w.title('Login window')\n",
    "    w.configure(background='skyblue')\n",
    "    w.minsize(600,400)\n",
    "    w.maxsize(1520,900)\n",
    "    w.geometry(\"00x400+90+90\")\n",
    "    w.attributes('-alpha',1)\n",
    "    \n",
    "name=tk.StringVar()\n",
    "password=tk.StringVar() #we can add- IntVar(), DoubleVar(), BooleanVar()\n",
    "\n",
    "def design():\n",
    "    l1=tk.Label(w,text='User name:',bg='black',fg='white',font=('times',15))\n",
    "    l1.place(x=50,y=100,w=100,h=50)\n",
    "    e1=tk.Entry(w,textvariable=name, bg='white',fg='black',font=('times',15))\n",
    "    e1.place(x=250,y=100,w=200,h=50)\n",
    "    l2=tk.Label(w,text='Password:',bg='black',fg='white',font=('times',15))\n",
    "    l2.place(x=50,y=150+20,w=100,h=50)\n",
    "    e2=tk.Entry(w,textvariable=password,bg='white',fg='black',font=('times',15),show='*')\n",
    "    e2.place(x=250,y=150+20,w=200,h=50)\n",
    "    \n",
    "    b1=tk.Button(w,text='Ok',bg='Grey',fg='black',font=('times',15),command=ok)\n",
    "    b1.place(x=250,y=255,w=75,h=39)\n",
    "    w.mainloop()\n",
    "    \n",
    "\n",
    "def ok():\n",
    "    x=name.get()\n",
    "    y=password.get()\n",
    "    print(x)\n",
    "    print(y)\n",
    "    \n",
    "#main\n",
    "mainwindow()\n",
    "design()    \n"
   ]
  },
  {
   "cell_type": "markdown",
   "id": "32747c03",
   "metadata": {},
   "source": [
    "#### "
   ]
  },
  {
   "cell_type": "code",
   "execution_count": null,
   "id": "54bf5087",
   "metadata": {},
   "outputs": [],
   "source": []
  }
 ],
 "metadata": {
  "kernelspec": {
   "display_name": "Python 3 (ipykernel)",
   "language": "python",
   "name": "python3"
  },
  "language_info": {
   "codemirror_mode": {
    "name": "ipython",
    "version": 3
   },
   "file_extension": ".py",
   "mimetype": "text/x-python",
   "name": "python",
   "nbconvert_exporter": "python",
   "pygments_lexer": "ipython3",
   "version": "3.8.5"
  }
 },
 "nbformat": 4,
 "nbformat_minor": 5
}

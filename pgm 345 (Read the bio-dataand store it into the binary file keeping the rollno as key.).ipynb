{
 "cells": [
  {
   "cell_type": "code",
   "execution_count": 2,
   "id": "8c6532f0",
   "metadata": {},
   "outputs": [
    {
     "name": "stdout",
     "output_type": "stream",
     "text": [
      "rollno:119\n",
      "name:mukesh\n",
      "age:21\n",
      "gender:male\n",
      "ph.no:9360376261\n"
     ]
    }
   ],
   "source": [
    "\"\"\"\n",
    "pg.no.345\n",
    "04/12/23\n",
    "Read the bio-dataand store it into the binary file keeping the rollno as key.\n",
    "\"\"\"\n",
    "import pickle\n",
    "d={}\n",
    "f=open('file12.dat','wb')\n",
    "r=int(input('rollno:'))\n",
    "n=input('name:')\n",
    "a=int(input('age:'))\n",
    "g=input('gender:')\n",
    "p=int(input('ph.no:'))\n",
    "\n",
    "d[r]=[n,a,g,p]\n",
    "pickle.dump(d,f)\n",
    "f.close()"
   ]
  },
  {
   "cell_type": "code",
   "execution_count": null,
   "id": "3d73b673",
   "metadata": {},
   "outputs": [],
   "source": [
    "119\n",
    "name:mukesh\n",
    "age:21\n",
    "gender:male\n",
    "ph.no:9360376261"
   ]
  }
 ],
 "metadata": {
  "kernelspec": {
   "display_name": "Python 3 (ipykernel)",
   "language": "python",
   "name": "python3"
  },
  "language_info": {
   "codemirror_mode": {
    "name": "ipython",
    "version": 3
   },
   "file_extension": ".py",
   "mimetype": "text/x-python",
   "name": "python",
   "nbconvert_exporter": "python",
   "pygments_lexer": "ipython3",
   "version": "3.8.5"
  }
 },
 "nbformat": 4,
 "nbformat_minor": 5
}

{
 "cells": [
  {
   "cell_type": "code",
   "execution_count": 1,
   "id": "9dbaabb5",
   "metadata": {},
   "outputs": [
    {
     "name": "stdout",
     "output_type": "stream",
     "text": [
      "enter n:1\n",
      "enter n:2\n",
      "enter n:3\n",
      "enter n:4\n",
      "enter n:5\n",
      "enter n:6\n",
      "enter n:7\n",
      "enter n:8\n",
      "enter n:9\n",
      "enter t:9\n",
      "enter t:8\n",
      "enter t:7\n",
      "enter t:6\n",
      "enter t:5\n",
      "enter t:4\n",
      "enter t:3\n",
      "enter t:2\n",
      "enter t:1\n",
      "[[10, 10, 10], [10, 10, 10], [10, 10, 10]]\n"
     ]
    }
   ],
   "source": [
    "#21/08/23\n",
    "#sum of two matrix\n",
    "\n",
    "m=[]\n",
    "for i in range(3):\n",
    "    a=[]\n",
    "    for j in range(3):\n",
    "        n=int(input('enter n:'))\n",
    "        a.append(n)\n",
    "    m.append(a)\n",
    "n=[]\n",
    "for i in range(3):\n",
    "    a=[]\n",
    "    for j in range(3):\n",
    "        t=int(input('enter t:'))\n",
    "        a.append(t)\n",
    "    n.append(a)\n",
    "p=[]\n",
    "for i in range(3):\n",
    "    q=[]\n",
    "    s=0\n",
    "    for j in range(3):\n",
    "        s=m[i][j]+n[i][j]\n",
    "        q.append(s)\n",
    "    p.append(q)\n",
    "print(p)\n",
    "        "
   ]
  },
  {
   "cell_type": "code",
   "execution_count": null,
   "id": "65db9a94",
   "metadata": {},
   "outputs": [],
   "source": []
  }
 ],
 "metadata": {
  "kernelspec": {
   "display_name": "Python 3 (ipykernel)",
   "language": "python",
   "name": "python3"
  },
  "language_info": {
   "codemirror_mode": {
    "name": "ipython",
    "version": 3
   },
   "file_extension": ".py",
   "mimetype": "text/x-python",
   "name": "python",
   "nbconvert_exporter": "python",
   "pygments_lexer": "ipython3",
   "version": "3.8.5"
  }
 },
 "nbformat": 4,
 "nbformat_minor": 5
}

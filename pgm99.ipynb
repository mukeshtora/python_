{
 "cells": [
  {
   "cell_type": "code",
   "execution_count": 1,
   "id": "579e68b9",
   "metadata": {},
   "outputs": [
    {
     "name": "stdout",
     "output_type": "stream",
     "text": [
      "linsoft academy\n",
      "5\n"
     ]
    }
   ],
   "source": [
    "#pg.no.99\n",
    "#03/08/23\n",
    "#get input, count the number of vowels in the string\n",
    "\n",
    "s=input()\n",
    "n=len(s)\n",
    "i=0\n",
    "j=0\n",
    "while i<n:\n",
    "    if s[i]=='a'or s[i]=='e' or s[i]=='i' or s[i]=='o' or s[i]=='u':\n",
    "          j=j+1  \n",
    "    i=i+1\n",
    "print(j)"
   ]
  },
  {
   "cell_type": "code",
   "execution_count": null,
   "id": "9183eb76",
   "metadata": {},
   "outputs": [],
   "source": []
  }
 ],
 "metadata": {
  "kernelspec": {
   "display_name": "Python 3 (ipykernel)",
   "language": "python",
   "name": "python3"
  },
  "language_info": {
   "codemirror_mode": {
    "name": "ipython",
    "version": 3
   },
   "file_extension": ".py",
   "mimetype": "text/x-python",
   "name": "python",
   "nbconvert_exporter": "python",
   "pygments_lexer": "ipython3",
   "version": "3.8.5"
  }
 },
 "nbformat": 4,
 "nbformat_minor": 5
}

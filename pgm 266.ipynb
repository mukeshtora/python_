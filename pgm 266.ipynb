{
 "cells": [
  {
   "cell_type": "code",
   "execution_count": 1,
   "id": "2ae14485",
   "metadata": {},
   "outputs": [
    {
     "name": "stdout",
     "output_type": "stream",
     "text": [
      "a:24\n",
      "b:56\n",
      "c:4\n",
      "241\n",
      "56\n",
      "56\n"
     ]
    }
   ],
   "source": [
    "\"\"\"\n",
    "biggest of 3 numbers using default args\n",
    "21/09/23\n",
    "\"\"\"\n",
    "def big(a=12,b=241,c=30):\n",
    "    d=(a if a>c else c) if a>b else (b if b>c else c)\n",
    "    return d\n",
    "#main\n",
    "x=big()\n",
    "a=int(input('a:'))\n",
    "b=int(input('b:'))\n",
    "y=big(a,b)\n",
    "c=int(input('c:'))\n",
    "z=big(a,b,c)\n",
    "print(x)\n",
    "print(y)\n",
    "print(z)"
   ]
  },
  {
   "cell_type": "code",
   "execution_count": null,
   "id": "41877fdd",
   "metadata": {},
   "outputs": [],
   "source": []
  }
 ],
 "metadata": {
  "kernelspec": {
   "display_name": "Python 3 (ipykernel)",
   "language": "python",
   "name": "python3"
  },
  "language_info": {
   "codemirror_mode": {
    "name": "ipython",
    "version": 3
   },
   "file_extension": ".py",
   "mimetype": "text/x-python",
   "name": "python",
   "nbconvert_exporter": "python",
   "pygments_lexer": "ipython3",
   "version": "3.8.5"
  }
 },
 "nbformat": 4,
 "nbformat_minor": 5
}

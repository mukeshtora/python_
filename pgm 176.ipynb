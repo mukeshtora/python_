{
 "cells": [
  {
   "cell_type": "code",
   "execution_count": 4,
   "id": "1afb987d",
   "metadata": {},
   "outputs": [
    {
     "name": "stdout",
     "output_type": "stream",
     "text": [
      "enter string:linsoft_academy\n",
      "enter n:5\n",
      "ymeda\n"
     ]
    }
   ],
   "source": [
    "#21/07/23\n",
    "#copy n characters from the right edge\n",
    "s1=input('enter string:')\n",
    "s2=''\n",
    "n=int(input('enter n:'))\n",
    "for i in range(1,n+1):\n",
    "    s2+=s1[-i]\n",
    "print(s2)"
   ]
  },
  {
   "cell_type": "code",
   "execution_count": null,
   "id": "b158f342",
   "metadata": {},
   "outputs": [],
   "source": []
  }
 ],
 "metadata": {
  "kernelspec": {
   "display_name": "Python 3 (ipykernel)",
   "language": "python",
   "name": "python3"
  },
  "language_info": {
   "codemirror_mode": {
    "name": "ipython",
    "version": 3
   },
   "file_extension": ".py",
   "mimetype": "text/x-python",
   "name": "python",
   "nbconvert_exporter": "python",
   "pygments_lexer": "ipython3",
   "version": "3.8.5"
  }
 },
 "nbformat": 4,
 "nbformat_minor": 5
}

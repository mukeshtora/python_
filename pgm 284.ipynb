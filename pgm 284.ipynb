{
 "cells": [
  {
   "cell_type": "code",
   "execution_count": 4,
   "id": "1006b9da",
   "metadata": {},
   "outputs": [
    {
     "name": "stdout",
     "output_type": "stream",
     "text": [
      "30\n"
     ]
    }
   ],
   "source": [
    "\"\"\"\n",
    "pg.no.284\n",
    "05/11/23\n",
    "calculate the sum of two numbers using closure function\n",
    "\"\"\"\n",
    "def cal():\n",
    "    def sum(a,b):\n",
    "        return a+b\n",
    "    return sum\n",
    "x=cal()\n",
    "print(x(10,20))"
   ]
  },
  {
   "cell_type": "code",
   "execution_count": null,
   "id": "2075bec3",
   "metadata": {},
   "outputs": [],
   "source": []
  }
 ],
 "metadata": {
  "kernelspec": {
   "display_name": "Python 3 (ipykernel)",
   "language": "python",
   "name": "python3"
  },
  "language_info": {
   "codemirror_mode": {
    "name": "ipython",
    "version": 3
   },
   "file_extension": ".py",
   "mimetype": "text/x-python",
   "name": "python",
   "nbconvert_exporter": "python",
   "pygments_lexer": "ipython3",
   "version": "3.8.5"
  }
 },
 "nbformat": 4,
 "nbformat_minor": 5
}

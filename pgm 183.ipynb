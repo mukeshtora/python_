{
 "cells": [
  {
   "cell_type": "code",
   "execution_count": 2,
   "id": "a6257fff",
   "metadata": {},
   "outputs": [
    {
     "name": "stdout",
     "output_type": "stream",
     "text": [
      "enter n:5\n",
      "enter a:234\n",
      "enter a:78\n",
      "enter a:34\n",
      "enter a:789\n",
      "enter a:56\n",
      "index of biggest num: 3\n"
     ]
    }
   ],
   "source": [
    "#21/07/23\n",
    "#find the index of biggest element of the list\n",
    "a=[]\n",
    "n=int(input('enter n:'))\n",
    "for i in range(n):\n",
    "    l=int(input('enter a:'))\n",
    "    a.append(l)\n",
    "b=0\n",
    "c=0\n",
    "for i in range(len(a)):\n",
    "    b=a[i] if a[i]>b else b\n",
    "    c=i if a[i] > a[c] else c\n",
    "print('index of biggest num:',c)"
   ]
  },
  {
   "cell_type": "code",
   "execution_count": null,
   "id": "72ae1df5",
   "metadata": {},
   "outputs": [],
   "source": []
  }
 ],
 "metadata": {
  "kernelspec": {
   "display_name": "Python 3 (ipykernel)",
   "language": "python",
   "name": "python3"
  },
  "language_info": {
   "codemirror_mode": {
    "name": "ipython",
    "version": 3
   },
   "file_extension": ".py",
   "mimetype": "text/x-python",
   "name": "python",
   "nbconvert_exporter": "python",
   "pygments_lexer": "ipython3",
   "version": "3.8.5"
  }
 },
 "nbformat": 4,
 "nbformat_minor": 5
}

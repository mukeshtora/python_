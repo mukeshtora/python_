{
 "cells": [
  {
   "cell_type": "code",
   "execution_count": 25,
   "id": "4413f497",
   "metadata": {},
   "outputs": [
    {
     "name": "stdout",
     "output_type": "stream",
     "text": [
      "The comparison of covishield and covaxin is to distinguish both the vaccines.\n",
      "\n",
      " Few researches have already showed a detailed comparison of covaxin Vs covishield.\n",
      "\n",
      " During the pandemic situation precautions and treatments became significant.\n",
      "\n",
      " Without vaccines, people are at risk of serious illness and disability\n",
      "\n",
      " from diseases like measles, pneumonia, tetanus, polio and most popularly known covid19.\n",
      "\n",
      " Many of the diseases can be life-threatening. WHO estimates childhood vaccines alone save 4 million lives every year.\n"
     ]
    }
   ],
   "source": [
    "\"\"\"\n",
    "pg.no.330\n",
    "27/11/23\n",
    "display the file line by line using offset.\n",
    "\"\"\"\n",
    "f=open('sample.txt','r')\n",
    "d={}\n",
    "offset=0\n",
    "l=0\n",
    "for i in f:\n",
    "    l+=1\n",
    "    d[l]=[offset,i]\n",
    "    offset+=len(i)+1\n",
    "    \n",
    "for j in d.values():\n",
    "    f.seek(j[0])\n",
    "    print(f.readline())"
   ]
  },
  {
   "cell_type": "code",
   "execution_count": null,
   "id": "47b3278f",
   "metadata": {},
   "outputs": [],
   "source": []
  },
  {
   "cell_type": "code",
   "execution_count": null,
   "id": "ccc2e5e0",
   "metadata": {},
   "outputs": [],
   "source": []
  },
  {
   "cell_type": "code",
   "execution_count": null,
   "id": "3675c5fd",
   "metadata": {},
   "outputs": [],
   "source": []
  }
 ],
 "metadata": {
  "kernelspec": {
   "display_name": "Python 3 (ipykernel)",
   "language": "python",
   "name": "python3"
  },
  "language_info": {
   "codemirror_mode": {
    "name": "ipython",
    "version": 3
   },
   "file_extension": ".py",
   "mimetype": "text/x-python",
   "name": "python",
   "nbconvert_exporter": "python",
   "pygments_lexer": "ipython3",
   "version": "3.8.5"
  }
 },
 "nbformat": 4,
 "nbformat_minor": 5
}

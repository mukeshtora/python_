{
 "cells": [
  {
   "cell_type": "code",
   "execution_count": 4,
   "id": "25eee9dc",
   "metadata": {},
   "outputs": [
    {
     "name": "stdout",
     "output_type": "stream",
     "text": [
      "          *\n",
      "         * *\n",
      "        *   *\n",
      "       *     *\n",
      "      *       *\n"
     ]
    }
   ],
   "source": [
    "print(' '*10,end='*')\n",
    "print()\n",
    "\n",
    "n=9\n",
    "m=1\n",
    "for i in range(4):\n",
    "    if \n",
    "    print(' '*n+'*'+' '*m+'*')\n",
    "    n-=1\n",
    "    m+=2"
   ]
  },
  {
   "cell_type": "code",
   "execution_count": 82,
   "id": "5334b3e6",
   "metadata": {},
   "outputs": [
    {
     "name": "stdout",
     "output_type": "stream",
     "text": [
      "          *\n",
      "         * *\n",
      "        *   *\n",
      "       *     *\n",
      "      *       *\n",
      "     ***********\n",
      "    ***       ***\n",
      "   * * *     * * *\n",
      "  *  *  *   *  *  *\n",
      " *   *   * *   *   *\n",
      "*    *    *    *    *\n",
      " *   *   * *   *   *\n",
      "  *  *  *   *  *  *\n",
      "   * * *     * * *\n",
      "    ***       ***\n",
      "     ***********\n",
      "      *       *\n",
      "       *     *\n",
      "        *   *\n",
      "         * *\n",
      "          *\n"
     ]
    }
   ],
   "source": [
    "print(' '*10,end='*')\n",
    "print()\n",
    "\n",
    "n=9\n",
    "m=1\n",
    "for i in range(4):\n",
    "    print(' '*n+'*'+' '*m+'*')\n",
    "    n-=1\n",
    "    m+=2\n",
    "a1=5\n",
    "b=9\n",
    "c=-1\n",
    "d=7\n",
    "for i in range(6):\n",
    "    print(' '*a1+'*'+' '*c+'*'+' '*c+'*'+('*'*5 if d==7 else ' '*b)+('*'if d!=-3 else '')+' '*c+'*'+' '*c+'*')\n",
    "    a1-=1\n",
    "    b-=2\n",
    "    c+=1\n",
    "    d-=2\n",
    "a=1\n",
    "c=3\n",
    "b=1\n",
    "for i in range(5):\n",
    "    print(' '*a+'*'+(' '*c+'*'+' '*c+'*'+' '*b+'*'+' '*c+'*'+' '*c+'*') if c!= -1 else ' '*5+'*'*11)\n",
    "    a+=1\n",
    "    c-=1\n",
    "    b+=2\n",
    "    \n",
    "a=6\n",
    "b=7\n",
    "for i in range(4):\n",
    "    print(' '*a+'*'+' '*b+'*')\n",
    "    a+=1\n",
    "    b-=2\n",
    "print(' '*10,end='*')\n",
    "print()\n"
   ]
  },
  {
   "cell_type": "code",
   "execution_count": 80,
   "id": "361b838e",
   "metadata": {},
   "outputs": [
    {
     "name": "stdout",
     "output_type": "stream",
     "text": [
      " *    *    * *    *    *\n",
      "  *   *   *   *   *   *\n",
      "   *  *  *     *  *  *\n",
      "    * * *       * * *\n",
      "     ***         ***\n"
     ]
    }
   ],
   "source": [
    "a=1\n",
    "c=4\n",
    "b=1\n",
    "for i in range(5):\n",
    "    print(' '*a+'*'+(' '*c+'*'+' '*c+'*'+' '*b+'*'+' '*c+'*'+' '*c+'*') if c!= -1 else ' '*5+'*'*11)\n",
    "    a+=1\n",
    "    c-=1\n",
    "    b+=2\n",
    "    "
   ]
  },
  {
   "cell_type": "code",
   "execution_count": 25,
   "id": "ec121d3b",
   "metadata": {},
   "outputs": [
    {
     "name": "stdout",
     "output_type": "stream",
     "text": [
      "      *       *\n",
      "       *     *\n",
      "        *   *\n",
      "         * *\n"
     ]
    }
   ],
   "source": [
    "a=6\n",
    "b=7\n",
    "for i in range(4):\n",
    "    print(' '*a+'*'+' '*b+'*')\n",
    "    a+=1\n",
    "    b-=2"
   ]
  },
  {
   "cell_type": "code",
   "execution_count": 65,
   "id": "b9eb72cf",
   "metadata": {},
   "outputs": [
    {
     "name": "stdout",
     "output_type": "stream",
     "text": [
      "     ************\n",
      "    ***        ***\n",
      "   * * *      * * *\n",
      "  *  *  *    *  *  *\n",
      " *   *   *  *   *   *\n",
      "*    *    **    *    *\n"
     ]
    }
   ],
   "source": [
    "a=5\n",
    "c=-1\n",
    "d=10\n",
    "for i in range(6):\n",
    "    print(' '*a+(('*'*12) if a==5 else ('*'+' '*c+'*'+' '*c+'*'+' '*(d)+'*'+' '*c+'*'+' '*c+'*')))\n",
    "    a-=1\n",
    "    c+=1\n",
    "    d-=2"
   ]
  },
  {
   "cell_type": "code",
   "execution_count": null,
   "id": "d38db268",
   "metadata": {},
   "outputs": [],
   "source": [
    "a=1\n",
    "c=3\n",
    "for i in range(5):\n",
    "    print(' '*a+'*'+(' '*c+'*'+' '*9+'*'+' '*c+'*') if c!= -1 else ' '*5+'*'*11)\n",
    "    a+=1\n",
    "    c-=1"
   ]
  },
  {
   "cell_type": "code",
   "execution_count": 30,
   "id": "064addfe",
   "metadata": {},
   "outputs": [
    {
     "name": "stdout",
     "output_type": "stream",
     "text": [
      "   *          *\n",
      "  *            *\n",
      " *              *\n",
      "******************\n",
      " *              *\n",
      "  *            *\n",
      "   *          *\n"
     ]
    }
   ],
   "source": [
    "d=10\n",
    "for i in range(2,-1,-1):\n",
    "    print(' '*(i+1)+'*'+' '*d+'*')\n",
    "    d+=2\n",
    "print('*'+'*'*16+'*')\n",
    "d=14\n",
    "for i in range(3):\n",
    "    print(' '*(i+1)+'*'+' '*d+'*')\n",
    "    d-=2"
   ]
  },
  {
   "cell_type": "code",
   "execution_count": null,
   "id": "05f21ac4",
   "metadata": {},
   "outputs": [],
   "source": []
  }
 ],
 "metadata": {
  "kernelspec": {
   "display_name": "Python 3 (ipykernel)",
   "language": "python",
   "name": "python3"
  },
  "language_info": {
   "codemirror_mode": {
    "name": "ipython",
    "version": 3
   },
   "file_extension": ".py",
   "mimetype": "text/x-python",
   "name": "python",
   "nbconvert_exporter": "python",
   "pygments_lexer": "ipython3",
   "version": "3.8.5"
  }
 },
 "nbformat": 4,
 "nbformat_minor": 5
}

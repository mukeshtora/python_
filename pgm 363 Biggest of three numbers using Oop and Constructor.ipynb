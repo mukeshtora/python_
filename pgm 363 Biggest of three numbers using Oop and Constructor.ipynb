{
 "cells": [
  {
   "cell_type": "code",
   "execution_count": 1,
   "id": "79f69909",
   "metadata": {},
   "outputs": [
    {
     "name": "stdout",
     "output_type": "stream",
     "text": [
      "55\n"
     ]
    }
   ],
   "source": [
    "\"\"\"\n",
    "pg.no. 363 \n",
    "11/12/23\n",
    "Biggest of three numbers using Oop and Constructor\n",
    "\"\"\"\n",
    "class big3():\n",
    "    __a=None\n",
    "    __b=None\n",
    "    __c=None\n",
    "    __res=None\n",
    "    \n",
    "    def __init__(self):\n",
    "        self.__a=10\n",
    "        self.__b=55\n",
    "        self.__c=20\n",
    "        \n",
    "    def find (self):\n",
    "        self.__res=(self.a if self.__a>self.__c else self.__c) if self.__a>self.__b else (self.__b if self.__b >self.__c else self.__c)\n",
    "        \n",
    "    def disp(self):\n",
    "        print(self.__res)\n",
    "#main\n",
    "\n",
    "a=big3()\n",
    "a.find()\n",
    "a.disp()\n",
    "        "
   ]
  },
  {
   "cell_type": "code",
   "execution_count": null,
   "id": "bf2f378d",
   "metadata": {},
   "outputs": [],
   "source": []
  }
 ],
 "metadata": {
  "kernelspec": {
   "display_name": "Python 3 (ipykernel)",
   "language": "python",
   "name": "python3"
  },
  "language_info": {
   "codemirror_mode": {
    "name": "ipython",
    "version": 3
   },
   "file_extension": ".py",
   "mimetype": "text/x-python",
   "name": "python",
   "nbconvert_exporter": "python",
   "pygments_lexer": "ipython3",
   "version": "3.8.5"
  }
 },
 "nbformat": 4,
 "nbformat_minor": 5
}

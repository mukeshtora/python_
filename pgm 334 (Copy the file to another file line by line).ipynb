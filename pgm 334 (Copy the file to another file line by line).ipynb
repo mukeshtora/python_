{
 "cells": [
  {
   "cell_type": "code",
   "execution_count": 5,
   "id": "5c1b0f50",
   "metadata": {},
   "outputs": [],
   "source": [
    "\"\"\"\n",
    "pg.no.334\n",
    "30/11/23\n",
    "copy the file to another file line by line\n",
    "\"\"\"\n",
    "f=open('sample.txt','r')\n",
    "f1=open('samp.txt','w')\n",
    "for i in f:\n",
    "    f1.write(i)\n",
    "\n"
   ]
  },
  {
   "cell_type": "code",
   "execution_count": 6,
   "id": "acf55518",
   "metadata": {},
   "outputs": [
    {
     "name": "stdout",
     "output_type": "stream",
     "text": [
      "The comparison of covishield and covaxin is to distinguish both the vaccines.\n",
      "\n",
      "Few researches have already showed a detailed comparison of covaxin Vs covishield.\n",
      "\n",
      "During the pandemic situation precautions and treatments became significant.\n",
      "\n",
      "Without vaccines, people are at risk of serious illness and disability\n",
      "\n",
      "from diseases like measles, pneumonia, tetanus, polio and most popularly known covid19.\n",
      "\n",
      "Many of the diseases can be life-threatening. WHO estimates childhood vaccines alone save 4 million lives every year.\n",
      "\n"
     ]
    }
   ],
   "source": [
    "ff=open('samp.txt','r')\n",
    "for i in ff:\n",
    "    print(i)"
   ]
  },
  {
   "cell_type": "code",
   "execution_count": null,
   "id": "218e3d4b",
   "metadata": {},
   "outputs": [],
   "source": []
  }
 ],
 "metadata": {
  "kernelspec": {
   "display_name": "Python 3 (ipykernel)",
   "language": "python",
   "name": "python3"
  },
  "language_info": {
   "codemirror_mode": {
    "name": "ipython",
    "version": 3
   },
   "file_extension": ".py",
   "mimetype": "text/x-python",
   "name": "python",
   "nbconvert_exporter": "python",
   "pygments_lexer": "ipython3",
   "version": "3.8.5"
  }
 },
 "nbformat": 4,
 "nbformat_minor": 5
}

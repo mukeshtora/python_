{
 "cells": [
  {
   "cell_type": "code",
   "execution_count": 1,
   "id": "9e3d997a",
   "metadata": {},
   "outputs": [
    {
     "name": "stdout",
     "output_type": "stream",
     "text": [
      "no.of words: 74\n",
      "no.of lines: 6\n",
      "no.of characters: 519\n"
     ]
    }
   ],
   "source": [
    "\"\"\"\n",
    "pg.no.321\n",
    "23/11/23\n",
    "count the number of words, lines and characters from the text file\n",
    "\"\"\"\n",
    "f=open('sample.txt','r')\n",
    "w=0\n",
    "l=0\n",
    "c=0\n",
    "x=0\n",
    "for i in f:\n",
    "    l+=1\n",
    "    x=i.split()\n",
    "    w+=len(x)\n",
    "    c+=len(i)\n",
    "print(\"no.of words:\",w)\n",
    "print(\"no.of lines:\",l)\n",
    "print(\"no.of characters:\",c)"
   ]
  },
  {
   "cell_type": "code",
   "execution_count": null,
   "id": "618b9fad",
   "metadata": {},
   "outputs": [],
   "source": []
  }
 ],
 "metadata": {
  "kernelspec": {
   "display_name": "Python 3 (ipykernel)",
   "language": "python",
   "name": "python3"
  },
  "language_info": {
   "codemirror_mode": {
    "name": "ipython",
    "version": 3
   },
   "file_extension": ".py",
   "mimetype": "text/x-python",
   "name": "python",
   "nbconvert_exporter": "python",
   "pygments_lexer": "ipython3",
   "version": "3.8.5"
  }
 },
 "nbformat": 4,
 "nbformat_minor": 5
}

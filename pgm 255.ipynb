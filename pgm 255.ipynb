{
 "cells": [
  {
   "cell_type": "code",
   "execution_count": 1,
   "id": "54739fa1",
   "metadata": {},
   "outputs": [
    {
     "name": "stdout",
     "output_type": "stream",
     "text": [
      "n:3\n",
      "element:12\n",
      "element:23\n",
      "element:43\n",
      "n:4\n",
      "element:12\n",
      "element:78\n",
      "element:56\n",
      "element:09\n",
      "union: {23, 56, 9, 43, 12, 78}\n",
      "Intersection: {12}\n",
      "difference: {43, 23}\n"
     ]
    }
   ],
   "source": [
    "\"\"\"\n",
    "pg.no.255\n",
    "construct two sets of n elements and find union, intersection and diference of two sets\n",
    "20/9/23\n",
    "\"\"\"\n",
    "a=set()\n",
    "n=int(input('n:'))\n",
    "for i in range(n):\n",
    "    x=int(input('element:'))\n",
    "    a.add(x)\n",
    "b=set()\n",
    "n=int(input('n:'))\n",
    "for i in range(n):\n",
    "    y=int(input('element:'))\n",
    "    b.add(y)\n",
    "u=a|b\n",
    "i=a&b\n",
    "d=a-b\n",
    "\n",
    "print(\"union:\",u)\n",
    "print(\"Intersection:\",i)\n",
    "print(\"difference:\",d)\n",
    "\n"
   ]
  },
  {
   "cell_type": "code",
   "execution_count": null,
   "id": "563bb019",
   "metadata": {},
   "outputs": [],
   "source": []
  }
 ],
 "metadata": {
  "kernelspec": {
   "display_name": "Python 3 (ipykernel)",
   "language": "python",
   "name": "python3"
  },
  "language_info": {
   "codemirror_mode": {
    "name": "ipython",
    "version": 3
   },
   "file_extension": ".py",
   "mimetype": "text/x-python",
   "name": "python",
   "nbconvert_exporter": "python",
   "pygments_lexer": "ipython3",
   "version": "3.8.5"
  }
 },
 "nbformat": 4,
 "nbformat_minor": 5
}

{
 "cells": [
  {
   "cell_type": "code",
   "execution_count": 1,
   "id": "21ba04d5",
   "metadata": {},
   "outputs": [
    {
     "name": "stdout",
     "output_type": "stream",
     "text": [
      "314.0\n"
     ]
    }
   ],
   "source": [
    "\"\"\"\n",
    "pg.no.288\n",
    "05/11/23\n",
    "calculate the area of circle by using the outer function's argument\n",
    "\"\"\"\n",
    "def area(r):\n",
    "    def circle():\n",
    "        return 3.14*r**2\n",
    "    return circle\n",
    "x=area(10)\n",
    "print(x())"
   ]
  },
  {
   "cell_type": "code",
   "execution_count": null,
   "id": "ee452be7",
   "metadata": {},
   "outputs": [],
   "source": []
  }
 ],
 "metadata": {
  "kernelspec": {
   "display_name": "Python 3 (ipykernel)",
   "language": "python",
   "name": "python3"
  },
  "language_info": {
   "codemirror_mode": {
    "name": "ipython",
    "version": 3
   },
   "file_extension": ".py",
   "mimetype": "text/x-python",
   "name": "python",
   "nbconvert_exporter": "python",
   "pygments_lexer": "ipython3",
   "version": "3.8.5"
  }
 },
 "nbformat": 4,
 "nbformat_minor": 5
}

{
 "cells": [
  {
   "cell_type": "code",
   "execution_count": 1,
   "id": "a93c3565",
   "metadata": {},
   "outputs": [
    {
     "name": "stdout",
     "output_type": "stream",
     "text": [
      "[-88, -78, 90, 40, -32, -64, -12, 100, -90, 44, 100, 64, -88, -24, 0, -78, 82, -14, -26, 20, 72, -20, -10, 78, 68, -80, 64, -36, -36, -44, -24, 62, 38, 94, -40, -16, -94, 100, -6, 0, 46, -90, 4, 48, -58]\n"
     ]
    }
   ],
   "source": [
    "\"\"\"23/08/23\n",
    "extract only the even numbers of the list\"\"\"\n",
    "import random as rd\n",
    "a=[rd.randint(-100,100) for i in range(100)]\n",
    "b=[i for i in a if i%2==0]\n",
    "print(b)"
   ]
  },
  {
   "cell_type": "code",
   "execution_count": null,
   "id": "fd735678",
   "metadata": {},
   "outputs": [],
   "source": []
  }
 ],
 "metadata": {
  "kernelspec": {
   "display_name": "Python 3 (ipykernel)",
   "language": "python",
   "name": "python3"
  },
  "language_info": {
   "codemirror_mode": {
    "name": "ipython",
    "version": 3
   },
   "file_extension": ".py",
   "mimetype": "text/x-python",
   "name": "python",
   "nbconvert_exporter": "python",
   "pygments_lexer": "ipython3",
   "version": "3.8.5"
  }
 },
 "nbformat": 4,
 "nbformat_minor": 5
}

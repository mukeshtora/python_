{
 "cells": [
  {
   "cell_type": "code",
   "execution_count": 2,
   "id": "20a5dafa",
   "metadata": {},
   "outputs": [
    {
     "name": "stdout",
     "output_type": "stream",
     "text": [
      "750\n"
     ]
    }
   ],
   "source": [
    "\"\"\"\n",
    "pg.no.289\n",
    "05/11/23\n",
    "find the biggest of three numbers using the outer function's argument\n",
    "\"\"\"\n",
    "def big(a,b,c):\n",
    "    def biggest():\n",
    "        y= (a if a>c else c) if a>b else (b if b>c else c)\n",
    "        return y\n",
    "    return biggest\n",
    "x=big(100,250,750)\n",
    "print(x())"
   ]
  },
  {
   "cell_type": "code",
   "execution_count": null,
   "id": "d7c9a6bf",
   "metadata": {},
   "outputs": [],
   "source": []
  }
 ],
 "metadata": {
  "kernelspec": {
   "display_name": "Python 3 (ipykernel)",
   "language": "python",
   "name": "python3"
  },
  "language_info": {
   "codemirror_mode": {
    "name": "ipython",
    "version": 3
   },
   "file_extension": ".py",
   "mimetype": "text/x-python",
   "name": "python",
   "nbconvert_exporter": "python",
   "pygments_lexer": "ipython3",
   "version": "3.8.5"
  }
 },
 "nbformat": 4,
 "nbformat_minor": 5
}

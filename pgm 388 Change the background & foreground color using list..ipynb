{
 "cells": [
  {
   "cell_type": "code",
   "execution_count": 8,
   "id": "7ba1f6dd",
   "metadata": {},
   "outputs": [],
   "source": [
    "\"\"\"\n",
    "04/01/24\n",
    "pg.no. 388\n",
    "Change the background & foreground color using list.\n",
    "\"\"\"\n",
    "import tkinter\n",
    "w=tkinter.Tk()\n",
    "w['bg']='yellow'\n",
    "w.mainloop()"
   ]
  },
  {
   "cell_type": "code",
   "execution_count": null,
   "id": "db96fe6f",
   "metadata": {},
   "outputs": [],
   "source": []
  }
 ],
 "metadata": {
  "kernelspec": {
   "display_name": "Python 3 (ipykernel)",
   "language": "python",
   "name": "python3"
  },
  "language_info": {
   "codemirror_mode": {
    "name": "ipython",
    "version": 3
   },
   "file_extension": ".py",
   "mimetype": "text/x-python",
   "name": "python",
   "nbconvert_exporter": "python",
   "pygments_lexer": "ipython3",
   "version": "3.8.5"
  }
 },
 "nbformat": 4,
 "nbformat_minor": 5
}

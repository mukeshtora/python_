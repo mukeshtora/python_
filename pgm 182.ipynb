{
 "cells": [
  {
   "cell_type": "code",
   "execution_count": 2,
   "id": "9e8b2d09",
   "metadata": {},
   "outputs": [
    {
     "name": "stdout",
     "output_type": "stream",
     "text": [
      "enter n:5\n",
      "enter a:1\n",
      "enter a:3\n",
      "enter a:8\n",
      "enter a:3\n",
      "enter a:6\n",
      "8\n"
     ]
    }
   ],
   "source": [
    "#21/07/23\n",
    "#find the biggest element of the list\n",
    "a=[]\n",
    "n=int(input('enter n:'))\n",
    "for i in range(n):\n",
    "    l=int(input('enter a:'))\n",
    "    a.append(l)\n",
    "b=0\n",
    "for i in a:\n",
    "    b=i if i>b else b\n",
    "print(b)"
   ]
  },
  {
   "cell_type": "code",
   "execution_count": null,
   "id": "eaa7f86a",
   "metadata": {},
   "outputs": [],
   "source": []
  }
 ],
 "metadata": {
  "kernelspec": {
   "display_name": "Python 3 (ipykernel)",
   "language": "python",
   "name": "python3"
  },
  "language_info": {
   "codemirror_mode": {
    "name": "ipython",
    "version": 3
   },
   "file_extension": ".py",
   "mimetype": "text/x-python",
   "name": "python",
   "nbconvert_exporter": "python",
   "pygments_lexer": "ipython3",
   "version": "3.8.5"
  }
 },
 "nbformat": 4,
 "nbformat_minor": 5
}

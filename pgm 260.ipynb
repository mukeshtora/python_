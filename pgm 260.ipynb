{
 "cells": [
  {
   "cell_type": "code",
   "execution_count": 1,
   "id": "14e194a6",
   "metadata": {},
   "outputs": [
    {
     "name": "stdout",
     "output_type": "stream",
     "text": [
      "sentence:the red brown fox jump out of the lazy dog under the bridge\n",
      "highest frequency word: the 3\n"
     ]
    }
   ],
   "source": [
    "\"\"\"\n",
    "find the highest accurance of the words\n",
    "20/09/23\n",
    "\"\"\"\n",
    "l=input('sentence:')\n",
    "w=l.split()\n",
    "a=list(set(w))\n",
    "d={}\n",
    "for i in a:\n",
    "    d[i]=l.count(i)\n",
    "x=0\n",
    "k=0\n",
    "for i in d:\n",
    "    if d[i]>x:\n",
    "        x=d[i]\n",
    "        k=i\n",
    "print('highest frequency word:',k,x)"
   ]
  },
  {
   "cell_type": "code",
   "execution_count": null,
   "id": "848a647f",
   "metadata": {},
   "outputs": [],
   "source": []
  }
 ],
 "metadata": {
  "kernelspec": {
   "display_name": "Python 3 (ipykernel)",
   "language": "python",
   "name": "python3"
  },
  "language_info": {
   "codemirror_mode": {
    "name": "ipython",
    "version": 3
   },
   "file_extension": ".py",
   "mimetype": "text/x-python",
   "name": "python",
   "nbconvert_exporter": "python",
   "pygments_lexer": "ipython3",
   "version": "3.8.5"
  }
 },
 "nbformat": 4,
 "nbformat_minor": 5
}

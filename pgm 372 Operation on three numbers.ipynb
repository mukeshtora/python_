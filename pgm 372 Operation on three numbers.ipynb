{
 "cells": [
  {
   "cell_type": "code",
   "execution_count": 2,
   "id": "7689e823",
   "metadata": {},
   "outputs": [
    {
     "data": {
      "text/plain": [
       "'\\npg.no.372\\n23/12/23\\nOperation on three numbers\\n'"
      ]
     },
     "execution_count": 2,
     "metadata": {},
     "output_type": "execute_result"
    }
   ],
   "source": [
    "\"\"\"\n",
    "pg.no.372\n",
    "23/12/23\n",
    "Operation on three numbers\n",
    "\"\"\""
   ]
  },
  {
   "cell_type": "code",
   "execution_count": 3,
   "id": "d6cd34bd",
   "metadata": {},
   "outputs": [],
   "source": [
    "class A2nos():\n",
    "    __x=None\n",
    "    __y=None\n",
    "    \n",
    "    def __init__(self,x=500,y=350):\n",
    "        self.__x=x\n",
    "        self.__y=y\n",
    "    def disp(self):\n",
    "        print(self.__x,self.__y)\n",
    "    def setx(self,x=23):\n",
    "        self.__x=x\n",
    "    def sety(self,y=78):\n",
    "        self.__y=y\n",
    "    def setxy(self,x=89,y=90):\n",
    "        self.__x=x\n",
    "        self.__y=y\n",
    "    def setobj(self,ob):\n",
    "        self.__x=ob.__x\n",
    "        self.__y=ob.__y\n",
    "    def reset(self):\n",
    "        self.__x=500\n",
    "        self.__y=350\n",
    "    def getx(self):\n",
    "        return self.__x\n",
    "    def gety(self):\n",
    "        return self.__y\n",
    "    def getxy(self):\n",
    "        return self.__x,self.__y\n",
    "    def getobj(self):\n",
    "        return self"
   ]
  },
  {
   "cell_type": "code",
   "execution_count": 4,
   "id": "11bf227e",
   "metadata": {},
   "outputs": [],
   "source": [
    "class A3nos(A2nos):\n",
    "    __z=None\n",
    "    def __init__(self,a=10,b=20,c=30):\n",
    "        super().__init__(a,b)\n",
    "        self.__z=c\n",
    "    \n",
    "    def displayz(self):\n",
    "        print(self.__z)\n",
    "        \n",
    "    def displayall(self):\n",
    "        m=self.getxy()\n",
    "        print(m,self.__z)\n",
    "        \n",
    "    def setz(self,c):\n",
    "        self.__z=c\n",
    "        \n",
    "    def setxyz(self,a=100,b=200,c=300):\n",
    "        self.setxy(a,b)\n",
    "        self.__z=c\n",
    "    \n",
    "    def reset(self):\n",
    "        super().reset()\n",
    "        self.__z=30\n",
    "        \n",
    "    def setobject(self,a):\n",
    "        self.__z=a.__z\n",
    "        \n",
    "    def getz(self):\n",
    "        return self.__z\n",
    "    \n",
    "    def getxyz(self):\n",
    "        m=super().getxy()\n",
    "        return(m,self.__z)\n",
    "    \n",
    "    def getobject(self):\n",
    "        return self\n",
    "        "
   ]
  },
  {
   "cell_type": "code",
   "execution_count": 8,
   "id": "488c8918",
   "metadata": {},
   "outputs": [
    {
     "name": "stdout",
     "output_type": "stream",
     "text": [
      "60\n",
      "6000\n",
      "30\n",
      "10\n"
     ]
    }
   ],
   "source": [
    "\"\"\"\n",
    "pg.no.372\n",
    "23/12/23\n",
    "operation on three numbers\n",
    "\"\"\"\n",
    "class Op3nos(A3nos):\n",
    "    def __init__(self,a=10,b=20,c=30):\n",
    "        super().__init__(a,b,c)\n",
    "        \n",
    "    def sum(self):\n",
    "        a=self.getx()\n",
    "        b=self.gety()\n",
    "        c=self.getz()\n",
    "        return a+b+c\n",
    "    \n",
    "    def prod(self):\n",
    "        a=self.getx()\n",
    "        b=self.gety()\n",
    "        c=self.getz()\n",
    "        return a*b*c\n",
    "    \n",
    "    def big(self):\n",
    "        a=self.getx()\n",
    "        b=self.gety()\n",
    "        c=self.getz()\n",
    "        d=(a if a>c else c) if a>b else (b if b>c else c)\n",
    "        return d\n",
    "    \n",
    "    def small(self):\n",
    "        a=self.getx()\n",
    "        b=self.gety()\n",
    "        c=self.getz()\n",
    "        d=(a if a<c else c) if a<b else (b if b<c else c)\n",
    "        return d\n",
    "#main\n",
    "a=Op3nos()\n",
    "x=a.sum()\n",
    "print(x)\n",
    "\n",
    "x=a.prod()\n",
    "print(x)\n",
    "\n",
    "x=a.big()\n",
    "print(x)\n",
    "\n",
    "x=a.small()\n",
    "print(x)\n"
   ]
  },
  {
   "cell_type": "code",
   "execution_count": null,
   "id": "dc5b922c",
   "metadata": {},
   "outputs": [],
   "source": []
  }
 ],
 "metadata": {
  "kernelspec": {
   "display_name": "Python 3 (ipykernel)",
   "language": "python",
   "name": "python3"
  },
  "language_info": {
   "codemirror_mode": {
    "name": "ipython",
    "version": 3
   },
   "file_extension": ".py",
   "mimetype": "text/x-python",
   "name": "python",
   "nbconvert_exporter": "python",
   "pygments_lexer": "ipython3",
   "version": "3.8.5"
  }
 },
 "nbformat": 4,
 "nbformat_minor": 5
}

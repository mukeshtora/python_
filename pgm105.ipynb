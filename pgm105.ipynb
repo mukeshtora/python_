{
 "cells": [
  {
   "cell_type": "code",
   "execution_count": 1,
   "id": "eeed7c03",
   "metadata": {},
   "outputs": [
    {
     "name": "stdout",
     "output_type": "stream",
     "text": [
      "enter string:Linsoft Academy\n",
      "enter n:5\n",
      "Linso\n"
     ]
    }
   ],
   "source": [
    "#pg.no.105\n",
    "#03/08/23\n",
    "#first n characters of the string\n",
    "\n",
    "s1=input(\"enter string:\")\n",
    "s2=''\n",
    "n=int(input(\"enter n:\"))\n",
    "i=0\n",
    "while i<n:\n",
    "    s2=s2+s1[i]\n",
    "    i=i+1\n",
    "print(s2)"
   ]
  },
  {
   "cell_type": "code",
   "execution_count": null,
   "id": "ff95ae2f",
   "metadata": {},
   "outputs": [],
   "source": []
  }
 ],
 "metadata": {
  "kernelspec": {
   "display_name": "Python 3 (ipykernel)",
   "language": "python",
   "name": "python3"
  },
  "language_info": {
   "codemirror_mode": {
    "name": "ipython",
    "version": 3
   },
   "file_extension": ".py",
   "mimetype": "text/x-python",
   "name": "python",
   "nbconvert_exporter": "python",
   "pygments_lexer": "ipython3",
   "version": "3.8.5"
  }
 },
 "nbformat": 4,
 "nbformat_minor": 5
}

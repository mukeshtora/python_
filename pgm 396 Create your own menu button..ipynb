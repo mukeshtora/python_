{
 "cells": [
  {
   "cell_type": "code",
   "execution_count": 5,
   "id": "d1daf556",
   "metadata": {},
   "outputs": [],
   "source": [
    "\"\"\"\n",
    "pg.no. 396\n",
    "06/01/2024\n",
    "Create your own menu button.\n",
    "\"\"\"\n",
    "import tkinter as tk\n",
    "w=tk.Tk()\n",
    "\n",
    "def mainwindow():\n",
    "    w.title('Main window')\n",
    "    w.configure(background='white')\n",
    "    w.minsize(600,400)\n",
    "    w.maxsize(1520,900)\n",
    "    w.geometry(\"00x400+90+90\")\n",
    "    w.attributes('-alpha',1)\n",
    "    \n",
    "def design():\n",
    "    b=tk.Button(w,text='close',bg='black',fg='white',font=('times',15),command=close)\n",
    "    b.pack(side=tk.BOTTOM)\n",
    "    b2=tk.Button(w,text='Max',bg='black',fg='white',font=('times',15),command=Max)\n",
    "    b2.pack(side=tk.TOP)\n",
    "    b3=tk.Button(w,text='Restore',bg='black',fg='white',font=('times',15),command=restore)\n",
    "    b3.pack(side=tk.LEFT)\n",
    "    b4=tk.Button(w,text='Min',bg='black',fg='white',font=('times',15),command=normal)\n",
    "    b4.pack(side=tk.RIGHT)\n",
    "    w.mainloop()\n",
    "    \n",
    "def close():\n",
    "    w.destroy()\n",
    "def Max():\n",
    "    w.state(\"zoomed\")\n",
    "def restore():\n",
    "    w.state(newstate=\"normal\")\n",
    "def normal():\n",
    "    w.state(newstate='iconic')\n",
    "    \n",
    "\n",
    "#main\n",
    "mainwindow()\n",
    "design()"
   ]
  },
  {
   "cell_type": "code",
   "execution_count": null,
   "id": "6df5d0f6",
   "metadata": {},
   "outputs": [],
   "source": []
  }
 ],
 "metadata": {
  "kernelspec": {
   "display_name": "Python 3 (ipykernel)",
   "language": "python",
   "name": "python3"
  },
  "language_info": {
   "codemirror_mode": {
    "name": "ipython",
    "version": 3
   },
   "file_extension": ".py",
   "mimetype": "text/x-python",
   "name": "python",
   "nbconvert_exporter": "python",
   "pygments_lexer": "ipython3",
   "version": "3.8.5"
  }
 },
 "nbformat": 4,
 "nbformat_minor": 5
}

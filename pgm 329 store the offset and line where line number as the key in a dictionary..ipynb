{
 "cells": [
  {
   "cell_type": "code",
   "execution_count": 1,
   "id": "2003f569",
   "metadata": {},
   "outputs": [
    {
     "name": "stdout",
     "output_type": "stream",
     "text": [
      "{1: [0, 'The comparison of covishield and covaxin is to distinguish both the vaccines.\\n'], 2: [78, ' Few researches have already showed a detailed comparison of covaxin Vs covishield.\\n'], 3: [162, ' During the pandemic situation precautions and treatments became significant.\\n'], 4: [240, ' Without vaccines, people are at risk of serious illness and disability\\n'], 5: [312, ' from diseases like measles, pneumonia, tetanus, polio and most popularly known covid19.\\n'], 6: [401, ' Many of the diseases can be life-threatening. WHO estimates childhood vaccines alone save 4 million lives every year.']}\n"
     ]
    }
   ],
   "source": [
    "\"\"\"\n",
    "pg.no.329\n",
    "27/11/23\n",
    "store the offset and line where line number as the key in a dictionary\n",
    "\"\"\"\n",
    "f=open('sample.txt','r')\n",
    "d={}\n",
    "offset=0\n",
    "line=0\n",
    "for i in f:\n",
    "    line+=1\n",
    "    d[line]=[offset,i]\n",
    "    offset+=len(i)\n",
    "print(d)"
   ]
  },
  {
   "cell_type": "code",
   "execution_count": null,
   "id": "be5c4d22",
   "metadata": {},
   "outputs": [],
   "source": []
  }
 ],
 "metadata": {
  "kernelspec": {
   "display_name": "Python 3 (ipykernel)",
   "language": "python",
   "name": "python3"
  },
  "language_info": {
   "codemirror_mode": {
    "name": "ipython",
    "version": 3
   },
   "file_extension": ".py",
   "mimetype": "text/x-python",
   "name": "python",
   "nbconvert_exporter": "python",
   "pygments_lexer": "ipython3",
   "version": "3.8.5"
  }
 },
 "nbformat": 4,
 "nbformat_minor": 5
}

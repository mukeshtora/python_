{
 "cells": [
  {
   "cell_type": "code",
   "execution_count": 24,
   "id": "34515bbc",
   "metadata": {},
   "outputs": [
    {
     "name": "stdout",
     "output_type": "stream",
     "text": [
      "       * \n",
      "     * * * \n",
      "   * * * * * \n",
      " * * * * * * * \n",
      "   * * * * * \n",
      "     * * * \n",
      "       * \n"
     ]
    }
   ],
   "source": [
    "#10/08/23\n",
    "#diamond pattern\n",
    "n=1\n",
    "for i in range(7,0,-2):\n",
    "    print(' '*i+'* '*n)\n",
    "    n+=2\n",
    "n=5\n",
    "for i in range(3,8,2):\n",
    "    print(' '*i+'* '*n)\n",
    "    n-=2\n"
   ]
  },
  {
   "cell_type": "code",
   "execution_count": null,
   "id": "40ff1b5f",
   "metadata": {},
   "outputs": [],
   "source": []
  }
 ],
 "metadata": {
  "kernelspec": {
   "display_name": "Python 3 (ipykernel)",
   "language": "python",
   "name": "python3"
  },
  "language_info": {
   "codemirror_mode": {
    "name": "ipython",
    "version": 3
   },
   "file_extension": ".py",
   "mimetype": "text/x-python",
   "name": "python",
   "nbconvert_exporter": "python",
   "pygments_lexer": "ipython3",
   "version": "3.8.5"
  }
 },
 "nbformat": 4,
 "nbformat_minor": 5
}

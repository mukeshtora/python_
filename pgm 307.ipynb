{
 "cells": [
  {
   "cell_type": "code",
   "execution_count": 18,
   "id": "f4223a07",
   "metadata": {},
   "outputs": [
    {
     "name": "stdout",
     "output_type": "stream",
     "text": [
      "n:40\n",
      "sd: 5 \n",
      "\n",
      "dd: 60 dd: 33 \n",
      "\n",
      "td: 794 td: 633 td: 902 td: 301 td: 918 td: 436 td: 127 td: 165 td: 499 td: 944 td: 520 td: 339 td: 903 td: 463 td: 677 td: 973 td: 159 td: 845 td: 142 td: 721 td: 554 td: 483 td: 967 td: 660 td: 593 td: 173 td: 369 td: 374 td: 298 td: 922 td: 821 td: 933 td: 711 td: 531 td: 349 td: 730 td: 351 "
     ]
    }
   ],
   "source": [
    "\"\"\"\n",
    "pg.no.307\n",
    "16/11/23\n",
    "#data extraction\n",
    "construct n random numbers, filter single, double and triple digit numbers from the list, using lambda function\n",
    "\"\"\"\n",
    "import random as rd\n",
    "n=int(input('n:'))\n",
    "l=[rd.randint(1,1000) for i in range(n)]\n",
    "sd=filter(lambda n: n>=0 and n<10,l)\n",
    "dd=filter(lambda n:n>=10 and n<100,l)\n",
    "td=filter(lambda n:n>=100 and n<1000,l)\n",
    "\n",
    "for i in sd:\n",
    "    print('sd:',i,end=' ')\n",
    "print('\\n')\n",
    "for i in dd:\n",
    "    print('dd:',i,end=' ')\n",
    "print('\\n')\n",
    "for i in td:\n",
    "    print('td:',i,end=' ')"
   ]
  },
  {
   "cell_type": "code",
   "execution_count": null,
   "id": "474c4a37",
   "metadata": {},
   "outputs": [],
   "source": []
  }
 ],
 "metadata": {
  "kernelspec": {
   "display_name": "Python 3 (ipykernel)",
   "language": "python",
   "name": "python3"
  },
  "language_info": {
   "codemirror_mode": {
    "name": "ipython",
    "version": 3
   },
   "file_extension": ".py",
   "mimetype": "text/x-python",
   "name": "python",
   "nbconvert_exporter": "python",
   "pygments_lexer": "ipython3",
   "version": "3.8.5"
  }
 },
 "nbformat": 4,
 "nbformat_minor": 5
}

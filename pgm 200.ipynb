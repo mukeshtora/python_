{
 "cells": [
  {
   "cell_type": "code",
   "execution_count": 1,
   "id": "6b02424b",
   "metadata": {},
   "outputs": [
    {
     "name": "stdout",
     "output_type": "stream",
     "text": [
      "name: mukesh\n",
      "age: 21\n",
      "gender: male\n",
      "ph.no: 9360376261\n"
     ]
    }
   ],
   "source": [
    "#22/08/23\n",
    "#store bio-data print with tag\n",
    "\n",
    "a=['mukesh',21,'male',9360376261]\n",
    "b=['name:','age:','gender:','ph.no:']\n",
    "for i in range(len(a)):\n",
    "    print(b[i],a[i])"
   ]
  },
  {
   "cell_type": "code",
   "execution_count": null,
   "id": "ad67025d",
   "metadata": {},
   "outputs": [],
   "source": []
  }
 ],
 "metadata": {
  "kernelspec": {
   "display_name": "Python 3 (ipykernel)",
   "language": "python",
   "name": "python3"
  },
  "language_info": {
   "codemirror_mode": {
    "name": "ipython",
    "version": 3
   },
   "file_extension": ".py",
   "mimetype": "text/x-python",
   "name": "python",
   "nbconvert_exporter": "python",
   "pygments_lexer": "ipython3",
   "version": "3.8.5"
  }
 },
 "nbformat": 4,
 "nbformat_minor": 5
}

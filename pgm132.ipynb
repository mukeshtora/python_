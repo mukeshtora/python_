{
 "cells": [
  {
   "cell_type": "code",
   "execution_count": 2,
   "id": "ff0de5d6",
   "metadata": {},
   "outputs": [
    {
     "name": "stdout",
     "output_type": "stream",
     "text": [
      "enter x:1\n",
      "enter x:2\n",
      "enter x:3\n",
      "enter x:4\n",
      "enter x:5\n",
      "enter x:6\n",
      "enter x:7\n",
      "enter x:8\n",
      "enter x:9\n",
      "\n",
      "enter y:12\n",
      "enter y:13\n",
      "enter y:14\n",
      "enter y:15\n",
      "enter y:16\n",
      "enter y:17\n",
      "enter y:18\n",
      "enter y:19\n",
      "enter y:20\n",
      "[[13, 15, 17], [19, 21, 23], [25, 27, 29]]\n"
     ]
    }
   ],
   "source": [
    "#09/08/23\n",
    "#sum of two matrix\n",
    "m=[]\n",
    "i=0\n",
    "while i<3:\n",
    "    j=0\n",
    "    a=[]\n",
    "    while j<3:\n",
    "        x=int(input(\"enter x:\"))\n",
    "        a.append(x)\n",
    "        j=j+1\n",
    "    m.append(a)\n",
    "    i=i+1\n",
    "print()\n",
    "i=0\n",
    "n=[]\n",
    "while i<3:\n",
    "    j=0\n",
    "    b=[]\n",
    "    while j<3:\n",
    "        y=int(input(\"enter y:\"))\n",
    "        b.append(y)\n",
    "        j=j+1\n",
    "    n.append(b)\n",
    "    i=i+1\n",
    "o=[]\n",
    "i=0\n",
    "while i<3:\n",
    "    j=0\n",
    "    c=[]\n",
    "    d=0\n",
    "    while j<3:\n",
    "        d=m[i][j]+n[i][j]\n",
    "        c.append(d)\n",
    "        j=j+1\n",
    "    o.append(c)\n",
    "    i=i+1\n",
    "print(o)\n",
    "        \n"
   ]
  },
  {
   "cell_type": "code",
   "execution_count": null,
   "id": "4ec6a1ce",
   "metadata": {},
   "outputs": [],
   "source": []
  }
 ],
 "metadata": {
  "kernelspec": {
   "display_name": "Python 3 (ipykernel)",
   "language": "python",
   "name": "python3"
  },
  "language_info": {
   "codemirror_mode": {
    "name": "ipython",
    "version": 3
   },
   "file_extension": ".py",
   "mimetype": "text/x-python",
   "name": "python",
   "nbconvert_exporter": "python",
   "pygments_lexer": "ipython3",
   "version": "3.8.5"
  }
 },
 "nbformat": 4,
 "nbformat_minor": 5
}

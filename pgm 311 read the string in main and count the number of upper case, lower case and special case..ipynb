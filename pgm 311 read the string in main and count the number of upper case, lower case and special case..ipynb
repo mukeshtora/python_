{
 "cells": [
  {
   "cell_type": "code",
   "execution_count": 4,
   "id": "1a37fb5f",
   "metadata": {},
   "outputs": [
    {
     "name": "stdout",
     "output_type": "stream",
     "text": [
      "string:Lin$oftAc@deMY\n",
      "upper: 4\n",
      "lower: 8\n",
      "digit: 0\n",
      "special chr: 2\n"
     ]
    }
   ],
   "source": [
    "\"\"\"\n",
    "pg.no.311\n",
    "18/11/23\n",
    "read the string in main and count the number of upper case, lower case and special case\n",
    "\"\"\"\n",
    "\n",
    "def count(a):\n",
    "    u=0\n",
    "    l=0\n",
    "    d=0\n",
    "    s=0\n",
    "    for i in a:\n",
    "        if i>='A' and i<='Z':\n",
    "            u+=1\n",
    "        elif i>='a' and i<='z':\n",
    "            l+=1\n",
    "        elif i>='0' and i<='9':\n",
    "            d+=1\n",
    "        else:\n",
    "            s+=1\n",
    "            \n",
    "    print('upper:',u)\n",
    "    print('lower:',l)\n",
    "    print('digit:',d)\n",
    "    print('special chr:',s)\n",
    "    \n",
    "#main\n",
    "n=input('string:')\n",
    "count(n)"
   ]
  },
  {
   "cell_type": "code",
   "execution_count": null,
   "id": "f2090c9f",
   "metadata": {},
   "outputs": [],
   "source": []
  }
 ],
 "metadata": {
  "kernelspec": {
   "display_name": "Python 3 (ipykernel)",
   "language": "python",
   "name": "python3"
  },
  "language_info": {
   "codemirror_mode": {
    "name": "ipython",
    "version": 3
   },
   "file_extension": ".py",
   "mimetype": "text/x-python",
   "name": "python",
   "nbconvert_exporter": "python",
   "pygments_lexer": "ipython3",
   "version": "3.8.5"
  }
 },
 "nbformat": 4,
 "nbformat_minor": 5
}

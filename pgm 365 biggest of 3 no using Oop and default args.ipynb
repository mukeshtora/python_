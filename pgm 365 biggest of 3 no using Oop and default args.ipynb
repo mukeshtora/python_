{
 "cells": [
  {
   "cell_type": "code",
   "execution_count": 2,
   "id": "04a4aa70",
   "metadata": {},
   "outputs": [
    {
     "name": "stdout",
     "output_type": "stream",
     "text": [
      "50\n",
      "100\n",
      "200\n"
     ]
    }
   ],
   "source": [
    "\"\"\"\n",
    "pg.no. 365 \n",
    "14/12/23\n",
    "biggest of 3 no using Oop and default args\n",
    "\"\"\"\n",
    "class big3():\n",
    "    __a=None\n",
    "    __b=None\n",
    "    __c=None\n",
    "    __res=None\n",
    "    \n",
    "    def __init__(self,a=30,b=50,c=12):\n",
    "        self.__a=a\n",
    "        self.__b=b\n",
    "        self.__c=c\n",
    "        \n",
    "    def find (self):\n",
    "        self.__res=(self.__a if self.__a>self.__c else self.__c) if self.__a>self.__b else (self.__b if self.__b >self.__c else self.__c)\n",
    "        \n",
    "    def disp(self):\n",
    "        print(self.__res)\n",
    "#main\n",
    "\n",
    "a=big3()\n",
    "a.find()\n",
    "a.disp()\n",
    "\n",
    "b=big3(100)\n",
    "b.find()\n",
    "b.disp()\n",
    "\n",
    "c=big3(200,40)\n",
    "c.find()\n",
    "c.disp()\n",
    "        "
   ]
  },
  {
   "cell_type": "code",
   "execution_count": null,
   "id": "3b6c5789",
   "metadata": {},
   "outputs": [],
   "source": []
  }
 ],
 "metadata": {
  "kernelspec": {
   "display_name": "Python 3 (ipykernel)",
   "language": "python",
   "name": "python3"
  },
  "language_info": {
   "codemirror_mode": {
    "name": "ipython",
    "version": 3
   },
   "file_extension": ".py",
   "mimetype": "text/x-python",
   "name": "python",
   "nbconvert_exporter": "python",
   "pygments_lexer": "ipython3",
   "version": "3.8.5"
  }
 },
 "nbformat": 4,
 "nbformat_minor": 5
}

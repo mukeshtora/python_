{
 "cells": [
  {
   "cell_type": "code",
   "execution_count": 1,
   "id": "dc9dfcc9",
   "metadata": {},
   "outputs": [
    {
     "name": "stdout",
     "output_type": "stream",
     "text": [
      "The comparison of covishield and covaxin is to distinguish both the vaccines.\n",
      " Few researches have already showed a detailed comparison of covaxin Vs covishield.\n",
      " During the pandemic situation precautions and treatments became significant.\n",
      " Without vaccines, people are at risk of serious illness and disability\n",
      " from diseases like measles, pneumonia, tetanus, polio and most popularly known covid19.\n",
      " Many of the diseases can be life-threatening. WHO estimates childhood vaccines alone save 4 million lives every year.\n"
     ]
    }
   ],
   "source": [
    "\"\"\"\n",
    "pg.no.318\n",
    "23/11/23\n",
    "load the entire text file and print it line by line\n",
    "\"\"\"\n",
    "f= open('sample.txt','r')\n",
    "x=f.read()\n",
    "while x:\n",
    "    print(x)\n",
    "    x=f.readline()\n",
    "f.close()"
   ]
  },
  {
   "cell_type": "code",
   "execution_count": null,
   "id": "1b27fc10",
   "metadata": {},
   "outputs": [],
   "source": []
  }
 ],
 "metadata": {
  "kernelspec": {
   "display_name": "Python 3 (ipykernel)",
   "language": "python",
   "name": "python3"
  },
  "language_info": {
   "codemirror_mode": {
    "name": "ipython",
    "version": 3
   },
   "file_extension": ".py",
   "mimetype": "text/x-python",
   "name": "python",
   "nbconvert_exporter": "python",
   "pygments_lexer": "ipython3",
   "version": "3.8.5"
  }
 },
 "nbformat": 4,
 "nbformat_minor": 5
}

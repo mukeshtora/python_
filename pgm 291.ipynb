{
 "cells": [
  {
   "cell_type": "code",
   "execution_count": 2,
   "id": "86216c2b",
   "metadata": {},
   "outputs": [
    {
     "name": "stdout",
     "output_type": "stream",
     "text": [
      "parameter for outer fn:26\n",
      "parameter for inner fn:26\n",
      "676\n"
     ]
    }
   ],
   "source": [
    "\"\"\"\n",
    "pg.no.291\n",
    "05/11/23\n",
    "product of two numbers using closure function, one argument for outer function another for inner function\n",
    "\n",
    "\"\"\"\n",
    "def product(a):\n",
    "    def prod(b):\n",
    "        return a*b\n",
    "    return prod\n",
    "m=int(input('parameter for outer fn:'))\n",
    "n=int(input('parameter for inner fn:'))\n",
    "x=product(m)\n",
    "print(x(n))"
   ]
  },
  {
   "cell_type": "code",
   "execution_count": null,
   "id": "9b117175",
   "metadata": {},
   "outputs": [],
   "source": []
  },
  {
   "cell_type": "code",
   "execution_count": null,
   "id": "3b059d24",
   "metadata": {},
   "outputs": [],
   "source": []
  }
 ],
 "metadata": {
  "kernelspec": {
   "display_name": "Python 3 (ipykernel)",
   "language": "python",
   "name": "python3"
  },
  "language_info": {
   "codemirror_mode": {
    "name": "ipython",
    "version": 3
   },
   "file_extension": ".py",
   "mimetype": "text/x-python",
   "name": "python",
   "nbconvert_exporter": "python",
   "pygments_lexer": "ipython3",
   "version": "3.8.5"
  }
 },
 "nbformat": 4,
 "nbformat_minor": 5
}

{
 "cells": [
  {
   "cell_type": "code",
   "execution_count": 1,
   "id": "8190ad95",
   "metadata": {},
   "outputs": [
    {
     "name": "stdout",
     "output_type": "stream",
     "text": [
      "{111: ['jk', 21, 'male', 1347789]}\n",
      "{112: ['mjk', 21, 'fe-male', 345688]}\n",
      "{113: ['jay', 21, 'female', 9877]}\n",
      "{114: ['kumar', 21, 'male', 56789]}\n"
     ]
    },
    {
     "ename": "EOFError",
     "evalue": "Ran out of input",
     "output_type": "error",
     "traceback": [
      "\u001b[1;31m---------------------------------------------------------------------------\u001b[0m",
      "\u001b[1;31mEOFError\u001b[0m                                  Traceback (most recent call last)",
      "\u001b[1;32m~\\AppData\\Local\\Temp/ipykernel_11460/2221243439.py\u001b[0m in \u001b[0;36m<module>\u001b[1;34m\u001b[0m\n\u001b[0;32m      9\u001b[0m \u001b[1;32mwhile\u001b[0m \u001b[0mx\u001b[0m\u001b[1;33m:\u001b[0m\u001b[1;33m\u001b[0m\u001b[1;33m\u001b[0m\u001b[0m\n\u001b[0;32m     10\u001b[0m     \u001b[0mprint\u001b[0m\u001b[1;33m(\u001b[0m\u001b[0mx\u001b[0m\u001b[1;33m)\u001b[0m\u001b[1;33m\u001b[0m\u001b[1;33m\u001b[0m\u001b[0m\n\u001b[1;32m---> 11\u001b[1;33m     \u001b[0mx\u001b[0m\u001b[1;33m=\u001b[0m\u001b[0mpickle\u001b[0m\u001b[1;33m.\u001b[0m\u001b[0mload\u001b[0m\u001b[1;33m(\u001b[0m\u001b[0mf\u001b[0m\u001b[1;33m)\u001b[0m\u001b[1;33m\u001b[0m\u001b[1;33m\u001b[0m\u001b[0m\n\u001b[0m\u001b[0;32m     12\u001b[0m \u001b[0mf\u001b[0m\u001b[1;33m.\u001b[0m\u001b[0mclose\u001b[0m\u001b[1;33m(\u001b[0m\u001b[1;33m)\u001b[0m\u001b[1;33m\u001b[0m\u001b[1;33m\u001b[0m\u001b[0m\n",
      "\u001b[1;31mEOFError\u001b[0m: Ran out of input"
     ]
    }
   ],
   "source": [
    "\"\"\"\n",
    "pg.no 348 \n",
    "04/12/23\n",
    "Display the bio-data of n students record by record\n",
    "\"\"\"\n",
    "import pickle\n",
    "f=open('file12.dat','rb')\n",
    "x=pickle.load(f)\n",
    "while x:\n",
    "    print(x)\n",
    "    x=pickle.load(f)\n",
    "f.close()"
   ]
  },
  {
   "cell_type": "code",
   "execution_count": 2,
   "id": "cf3bda10",
   "metadata": {},
   "outputs": [
    {
     "name": "stdout",
     "output_type": "stream",
     "text": [
      "{111: ['jk', 21, 'male', 1347789]}\n",
      "{112: ['mjk', 21, 'fe-male', 345688]}\n",
      "{113: ['jay', 21, 'female', 9877]}\n",
      "{114: ['kumar', 21, 'male', 56789]}\n",
      "{114: ['kumar', 21, 'male', 56789]}\n",
      "binary file\n"
     ]
    }
   ],
   "source": [
    "import pickle\n",
    "f=open('file12.dat','rb')\n",
    "try:\n",
    "    x=pickle.load(f)\n",
    "    while x:\n",
    "        print(x)\n",
    "        x=pickle.load(f)\n",
    "except EOFError:\n",
    "    print(x)\n",
    "    \n",
    "print('binary file')"
   ]
  },
  {
   "cell_type": "code",
   "execution_count": null,
   "id": "6bf080c9",
   "metadata": {},
   "outputs": [],
   "source": []
  }
 ],
 "metadata": {
  "kernelspec": {
   "display_name": "Python 3 (ipykernel)",
   "language": "python",
   "name": "python3"
  },
  "language_info": {
   "codemirror_mode": {
    "name": "ipython",
    "version": 3
   },
   "file_extension": ".py",
   "mimetype": "text/x-python",
   "name": "python",
   "nbconvert_exporter": "python",
   "pygments_lexer": "ipython3",
   "version": "3.8.5"
  }
 },
 "nbformat": 4,
 "nbformat_minor": 5
}

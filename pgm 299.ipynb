{
 "cells": [
  {
   "cell_type": "code",
   "execution_count": 1,
   "id": "63b95e3f",
   "metadata": {},
   "outputs": [
    {
     "name": "stdout",
     "output_type": "stream",
     "text": [
      "n:10\n",
      "m:10\n",
      "[-71, -74, -31, -24, -17, -70, -23, -75, -90, -71]\n",
      "[-11, -52, 22, 20, -7, -7, 54, -90, 99, 52]\n"
     ]
    }
   ],
   "source": [
    "\"\"\"\n",
    "pg.no.299\n",
    "15/11/23\n",
    "construct two list of n random numbers using lambda function\n",
    "\"\"\"\n",
    "import random as rd\n",
    "x=lambda n: [rd.randint(-100,100) for i in range(n)]\n",
    "n=int(input('n:'))\n",
    "m=int(input('m:'))\n",
    "print(x(n))\n",
    "print(x(m))"
   ]
  },
  {
   "cell_type": "code",
   "execution_count": null,
   "id": "6a5ac33c",
   "metadata": {},
   "outputs": [],
   "source": []
  }
 ],
 "metadata": {
  "kernelspec": {
   "display_name": "Python 3 (ipykernel)",
   "language": "python",
   "name": "python3"
  },
  "language_info": {
   "codemirror_mode": {
    "name": "ipython",
    "version": 3
   },
   "file_extension": ".py",
   "mimetype": "text/x-python",
   "name": "python",
   "nbconvert_exporter": "python",
   "pygments_lexer": "ipython3",
   "version": "3.8.5"
  }
 },
 "nbformat": 4,
 "nbformat_minor": 5
}

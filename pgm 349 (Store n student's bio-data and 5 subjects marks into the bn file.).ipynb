{
 "cells": [
  {
   "cell_type": "code",
   "execution_count": 3,
   "id": "f9cd79f9",
   "metadata": {},
   "outputs": [
    {
     "name": "stdout",
     "output_type": "stream",
     "text": [
      "n:4\n",
      "rollno:119\n",
      "name:mj\n",
      "age:21\n",
      "gender:m\n",
      "sub1:45\n",
      "sub2:67\n",
      "sub3:89\n",
      "sub4:90\n",
      "sub5:67\n",
      "rollno:120\n",
      "name:mjk\n",
      "age:21\n",
      "gender:m\n",
      "sub1:78\n",
      "sub2:90\n",
      "sub3:87\n",
      "sub4:96\n",
      "sub5:67\n",
      "rollno:121\n",
      "name:shri\n",
      "age:21\n",
      "gender:f\n",
      "sub1:89\n",
      "sub2:76\n",
      "sub3:97\n",
      "sub4:69\n",
      "sub5:59\n",
      "rollno:122\n",
      "name:jai\n",
      "age:21\n",
      "gender:m\n",
      "sub1:59\n",
      "sub2:67\n",
      "sub3:45\n",
      "sub4:86\n",
      "sub5:66\n"
     ]
    }
   ],
   "source": [
    "\"\"\"\n",
    "pg.no 349 \n",
    "04/12/23\n",
    "Store n student's bio-data and 5 subjects marks into the bn file.\n",
    "\"\"\"\n",
    "import pickle\n",
    "f=open('file12.dat','wb')\n",
    "n=int(input('n:'))\n",
    "for i in range(n):\n",
    "    d={}\n",
    "    r=int(input('rollno:'))\n",
    "    n=input('name:')\n",
    "    a=int(input('age:'))\n",
    "    g=input('gender:')\n",
    "    s1=int(input('sub1:'))\n",
    "    s2=int(input('sub2:'))\n",
    "    s3=int(input('sub3:'))\n",
    "    s4=int(input('sub4:'))\n",
    "    s5=int(input('sub5:'))\n",
    "    d[r]=[n,a,g,s1,s2,s3,s4,s5]\n",
    "    pickle.dump(d,f)\n",
    "f.close()"
   ]
  },
  {
   "cell_type": "code",
   "execution_count": null,
   "id": "a4b4f0c3",
   "metadata": {},
   "outputs": [],
   "source": []
  }
 ],
 "metadata": {
  "kernelspec": {
   "display_name": "Python 3 (ipykernel)",
   "language": "python",
   "name": "python3"
  },
  "language_info": {
   "codemirror_mode": {
    "name": "ipython",
    "version": 3
   },
   "file_extension": ".py",
   "mimetype": "text/x-python",
   "name": "python",
   "nbconvert_exporter": "python",
   "pygments_lexer": "ipython3",
   "version": "3.8.5"
  }
 },
 "nbformat": 4,
 "nbformat_minor": 5
}

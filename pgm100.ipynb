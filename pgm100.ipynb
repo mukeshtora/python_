{
 "cells": [
  {
   "cell_type": "code",
   "execution_count": 14,
   "id": "3ffb0a6a",
   "metadata": {},
   "outputs": [
    {
     "name": "stdout",
     "output_type": "stream",
     "text": [
      "Mukeshjk@14\n",
      "Upper case: 1 Lower case: 7 Digit: 2 Special character: 1\n"
     ]
    }
   ],
   "source": [
    "#pg.no.100\n",
    "#03/08/23\n",
    "#Read input string, count no.of upper, lower, digit and special characters.\n",
    "s1=input()\n",
    "n=len(s1)\n",
    "i=0\n",
    "u=0\n",
    "l=0\n",
    "d=0\n",
    "s=0\n",
    "while i<n:\n",
    "    x=ord(s1[i])\n",
    "    if x>=65 and x<=90:\n",
    "        u=u+1\n",
    "    elif x>=97 and x<=122:\n",
    "        l=l+1\n",
    "    elif x>=48 and x<=57:\n",
    "        d=d+1\n",
    "    else:\n",
    "        s=s+1 \n",
    "    i=i+1\n",
    "print('Upper case:',u,'Lower case:',l,'Digit:',d,'Special character:',s)"
   ]
  },
  {
   "cell_type": "code",
   "execution_count": null,
   "id": "ece4e3e2",
   "metadata": {},
   "outputs": [],
   "source": []
  }
 ],
 "metadata": {
  "kernelspec": {
   "display_name": "Python 3 (ipykernel)",
   "language": "python",
   "name": "python3"
  },
  "language_info": {
   "codemirror_mode": {
    "name": "ipython",
    "version": 3
   },
   "file_extension": ".py",
   "mimetype": "text/x-python",
   "name": "python",
   "nbconvert_exporter": "python",
   "pygments_lexer": "ipython3",
   "version": "3.8.5"
  }
 },
 "nbformat": 4,
 "nbformat_minor": 5
}

{
 "cells": [
  {
   "cell_type": "code",
   "execution_count": 11,
   "id": "fe02744d",
   "metadata": {},
   "outputs": [],
   "source": [
    "\"\"\"\n",
    "pg.no. 401\n",
    "08/01/2024\n",
    "Validating credentials with a dictionary\n",
    "\"\"\"\n",
    "import pickle as pk\n",
    "d={'mukesh':'123@abc','jai':'','kumar':'efg@123','siddu':'xyz@123','dev':'mno@123'}\n",
    "f=open('login.dat','wb')\n",
    "pk.dump(d,f)\n",
    "f.close()\n"
   ]
  },
  {
   "cell_type": "markdown",
   "id": "bc66a13a",
   "metadata": {},
   "source": [
    "### Validating credential with the credentials in binary file."
   ]
  },
  {
   "cell_type": "code",
   "execution_count": 8,
   "id": "6c7bfe72",
   "metadata": {},
   "outputs": [],
   "source": [
    "import tkinter as tk\n",
    "import pickle as pk\n",
    "w=tk.Tk()\n",
    "\n",
    "\n",
    "def mainwindow():\n",
    "    w.title('Login window')\n",
    "    w.configure(background='skyblue')\n",
    "    w.minsize(600,400)\n",
    "    w.maxsize(1520,900)\n",
    "    w.geometry(\"00x400+90+90\")\n",
    "    w.attributes('-alpha',1)\n",
    "    \n",
    "name=tk.StringVar()\n",
    "password=tk.StringVar() #we can add- IntVar(), DoubleVar(), BooleanVar()\n",
    "\n",
    "\n",
    "    \n",
    "    \n",
    "def design():\n",
    "    l1=tk.Label(w,text='User name:',bg='black',fg='white',font=('times',15))\n",
    "    l1.place(x=50,y=100,w=100,h=50)\n",
    "    e1=tk.Entry(w,textvariable=name, bg='white',fg='black',font=('times',15))\n",
    "    e1.place(x=250,y=100,w=200,h=50)\n",
    "    l2=tk.Label(w,text='Password:',bg='black',fg='white',font=('times',15))\n",
    "    l2.place(x=50,y=150+20,w=100,h=50)\n",
    "    e2=tk.Entry(w,textvariable=password,bg='white',fg='black',font=('times',15),show='.')\n",
    "    e2.place(x=250,y=150+20,w=200,h=50)\n",
    "    \n",
    "    b1=tk.Button(w,text='Ok',bg='Grey',fg='black',font=('times',15),command=ok)\n",
    "    b1.place(x=250,y=255,w=75,h=39)\n",
    "    w.mainloop()\n",
    "    \n",
    "\n",
    "def ok():\n",
    "    x=name.get()\n",
    "    y=password.get()\n",
    "    f1=open('login.dat','rb')\n",
    "    dic=pk.load(f1)\n",
    "    if x in dic and y in dic.values():\n",
    "        for i in dic:\n",
    "            if x==i and y==dic[i]:\n",
    "                l3=tk.Label(w,text='Login successful!',bg='lightGreen',fg='black',font=('times',15))\n",
    "                l3.pack(side=tk.TOP)\n",
    "                #w.destroy()\n",
    "                break\n",
    "    else:\n",
    "        l4=tk.Label(w,text='Invalid username/ password!',bg='red',fg='black',font=('times',15))\n",
    "        l4.pack(side=tk.TOP)\n",
    "                \n",
    "\n",
    "#main\n",
    "mainwindow()\n",
    "design()    \n"
   ]
  },
  {
   "cell_type": "code",
   "execution_count": null,
   "id": "af7da0b3",
   "metadata": {},
   "outputs": [],
   "source": []
  },
  {
   "cell_type": "markdown",
   "id": "5ad913c5",
   "metadata": {},
   "source": [
    "### Encrypting the credential (login.dat) file"
   ]
  },
  {
   "cell_type": "code",
   "execution_count": 69,
   "id": "9446a9d6",
   "metadata": {},
   "outputs": [
    {
     "name": "stdout",
     "output_type": "stream",
     "text": [
      "{'nvlfti': ' 234Abcd', 'kbj': ' bcdA234', 'lvnbs': ' fghA234', 'tjeev': ' yz{A234', 'efw': ' nopA234'}\n"
     ]
    }
   ],
   "source": [
    "import pickle\n",
    "n=open('login.dat','rb')\n",
    "f1=open('encrypted_login.dat','wb')\n",
    "x=pickle.load(n)\n",
    "dic={}\n",
    "for i in x:\n",
    "    s=\"\"\n",
    "    for j in i:\n",
    "        a=ord(j)+1\n",
    "        s+=chr(a)\n",
    "    p=\" \"\n",
    "    for j in x[i]:\n",
    "        a=ord(j)+1\n",
    "        p+=chr(a)\n",
    "    dic[s]=p\n",
    "    \n",
    "pickle.dump(dic,f1)\n",
    "print(dic)"
   ]
  },
  {
   "cell_type": "markdown",
   "id": "b1315f19",
   "metadata": {},
   "source": [
    "\n"
   ]
  },
  {
   "cell_type": "code",
   "execution_count": 26,
   "id": "febc92c8",
   "metadata": {},
   "outputs": [
    {
     "name": "stdout",
     "output_type": "stream",
     "text": [
      "efg@123\n",
      "efg@123\n"
     ]
    }
   ],
   "source": [
    "di={'mukesh':'123@abc','jai':'','kumar':'efg@123','siddu':'xyz@123','dev':'mno@123'}\n",
    "name='kumar'\n",
    "print(d.get(name))\n",
    "print(di[name] if di[name] else 'entre')"
   ]
  },
  {
   "cell_type": "code",
   "execution_count": 102,
   "id": "efcc517a",
   "metadata": {},
   "outputs": [
    {
     "name": "stdout",
     "output_type": "stream",
     "text": [
      "mjk 123\n",
      "jai None\n"
     ]
    }
   ],
   "source": [
    "d={'mjk':'123','jai':None}\n",
    "for i in d:\n",
    "    print(i,d[i])"
   ]
  },
  {
   "cell_type": "code",
   "execution_count": 108,
   "id": "35b9002f",
   "metadata": {},
   "outputs": [
    {
     "name": "stdout",
     "output_type": "stream",
     "text": [
      "False\n"
     ]
    }
   ],
   "source": [
    "print(d['mjk']=='None')"
   ]
  },
  {
   "cell_type": "code",
   "execution_count": 109,
   "id": "e6bb2ac6",
   "metadata": {},
   "outputs": [
    {
     "data": {
      "text/plain": [
       "dict_values(['123', None])"
      ]
     },
     "execution_count": 109,
     "metadata": {},
     "output_type": "execute_result"
    }
   ],
   "source": [
    "d.values()"
   ]
  },
  {
   "cell_type": "code",
   "execution_count": null,
   "id": "d2e17db2",
   "metadata": {},
   "outputs": [],
   "source": []
  },
  {
   "cell_type": "code",
   "execution_count": 7,
   "id": "f4afa960",
   "metadata": {},
   "outputs": [
    {
     "name": "stderr",
     "output_type": "stream",
     "text": [
      "Exception in Tkinter callback\n",
      "Traceback (most recent call last):\n",
      "  File \"C:\\Users\\Nataraj\\AppData\\Local\\Programs\\Python\\Python38-32\\lib\\tkinter\\__init__.py\", line 1883, in __call__\n",
      "    return self.func(*args)\n",
      "  File \"C:\\Users\\Nataraj\\AppData\\Local\\Temp/ipykernel_16904/3222634785.py\", line 44, in ok\n",
      "    y=password.get() if password else None\n",
      "AttributeError: 'function' object has no attribute 'get'\n"
     ]
    }
   ],
   "source": [
    "import tkinter as tk\n",
    "import pickle as pk\n",
    "w=tk.Tk()\n",
    "\n",
    "\n",
    "def mainwindow():\n",
    "    w.title('Login window')\n",
    "    w.configure(background='skyblue')\n",
    "    w.minsize(600,400)\n",
    "    w.maxsize(1520,900)\n",
    "    w.geometry(\"00x400+90+90\")\n",
    "    w.attributes('-alpha',1)\n",
    "    \n",
    "name=tk.StringVar()\n",
    "password=tk.StringVar() #we can add- IntVar(), DoubleVar(), BooleanVar()\n",
    "\n",
    "def username():\n",
    "    l1=tk.Label(w,text='User name:',bg='black',fg='white',font=('times',15))\n",
    "    l1.place(x=50,y=100,w=100,h=50)\n",
    "    e1=tk.Entry(w,textvariable=name, bg='white',fg='black',font=('times',15))\n",
    "    e1.place(x=250,y=100,w=200,h=50)\n",
    "    f1=open('login.dat','rb')\n",
    "    di=pk.load(f1)\n",
    "    x=name.get()\n",
    "    if di.get(x):\n",
    "        password()\n",
    "    else:\n",
    "        pass\n",
    "    \n",
    "def password():\n",
    "    l2=tk.Label(w,text='Password:',bg='black',fg='white',font=('times',15))\n",
    "    l2.place(x=50,y=150+20,w=100,h=50)\n",
    "    e2=tk.Entry(w,textvariable=password,bg='white',fg='black',font=('times',15),show='.')\n",
    "    e2.place(x=250,y=150+20,w=200,h=50)\n",
    "\n",
    "def design():\n",
    "    b1=tk.Button(w,text='Ok',bg='Grey',fg='black',font=('times',15),command=ok)\n",
    "    b1.place(x=250,y=255,w=75,h=39)\n",
    "    w.mainloop()\n",
    "    \n",
    "\n",
    "def ok():\n",
    "    x=name.get()\n",
    "    y=password.get() if password else None\n",
    "    f1=open('login.dat','rb')\n",
    "    dic=pk.load(f1)\n",
    "    if y:\n",
    "        if x in dic and y in dic.values():\n",
    "            for i in dic:\n",
    "                if x==i and y==dic[i]:\n",
    "                    l3=tk.Label(w,text='Login successful!',bg='lightGreen',fg='black',font=('times',15))\n",
    "                    l3.pack(side=tk.TOP)\n",
    "                    #w.destroy()\n",
    "                    break\n",
    "        else:\n",
    "            l4=tk.Label(w,text='Invalid username/ password!',bg='red',fg='black',font=('times',15))\n",
    "            l4.pack(side=tk.TOP)\n",
    "    else:\n",
    "        l3=tk.Label(w,text='Login success!',bg='lightgreen',fg='black',font=('times',15))\n",
    "        l3.pack(side=tk.TOP)\n",
    "\n",
    "\n",
    "\n",
    "    \n",
    "#main\n",
    "mainwindow()\n",
    "username()\n",
    "design()   \n"
   ]
  },
  {
   "cell_type": "code",
   "execution_count": null,
   "id": "fb8f0fea",
   "metadata": {},
   "outputs": [],
   "source": []
  }
 ],
 "metadata": {
  "kernelspec": {
   "display_name": "Python 3 (ipykernel)",
   "language": "python",
   "name": "python3"
  },
  "language_info": {
   "codemirror_mode": {
    "name": "ipython",
    "version": 3
   },
   "file_extension": ".py",
   "mimetype": "text/x-python",
   "name": "python",
   "nbconvert_exporter": "python",
   "pygments_lexer": "ipython3",
   "version": "3.8.5"
  }
 },
 "nbformat": 4,
 "nbformat_minor": 5
}

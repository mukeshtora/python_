{
 "cells": [
  {
   "cell_type": "code",
   "execution_count": 3,
   "id": "aace52ec",
   "metadata": {},
   "outputs": [
    {
     "name": "stdout",
     "output_type": "stream",
     "text": [
      "name:mukesh\n",
      "age:21\n",
      "gender:male\n",
      "ph.no:9360376261\n"
     ]
    }
   ],
   "source": [
    "\"\"\"\n",
    "Pg.no.344\n",
    "04/12/23\n",
    "Read the bio-data and store it into the binary file\n",
    "\"\"\"\n",
    "import pickle\n",
    "d={}\n",
    "f=open('file12.dat','wb')\n",
    "d['name']=input('name:')\n",
    "d['age']=int(input('age:'))\n",
    "d['gender']=input('gender:')\n",
    "d['ph.no']=int(input('ph.no:'))\n",
    "pickle.dump(d,f)\n",
    "f.close()"
   ]
  },
  {
   "cell_type": "code",
   "execution_count": null,
   "id": "dae9f829",
   "metadata": {},
   "outputs": [],
   "source": []
  }
 ],
 "metadata": {
  "kernelspec": {
   "display_name": "Python 3 (ipykernel)",
   "language": "python",
   "name": "python3"
  },
  "language_info": {
   "codemirror_mode": {
    "name": "ipython",
    "version": 3
   },
   "file_extension": ".py",
   "mimetype": "text/x-python",
   "name": "python",
   "nbconvert_exporter": "python",
   "pygments_lexer": "ipython3",
   "version": "3.8.5"
  }
 },
 "nbformat": 4,
 "nbformat_minor": 5
}

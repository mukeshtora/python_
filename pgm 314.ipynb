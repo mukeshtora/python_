{
 "cells": [
  {
   "cell_type": "code",
   "execution_count": 6,
   "id": "79fd5b4d",
   "metadata": {},
   "outputs": [
    {
     "name": "stdout",
     "output_type": "stream",
     "text": [
      "n:20\n",
      "[3288, 691, 1056, 3995, 8274, 8458, 8761, 3253, 1014, 5041, 3414, 2148, 1214, 4070, 2167, 435, 1965, 6071, 4622, 3038]\n",
      "single: 0\n",
      "double: 0\n",
      "triple: 2\n",
      "four: 18\n"
     ]
    }
   ],
   "source": [
    "\"\"\"\n",
    "pg.no.314\n",
    "18/11/23\n",
    "using list comprehension construct n random numbers, count no.of single, double, triple and four digit \n",
    "numbers using global variable\n",
    "\"\"\"\n",
    "import random as rd\n",
    "\n",
    "s=0\n",
    "d=0\n",
    "t=0\n",
    "f=0\n",
    "\n",
    "def count(l):\n",
    "    global s,d,t,f\n",
    "    \n",
    "    for i in l:\n",
    "        if i>=0 and i<10:\n",
    "            s+=1\n",
    "        elif i>=10 and i<100:\n",
    "            d+=1\n",
    "        elif i>=100 and i<1000:\n",
    "            t+=1\n",
    "        elif i>=1000 and i<10000:\n",
    "            f+=1\n",
    "def display():\n",
    "    print('single:',s)\n",
    "    print('double:',d)\n",
    "    print('triple:',t)\n",
    "    print('four:',f)\n",
    "    \n",
    "#main\n",
    "n=int(input('n:'))\n",
    "l=[rd.randint(1,9000) for i in range(n)]\n",
    "print(l)\n",
    "count(l)\n",
    "display()\n"
   ]
  },
  {
   "cell_type": "code",
   "execution_count": null,
   "id": "11144ad8",
   "metadata": {},
   "outputs": [],
   "source": []
  }
 ],
 "metadata": {
  "kernelspec": {
   "display_name": "Python 3 (ipykernel)",
   "language": "python",
   "name": "python3"
  },
  "language_info": {
   "codemirror_mode": {
    "name": "ipython",
    "version": 3
   },
   "file_extension": ".py",
   "mimetype": "text/x-python",
   "name": "python",
   "nbconvert_exporter": "python",
   "pygments_lexer": "ipython3",
   "version": "3.8.5"
  }
 },
 "nbformat": 4,
 "nbformat_minor": 5
}

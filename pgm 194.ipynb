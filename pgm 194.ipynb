{
 "cells": [
  {
   "cell_type": "code",
   "execution_count": 1,
   "id": "694394fa",
   "metadata": {},
   "outputs": [
    {
     "name": "stdout",
     "output_type": "stream",
     "text": [
      "enter n:1\n",
      "enter n:2\n",
      "enter n:3\n",
      "enter n:4\n",
      "enter n:5\n",
      "enter n:6\n",
      "enter n:7\n",
      "enter n:8\n",
      "enter n:9\n",
      "6\n",
      "15\n",
      "24\n"
     ]
    }
   ],
   "source": [
    "#21/08/23\n",
    "#sum of elements of each row\n",
    "\n",
    "m=[]\n",
    "for i in range(3):\n",
    "    a=[]\n",
    "    for j in range(3):\n",
    "        n=int(input('enter n:'))\n",
    "        a.append(n)\n",
    "    m.append(a)\n",
    "\n",
    "for i in range(3):\n",
    "    s=0\n",
    "    for j in range(3):\n",
    "        s+=m[i][j]\n",
    "    print(s)\n",
    "        "
   ]
  },
  {
   "cell_type": "code",
   "execution_count": null,
   "id": "6e373491",
   "metadata": {},
   "outputs": [],
   "source": []
  }
 ],
 "metadata": {
  "kernelspec": {
   "display_name": "Python 3 (ipykernel)",
   "language": "python",
   "name": "python3"
  },
  "language_info": {
   "codemirror_mode": {
    "name": "ipython",
    "version": 3
   },
   "file_extension": ".py",
   "mimetype": "text/x-python",
   "name": "python",
   "nbconvert_exporter": "python",
   "pygments_lexer": "ipython3",
   "version": "3.8.5"
  }
 },
 "nbformat": 4,
 "nbformat_minor": 5
}

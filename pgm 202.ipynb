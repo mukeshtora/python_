{
 "cells": [
  {
   "cell_type": "code",
   "execution_count": 2,
   "id": "bc9a21c0",
   "metadata": {},
   "outputs": [
    {
     "name": "stdout",
     "output_type": "stream",
     "text": [
      "enter n students:2\n",
      "name:mukesh\n",
      "age:21\n",
      "gender:male\n",
      "ph.no:9360376261\n",
      "name:jai\n",
      "age:20\n",
      "gender:male\n",
      "ph.no:1234567890\n",
      "[['mukesh', 21, 'male', 9360376261], ['jai', 20, 'male', 1234567890]]\n"
     ]
    }
   ],
   "source": [
    "#22/08/23\n",
    "#construct a list and store n students bio-data \n",
    "m=[]\n",
    "n=int(input('enter n students:'))\n",
    "for i in range(n):\n",
    "    a=input('name:')\n",
    "    b=int(input('age:'))\n",
    "    c=input('gender:')\n",
    "    d=int(input('ph.no:'))\n",
    "    e=[a,b,c,d]\n",
    "    m.append(e)\n",
    "print(m)"
   ]
  },
  {
   "cell_type": "code",
   "execution_count": null,
   "id": "9c7c218f",
   "metadata": {},
   "outputs": [],
   "source": []
  }
 ],
 "metadata": {
  "kernelspec": {
   "display_name": "Python 3 (ipykernel)",
   "language": "python",
   "name": "python3"
  },
  "language_info": {
   "codemirror_mode": {
    "name": "ipython",
    "version": 3
   },
   "file_extension": ".py",
   "mimetype": "text/x-python",
   "name": "python",
   "nbconvert_exporter": "python",
   "pygments_lexer": "ipython3",
   "version": "3.8.5"
  }
 },
 "nbformat": 4,
 "nbformat_minor": 5
}

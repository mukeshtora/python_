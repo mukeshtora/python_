{
 "cells": [
  {
   "cell_type": "code",
   "execution_count": 1,
   "id": "a172468c",
   "metadata": {},
   "outputs": [
    {
     "name": "stdout",
     "output_type": "stream",
     "text": [
      "upper: 519 lower: 0 digit: 0 special: 0\n"
     ]
    }
   ],
   "source": [
    "\"\"\"\n",
    "pg.no.320\n",
    "23/11/23\n",
    "print the number of upper, lower, digit and special characters in teh text file line by line\n",
    "\"\"\"\n",
    "f=open('sample.txt','r')\n",
    "u=0\n",
    "l=0\n",
    "d=0\n",
    "s=0\n",
    "for i in f:\n",
    "    for j in i:\n",
    "        if j>='A' or j<='Z':\n",
    "            u+=1\n",
    "        elif j>='a' or j<='z':\n",
    "            l+=1\n",
    "        elif j>='0' or j<='9':\n",
    "            d+=1\n",
    "        else:\n",
    "            s+=1\n",
    "print('upper:',u,'lower:',l,'digit:',d,'special:',s)\n",
    "f.close()"
   ]
  },
  {
   "cell_type": "code",
   "execution_count": null,
   "id": "f3179ba7",
   "metadata": {},
   "outputs": [],
   "source": []
  }
 ],
 "metadata": {
  "kernelspec": {
   "display_name": "Python 3 (ipykernel)",
   "language": "python",
   "name": "python3"
  },
  "language_info": {
   "codemirror_mode": {
    "name": "ipython",
    "version": 3
   },
   "file_extension": ".py",
   "mimetype": "text/x-python",
   "name": "python",
   "nbconvert_exporter": "python",
   "pygments_lexer": "ipython3",
   "version": "3.8.5"
  }
 },
 "nbformat": 4,
 "nbformat_minor": 5
}

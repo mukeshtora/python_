{
 "cells": [
  {
   "cell_type": "code",
   "execution_count": null,
   "id": "b938e5ab",
   "metadata": {},
   "outputs": [],
   "source": [
    "\"\"\"\n",
    "pg.no.370\n",
    "22/12/23\n",
    "Operation on two numbers\n",
    "\"\"\""
   ]
  },
  {
   "cell_type": "code",
   "execution_count": 2,
   "id": "d390c627",
   "metadata": {},
   "outputs": [],
   "source": [
    "class A2nos():\n",
    "    __x=None\n",
    "    __y=None\n",
    "    \n",
    "    def __init__(self,x=500,y=350):\n",
    "        self.__x=x\n",
    "        self.__y=y\n",
    "    def disp(self):\n",
    "        print(self.__x,self.__y)\n",
    "    def setx(self,x=23):\n",
    "        self.__x=x\n",
    "    def sety(self,y=78):\n",
    "        self.__y=y\n",
    "    def setxy(self,x=89,y=90):\n",
    "        self.__x=x\n",
    "        self.__y=y\n",
    "    def setobj(self,ob):\n",
    "        self.__x=ob.__x\n",
    "        self.__y=ob.__y\n",
    "    def reset(self):\n",
    "        self.__x=500\n",
    "        self.__y=350\n",
    "    def getx(self):\n",
    "        return self.__x\n",
    "    def gety(self):\n",
    "        return self.__y\n",
    "    def getxy(self):\n",
    "        return self.__x,self.__y\n",
    "    def getobj(self):\n",
    "        return self"
   ]
  },
  {
   "cell_type": "code",
   "execution_count": 4,
   "id": "681abb11",
   "metadata": {},
   "outputs": [
    {
     "name": "stdout",
     "output_type": "stream",
     "text": [
      "x and y: (40, 90)\n",
      "sum: 130\n",
      "diff: -50\n",
      "prod: 3600\n",
      "div: 0.4444444444444444\n",
      "remainder: 40\n"
     ]
    }
   ],
   "source": [
    "\"\"\"\n",
    "pg.no.370\n",
    "22/12/23\n",
    "Operation on two numbers\n",
    "\"\"\"\n",
    "class Op2nos(A2nos):\n",
    "    def __init__(self,a=500,y=350):\n",
    "        super().__init__(a, y)\n",
    "    def sum(self):\n",
    "            a=self.getx()\n",
    "            b=self.gety()\n",
    "            return a+b\n",
    "    def diff(self):\n",
    "        a=self.getx()\n",
    "        b=self.gety()\n",
    "        return a-b\n",
    "    def prod(self):\n",
    "        a=self.getx()\n",
    "        b=self.gety()\n",
    "        return a*b\n",
    "    def div(self):\n",
    "        a=self.getx()\n",
    "        b=self.gety()\n",
    "        return a/b\n",
    "    def remaind(self):\n",
    "        a=self.getx()\n",
    "        b=self.gety()\n",
    "        return a%b\n",
    "        \n",
    "#main\n",
    "a=Op2nos(40,90)\n",
    "y=a.getxy()\n",
    "print(\"x and y:\",y)\n",
    "x=a.sum()\n",
    "print(\"sum:\",x)\n",
    "\n",
    "x=a.diff()\n",
    "print(\"diff:\",x)\n",
    "\n",
    "x=a.prod()\n",
    "print(\"prod:\",x)\n",
    "\n",
    "x=a.div()\n",
    "print(\"div:\",x)\n",
    "\n",
    "x=a.remaind()\n",
    "print(\"remainder:\",x)\n"
   ]
  },
  {
   "cell_type": "code",
   "execution_count": null,
   "id": "29c31987",
   "metadata": {},
   "outputs": [],
   "source": []
  }
 ],
 "metadata": {
  "kernelspec": {
   "display_name": "Python 3 (ipykernel)",
   "language": "python",
   "name": "python3"
  },
  "language_info": {
   "codemirror_mode": {
    "name": "ipython",
    "version": 3
   },
   "file_extension": ".py",
   "mimetype": "text/x-python",
   "name": "python",
   "nbconvert_exporter": "python",
   "pygments_lexer": "ipython3",
   "version": "3.8.5"
  }
 },
 "nbformat": 4,
 "nbformat_minor": 5
}

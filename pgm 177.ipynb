{
 "cells": [
  {
   "cell_type": "code",
   "execution_count": 1,
   "id": "ddd19663",
   "metadata": {},
   "outputs": [
    {
     "name": "stdout",
     "output_type": "stream",
     "text": [
      "enter string:linsoft academy\n",
      "enter n:5\n",
      "enter m:3\n",
      "edaca\n"
     ]
    }
   ],
   "source": [
    "#21/07/23\n",
    "#copy n characters from the mth position using negative indexing\n",
    "s1=input('enter string:')\n",
    "s2=''\n",
    "n=int(input('enter n:'))\n",
    "m=int(input('enter m:'))\n",
    "a=m+n\n",
    "for i in range(m,a):\n",
    "    s2+=s1[-i]\n",
    "print(s2)"
   ]
  },
  {
   "cell_type": "code",
   "execution_count": null,
   "id": "03eb3ec0",
   "metadata": {},
   "outputs": [],
   "source": []
  }
 ],
 "metadata": {
  "kernelspec": {
   "display_name": "Python 3 (ipykernel)",
   "language": "python",
   "name": "python3"
  },
  "language_info": {
   "codemirror_mode": {
    "name": "ipython",
    "version": 3
   },
   "file_extension": ".py",
   "mimetype": "text/x-python",
   "name": "python",
   "nbconvert_exporter": "python",
   "pygments_lexer": "ipython3",
   "version": "3.8.5"
  }
 },
 "nbformat": 4,
 "nbformat_minor": 5
}

{
 "cells": [
  {
   "cell_type": "code",
   "execution_count": 11,
   "id": "2cf2491e",
   "metadata": {},
   "outputs": [],
   "source": [
    "import random as r\n",
    "class Mylist():\n",
    "    _a=[]\n",
    "    def __init__(self,n=10):\n",
    "        self._a=[r.randint(1,100) for i in range(n)]\n",
    "        \n",
    "    def disp(self):\n",
    "            for i in self._a:\n",
    "                print(i,end=' ')\n",
    "            print()\n",
    "    def __str__(self):\n",
    "            x=','.join(map(str,self._a))\n",
    "            return x"
   ]
  },
  {
   "cell_type": "code",
   "execution_count": 12,
   "id": "709c8bda",
   "metadata": {},
   "outputs": [
    {
     "name": "stdout",
     "output_type": "stream",
     "text": [
      "26,62,2,78,77,31,80,11,7,94\n",
      "[126, 162, 102, 178, 177, 131, 180, 111, 107, 194]\n",
      "[16, 52, -8, 68, 67, 21, 70, 1, -3, 84]\n",
      "[130, 310, 10, 390, 385, 155, 400, 55, 35, 470]\n",
      "[13.0, 31.0, 1.0, 39.0, 38.5, 15.5, 40.0, 5.5, 3.5, 47.0]\n",
      "[6, 15, 0, 19, 19, 7, 20, 2, 1, 23]\n",
      "[0, 0, 0, 0, 1, 1, 0, 1, 1, 0]\n"
     ]
    }
   ],
   "source": [
    "\"\"\"\n",
    "pg.no.379\n",
    "29/12/23\n",
    "Scalar operations on my list using operator overloading\n",
    "\"\"\"\n",
    "class Sop(Mylist):\n",
    "    def __init__(self,n):\n",
    "        super().__init__(n)\n",
    "    def __add__(self,v):\n",
    "        d=[i+v for i in self._a]\n",
    "        return d\n",
    "    def __sub__(self,v):\n",
    "        d=[i-v for i in self._a]\n",
    "        return d\n",
    "    def __mul__(self,v):\n",
    "        d=[i*v for i in self._a]\n",
    "        return d\n",
    "    def __truediv__(self,v):\n",
    "        d=[i/v for i in self._a]\n",
    "        return d\n",
    "    def __floordiv__(self,v):\n",
    "        d=[i//v for i in self._a]\n",
    "        return d\n",
    "    def __mod__(self,v):\n",
    "        d=[i%v for i in self._a]\n",
    "        return d\n",
    "#main\n",
    "a=Sop(10)\n",
    "print(a)\n",
    "\n",
    "x=a+100\n",
    "print(x)\n",
    "\n",
    "x=a-10\n",
    "print(x)\n",
    "\n",
    "x=a*5\n",
    "print(x)\n",
    "\n",
    "x=a/2\n",
    "print(x)\n",
    "\n",
    "x=a//4\n",
    "print(x)\n",
    "\n",
    "x=a%2\n",
    "print(x)"
   ]
  },
  {
   "cell_type": "code",
   "execution_count": null,
   "id": "73072937",
   "metadata": {},
   "outputs": [],
   "source": []
  }
 ],
 "metadata": {
  "kernelspec": {
   "display_name": "Python 3 (ipykernel)",
   "language": "python",
   "name": "python3"
  },
  "language_info": {
   "codemirror_mode": {
    "name": "ipython",
    "version": 3
   },
   "file_extension": ".py",
   "mimetype": "text/x-python",
   "name": "python",
   "nbconvert_exporter": "python",
   "pygments_lexer": "ipython3",
   "version": "3.8.5"
  }
 },
 "nbformat": 4,
 "nbformat_minor": 5
}

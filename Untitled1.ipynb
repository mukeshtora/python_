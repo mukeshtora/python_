{
 "cells": [
  {
   "cell_type": "code",
   "execution_count": 5,
   "id": "2ff4580d",
   "metadata": {},
   "outputs": [
    {
     "name": "stdout",
     "output_type": "stream",
     "text": [
      "enter n:4\n",
      "enter a:12\n",
      "enter a:34\n",
      "enter a:6\n",
      "enter a:3\n",
      "s: 3\n",
      "the list: [12, 34, 6, 3]\n",
      "The second smallest number: 6\n"
     ]
    }
   ],
   "source": [
    "a=[]\n",
    "n=int(input('enter n:'))\n",
    "i=0\n",
    "while i<n:\n",
    "    l=int(input('enter a:'))\n",
    "    a.append(l)\n",
    "    i=i+1\n",
    "x=len(a)\n",
    "i=0\n",
    "s=999\n",
    "d=0\n",
    "\n",
    "while i<x:\n",
    "    if a[i]<s:\n",
    "        s=a[i]\n",
    "        d=i\n",
    "    i=i+1\n",
    "i=0\n",
    "sb=999\n",
    "while i<x:\n",
    "    if a[i]!=s:\n",
    "        if a[i]<sb:\n",
    "            sb=a[i]\n",
    "    i=i+1\n",
    "    \n",
    "print(\"the list:\",a)\n",
    "print('The second smallest number:',sb)"
   ]
  },
  {
   "cell_type": "code",
   "execution_count": null,
   "id": "dcd42afb",
   "metadata": {},
   "outputs": [],
   "source": []
  }
 ],
 "metadata": {
  "kernelspec": {
   "display_name": "Python 3 (ipykernel)",
   "language": "python",
   "name": "python3"
  },
  "language_info": {
   "codemirror_mode": {
    "name": "ipython",
    "version": 3
   },
   "file_extension": ".py",
   "mimetype": "text/x-python",
   "name": "python",
   "nbconvert_exporter": "python",
   "pygments_lexer": "ipython3",
   "version": "3.8.5"
  }
 },
 "nbformat": 4,
 "nbformat_minor": 5
}

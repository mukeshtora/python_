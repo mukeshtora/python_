{
 "cells": [
  {
   "cell_type": "code",
   "execution_count": 2,
   "id": "f48fdad0",
   "metadata": {},
   "outputs": [],
   "source": [
    "import random as r\n",
    "class Mylist():\n",
    "    _a=[]\n",
    "    def __init__(self,n=10):\n",
    "        self._a=[r.randint(-100,100) for i in range(n)]\n",
    "        \n",
    "    def disp(self):\n",
    "            for i in self._a:\n",
    "                print(i,end=' ')\n",
    "            print()\n",
    "    def __str__(self):\n",
    "            x=','.join(map(str,self._a))\n",
    "            return x"
   ]
  },
  {
   "cell_type": "code",
   "execution_count": 23,
   "id": "bd88840a",
   "metadata": {},
   "outputs": [
    {
     "name": "stdout",
     "output_type": "stream",
     "text": [
      "[126, 100, 133, 186, 89, 3, 60, 105, 77, 160]\n",
      "[16, -10, 23, 76, -21, -107, -50, -5, -33, 50]\n",
      "[676, 0, 1089, 7396, 121, 9409, 1600, 25, 529, 3600]\n"
     ]
    }
   ],
   "source": [
    "\"\"\"\n",
    "pg.no.378\n",
    "28/12/23\n",
    "perform scalar operation on your list.\n",
    "\"\"\"\n",
    "class Scalaropronlist(Mylist):\n",
    "    _b=[]\n",
    "    \n",
    "    def __init__(self,n=10):\n",
    "        super().__init__(n)\n",
    "        \n",
    "    def add(self,x):\n",
    "        d=[i+x for i in self._a]\n",
    "        return d\n",
    "    def diff(self,x):\n",
    "        d=[i-x for i in self._a]\n",
    "        return d\n",
    "    def prod(self,x):\n",
    "        d=[i*x for i in self._a]\n",
    "        return d\n",
    "    def div(self,x):\n",
    "        d=[i/x for i in self._a]\n",
    "        return d\n",
    "    def power(self,x):\n",
    "        d=[i**x for i in self._a]\n",
    "        return d\n",
    "    def reminder(self,x):\n",
    "        d=[i%x for i in self._a]\n",
    "        return d\n",
    "#main\n",
    "a=Scalaropronlist(10)\n",
    "x=a.add(100)\n",
    "print(x)\n",
    "\n",
    "x=a.diff(10)\n",
    "print(x)\n",
    "\n",
    "x=a.power(2)\n",
    "print(x)\n",
    "    "
   ]
  },
  {
   "cell_type": "code",
   "execution_count": null,
   "id": "dccf6b3a",
   "metadata": {},
   "outputs": [],
   "source": []
  }
 ],
 "metadata": {
  "kernelspec": {
   "display_name": "Python 3 (ipykernel)",
   "language": "python",
   "name": "python3"
  },
  "language_info": {
   "codemirror_mode": {
    "name": "ipython",
    "version": 3
   },
   "file_extension": ".py",
   "mimetype": "text/x-python",
   "name": "python",
   "nbconvert_exporter": "python",
   "pygments_lexer": "ipython3",
   "version": "3.8.5"
  }
 },
 "nbformat": 4,
 "nbformat_minor": 5
}

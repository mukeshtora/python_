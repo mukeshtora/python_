{
 "cells": [
  {
   "cell_type": "code",
   "execution_count": 1,
   "id": "453bdf3a",
   "metadata": {},
   "outputs": [
    {
     "name": "stdout",
     "output_type": "stream",
     "text": [
      "a:45\n",
      "b:95\n",
      "c:75\n",
      "(241, 12)\n",
      "(95, 30)\n",
      "(95, 45)\n"
     ]
    }
   ],
   "source": [
    "\"\"\"\n",
    "biggest and smallest of 3 numbers using default args\n",
    "21/09/23\n",
    "\"\"\"\n",
    "def bigsmall(a=12,b=241,c=30):\n",
    "    d=(a if a>c else c) if a>b else (b if b>c else c)\n",
    "    e=(a if a<c else c) if a<b else (b if b<c else c)\n",
    "    return d,e\n",
    "#main\n",
    "x=bigsmall()\n",
    "a=int(input('a:'))\n",
    "b=int(input('b:'))\n",
    "y=bigsmall(a,b)\n",
    "c=int(input('c:'))\n",
    "z=bigsmall(a,b,c)\n",
    "print(x)\n",
    "print(y)\n",
    "print(z)"
   ]
  },
  {
   "cell_type": "code",
   "execution_count": null,
   "id": "bef23367",
   "metadata": {},
   "outputs": [],
   "source": []
  }
 ],
 "metadata": {
  "kernelspec": {
   "display_name": "Python 3 (ipykernel)",
   "language": "python",
   "name": "python3"
  },
  "language_info": {
   "codemirror_mode": {
    "name": "ipython",
    "version": 3
   },
   "file_extension": ".py",
   "mimetype": "text/x-python",
   "name": "python",
   "nbconvert_exporter": "python",
   "pygments_lexer": "ipython3",
   "version": "3.8.5"
  }
 },
 "nbformat": 4,
 "nbformat_minor": 5
}

{
 "cells": [
  {
   "cell_type": "code",
   "execution_count": 1,
   "id": "bd8b02cb",
   "metadata": {},
   "outputs": [
    {
     "name": "stdout",
     "output_type": "stream",
     "text": [
      "<_csv.reader object at 0x05F86338>\n"
     ]
    }
   ],
   "source": [
    "\"\"\"\n",
    "pg.no. 353\n",
    "07/12/23\n",
    "Read and display the entire CSV file\n",
    "\"\"\"\n",
    "import csv\n",
    "f=open(\"filehandling(ls).csv\")\n",
    "x=csv.reader(f)\n",
    "print(x)"
   ]
  },
  {
   "cell_type": "code",
   "execution_count": null,
   "id": "139b2d8e",
   "metadata": {},
   "outputs": [],
   "source": []
  }
 ],
 "metadata": {
  "kernelspec": {
   "display_name": "Python 3 (ipykernel)",
   "language": "python",
   "name": "python3"
  },
  "language_info": {
   "codemirror_mode": {
    "name": "ipython",
    "version": 3
   },
   "file_extension": ".py",
   "mimetype": "text/x-python",
   "name": "python",
   "nbconvert_exporter": "python",
   "pygments_lexer": "ipython3",
   "version": "3.8.5"
  }
 },
 "nbformat": 4,
 "nbformat_minor": 5
}

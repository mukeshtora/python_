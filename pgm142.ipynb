{
 "cells": [
  {
   "cell_type": "code",
   "execution_count": 1,
   "id": "bf84814e",
   "metadata": {},
   "outputs": [
    {
     "name": "stdout",
     "output_type": "stream",
     "text": [
      "biggest: 10\n",
      "smallest: 0\n"
     ]
    }
   ],
   "source": [
    "#09/08/23\n",
    "#biggest ans smallest of 10 numbers\n",
    "b=0\n",
    "s=999\n",
    "for i in range(11):\n",
    "    b=i if i>b else b\n",
    "    s=i if i<s else s\n",
    "print(\"biggest:\",b)\n",
    "print(\"smallest:\",s)\n"
   ]
  },
  {
   "cell_type": "code",
   "execution_count": null,
   "id": "3d426798",
   "metadata": {},
   "outputs": [],
   "source": []
  }
 ],
 "metadata": {
  "kernelspec": {
   "display_name": "Python 3 (ipykernel)",
   "language": "python",
   "name": "python3"
  },
  "language_info": {
   "codemirror_mode": {
    "name": "ipython",
    "version": 3
   },
   "file_extension": ".py",
   "mimetype": "text/x-python",
   "name": "python",
   "nbconvert_exporter": "python",
   "pygments_lexer": "ipython3",
   "version": "3.8.5"
  }
 },
 "nbformat": 4,
 "nbformat_minor": 5
}

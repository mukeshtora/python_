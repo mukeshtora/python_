{
 "cells": [
  {
   "cell_type": "code",
   "execution_count": 2,
   "id": "c42f4729",
   "metadata": {},
   "outputs": [],
   "source": [
    "class A2nos():\n",
    "    __x=None\n",
    "    __y=None\n",
    "    \n",
    "    def __init__(self,x=500,y=350):\n",
    "        self.__x=x\n",
    "        self.__y=y\n",
    "    def disp(self):\n",
    "        print(self.__x,self.__y)\n",
    "    def setx(self,x=23):\n",
    "        self.__x=x\n",
    "    def sety(self,y=78):\n",
    "        self.__y=y\n",
    "    def setxy(self,x=89,y=90):\n",
    "        self.__x=x\n",
    "        self.__y=y\n",
    "    def setobj(self,ob):\n",
    "        self.__x=ob.__x\n",
    "        self.__y=ob.__y\n",
    "    def reset(self):\n",
    "        self.__x=500\n",
    "        self.__y=350\n",
    "    def getx(self):\n",
    "        return self.__x\n",
    "    def gety(self):\n",
    "        return self.__y\n",
    "    def getxy(self):\n",
    "        return self.__x,self.__y\n",
    "    def getobj(self):\n",
    "        return self"
   ]
  },
  {
   "cell_type": "code",
   "execution_count": 5,
   "id": "c7408cb5",
   "metadata": {},
   "outputs": [
    {
     "name": "stdout",
     "output_type": "stream",
     "text": [
      "30 55\n",
      "105 55\n",
      "105 256\n",
      "17 23\n",
      "9 18\n",
      "500 350\n",
      "500\n",
      "350\n",
      "(500, 350)\n",
      "500\n"
     ]
    }
   ],
   "source": [
    "\"\"\"\n",
    "pg.no.369\n",
    "18/12/23\n",
    "Accessing two numbers using Inheritance\n",
    "\"\"\"\n",
    "class Point(A2nos):\n",
    "    pass\n",
    "b=Point(30,55)\n",
    "b.disp()\n",
    "\n",
    "b.setx(105)\n",
    "b.disp()\n",
    "\n",
    "b.sety(256)\n",
    "b.disp()\n",
    "\n",
    "b.setxy(17,23)\n",
    "b.disp()\n",
    "\n",
    "n=Point()\n",
    "n.setxy(9,18)\n",
    "b.setobj(n)\n",
    "b.disp()\n",
    "\n",
    "b.reset()\n",
    "b.disp()\n",
    "\n",
    "c=b.getx()\n",
    "print(c)\n",
    "\n",
    "c=b.gety()\n",
    "print(c)\n",
    "\n",
    "c=b.getxy()\n",
    "print(c)\n",
    "\n",
    "c=b.getobj()\n",
    "print(c.getx())"
   ]
  },
  {
   "cell_type": "code",
   "execution_count": null,
   "id": "80f8c6d4",
   "metadata": {},
   "outputs": [],
   "source": []
  },
  {
   "cell_type": "code",
   "execution_count": null,
   "id": "dabbf088",
   "metadata": {},
   "outputs": [],
   "source": []
  },
  {
   "cell_type": "code",
   "execution_count": null,
   "id": "cf115724",
   "metadata": {},
   "outputs": [],
   "source": []
  }
 ],
 "metadata": {
  "kernelspec": {
   "display_name": "Python 3 (ipykernel)",
   "language": "python",
   "name": "python3"
  },
  "language_info": {
   "codemirror_mode": {
    "name": "ipython",
    "version": 3
   },
   "file_extension": ".py",
   "mimetype": "text/x-python",
   "name": "python",
   "nbconvert_exporter": "python",
   "pygments_lexer": "ipython3",
   "version": "3.8.5"
  }
 },
 "nbformat": 4,
 "nbformat_minor": 5
}

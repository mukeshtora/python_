{
 "cells": [
  {
   "cell_type": "code",
   "execution_count": 2,
   "id": "8ab65ef4",
   "metadata": {},
   "outputs": [
    {
     "name": "stdout",
     "output_type": "stream",
     "text": [
      "500 350\n",
      "23 350\n",
      "23 78\n",
      "89 90\n",
      "500 350\n",
      "500 350\n",
      "500\n",
      "350\n",
      "(500, 350)\n",
      "70 80\n"
     ]
    }
   ],
   "source": [
    "\"\"\"\n",
    "pg.no.373\n",
    "23/12/23\n",
    "Acessing two numbers using protected member\n",
    "\"\"\"\n",
    "class A2nospro():\n",
    "    _x=None\n",
    "    _y=None\n",
    "    \n",
    "    def __init__(self,x=500,y=350):\n",
    "        self._x=x\n",
    "        self._y=y\n",
    "    def disp(self):\n",
    "        print(self._x,self._y)\n",
    "    def setx(self,x=23):\n",
    "        self._x=x\n",
    "    def sety(self,y=78):\n",
    "        self._y=y\n",
    "    def setxy(self,x=89,y=90):\n",
    "        self._x=x\n",
    "        self._y=y\n",
    "    def setobj(self,ob):\n",
    "        self._x=ob._x\n",
    "        self._y=ob._y\n",
    "    def reset(self):\n",
    "        self._x=500\n",
    "        self._y=350\n",
    "    def getx(self):\n",
    "        return self._x\n",
    "    def gety(self):\n",
    "        return self._y\n",
    "    def getxy(self):\n",
    "        return self._x,self._y\n",
    "    def getobj(self):\n",
    "        return self\n",
    "    \n",
    "#main\n",
    "a=A2nospro()\n",
    "a.disp()\n",
    "a.setx()\n",
    "a.disp()\n",
    "a.sety()\n",
    "a.disp()\n",
    "a.setxy()\n",
    "a.disp()\n",
    "n=A2nospro()\n",
    "a.setobj(n)\n",
    "a.disp()\n",
    "a.reset()\n",
    "a.disp()\n",
    "d=a.getx()\n",
    "print(d)\n",
    "d=a.gety()\n",
    "print(d)\n",
    "d=a.getxy()\n",
    "print(d)\n",
    "d=a.getobj()\n",
    "d.setx(70)\n",
    "d.sety(80)\n",
    "d.disp()\n"
   ]
  },
  {
   "cell_type": "code",
   "execution_count": null,
   "id": "5ea563b1",
   "metadata": {},
   "outputs": [],
   "source": []
  }
 ],
 "metadata": {
  "kernelspec": {
   "display_name": "Python 3 (ipykernel)",
   "language": "python",
   "name": "python3"
  },
  "language_info": {
   "codemirror_mode": {
    "name": "ipython",
    "version": 3
   },
   "file_extension": ".py",
   "mimetype": "text/x-python",
   "name": "python",
   "nbconvert_exporter": "python",
   "pygments_lexer": "ipython3",
   "version": "3.8.5"
  }
 },
 "nbformat": 4,
 "nbformat_minor": 5
}

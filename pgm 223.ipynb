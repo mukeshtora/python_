{
 "cells": [
  {
   "cell_type": "code",
   "execution_count": 1,
   "id": "f78d64b4",
   "metadata": {},
   "outputs": [
    {
     "name": "stdout",
     "output_type": "stream",
     "text": [
      "[-67, 69, -42, -46, 51, 62, -98, 42, 40, 91, 23, -19, -36, -27, 12, 45, 56, -80, -92, 10, 3, -67, -44, 86, 49, 50, -1, -53, 78, 55, -74, -33, -78, -41, 55, -31, -56, 85, -52, -77, 51, 81, 89, -60, 15, 49, 41, -79, 62, 21, -47, -11, 29, -62, 24, -6, 35, 39, 83, 27, -60, 18, -93, -54, -51, 19, 47, -86, 0, 67, 9, 29, 2, -96, 76, 0, -74, 82, 99, 14, -56, -22, 6, 23, 2, 56, 49, -23, 20, -29, 61, -45, -74, -71, -10, -19, -9, 9, 16, -67, -81, 22, -27, -95, -98, -29, 80, -53, 46, 44, 41, -31, 91, -41, -51, -35, -90, 59, 34, -46, 90, -73, 10, -97, -37, -55, 0, 95, 59, -70, 71, 98, 93, -72, 67, 81, -91, -99, 94, 47, -16, -97, -43, -85, -89, 45, -1, 47, 99, 50, 87, 68, -71, -97, -32, 12, -37, -76, 22, -4, 40, -21, -26, -1, -96, -13, -22, 96, 82, 68, 23, -54, -90, 65, 19, -64, 13, -79, 22, -19, -71, -94, -12, 7, 12, -26, 18, 66, -89, 2, 66, 40, -62, -88, 52, 61, -60, -64, -93, 16]\n"
     ]
    }
   ],
   "source": [
    "\"\"\"23/08/23\n",
    "construct two list of n random numbers and add them\"\"\"\n",
    "import random as rd\n",
    "a=[rd.randint(-100,100) for i in range(100)]\n",
    "b=[rd.randint(-100,100) for i in range(100)]\n",
    "print(a+b)"
   ]
  },
  {
   "cell_type": "code",
   "execution_count": null,
   "id": "323843bf",
   "metadata": {},
   "outputs": [],
   "source": []
  }
 ],
 "metadata": {
  "kernelspec": {
   "display_name": "Python 3 (ipykernel)",
   "language": "python",
   "name": "python3"
  },
  "language_info": {
   "codemirror_mode": {
    "name": "ipython",
    "version": 3
   },
   "file_extension": ".py",
   "mimetype": "text/x-python",
   "name": "python",
   "nbconvert_exporter": "python",
   "pygments_lexer": "ipython3",
   "version": "3.8.5"
  }
 },
 "nbformat": 4,
 "nbformat_minor": 5
}

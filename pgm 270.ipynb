{
 "cells": [
  {
   "cell_type": "code",
   "execution_count": 6,
   "id": "0236e7ad",
   "metadata": {},
   "outputs": [
    {
     "name": "stdout",
     "output_type": "stream",
     "text": [
      "q:67\n",
      "r:90\n",
      "s:45\n",
      "(30, 10)\n",
      "(90, 10)\n",
      "(90, 45)\n"
     ]
    }
   ],
   "source": [
    "\"\"\"\n",
    "big and smallest of 3 numbers using keyword aurgument\n",
    "21/09/23\n",
    "\"\"\"\n",
    "def bigsmall(a=10,b=20,c=30):\n",
    "    d=(a if a>c else c) if a>b else (b if b>c else c)\n",
    "    e=(a if a<c else c) if a<b else (b if b<c else c)\n",
    "    return d,e\n",
    "#main\n",
    "x=bigsmall()\n",
    "q=int(input('q:'))\n",
    "r=int(input('r:'))\n",
    "y=bigsmall(b=q,c=r)\n",
    "s=int(input('s:'))\n",
    "z=bigsmall(a=s,b=q,c=r)\n",
    "\n",
    "print(x)\n",
    "print(y)\n",
    "print(z)"
   ]
  },
  {
   "cell_type": "code",
   "execution_count": null,
   "id": "cc9f9edc",
   "metadata": {},
   "outputs": [],
   "source": []
  }
 ],
 "metadata": {
  "kernelspec": {
   "display_name": "Python 3 (ipykernel)",
   "language": "python",
   "name": "python3"
  },
  "language_info": {
   "codemirror_mode": {
    "name": "ipython",
    "version": 3
   },
   "file_extension": ".py",
   "mimetype": "text/x-python",
   "name": "python",
   "nbconvert_exporter": "python",
   "pygments_lexer": "ipython3",
   "version": "3.8.5"
  }
 },
 "nbformat": 4,
 "nbformat_minor": 5
}

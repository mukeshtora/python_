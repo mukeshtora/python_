{
 "cells": [
  {
   "cell_type": "code",
   "execution_count": 7,
   "id": "53429263",
   "metadata": {},
   "outputs": [
    {
     "name": "stdout",
     "output_type": "stream",
     "text": [
      "enter any odd number:15\n",
      "               a \n",
      "             a b c \n",
      "           a b c d e \n",
      "         a b c d e f g \n",
      "       a b c d e f g h i \n",
      "     a b c d e f g h i j k \n",
      "   a b c d e f g h i j k l m \n",
      " a b c d e f g h i j k l m n o \n",
      "   a b c d e f g h i j k l m \n",
      "     a b c d e f g h i j k \n",
      "       a b c d e f g h i \n",
      "         a b c d e f g \n",
      "           a b c d e \n",
      "             a b c \n",
      "               a \n"
     ]
    }
   ],
   "source": [
    "#11/08/23\n",
    "#diamond alphabet pattern\n",
    "n=1\n",
    "x=int(input(\"enter any odd number:\"))\n",
    "for i in range(x,0,-2):\n",
    "    for j in range(i):\n",
    "        print(' ',end='')\n",
    "    for k in range(1,n+1):\n",
    "        g=k+96\n",
    "        y=chr(g)\n",
    "        print(y,end=' ')\n",
    "    print()\n",
    "    n+=2\n",
    "n=x\n",
    "m=3\n",
    "for i in range(x-2,0,-2):\n",
    "    for j in range(m,0,-1):\n",
    "        print(' ',end='')\n",
    "    for k in range(1,n-1):\n",
    "        g=k+96\n",
    "        y=chr(g)\n",
    "        print(y,end=' ')\n",
    "    print()\n",
    "    n-=2\n",
    "    m+=2"
   ]
  },
  {
   "cell_type": "code",
   "execution_count": null,
   "id": "c321555d",
   "metadata": {},
   "outputs": [],
   "source": []
  }
 ],
 "metadata": {
  "kernelspec": {
   "display_name": "Python 3 (ipykernel)",
   "language": "python",
   "name": "python3"
  },
  "language_info": {
   "codemirror_mode": {
    "name": "ipython",
    "version": 3
   },
   "file_extension": ".py",
   "mimetype": "text/x-python",
   "name": "python",
   "nbconvert_exporter": "python",
   "pygments_lexer": "ipython3",
   "version": "3.8.5"
  }
 },
 "nbformat": 4,
 "nbformat_minor": 5
}

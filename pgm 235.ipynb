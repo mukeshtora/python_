{
 "cells": [
  {
   "cell_type": "code",
   "execution_count": 2,
   "id": "3fc49d3a",
   "metadata": {},
   "outputs": [
    {
     "name": "stdout",
     "output_type": "stream",
     "text": [
      "h:15\n",
      "n:5\n",
      "m:4\n",
      "(-76, 98, 96, 31, 34)\n"
     ]
    }
   ],
   "source": [
    "\"\"\"\n",
    "25/08/23\n",
    "extract n numbers from mth position\n",
    "\"\"\"\n",
    "import random as rd\n",
    "h=int(input('h:'))\n",
    "a=tuple(rd.randint(-100,100) for i in range(h))\n",
    "n=int(input('n:'))\n",
    "m=int(input('m:'))\n",
    "b=a[m:m+n]\n",
    "print(b)"
   ]
  },
  {
   "cell_type": "code",
   "execution_count": null,
   "id": "539543c5",
   "metadata": {},
   "outputs": [],
   "source": []
  }
 ],
 "metadata": {
  "kernelspec": {
   "display_name": "Python 3 (ipykernel)",
   "language": "python",
   "name": "python3"
  },
  "language_info": {
   "codemirror_mode": {
    "name": "ipython",
    "version": 3
   },
   "file_extension": ".py",
   "mimetype": "text/x-python",
   "name": "python",
   "nbconvert_exporter": "python",
   "pygments_lexer": "ipython3",
   "version": "3.8.5"
  }
 },
 "nbformat": 4,
 "nbformat_minor": 5
}

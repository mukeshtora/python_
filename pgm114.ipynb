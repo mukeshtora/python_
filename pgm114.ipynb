{
 "cells": [
  {
   "cell_type": "code",
   "execution_count": 13,
   "id": "fdcda4b4",
   "metadata": {},
   "outputs": [
    {
     "name": "stdout",
     "output_type": "stream",
     "text": [
      "enter string:Linsoft Acadmy\n",
      "enter n:7\n",
      "enter position(m):1\n",
      "ymdacA \n"
     ]
    }
   ],
   "source": [
    "#04/08/23\n",
    "#copy n characters from mth position using negative indexing\n",
    "s1=input('enter string:')\n",
    "s2=''\n",
    "n=int(input('enter n:'))\n",
    "m=int(input('enter position(m):'))\n",
    "a=m+n\n",
    "i=m\n",
    "while i<a:\n",
    "    s2=s2+s1[-i]\n",
    "    i=i+1\n",
    "print(s2)"
   ]
  },
  {
   "cell_type": "code",
   "execution_count": null,
   "id": "e99cdad5",
   "metadata": {},
   "outputs": [],
   "source": []
  },
  {
   "cell_type": "code",
   "execution_count": null,
   "id": "1fbcbca5",
   "metadata": {},
   "outputs": [],
   "source": []
  }
 ],
 "metadata": {
  "kernelspec": {
   "display_name": "Python 3 (ipykernel)",
   "language": "python",
   "name": "python3"
  },
  "language_info": {
   "codemirror_mode": {
    "name": "ipython",
    "version": 3
   },
   "file_extension": ".py",
   "mimetype": "text/x-python",
   "name": "python",
   "nbconvert_exporter": "python",
   "pygments_lexer": "ipython3",
   "version": "3.8.5"
  }
 },
 "nbformat": 4,
 "nbformat_minor": 5
}

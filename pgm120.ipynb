{
 "cells": [
  {
   "cell_type": "code",
   "execution_count": 1,
   "id": "1f085230",
   "metadata": {},
   "outputs": [
    {
     "name": "stdout",
     "output_type": "stream",
     "text": [
      "enter n:4\n",
      "enter a:244\n",
      "enter a:7899\n",
      "enter a:3465768\n",
      "enter a:0\n",
      "Index of biggest number: 2\n"
     ]
    }
   ],
   "source": [
    "#05/08/23\n",
    "#find the index of the biggest element\n",
    "a=[]\n",
    "n=int(input('enter n:'))\n",
    "i=0\n",
    "while i<n:\n",
    "    l=int(input('enter a:'))\n",
    "    a.append(l)\n",
    "    i=i+1\n",
    "x=len(a)\n",
    "b=0\n",
    "c=0\n",
    "i=0\n",
    "while i<x:\n",
    "    if  a[i]>b:\n",
    "        b=a[i]\n",
    "        c=i\n",
    "    i=i+1\n",
    "print('Index of biggest number:',c)"
   ]
  },
  {
   "cell_type": "code",
   "execution_count": null,
   "id": "e180131f",
   "metadata": {},
   "outputs": [],
   "source": []
  }
 ],
 "metadata": {
  "kernelspec": {
   "display_name": "Python 3 (ipykernel)",
   "language": "python",
   "name": "python3"
  },
  "language_info": {
   "codemirror_mode": {
    "name": "ipython",
    "version": 3
   },
   "file_extension": ".py",
   "mimetype": "text/x-python",
   "name": "python",
   "nbconvert_exporter": "python",
   "pygments_lexer": "ipython3",
   "version": "3.8.5"
  }
 },
 "nbformat": 4,
 "nbformat_minor": 5
}

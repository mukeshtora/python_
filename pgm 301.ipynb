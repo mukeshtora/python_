{
 "cells": [
  {
   "cell_type": "code",
   "execution_count": 19,
   "id": "943b97f8",
   "metadata": {},
   "outputs": [
    {
     "name": "stdout",
     "output_type": "stream",
     "text": [
      "n:10\n",
      "[-5, 42, -7, -2, 25, 83, 40, 84, 41, 10]\n"
     ]
    }
   ],
   "source": [
    "\"\"\"\n",
    "pg.no.301\n",
    "16/11/23\n",
    "difference of elements of two lists using lambda function\n",
    "\"\"\"\n",
    "import random as rd\n",
    "x=lambda n:[rd.randint(1,100)for i in range(n)]\n",
    "n=int(input('n:'))\n",
    "l1=x(n)\n",
    "l2=x(n)\n",
    "l3=lambda a,b:[a[i]-b[i]for i in range(len(a))]\n",
    "print(l3(l1,l2))\n",
    "\n"
   ]
  },
  {
   "cell_type": "code",
   "execution_count": 17,
   "id": "2a44b42e",
   "metadata": {},
   "outputs": [
    {
     "name": "stdout",
     "output_type": "stream",
     "text": [
      "[55, 39, 17, 98, 87, 56, 81, 35, 33, 46]\n"
     ]
    }
   ],
   "source": [
    "print(l2)"
   ]
  },
  {
   "cell_type": "code",
   "execution_count": 18,
   "id": "e9606145",
   "metadata": {},
   "outputs": [
    {
     "name": "stdout",
     "output_type": "stream",
     "text": [
      "[96, 90, 92, 60, 25, 20, 50, 90, 23, 47]\n"
     ]
    }
   ],
   "source": [
    "print(l1)"
   ]
  },
  {
   "cell_type": "code",
   "execution_count": null,
   "id": "ecdb4860",
   "metadata": {},
   "outputs": [],
   "source": []
  }
 ],
 "metadata": {
  "kernelspec": {
   "display_name": "Python 3 (ipykernel)",
   "language": "python",
   "name": "python3"
  },
  "language_info": {
   "codemirror_mode": {
    "name": "ipython",
    "version": 3
   },
   "file_extension": ".py",
   "mimetype": "text/x-python",
   "name": "python",
   "nbconvert_exporter": "python",
   "pygments_lexer": "ipython3",
   "version": "3.8.5"
  }
 },
 "nbformat": 4,
 "nbformat_minor": 5
}

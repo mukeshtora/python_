{
 "cells": [
  {
   "cell_type": "code",
   "execution_count": 1,
   "id": "fa26a679",
   "metadata": {},
   "outputs": [
    {
     "name": "stdout",
     "output_type": "stream",
     "text": [
      "L\n",
      "I\n",
      "N\n",
      "S\n",
      "O\n",
      "F\n",
      "T\n",
      " \n",
      "A\n",
      "C\n",
      "A\n",
      "D\n",
      "E\n",
      "M\n",
      "Y\n"
     ]
    }
   ],
   "source": [
    "#16/08/23\n",
    "#store the string print character by character\n",
    "s='LINSOFT ACADEMY'\n",
    "n=len(s)\n",
    "for i in range(n):\n",
    "    print(s[i])\n"
   ]
  },
  {
   "cell_type": "code",
   "execution_count": null,
   "id": "e357fec4",
   "metadata": {},
   "outputs": [],
   "source": []
  }
 ],
 "metadata": {
  "kernelspec": {
   "display_name": "Python 3 (ipykernel)",
   "language": "python",
   "name": "python3"
  },
  "language_info": {
   "codemirror_mode": {
    "name": "ipython",
    "version": 3
   },
   "file_extension": ".py",
   "mimetype": "text/x-python",
   "name": "python",
   "nbconvert_exporter": "python",
   "pygments_lexer": "ipython3",
   "version": "3.8.5"
  }
 },
 "nbformat": 4,
 "nbformat_minor": 5
}

{
 "cells": [
  {
   "cell_type": "code",
   "execution_count": 2,
   "id": "bcda7695",
   "metadata": {},
   "outputs": [
    {
     "name": "stdout",
     "output_type": "stream",
     "text": [
      "enter number:12321\n",
      "12321 is palindrome\n"
     ]
    }
   ],
   "source": [
    "#22/08/23\n",
    "#given integer palindrome or not\n",
    "\n",
    "s=int(input('enter number:'))\n",
    "s1=str(s)\n",
    "s2=s1[::-1]\n",
    "a=s1+' is palindrome' if int(s2)==s else 'not palindrome'\n",
    "print(a)"
   ]
  },
  {
   "cell_type": "code",
   "execution_count": null,
   "id": "3635882d",
   "metadata": {},
   "outputs": [],
   "source": []
  }
 ],
 "metadata": {
  "kernelspec": {
   "display_name": "Python 3 (ipykernel)",
   "language": "python",
   "name": "python3"
  },
  "language_info": {
   "codemirror_mode": {
    "name": "ipython",
    "version": 3
   },
   "file_extension": ".py",
   "mimetype": "text/x-python",
   "name": "python",
   "nbconvert_exporter": "python",
   "pygments_lexer": "ipython3",
   "version": "3.8.5"
  }
 },
 "nbformat": 4,
 "nbformat_minor": 5
}

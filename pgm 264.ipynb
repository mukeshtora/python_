{
 "cells": [
  {
   "cell_type": "code",
   "execution_count": 1,
   "id": "5cefdc24",
   "metadata": {},
   "outputs": [
    {
     "name": "stdout",
     "output_type": "stream",
     "text": [
      "a:456\n",
      "b:23\n",
      "c:797\n",
      "(797, 23)\n"
     ]
    }
   ],
   "source": [
    "\"\"\"\n",
    "biggest and smallest of 3 numbers\n",
    "21/09/23\n",
    "\"\"\"\n",
    "def bignsmall(a,b,c):\n",
    "    d=(a if a>c else c) if a>b else(b if b>c else c)\n",
    "    e=(a if a<c else c) if a<b else(b if b<c else c)\n",
    "    return d,e\n",
    "a=int(input('a:'))\n",
    "b=int(input('b:'))\n",
    "c=int(input('c:'))\n",
    "x=bignsmall(a,b,c)\n",
    "print(x)"
   ]
  },
  {
   "cell_type": "code",
   "execution_count": null,
   "id": "e1a343b6",
   "metadata": {},
   "outputs": [],
   "source": []
  }
 ],
 "metadata": {
  "kernelspec": {
   "display_name": "Python 3 (ipykernel)",
   "language": "python",
   "name": "python3"
  },
  "language_info": {
   "codemirror_mode": {
    "name": "ipython",
    "version": 3
   },
   "file_extension": ".py",
   "mimetype": "text/x-python",
   "name": "python",
   "nbconvert_exporter": "python",
   "pygments_lexer": "ipython3",
   "version": "3.8.5"
  }
 },
 "nbformat": 4,
 "nbformat_minor": 5
}

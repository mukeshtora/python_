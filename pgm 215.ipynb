{
 "cells": [
  {
   "cell_type": "code",
   "execution_count": 2,
   "id": "17c12a4a",
   "metadata": {},
   "outputs": [
    {
     "name": "stdout",
     "output_type": "stream",
     "text": [
      "enter string:linsoftacademy\n",
      "enter n:5\n",
      "enter mth position:7\n",
      "atfos\n"
     ]
    }
   ],
   "source": [
    "#22/08/23\n",
    "#copy n characters from the mth position using negative indexing\n",
    "\n",
    "s=input('enter string:')\n",
    "n=int(input('enter n:'))\n",
    "m=int(input('enter mth position:'))\n",
    "s1=s[-m:-n+m:-1]\n",
    "print(s1)"
   ]
  },
  {
   "cell_type": "code",
   "execution_count": null,
   "id": "0cd92b0a",
   "metadata": {},
   "outputs": [],
   "source": []
  }
 ],
 "metadata": {
  "kernelspec": {
   "display_name": "Python 3 (ipykernel)",
   "language": "python",
   "name": "python3"
  },
  "language_info": {
   "codemirror_mode": {
    "name": "ipython",
    "version": 3
   },
   "file_extension": ".py",
   "mimetype": "text/x-python",
   "name": "python",
   "nbconvert_exporter": "python",
   "pygments_lexer": "ipython3",
   "version": "3.8.5"
  }
 },
 "nbformat": 4,
 "nbformat_minor": 5
}

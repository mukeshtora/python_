{
 "cells": [
  {
   "cell_type": "code",
   "execution_count": 1,
   "id": "89283619",
   "metadata": {},
   "outputs": [
    {
     "name": "stdout",
     "output_type": "stream",
     "text": [
      "n:3\n",
      "matrix 1: [[-24, 50, 78], [24, 53, 11], [-86, -16, -17]]\n",
      "matrix 2: [[53, 55, 70], [-47, -16, 10], [-38, -28, 66]]\n",
      "difference of matrices: [[-77, -5, 8], [71, 69, 1], [-48, 12, -83]]\n"
     ]
    }
   ],
   "source": [
    "\"\"\"\n",
    "pg.no.305\n",
    "16/11/23\n",
    "difference of two matrices using lambda function\n",
    "\"\"\"\n",
    "import random as rd\n",
    "x=lambda n:[[rd.randint(-100,100) for i in range(n)] for i in range(n)]\n",
    "n=int(input('n:'))\n",
    "m1=x(n)\n",
    "m2=x(n)\n",
    "m3=lambda a,b:[[a[i][j]-b[i][j] for j in range(n)] for i in range(n)]\n",
    "print('matrix 1:',m1)\n",
    "print('matrix 2:',m2)\n",
    "print('difference of matrices:',m3(m1,m2))"
   ]
  },
  {
   "cell_type": "code",
   "execution_count": null,
   "id": "ff3ee950",
   "metadata": {},
   "outputs": [],
   "source": []
  }
 ],
 "metadata": {
  "kernelspec": {
   "display_name": "Python 3 (ipykernel)",
   "language": "python",
   "name": "python3"
  },
  "language_info": {
   "codemirror_mode": {
    "name": "ipython",
    "version": 3
   },
   "file_extension": ".py",
   "mimetype": "text/x-python",
   "name": "python",
   "nbconvert_exporter": "python",
   "pygments_lexer": "ipython3",
   "version": "3.8.5"
  }
 },
 "nbformat": 4,
 "nbformat_minor": 5
}

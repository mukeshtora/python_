{
 "cells": [
  {
   "cell_type": "code",
   "execution_count": 21,
   "id": "0843df07",
   "metadata": {},
   "outputs": [],
   "source": [
    "\"\"\"\n",
    "pg.no.335\n",
    "30/11/23\n",
    "Copy the file to another file line by line and flip the character case\n",
    "\"\"\"\n",
    "\n",
    "f=open('sample.txt','r')\n",
    "f1=open('sam.txt','w')\n",
    "for i in f:\n",
    "    for j in i:\n",
    "        s1=''\n",
    "        a=ord(j)\n",
    "        if a>=65 and a<=90:\n",
    "            x=a+32\n",
    "            s1=s1+chr(x)\n",
    "        elif a>=97 and a<=122:\n",
    "            x=a-32\n",
    "            s1=s1+chr(x)\n",
    "        else:\n",
    "            s1+=chr(a)\n",
    "    f1.write(s1)\n",
    "        \n"
   ]
  },
  {
   "cell_type": "code",
   "execution_count": 22,
   "id": "932fcbb0",
   "metadata": {},
   "outputs": [
    {
     "name": "stdout",
     "output_type": "stream",
     "text": [
      "tHE COMPARISON OF COVISHIELD AND COVAXIN IS TO DISTINGUISH BOTH THE VACCINES.\n",
      "\n",
      "fEW RESEARCHES HAVE ALREADY SHOWED A DETAILED COMPARISON OF COVAXIN vS COVISHIELD.\n",
      "\n",
      "dURING THE PANDEMIC SITUATION PRECAUTIONS AND TREATMENTS BECAME SIGNIFICANT.\n",
      "\n",
      "wITHOUT VACCINES, PEOPLE ARE AT RISK OF SERIOUS ILLNESS AND DISABILITY\n",
      "\n",
      "FROM DISEASES LIKE MEASLES, PNEUMONIA, TETANUS, POLIO AND MOST POPULARLY KNOWN COVID19.\n",
      "\n",
      "mANY OF THE DISEASES CAN BE LIFE-THREATENING. who ESTIMATES CHILDHOOD VACCINES ALONE SAVE 4 MILLION LIVES EVERY YEAR.\n",
      "\n"
     ]
    }
   ],
   "source": [
    "d=open('sam.txt','r')\n",
    "for i in d:\n",
    "    print(i)"
   ]
  },
  {
   "cell_type": "code",
   "execution_count": null,
   "id": "e76c58db",
   "metadata": {},
   "outputs": [],
   "source": []
  }
 ],
 "metadata": {
  "kernelspec": {
   "display_name": "Python 3 (ipykernel)",
   "language": "python",
   "name": "python3"
  },
  "language_info": {
   "codemirror_mode": {
    "name": "ipython",
    "version": 3
   },
   "file_extension": ".py",
   "mimetype": "text/x-python",
   "name": "python",
   "nbconvert_exporter": "python",
   "pygments_lexer": "ipython3",
   "version": "3.8.5"
  }
 },
 "nbformat": 4,
 "nbformat_minor": 5
}

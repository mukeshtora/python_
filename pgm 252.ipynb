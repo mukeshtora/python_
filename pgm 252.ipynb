{
 "cells": [
  {
   "cell_type": "code",
   "execution_count": 1,
   "id": "8e66b271",
   "metadata": {},
   "outputs": [
    {
     "name": "stdout",
     "output_type": "stream",
     "text": [
      "h:2\n",
      "name:mukesh\n",
      "age:21\n",
      "gender:male\n",
      "mail:m@gmail.com\n",
      "rollno:19\n",
      "name:murali\n",
      "age:20\n",
      "gender:male\n",
      "mail:murali@gmail.com\n",
      "rollno:20\n",
      "name mukesh mail m@gmail.com\n",
      "name murali mail murali@gmail.com\n"
     ]
    }
   ],
   "source": [
    "\"\"\"\n",
    "pg.no. 252\n",
    "20/09/23\n",
    "print only the name and email of the students\n",
    "\"\"\"\n",
    "\n",
    "d={}\n",
    "h=int(input('h:'))\n",
    "for i in range(h):\n",
    "    n=input('name:')\n",
    "    a=int(input(\"age:\"))\n",
    "    g=input(\"gender:\")\n",
    "    m=input('mail:')\n",
    "    l=[n,a,g,m]\n",
    "    r=int(input('rollno:'))\n",
    "    d[r]=l\n",
    "f=['name','age','gender','mail']\n",
    "for i in d:\n",
    "    print(f[0],d[i][0],f[3],d[i][3])"
   ]
  },
  {
   "cell_type": "code",
   "execution_count": null,
   "id": "79d53db4",
   "metadata": {},
   "outputs": [],
   "source": []
  }
 ],
 "metadata": {
  "kernelspec": {
   "display_name": "Python 3 (ipykernel)",
   "language": "python",
   "name": "python3"
  },
  "language_info": {
   "codemirror_mode": {
    "name": "ipython",
    "version": 3
   },
   "file_extension": ".py",
   "mimetype": "text/x-python",
   "name": "python",
   "nbconvert_exporter": "python",
   "pygments_lexer": "ipython3",
   "version": "3.8.5"
  }
 },
 "nbformat": 4,
 "nbformat_minor": 5
}

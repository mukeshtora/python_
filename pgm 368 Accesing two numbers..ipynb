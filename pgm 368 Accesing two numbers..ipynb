{
 "cells": [
  {
   "cell_type": "code",
   "execution_count": 1,
   "id": "9730337b",
   "metadata": {},
   "outputs": [
    {
     "name": "stdout",
     "output_type": "stream",
     "text": [
      "500 350\n",
      "23 350\n",
      "23 78\n",
      "89 90\n",
      "500 350\n",
      "500 350\n",
      "500\n",
      "350\n",
      "(500, 350)\n",
      "70 80\n"
     ]
    }
   ],
   "source": [
    "\"\"\"\n",
    "pg.no. 368\n",
    "16/12/23\n",
    "Accesing two numbers\n",
    "\"\"\"\n",
    "class A2nos():\n",
    "    __x=None\n",
    "    __y=None\n",
    "    \n",
    "    def __init__(self,x=500,y=350):\n",
    "        self.__x=x\n",
    "        self.__y=y\n",
    "    def disp(self):\n",
    "        print(self.__x,self.__y)\n",
    "    def setx(self,x=23):\n",
    "        self.__x=x\n",
    "    def sety(self,y=78):\n",
    "        self.__y=y\n",
    "    def setxy(self,x=89,y=90):\n",
    "        self.__x=x\n",
    "        self.__y=y\n",
    "    def setobj(self,ob):\n",
    "        self.__x=ob.__x\n",
    "        self.__y=ob.__y\n",
    "    def reset(self):\n",
    "        self.__x=500\n",
    "        self.__y=350\n",
    "    def getx(self):\n",
    "        return self.__x\n",
    "    def gety(self):\n",
    "        return self.__y\n",
    "    def getxy(self):\n",
    "        return self.__x,self.__y\n",
    "    def getobj(self):\n",
    "        return self\n",
    "    \n",
    "#main\n",
    "a=A2nos()\n",
    "a.disp()\n",
    "a.setx()\n",
    "a.disp()\n",
    "a.sety()\n",
    "a.disp()\n",
    "a.setxy()\n",
    "a.disp()\n",
    "n=A2nos()\n",
    "a.setobj(n)\n",
    "a.disp()\n",
    "a.reset()\n",
    "a.disp()\n",
    "d=a.getx()\n",
    "print(d)\n",
    "d=a.gety()\n",
    "print(d)\n",
    "d=a.getxy()\n",
    "print(d)\n",
    "d=a.getobj()\n",
    "d.setx(70)\n",
    "d.sety(80)\n",
    "d.disp()\n"
   ]
  },
  {
   "cell_type": "code",
   "execution_count": null,
   "id": "7b1eea9c",
   "metadata": {},
   "outputs": [],
   "source": []
  },
  {
   "cell_type": "code",
   "execution_count": null,
   "id": "b8f1bb1d",
   "metadata": {},
   "outputs": [],
   "source": []
  }
 ],
 "metadata": {
  "kernelspec": {
   "display_name": "Python 3 (ipykernel)",
   "language": "python",
   "name": "python3"
  },
  "language_info": {
   "codemirror_mode": {
    "name": "ipython",
    "version": 3
   },
   "file_extension": ".py",
   "mimetype": "text/x-python",
   "name": "python",
   "nbconvert_exporter": "python",
   "pygments_lexer": "ipython3",
   "version": "3.8.5"
  }
 },
 "nbformat": 4,
 "nbformat_minor": 5
}

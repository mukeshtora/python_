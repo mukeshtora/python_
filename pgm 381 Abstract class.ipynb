{
 "cells": [
  {
   "cell_type": "code",
   "execution_count": 7,
   "id": "7f733d63",
   "metadata": {},
   "outputs": [],
   "source": [
    "\"\"\"\n",
    "pg.no.381\n",
    "31/12/23\n",
    "create a Abstract class\n",
    "\"\"\"\n",
    "from abc import ABC, abstractmethod\n",
    "class Op2nos_AC(ABC):\n",
    "    @abstractmethod\n",
    "    def sum(self):\n",
    "        pass\n",
    "    \n",
    "    @abstractmethod\n",
    "    def diff(self):\n",
    "        pass\n",
    "    \n",
    "    @abstractmethod\n",
    "    def prod(self):\n",
    "        pass\n",
    "    \n",
    "    @abstractmethod\n",
    "    def div(self):\n",
    "        pass\n",
    "    \n",
    "    @abstractmethod\n",
    "    def reminder(self):\n",
    "        pass\n",
    "    \n",
    "    def display(self):\n",
    "        print(\"Linsoft\")\n",
    "    "
   ]
  },
  {
   "cell_type": "code",
   "execution_count": 8,
   "id": "ba95f3df",
   "metadata": {},
   "outputs": [
    {
     "ename": "TypeError",
     "evalue": "Can't instantiate abstract class Op2nos_AC with abstract methods diff, div, prod, reminder, sum",
     "output_type": "error",
     "traceback": [
      "\u001b[1;31m---------------------------------------------------------------------------\u001b[0m",
      "\u001b[1;31mTypeError\u001b[0m                                 Traceback (most recent call last)",
      "\u001b[1;32m~\\AppData\\Local\\Temp/ipykernel_9116/536775699.py\u001b[0m in \u001b[0;36m<module>\u001b[1;34m\u001b[0m\n\u001b[0;32m      1\u001b[0m \u001b[1;34m\"\"\" Testing \"\"\"\u001b[0m\u001b[1;33m\u001b[0m\u001b[1;33m\u001b[0m\u001b[0m\n\u001b[0;32m      2\u001b[0m \u001b[1;31m#main\u001b[0m\u001b[1;33m\u001b[0m\u001b[1;33m\u001b[0m\u001b[1;33m\u001b[0m\u001b[0m\n\u001b[1;32m----> 3\u001b[1;33m \u001b[0ma\u001b[0m\u001b[1;33m=\u001b[0m\u001b[0mOp2nos_AC\u001b[0m\u001b[1;33m(\u001b[0m\u001b[1;33m)\u001b[0m\u001b[1;33m\u001b[0m\u001b[1;33m\u001b[0m\u001b[0m\n\u001b[0m\u001b[0;32m      4\u001b[0m \u001b[0ma\u001b[0m\u001b[1;33m.\u001b[0m\u001b[0mdisplay\u001b[0m\u001b[1;33m(\u001b[0m\u001b[1;33m)\u001b[0m\u001b[1;33m\u001b[0m\u001b[1;33m\u001b[0m\u001b[0m\n",
      "\u001b[1;31mTypeError\u001b[0m: Can't instantiate abstract class Op2nos_AC with abstract methods diff, div, prod, reminder, sum"
     ]
    }
   ],
   "source": [
    "\"\"\" Testing/!\\\n",
    "you can't instantiate a abstract class. They can only act as a base (parent) class. \n",
    "\"\"\"\n",
    "#main\n",
    "a=Op2nos_AC()\n",
    "a.display()"
   ]
  },
  {
   "cell_type": "code",
   "execution_count": null,
   "id": "6b477994",
   "metadata": {},
   "outputs": [],
   "source": []
  }
 ],
 "metadata": {
  "kernelspec": {
   "display_name": "Python 3 (ipykernel)",
   "language": "python",
   "name": "python3"
  },
  "language_info": {
   "codemirror_mode": {
    "name": "ipython",
    "version": 3
   },
   "file_extension": ".py",
   "mimetype": "text/x-python",
   "name": "python",
   "nbconvert_exporter": "python",
   "pygments_lexer": "ipython3",
   "version": "3.8.5"
  }
 },
 "nbformat": 4,
 "nbformat_minor": 5
}

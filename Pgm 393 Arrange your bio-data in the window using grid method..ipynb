{
 "cells": [
  {
   "cell_type": "code",
   "execution_count": 1,
   "id": "fad80a93",
   "metadata": {},
   "outputs": [],
   "source": [
    "\"\"\"\n",
    "Pg.no. 393\n",
    "06/01/2024\n",
    "Arrange your bio-data in the window using grid method.\n",
    "\"\"\"\n",
    "import tkinter as tk\n",
    "w=tk.Tk()\n",
    "def mainwindow():\n",
    "    w.title('Main window')\n",
    "    w.configure(background='white')\n",
    "    w.minsize(600,400)\n",
    "    w.maxsize(1520,900)\n",
    "    w.geometry(\"00x400+90+90\")\n",
    "    w.attributes('-alpha',1)\n",
    "\n",
    "def design():\n",
    "    \n",
    "    l0=tk.Label(w,text=\"Bio - Data\",bg='black',fg='White',font=(\"algerian\",15))\n",
    "    l0.grid(row=20, column=10+15, padx=50-10, pady=25)\n",
    "    l1=tk.Label(w,text='Name: Mukesh',bg='blue',fg='gold',font=('times',15))\n",
    "    l1.grid(row=10+30, column=10+10, padx=50-10, pady=25)\n",
    "    l2=tk.Label(w,text='Age: 21',bg='pink',fg='red',font=('times',15))\n",
    "    l2.grid(row=10+30,column=15+15, padx=50-10, pady=25)\n",
    "    l3=tk.Label(w,text='Address: Trichy',bg='green',fg='white',font=('times',15))\n",
    "    l3.grid(row=15+30, column=10+10, padx=50-10, pady=25)\n",
    "    l4=tk.Label(w,text='Pincode: 621218',bg='gold',fg='darkgreen',font=('times',15))\n",
    "    l4.grid(row=15+30, column=15+15, padx=50-10, pady=25)\n",
    "    w.mainloop()\n",
    "    \n",
    "#main\n",
    "mainwindow()\n",
    "design()"
   ]
  },
  {
   "cell_type": "code",
   "execution_count": null,
   "id": "ceb4b12a",
   "metadata": {},
   "outputs": [],
   "source": []
  },
  {
   "cell_type": "code",
   "execution_count": null,
   "id": "da993874",
   "metadata": {},
   "outputs": [],
   "source": []
  },
  {
   "cell_type": "code",
   "execution_count": null,
   "id": "13c86249",
   "metadata": {},
   "outputs": [],
   "source": []
  },
  {
   "cell_type": "code",
   "execution_count": null,
   "id": "05b869cc",
   "metadata": {},
   "outputs": [],
   "source": []
  },
  {
   "cell_type": "code",
   "execution_count": null,
   "id": "007b9614",
   "metadata": {},
   "outputs": [],
   "source": []
  },
  {
   "cell_type": "code",
   "execution_count": null,
   "id": "1336bb0f",
   "metadata": {},
   "outputs": [],
   "source": []
  },
  {
   "cell_type": "code",
   "execution_count": null,
   "id": "b90e4a32",
   "metadata": {},
   "outputs": [],
   "source": []
  },
  {
   "cell_type": "code",
   "execution_count": 1,
   "id": "8ecdcba3",
   "metadata": {},
   "outputs": [
    {
     "ename": "IndentationError",
     "evalue": "unexpected indent (Temp/ipykernel_19404/3939353512.py, line 2)",
     "output_type": "error",
     "traceback": [
      "\u001b[1;36m  File \u001b[1;32m\"C:\\Users\\Nataraj\\AppData\\Local\\Temp/ipykernel_19404/3939353512.py\"\u001b[1;36m, line \u001b[1;32m2\u001b[0m\n\u001b[1;33m    l0.grid(row=50, column=100, padx=5, pady=10)\u001b[0m\n\u001b[1;37m    ^\u001b[0m\n\u001b[1;31mIndentationError\u001b[0m\u001b[1;31m:\u001b[0m unexpected indent\n"
     ]
    }
   ],
   "source": [
    "\n",
    "    \n",
    "\n",
    "    "
   ]
  },
  {
   "cell_type": "code",
   "execution_count": null,
   "id": "9b08e316",
   "metadata": {},
   "outputs": [],
   "source": []
  }
 ],
 "metadata": {
  "kernelspec": {
   "display_name": "Python 3 (ipykernel)",
   "language": "python",
   "name": "python3"
  },
  "language_info": {
   "codemirror_mode": {
    "name": "ipython",
    "version": 3
   },
   "file_extension": ".py",
   "mimetype": "text/x-python",
   "name": "python",
   "nbconvert_exporter": "python",
   "pygments_lexer": "ipython3",
   "version": "3.8.5"
  }
 },
 "nbformat": 4,
 "nbformat_minor": 5
}

{
 "cells": [
  {
   "cell_type": "code",
   "execution_count": 1,
   "id": "7183fe07",
   "metadata": {},
   "outputs": [
    {
     "name": "stdout",
     "output_type": "stream",
     "text": [
      "name:mukesh\n",
      "age:21\n",
      "gender:male\n",
      "ph.no:9360376261\n",
      "['mukesh', 21, 'male', 9360376261]\n"
     ]
    }
   ],
   "source": [
    "#22/08/23\n",
    "#read bio-data from keyboard store in list and print\n",
    "\n",
    "n=input('name:')\n",
    "a=int(input('age:'))\n",
    "g=input('gender:')\n",
    "p=int(input('ph.no:'))\n",
    "\n",
    "a=[n,a,g,p]\n",
    "print(a)"
   ]
  },
  {
   "cell_type": "code",
   "execution_count": null,
   "id": "07e208e2",
   "metadata": {},
   "outputs": [],
   "source": []
  }
 ],
 "metadata": {
  "kernelspec": {
   "display_name": "Python 3 (ipykernel)",
   "language": "python",
   "name": "python3"
  },
  "language_info": {
   "codemirror_mode": {
    "name": "ipython",
    "version": 3
   },
   "file_extension": ".py",
   "mimetype": "text/x-python",
   "name": "python",
   "nbconvert_exporter": "python",
   "pygments_lexer": "ipython3",
   "version": "3.8.5"
  }
 },
 "nbformat": 4,
 "nbformat_minor": 5
}

{
 "cells": [
  {
   "cell_type": "code",
   "execution_count": 2,
   "id": "ceb32539",
   "metadata": {},
   "outputs": [
    {
     "name": "stdout",
     "output_type": "stream",
     "text": [
      "h:15\n",
      "a: (40, 18, -60, -33, -64, 73, 59, -13, 32, 6, 86, -58, -32, 53, 23)\n",
      "b: (23, 53, -32, -58, 86, 6, 32, -13, 59, 73, -64, -33, -60, 18, 40)\n"
     ]
    }
   ],
   "source": [
    "\"\"\" \n",
    "25/08/23\n",
    "reverse tuple\n",
    "\"\"\"\n",
    "import random as rd\n",
    "h=int(input('h:'))\n",
    "a=tuple(rd.randint(-100,100) for i in range(h))\n",
    "b=a[::-1]\n",
    "print('a:',a)\n",
    "print('b:',b)"
   ]
  },
  {
   "cell_type": "code",
   "execution_count": null,
   "id": "41ce0602",
   "metadata": {},
   "outputs": [],
   "source": []
  }
 ],
 "metadata": {
  "kernelspec": {
   "display_name": "Python 3 (ipykernel)",
   "language": "python",
   "name": "python3"
  },
  "language_info": {
   "codemirror_mode": {
    "name": "ipython",
    "version": 3
   },
   "file_extension": ".py",
   "mimetype": "text/x-python",
   "name": "python",
   "nbconvert_exporter": "python",
   "pygments_lexer": "ipython3",
   "version": "3.8.5"
  }
 },
 "nbformat": 4,
 "nbformat_minor": 5
}

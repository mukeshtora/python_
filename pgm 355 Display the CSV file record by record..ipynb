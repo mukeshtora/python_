{
 "cells": [
  {
   "cell_type": "code",
   "execution_count": 1,
   "id": "4d7bf7d6",
   "metadata": {},
   "outputs": [
    {
     "name": "stdout",
     "output_type": "stream",
     "text": [
      "['rollno', 'name', 'class ', 'Tamil', 'English', 'Maths', 'Science', 'social', 'percentage', 'result']\n",
      "['101', 'Jesy', 'II - Msc DS', '48', '33', '78', '89', '56', '60.8', 'pass']\n",
      "['102', 'Rexi', 'II - Msc DS', '65', '67', '45', '78', '50', '61', 'pass']\n",
      "['103', 'Arul', 'II - Msc DS', '75', '22', '35', '29', '40', '60.9', 'pass']\n",
      "['104', 'Asha', 'II - Msc DS', '49', '78', '90', '58', '70', '69', 'pass']\n",
      "['105', 'Ashika', 'II - Msc DS', '26', '45', '47', '67', '89', '54.8', 'pass']\n",
      "['106', 'Charu', 'II - Msc DS', '87', '46', '39', '92', '74', '67.6', 'pass']\n",
      "['107', 'Deepa', 'II - Msc DS', '69', '38', '88', '49', '57', '60.2', 'pass']\n",
      "['108', 'Dinesh', 'II - Msc DS', '54', '42', '10', '18', '41', '33', 'fail']\n",
      "['109', 'Emmanuel', 'II - Msc DS', '53', '69', '67', '55', '35', '55.8', 'pass']\n",
      "['110', 'Hari  prasath', 'II - Msc DS', '91', '11', '56', '45', '61', '52.8', 'pass']\n",
      "['111', 'Hariharan', 'II - Msc DS', '58', '82', '83', '77', '56', '71.2', 'pass']\n",
      "['112', 'Harish', 'II - Msc DS', '89', '75', '39', '56', '98', '71.4', 'pass']\n",
      "['113', 'Harishmitha', 'II - Msc DS', '74', '54', '59', '19', '45', '50.2', 'pass']\n",
      "['115', 'Infant', 'II - Msc DS', '45', '58', '76', '68', '89', '67.2', 'pass']\n",
      "['116', 'Inisha', 'II - Msc DS', '36', '56', '53', '61', '72', '55.6', 'pass']\n",
      "['117', 'Joshua', 'II - Msc DS', '35', '34', '65', '76', '87', '59.4', 'pass']\n",
      "['118', 'Mahesh', 'II - Msc DS', '39', '23', '19', '47', '41', '33.8', 'fail']\n",
      "['119', 'Mukesh', 'II - Msc DS', '90', '97', '100', '98', '99', '96.8', 'pass']\n",
      "['120', 'Murali', 'II - Msc DS', '51', '68', '78', '81', '92', '74', 'pass']\n",
      "***end***\n"
     ]
    }
   ],
   "source": [
    "\"\"\"\n",
    "pg.no.355\n",
    "07/12/23\n",
    "Display the CSV file record by record\n",
    "\"\"\"\n",
    "import csv\n",
    "f=open('filehandling(ls).csv')\n",
    "x=csv.reader(f)\n",
    "try:\n",
    "    y=next(x)\n",
    "    print(y)\n",
    "    while x:\n",
    "        y=next(x)\n",
    "        print(y)\n",
    "except StopIteration:\n",
    "    print('***end***')"
   ]
  },
  {
   "cell_type": "code",
   "execution_count": null,
   "id": "27ac1657",
   "metadata": {},
   "outputs": [],
   "source": []
  }
 ],
 "metadata": {
  "kernelspec": {
   "display_name": "Python 3 (ipykernel)",
   "language": "python",
   "name": "python3"
  },
  "language_info": {
   "codemirror_mode": {
    "name": "ipython",
    "version": 3
   },
   "file_extension": ".py",
   "mimetype": "text/x-python",
   "name": "python",
   "nbconvert_exporter": "python",
   "pygments_lexer": "ipython3",
   "version": "3.8.5"
  }
 },
 "nbformat": 4,
 "nbformat_minor": 5
}

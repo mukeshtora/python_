{
 "cells": [
  {
   "cell_type": "code",
   "execution_count": null,
   "id": "fd143155",
   "metadata": {},
   "outputs": [],
   "source": [
    "#pg. no.1\n",
    "#17/7/23\n",
    "#product of real numbers(a,b)\n",
    "\n",
    "a=float(input(\"enter a:\"))\n",
    "b=float(input(\"enter b:\"))\n",
    "c=a*b\n",
    "print(c)"
   ]
  },
  {
   "cell_type": "code",
   "execution_count": null,
   "id": "f51166ab",
   "metadata": {},
   "outputs": [],
   "source": []
  }
 ],
 "metadata": {
  "kernelspec": {
   "display_name": "Python 3 (ipykernel)",
   "language": "python",
   "name": "python3"
  },
  "language_info": {
   "codemirror_mode": {
    "name": "ipython",
    "version": 3
   },
   "file_extension": ".py",
   "mimetype": "text/x-python",
   "name": "python",
   "nbconvert_exporter": "python",
   "pygments_lexer": "ipython3",
   "version": "3.8.5"
  }
 },
 "nbformat": 4,
 "nbformat_minor": 5
}

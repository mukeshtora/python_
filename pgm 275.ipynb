{
 "cells": [
  {
   "cell_type": "code",
   "execution_count": 3,
   "id": "9b700ffa",
   "metadata": {},
   "outputs": [
    {
     "name": "stdout",
     "output_type": "stream",
     "text": [
      "dict_keys(['name', 'age', 'gender'])\n",
      "dict_values(['mukesh', 21, 'male'])\n"
     ]
    }
   ],
   "source": [
    "\"\"\"\n",
    "pg.no.275\n",
    "seperate the keys and values\n",
    "21/09/23\"\"\"\n",
    "\n",
    "def bio_data(**x):\n",
    "    a=x.keys()\n",
    "    b=x.values()\n",
    "    print(a)\n",
    "    print(b)\n",
    "    \n",
    "#main\n",
    "bio_data(name = 'mukesh',age=21, gender='male')"
   ]
  },
  {
   "cell_type": "code",
   "execution_count": null,
   "id": "aa26d92c",
   "metadata": {},
   "outputs": [],
   "source": []
  }
 ],
 "metadata": {
  "kernelspec": {
   "display_name": "Python 3 (ipykernel)",
   "language": "python",
   "name": "python3"
  },
  "language_info": {
   "codemirror_mode": {
    "name": "ipython",
    "version": 3
   },
   "file_extension": ".py",
   "mimetype": "text/x-python",
   "name": "python",
   "nbconvert_exporter": "python",
   "pygments_lexer": "ipython3",
   "version": "3.8.5"
  }
 },
 "nbformat": 4,
 "nbformat_minor": 5
}

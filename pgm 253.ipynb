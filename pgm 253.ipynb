{
 "cells": [
  {
   "cell_type": "code",
   "execution_count": 4,
   "id": "1138edfb",
   "metadata": {},
   "outputs": [
    {
     "name": "stdout",
     "output_type": "stream",
     "text": [
      "n:4\n",
      "enter element:23\n",
      "enter element:54\n",
      "enter element:23\n",
      "enter element:4\n",
      "{4, 54, 23}\n"
     ]
    }
   ],
   "source": [
    "\"\"\"\n",
    "pg.no.253\n",
    "construct a set of n elements\n",
    "20/09/23\n",
    "\"\"\"\n",
    "a=set()\n",
    "n=int(input('n:'))\n",
    "for i in range(n):\n",
    "    b=int(input('enter element:'))\n",
    "    a.add(b)\n",
    "print(a)"
   ]
  },
  {
   "cell_type": "code",
   "execution_count": null,
   "id": "fef0cd90",
   "metadata": {},
   "outputs": [],
   "source": []
  }
 ],
 "metadata": {
  "kernelspec": {
   "display_name": "Python 3 (ipykernel)",
   "language": "python",
   "name": "python3"
  },
  "language_info": {
   "codemirror_mode": {
    "name": "ipython",
    "version": 3
   },
   "file_extension": ".py",
   "mimetype": "text/x-python",
   "name": "python",
   "nbconvert_exporter": "python",
   "pygments_lexer": "ipython3",
   "version": "3.8.5"
  }
 },
 "nbformat": 4,
 "nbformat_minor": 5
}

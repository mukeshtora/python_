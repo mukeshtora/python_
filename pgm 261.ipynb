{
 "cells": [
  {
   "cell_type": "code",
   "execution_count": 1,
   "id": "be6d8c41",
   "metadata": {},
   "outputs": [
    {
     "name": "stdout",
     "output_type": "stream",
     "text": [
      "a:12\n",
      "b:34\n",
      "46\n"
     ]
    }
   ],
   "source": [
    "\"\"\"\n",
    "sum of two integer numbers\n",
    "21/09/23\n",
    "\"\"\"\n",
    "def add(a,b):\n",
    "    c=a+b\n",
    "    return c\n",
    "#main\n",
    "a=int(input('a:'))\n",
    "b=int(input('b:'))\n",
    "d=add(a,b)\n",
    "print(d)"
   ]
  },
  {
   "cell_type": "code",
   "execution_count": null,
   "id": "d8976b6a",
   "metadata": {},
   "outputs": [],
   "source": []
  }
 ],
 "metadata": {
  "kernelspec": {
   "display_name": "Python 3 (ipykernel)",
   "language": "python",
   "name": "python3"
  },
  "language_info": {
   "codemirror_mode": {
    "name": "ipython",
    "version": 3
   },
   "file_extension": ".py",
   "mimetype": "text/x-python",
   "name": "python",
   "nbconvert_exporter": "python",
   "pygments_lexer": "ipython3",
   "version": "3.8.5"
  }
 },
 "nbformat": 4,
 "nbformat_minor": 5
}

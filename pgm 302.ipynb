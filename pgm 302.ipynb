{
 "cells": [
  {
   "cell_type": "code",
   "execution_count": 1,
   "id": "fbb9d91e",
   "metadata": {},
   "outputs": [
    {
     "name": "stdout",
     "output_type": "stream",
     "text": [
      "n:3\n",
      "[[-6, -22, 27], [-49, 100, -69], [-52, 93, 4]]\n"
     ]
    }
   ],
   "source": [
    "\"\"\"\n",
    "pg.no.302\n",
    "16/11/23\n",
    "construct a 3x3 matrix using lambda function\n",
    "\"\"\"\n",
    "import random as rd\n",
    "x=lambda n:[[rd.randint(-100,100) for i in range(n)] for i in range(n)]\n",
    "n=int(input('n:'))\n",
    "print(x(n))"
   ]
  },
  {
   "cell_type": "code",
   "execution_count": null,
   "id": "5aba7c53",
   "metadata": {},
   "outputs": [],
   "source": []
  }
 ],
 "metadata": {
  "kernelspec": {
   "display_name": "Python 3 (ipykernel)",
   "language": "python",
   "name": "python3"
  },
  "language_info": {
   "codemirror_mode": {
    "name": "ipython",
    "version": 3
   },
   "file_extension": ".py",
   "mimetype": "text/x-python",
   "name": "python",
   "nbconvert_exporter": "python",
   "pygments_lexer": "ipython3",
   "version": "3.8.5"
  }
 },
 "nbformat": 4,
 "nbformat_minor": 5
}

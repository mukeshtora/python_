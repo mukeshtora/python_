{
 "cells": [
  {
   "cell_type": "code",
   "execution_count": 1,
   "id": "da5fbb31",
   "metadata": {},
   "outputs": [
    {
     "name": "stdout",
     "output_type": "stream",
     "text": [
      "h:2\n",
      "name:mukesh\n",
      "age:21\n",
      "gender:male\n",
      "mail:mukeshjk1401@gmail.com\n",
      "rollno:19\n",
      "name:thenkuzali\n",
      "age:21\n",
      "gender:female\n",
      "mail:thenkuzhali@gmail.com\n",
      "rollno:41\n",
      "\n",
      "name mukesh\n",
      "age 21\n",
      "gender male\n",
      "mail mukeshjk1401@gmail.com\n",
      "name thenkuzali\n",
      "age 21\n",
      "gender female\n",
      "mail thenkuzhali@gmail.com\n"
     ]
    }
   ],
   "source": [
    "\"\"\"\n",
    "25/08/23\n",
    "construct a dict, store bio-data of the n students print record by record along with the tag\n",
    "\"\"\"\n",
    "d={}\n",
    "h=int(input('h:'))\n",
    "for i in range(h):\n",
    "    n=input('name:')\n",
    "    a=int(input('age:'))\n",
    "    g=input('gender:')\n",
    "    m=input('mail:')\n",
    "    l=[n,a,g,m]\n",
    "    r=int(input('rollno:'))\n",
    "    d[r]=l\n",
    "print()\n",
    "f=['name','age','gender','mail']\n",
    "for i in d:\n",
    "    for j in range(len(d[i])):\n",
    "            print(f[j],d[i][j])"
   ]
  },
  {
   "cell_type": "code",
   "execution_count": null,
   "id": "23f501de",
   "metadata": {},
   "outputs": [],
   "source": []
  }
 ],
 "metadata": {
  "kernelspec": {
   "display_name": "Python 3 (ipykernel)",
   "language": "python",
   "name": "python3"
  },
  "language_info": {
   "codemirror_mode": {
    "name": "ipython",
    "version": 3
   },
   "file_extension": ".py",
   "mimetype": "text/x-python",
   "name": "python",
   "nbconvert_exporter": "python",
   "pygments_lexer": "ipython3",
   "version": "3.8.5"
  }
 },
 "nbformat": 4,
 "nbformat_minor": 5
}

{
 "cells": [
  {
   "cell_type": "code",
   "execution_count": 41,
   "id": "4a3420fe",
   "metadata": {},
   "outputs": [
    {
     "name": "stdout",
     "output_type": "stream",
     "text": [
      "file name:file1b.dat\n",
      "list of values: [76, 54, 82, 92, 51, 82, 99, 67, 14, 95, 71, 37, 47, 33, 96, 85, 42, 28, 99, 45, 28, 81, 81, 60, 67, 90, 45, 82, 62, 48, 75, 71, 17, 85, 18, 91, 86, 73, 11, 42, 40, 46, 90, 16, 74, 91, 88, 48, 19, 61, 30, 46, 75, 66, 62, 38, 50, 49, 37, 14, 90, 20, 33, 99, 62, 47, 22, 14, 86, 55, 16, 79, 28, 93, 45, 71, 64, 65, 87, 80, 69, 65, 13, 66, 59, 66, 41, 65, 85, 21, 83, 11, 13, 40, 17]\n",
      "number of elements in list: 95\n",
      "unique values: {11, 13, 14, 16, 17, 18, 19, 20, 21, 22, 28, 30, 33, 37, 38, 40, 41, 42, 45, 46, 47, 48, 49, 50, 51, 54, 55, 59, 60, 61, 62, 64, 65, 66, 67, 69, 71, 73, 74, 75, 76, 79, 80, 81, 82, 83, 85, 86, 87, 88, 90, 91, 92, 93, 95, 96, 99}\n",
      "total number of unique values: 57\n",
      "frequency count: {11: 2, 13: 2, 14: 3, 16: 2, 17: 2, 18: 1, 19: 1, 20: 1, 21: 1, 22: 1, 28: 3, 30: 1, 33: 2, 37: 2, 38: 1, 40: 2, 41: 1, 42: 2, 45: 3, 46: 2, 47: 2, 48: 2, 49: 1, 50: 1, 51: 1, 54: 1, 55: 1, 59: 1, 60: 1, 61: 1, 62: 3, 64: 1, 65: 3, 66: 3, 67: 2, 69: 1, 71: 3, 73: 1, 74: 1, 75: 2, 76: 1, 79: 1, 80: 1, 81: 2, 82: 3, 83: 1, 85: 3, 86: 2, 87: 1, 88: 1, 90: 3, 91: 2, 92: 1, 93: 1, 95: 1, 96: 1, 99: 3}\n",
      "duplicate values: [11, 13, 14, 16, 17, 28, 33, 37, 40, 42, 45, 46, 47, 48, 62, 65, 66, 67, 71, 75, 81, 82, 85, 86, 90, 91, 99]\n",
      "total number of duplicate values: 38\n"
     ]
    }
   ],
   "source": [
    "\"\"\"\n",
    "pg.no.343\n",
    "02/12/23\n",
    "Display the unique, frequency count and duplicate values for each seggregated files.\n",
    "\"\"\"\n",
    "import pickle\n",
    "file=input('file name:')\n",
    "f=open(file,'rb')\n",
    "x=pickle.load(f)\n",
    "unique=set(x)\n",
    "freq={}\n",
    "for i in unique:\n",
    "    freq[i]=x.count(i)\n",
    "        \n",
    "duplicate=[i for i in freq if freq[i]>1]\n",
    "\n",
    "print('list of values:',x)\n",
    "print('number of elements in list:',len(x))\n",
    "print('unique values:',unique)\n",
    "print('total number of unique values:',len(list(unique)))\n",
    "print('frequency count:',freq)\n",
    "print('duplicate values:',duplicate)\n",
    "tdv=0\n",
    "for i in freq.values():\n",
    "    tdv+=i\n",
    "    \n",
    "print('total number of duplicate values:',tdv-len(freq.values()))\n"
   ]
  },
  {
   "cell_type": "code",
   "execution_count": null,
   "id": "062ebae0",
   "metadata": {},
   "outputs": [],
   "source": []
  }
 ],
 "metadata": {
  "kernelspec": {
   "display_name": "Python 3 (ipykernel)",
   "language": "python",
   "name": "python3"
  },
  "language_info": {
   "codemirror_mode": {
    "name": "ipython",
    "version": 3
   },
   "file_extension": ".py",
   "mimetype": "text/x-python",
   "name": "python",
   "nbconvert_exporter": "python",
   "pygments_lexer": "ipython3",
   "version": "3.8.5"
  }
 },
 "nbformat": 4,
 "nbformat_minor": 5
}

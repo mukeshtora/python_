{
 "cells": [
  {
   "cell_type": "code",
   "execution_count": 4,
   "id": "6d3dcb17",
   "metadata": {},
   "outputs": [
    {
     "name": "stdout",
     "output_type": "stream",
     "text": [
      "*******\n",
      " *****\n",
      "  ***\n",
      "   *\n",
      "    \n",
      "     \n",
      "      \n"
     ]
    }
   ],
   "source": [
    "#pg.no.92\n",
    "#29/7/23\n",
    "#mirror of pascal\n",
    "n=7\n",
    "c=1\n",
    "a=0\n",
    "while c<=7:\n",
    "    d=1\n",
    "    while d<=a:\n",
    "        print(' ',end='')\n",
    "        d=d+1\n",
    "    d=1\n",
    "    while d<=n:\n",
    "        print('*',end='')\n",
    "        d=d+1\n",
    "    print()\n",
    "    a=a+1\n",
    "    n=n-2\n",
    "    c=c+1"
   ]
  },
  {
   "cell_type": "code",
   "execution_count": null,
   "id": "0245b250",
   "metadata": {},
   "outputs": [],
   "source": []
  }
 ],
 "metadata": {
  "kernelspec": {
   "display_name": "Python 3 (ipykernel)",
   "language": "python",
   "name": "python3"
  },
  "language_info": {
   "codemirror_mode": {
    "name": "ipython",
    "version": 3
   },
   "file_extension": ".py",
   "mimetype": "text/x-python",
   "name": "python",
   "nbconvert_exporter": "python",
   "pygments_lexer": "ipython3",
   "version": "3.8.5"
  }
 },
 "nbformat": 4,
 "nbformat_minor": 5
}

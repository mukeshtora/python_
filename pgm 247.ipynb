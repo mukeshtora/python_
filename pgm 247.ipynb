{
 "cells": [
  {
   "cell_type": "code",
   "execution_count": 1,
   "id": "d52e9bc6",
   "metadata": {},
   "outputs": [
    {
     "name": "stdout",
     "output_type": "stream",
     "text": [
      "name:mukesh\n",
      "age:21\n",
      "gender:m\n",
      "mail:m@gmail.com\n"
     ]
    },
    {
     "data": {
      "text/plain": [
       "{'name': 'mukesh', 'age': 21, 'gender': 'm', 'mail': 'm@gmail.com'}"
      ]
     },
     "execution_count": 1,
     "metadata": {},
     "output_type": "execute_result"
    }
   ],
   "source": [
    "\"\"\"\n",
    "25/08/23\n",
    "construct a dict of bio-data, getting data from keyboard\n",
    "\"\"\"\n",
    "d={}\n",
    "d['name']=input('name:')\n",
    "d['age']=int(input('age:'))\n",
    "d['gender']=input('gender:')\n",
    "d['mail']=input('mail:')\n",
    "d"
   ]
  },
  {
   "cell_type": "code",
   "execution_count": null,
   "id": "b0ab30dd",
   "metadata": {},
   "outputs": [],
   "source": []
  }
 ],
 "metadata": {
  "kernelspec": {
   "display_name": "Python 3 (ipykernel)",
   "language": "python",
   "name": "python3"
  },
  "language_info": {
   "codemirror_mode": {
    "name": "ipython",
    "version": 3
   },
   "file_extension": ".py",
   "mimetype": "text/x-python",
   "name": "python",
   "nbconvert_exporter": "python",
   "pygments_lexer": "ipython3",
   "version": "3.8.5"
  }
 },
 "nbformat": 4,
 "nbformat_minor": 5
}

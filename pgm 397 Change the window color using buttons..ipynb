{
 "cells": [
  {
   "cell_type": "code",
   "execution_count": 5,
   "id": "fce140a2",
   "metadata": {},
   "outputs": [],
   "source": [
    "\"\"\"\n",
    "pg.no. 397 \n",
    "06/01/2024\n",
    "Change the window color using buttons.\n",
    "\"\"\"\n",
    "import tkinter as tk\n",
    "w=tk.Tk()\n",
    "\n",
    "def mainwindow():\n",
    "    w.title('Main window')\n",
    "    w.configure(background='white')\n",
    "    w.minsize(600,400)\n",
    "    w.maxsize(1520,900)\n",
    "    w.geometry(\"00x400+90+90\")\n",
    "    w.attributes('-alpha',1)\n",
    "    \n",
    "def design():\n",
    "    b=tk.Button(w,text='RED',bg='black',fg='white',font=('times',15),command=red)\n",
    "    b.pack(side=tk.LEFT)\n",
    "    b2=tk.Button(w,text='BLUE',bg='black',fg='white',font=('times',15),command=blue)\n",
    "    b2.pack(side=tk.RIGHT)\n",
    "    b3=tk.Button(w,text='GREEN',bg='black',fg='white',font=('times',15),command=green)\n",
    "    b3.pack(side=tk.BOTTOM)\n",
    "    \n",
    "    w.mainloop()\n",
    "    \n",
    "def red():\n",
    "    w['bg']='red'\n",
    "def blue():\n",
    "    w['bg']='blue'\n",
    "def green():\n",
    "    w['bg']='green'\n",
    "    \n",
    "\n",
    "#main\n",
    "mainwindow()\n",
    "design()"
   ]
  },
  {
   "cell_type": "code",
   "execution_count": null,
   "id": "4c3ea2d1",
   "metadata": {},
   "outputs": [],
   "source": []
  }
 ],
 "metadata": {
  "kernelspec": {
   "display_name": "Python 3 (ipykernel)",
   "language": "python",
   "name": "python3"
  },
  "language_info": {
   "codemirror_mode": {
    "name": "ipython",
    "version": 3
   },
   "file_extension": ".py",
   "mimetype": "text/x-python",
   "name": "python",
   "nbconvert_exporter": "python",
   "pygments_lexer": "ipython3",
   "version": "3.8.5"
  }
 },
 "nbformat": 4,
 "nbformat_minor": 5
}

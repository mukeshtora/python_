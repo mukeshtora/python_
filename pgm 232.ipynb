{
 "cells": [
  {
   "cell_type": "code",
   "execution_count": 8,
   "id": "6ed6f38f",
   "metadata": {},
   "outputs": [
    {
     "name": "stdout",
     "output_type": "stream",
     "text": [
      "n:10\n",
      "68\n"
     ]
    }
   ],
   "source": [
    "#pg.no.232, 23/08/23\n",
    "\"\"\"\n",
    "construct a list ofn random numbers, convert to tuple and find sum\n",
    "\"\"\"\n",
    "import random as rd\n",
    "n=int(input('n:'))\n",
    "a=[rd.randint(-100,100) for  i in range(n)]\n",
    "b=tuple(a)\n",
    "d=0\n",
    "for i in b:\n",
    "    d+=i\n",
    "print(d)"
   ]
  },
  {
   "cell_type": "code",
   "execution_count": null,
   "id": "f629e5d9",
   "metadata": {},
   "outputs": [],
   "source": []
  },
  {
   "cell_type": "code",
   "execution_count": null,
   "id": "6a9b4896",
   "metadata": {},
   "outputs": [],
   "source": []
  }
 ],
 "metadata": {
  "kernelspec": {
   "display_name": "Python 3 (ipykernel)",
   "language": "python",
   "name": "python3"
  },
  "language_info": {
   "codemirror_mode": {
    "name": "ipython",
    "version": 3
   },
   "file_extension": ".py",
   "mimetype": "text/x-python",
   "name": "python",
   "nbconvert_exporter": "python",
   "pygments_lexer": "ipython3",
   "version": "3.8.5"
  }
 },
 "nbformat": 4,
 "nbformat_minor": 5
}

{
 "cells": [
  {
   "cell_type": "code",
   "execution_count": 2,
   "id": "469ed754",
   "metadata": {},
   "outputs": [
    {
     "name": "stdout",
     "output_type": "stream",
     "text": [
      "9\n",
      "4\n",
      "25\n",
      "36\n",
      "144\n",
      "<map object at 0x05FFA070>\n"
     ]
    }
   ],
   "source": [
    "\"\"\"\n",
    "pg.no.294\n",
    "15/11/23\n",
    "find the squares  of the given list of numbers using map function\n",
    "\"\"\"\n",
    "def sqr(a):\n",
    "    return a**2\n",
    "x=map(sqr,[3,2,5,6,12])\n",
    "for i in x:\n",
    "    print(i)\n"
   ]
  },
  {
   "cell_type": "code",
   "execution_count": null,
   "id": "11af1f12",
   "metadata": {},
   "outputs": [],
   "source": []
  }
 ],
 "metadata": {
  "kernelspec": {
   "display_name": "Python 3 (ipykernel)",
   "language": "python",
   "name": "python3"
  },
  "language_info": {
   "codemirror_mode": {
    "name": "ipython",
    "version": 3
   },
   "file_extension": ".py",
   "mimetype": "text/x-python",
   "name": "python",
   "nbconvert_exporter": "python",
   "pygments_lexer": "ipython3",
   "version": "3.8.5"
  }
 },
 "nbformat": 4,
 "nbformat_minor": 5
}

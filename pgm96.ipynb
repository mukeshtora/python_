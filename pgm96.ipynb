{
 "cells": [
  {
   "cell_type": "code",
   "execution_count": 102,
   "id": "9bcb0fb3",
   "metadata": {},
   "outputs": [
    {
     "name": "stdout",
     "output_type": "stream",
     "text": [
      "      *\n",
      "     * *\n",
      "    *   *\n",
      "   *     *\n",
      "  *       *\n",
      " *         *\n",
      "* * * * * * * "
     ]
    }
   ],
   "source": [
    "#pg.no.96\n",
    "#31/7/23\n",
    "#hallow pascal triangle\n",
    "\n",
    "n=5\n",
    "a=1\n",
    "c=1\n",
    "d=1\n",
    "while d<=6:\n",
    "    print(' ',end=\"\")\n",
    "    d=d+1\n",
    "print('*')\n",
    "while c<=5:\n",
    "    d=1\n",
    "    while d<=n:\n",
    "        print(' ',end=\"\")\n",
    "        d=d+1\n",
    "    print('*',end=\"\")\n",
    "    d=1\n",
    "    while d<=a:\n",
    "        print(' ',end=\"\")\n",
    "        d=d+1\n",
    "    print('*')\n",
    "    n=n-1\n",
    "    a=a+2\n",
    "    c=c+1\n",
    "c=1\n",
    "while c<=7:\n",
    "    print('*',end=' ')\n",
    "    c=c+1"
   ]
  },
  {
   "cell_type": "code",
   "execution_count": null,
   "id": "536db246",
   "metadata": {},
   "outputs": [],
   "source": []
  },
  {
   "cell_type": "code",
   "execution_count": null,
   "id": "be7e14f3",
   "metadata": {},
   "outputs": [],
   "source": []
  }
 ],
 "metadata": {
  "kernelspec": {
   "display_name": "Python 3 (ipykernel)",
   "language": "python",
   "name": "python3"
  },
  "language_info": {
   "codemirror_mode": {
    "name": "ipython",
    "version": 3
   },
   "file_extension": ".py",
   "mimetype": "text/x-python",
   "name": "python",
   "nbconvert_exporter": "python",
   "pygments_lexer": "ipython3",
   "version": "3.8.5"
  }
 },
 "nbformat": 4,
 "nbformat_minor": 5
}

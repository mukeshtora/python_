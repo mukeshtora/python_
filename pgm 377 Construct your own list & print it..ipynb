{
 "cells": [
  {
   "cell_type": "code",
   "execution_count": 9,
   "id": "052d7a6e",
   "metadata": {},
   "outputs": [
    {
     "name": "stdout",
     "output_type": "stream",
     "text": [
      "-45 -11 28 29 81 -37 -10 70 -98 0 \n",
      "-45,-11,28,29,81,-37,-10,70,-98,0\n"
     ]
    }
   ],
   "source": [
    "\"\"\"\n",
    "pg.no.377\n",
    "28/12/23\n",
    "Construct your own list & print it.\n",
    "\"\"\"\n",
    "import random as r\n",
    "class Mylist():\n",
    "    _a=[]\n",
    "    def __init__(self,n=10):\n",
    "        self._a=[r.randint(-100,100) for i in range(n)]\n",
    "        \n",
    "    def disp(self):\n",
    "            for i in self._a:\n",
    "                print(i,end=' ')\n",
    "            print()\n",
    "    def __str__(self):\n",
    "            x=','.join(map(str,self._a))\n",
    "            return x\n",
    "        \n",
    "#main\n",
    "a=Mylist()\n",
    "a.disp()\n",
    "\n",
    "print(a)"
   ]
  },
  {
   "cell_type": "code",
   "execution_count": null,
   "id": "3c125127",
   "metadata": {},
   "outputs": [],
   "source": []
  },
  {
   "cell_type": "code",
   "execution_count": null,
   "id": "ce11b533",
   "metadata": {},
   "outputs": [],
   "source": []
  }
 ],
 "metadata": {
  "kernelspec": {
   "display_name": "Python 3 (ipykernel)",
   "language": "python",
   "name": "python3"
  },
  "language_info": {
   "codemirror_mode": {
    "name": "ipython",
    "version": 3
   },
   "file_extension": ".py",
   "mimetype": "text/x-python",
   "name": "python",
   "nbconvert_exporter": "python",
   "pygments_lexer": "ipython3",
   "version": "3.8.5"
  }
 },
 "nbformat": 4,
 "nbformat_minor": 5
}

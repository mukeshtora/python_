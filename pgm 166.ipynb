{
 "cells": [
  {
   "cell_type": "code",
   "execution_count": 1,
   "id": "9fe1ae5e",
   "metadata": {},
   "outputs": [
    {
     "name": "stdout",
     "output_type": "stream",
     "text": [
      "linsoft academy\n",
      "linsoft academy\n"
     ]
    }
   ],
   "source": [
    "#16/08/23\n",
    "#Read string convert uppercase to lowercase and store in another string\n",
    "s1=input()\n",
    "s2=''\n",
    "n=len(s1)\n",
    "for i in range(n):\n",
    "    x=ord(s1[i])\n",
    "    if x>=65 and x<=90:\n",
    "        y=x+32\n",
    "        s2+=chr(y)\n",
    "    else:\n",
    "        s2+=s1[i]\n",
    "print(s2)"
   ]
  },
  {
   "cell_type": "code",
   "execution_count": null,
   "id": "e7c08fc0",
   "metadata": {},
   "outputs": [],
   "source": []
  }
 ],
 "metadata": {
  "kernelspec": {
   "display_name": "Python 3 (ipykernel)",
   "language": "python",
   "name": "python3"
  },
  "language_info": {
   "codemirror_mode": {
    "name": "ipython",
    "version": 3
   },
   "file_extension": ".py",
   "mimetype": "text/x-python",
   "name": "python",
   "nbconvert_exporter": "python",
   "pygments_lexer": "ipython3",
   "version": "3.8.5"
  }
 },
 "nbformat": 4,
 "nbformat_minor": 5
}

{
 "cells": [
  {
   "cell_type": "code",
   "execution_count": 4,
   "id": "1dedecfa",
   "metadata": {},
   "outputs": [
    {
     "name": "stdout",
     "output_type": "stream",
     "text": [
      "h:7\n",
      "n:5\n",
      "(-70, 63, 38, 59, -93)\n"
     ]
    }
   ],
   "source": [
    "\"\"\"\n",
    "25/08/23\n",
    "copy first n numbers\n",
    "\"\"\"\n",
    "import random as rd\n",
    "h=int(input('h:'))\n",
    "a=tuple(rd.randint(-100,100) for i in range(h))\n",
    "n=int(input('n:'))\n",
    "b=a[:n]\n",
    "print(b)"
   ]
  },
  {
   "cell_type": "code",
   "execution_count": null,
   "id": "954d9e0f",
   "metadata": {},
   "outputs": [],
   "source": []
  }
 ],
 "metadata": {
  "kernelspec": {
   "display_name": "Python 3 (ipykernel)",
   "language": "python",
   "name": "python3"
  },
  "language_info": {
   "codemirror_mode": {
    "name": "ipython",
    "version": 3
   },
   "file_extension": ".py",
   "mimetype": "text/x-python",
   "name": "python",
   "nbconvert_exporter": "python",
   "pygments_lexer": "ipython3",
   "version": "3.8.5"
  }
 },
 "nbformat": 4,
 "nbformat_minor": 5
}

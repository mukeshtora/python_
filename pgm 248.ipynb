{
 "cells": [
  {
   "cell_type": "code",
   "execution_count": 1,
   "id": "c1033b93",
   "metadata": {},
   "outputs": [
    {
     "name": "stdout",
     "output_type": "stream",
     "text": [
      "name:mukesh\n",
      "age:21\n",
      "gender:m\n",
      "mail:m@gmail\n",
      "rollno:19\n",
      "{19: ['mukesh', 21, 'm', 'm@gmail']}\n"
     ]
    }
   ],
   "source": [
    "\"\"\"\n",
    "25/08/23\n",
    "construct a dict, store bio-data of the student with only rollno as key\n",
    "\"\"\"\n",
    "d={}\n",
    "n=input('name:')\n",
    "a=int(input('age:'))\n",
    "g=input('gender:')\n",
    "m=input('mail:')\n",
    "l=[n,a,g,m]\n",
    "r=int(input('rollno:'))\n",
    "d[r]=l\n",
    "print(d)"
   ]
  },
  {
   "cell_type": "code",
   "execution_count": null,
   "id": "411c7327",
   "metadata": {},
   "outputs": [],
   "source": []
  }
 ],
 "metadata": {
  "kernelspec": {
   "display_name": "Python 3 (ipykernel)",
   "language": "python",
   "name": "python3"
  },
  "language_info": {
   "codemirror_mode": {
    "name": "ipython",
    "version": 3
   },
   "file_extension": ".py",
   "mimetype": "text/x-python",
   "name": "python",
   "nbconvert_exporter": "python",
   "pygments_lexer": "ipython3",
   "version": "3.8.5"
  }
 },
 "nbformat": 4,
 "nbformat_minor": 5
}

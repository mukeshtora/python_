{
 "cells": [
  {
   "cell_type": "code",
   "execution_count": 3,
   "id": "233d1ecd",
   "metadata": {},
   "outputs": [
    {
     "name": "stdout",
     "output_type": "stream",
     "text": [
      "element with highest frequency: 9 frequence: 3\n"
     ]
    }
   ],
   "source": [
    "\"\"\"\n",
    "find the element with highest frequency \n",
    "20/09/23\n",
    "\"\"\"\n",
    "import random as rd\n",
    "d={}\n",
    "a=[rd.randint(-100,100) for i in range(100)]\n",
    "b=list(set(a))\n",
    "for i in b:\n",
    "    d[i]=a.count(i)\n",
    "x=0\n",
    "k=0\n",
    "for i in d:\n",
    "    if d[i]>x:\n",
    "        x=d[i]\n",
    "        k=i\n",
    "print(\"element with highest frequency:\",k,\"frequence:\",x)"
   ]
  },
  {
   "cell_type": "code",
   "execution_count": null,
   "id": "7618b70e",
   "metadata": {},
   "outputs": [],
   "source": []
  }
 ],
 "metadata": {
  "kernelspec": {
   "display_name": "Python 3 (ipykernel)",
   "language": "python",
   "name": "python3"
  },
  "language_info": {
   "codemirror_mode": {
    "name": "ipython",
    "version": 3
   },
   "file_extension": ".py",
   "mimetype": "text/x-python",
   "name": "python",
   "nbconvert_exporter": "python",
   "pygments_lexer": "ipython3",
   "version": "3.8.5"
  }
 },
 "nbformat": 4,
 "nbformat_minor": 5
}

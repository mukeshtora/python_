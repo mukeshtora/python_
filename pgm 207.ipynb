{
 "cells": [
  {
   "cell_type": "code",
   "execution_count": 1,
   "id": "07201dee",
   "metadata": {},
   "outputs": [
    {
     "name": "stdout",
     "output_type": "stream",
     "text": [
      "enter string:linsoft academy\n",
      "enter n:4\n",
      "enter m:5\n",
      "ft a\n"
     ]
    }
   ],
   "source": [
    "#22/08/23\n",
    "#Extract n char from mth position\n",
    "\n",
    "s=input('enter string:')\n",
    "n=int(input('enter n:'))\n",
    "m=int(input('enter m:'))\n",
    "s1=s[m:n+m]\n",
    "print(s1)"
   ]
  },
  {
   "cell_type": "code",
   "execution_count": null,
   "id": "ce94e587",
   "metadata": {},
   "outputs": [],
   "source": []
  }
 ],
 "metadata": {
  "kernelspec": {
   "display_name": "Python 3 (ipykernel)",
   "language": "python",
   "name": "python3"
  },
  "language_info": {
   "codemirror_mode": {
    "name": "ipython",
    "version": 3
   },
   "file_extension": ".py",
   "mimetype": "text/x-python",
   "name": "python",
   "nbconvert_exporter": "python",
   "pygments_lexer": "ipython3",
   "version": "3.8.5"
  }
 },
 "nbformat": 4,
 "nbformat_minor": 5
}

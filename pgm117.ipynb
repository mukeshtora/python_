{
 "cells": [
  {
   "cell_type": "code",
   "execution_count": 2,
   "id": "5af2550e",
   "metadata": {},
   "outputs": [
    {
     "name": "stdout",
     "output_type": "stream",
     "text": [
      "Enter n:5\n",
      "enter a:342\n",
      "enter a:56\n",
      "enter a:123\n",
      "enter a:66\n",
      "enter a:22323\n",
      "342\n",
      "56\n",
      "123\n",
      "66\n",
      "22323\n"
     ]
    }
   ],
   "source": [
    "#05/08/23\n",
    "#construct n number in a list and print\n",
    "l=[]\n",
    "n=int(input(\"Enter n:\"))\n",
    "i=0\n",
    "while i<n:\n",
    "    a=int(input('enter a:'))\n",
    "    l.append(a)\n",
    "    i=i+1\n",
    "i=0\n",
    "x=len(l)\n",
    "while i<x:\n",
    "    print(l[i])\n",
    "    i=i+1\n",
    "    "
   ]
  },
  {
   "cell_type": "code",
   "execution_count": null,
   "id": "4addbbcf",
   "metadata": {},
   "outputs": [],
   "source": []
  }
 ],
 "metadata": {
  "kernelspec": {
   "display_name": "Python 3 (ipykernel)",
   "language": "python",
   "name": "python3"
  },
  "language_info": {
   "codemirror_mode": {
    "name": "ipython",
    "version": 3
   },
   "file_extension": ".py",
   "mimetype": "text/x-python",
   "name": "python",
   "nbconvert_exporter": "python",
   "pygments_lexer": "ipython3",
   "version": "3.8.5"
  }
 },
 "nbformat": 4,
 "nbformat_minor": 5
}

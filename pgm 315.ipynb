{
 "cells": [
  {
   "cell_type": "code",
   "execution_count": 5,
   "id": "54501319",
   "metadata": {},
   "outputs": [
    {
     "name": "stdout",
     "output_type": "stream",
     "text": [
      "x:78\n",
      "78\n",
      "x:08\n",
      "8\n",
      "x:433\n",
      "433\n",
      "x:10\n"
     ]
    }
   ],
   "source": [
    "\"\"\"\n",
    "write menu function get input number, call that function again \n",
    "and again untill it receives 10 as the input\n",
    "\"\"\"\n",
    "def menu():\n",
    "    x=int(input('x:'))\n",
    "    return x\n",
    "n=menu()\n",
    "while n!=10:\n",
    "    print(n)\n",
    "    n=menu()"
   ]
  },
  {
   "cell_type": "code",
   "execution_count": null,
   "id": "6db1cd48",
   "metadata": {},
   "outputs": [],
   "source": []
  }
 ],
 "metadata": {
  "kernelspec": {
   "display_name": "Python 3 (ipykernel)",
   "language": "python",
   "name": "python3"
  },
  "language_info": {
   "codemirror_mode": {
    "name": "ipython",
    "version": 3
   },
   "file_extension": ".py",
   "mimetype": "text/x-python",
   "name": "python",
   "nbconvert_exporter": "python",
   "pygments_lexer": "ipython3",
   "version": "3.8.5"
  }
 },
 "nbformat": 4,
 "nbformat_minor": 5
}

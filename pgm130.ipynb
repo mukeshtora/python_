{
 "cells": [
  {
   "cell_type": "code",
   "execution_count": 4,
   "id": "0aecdf5a",
   "metadata": {},
   "outputs": [
    {
     "name": "stdout",
     "output_type": "stream",
     "text": [
      "enter n:1\n",
      "enter n:2\n",
      "enter n:3\n",
      "enter n:4\n",
      "enter n:5\n",
      "enter n:6\n",
      "enter n:7\n",
      "enter n:8\n",
      "enter n:9\n",
      "row 0 : 6\n",
      "row 1 : 15\n",
      "row 2 : 24\n"
     ]
    }
   ],
   "source": [
    "#09/08/23\n",
    "#sum of elements of each row\n",
    "m=[]\n",
    "i=0\n",
    "while i<3:\n",
    "    a=[]\n",
    "    j=0\n",
    "    while j<3:\n",
    "        n=int(input(\"enter n:\"))\n",
    "        a.append(n)\n",
    "        j=j+1\n",
    "    m.append(a)\n",
    "    i=i+1\n",
    "i=0\n",
    "while i<3:\n",
    "    j=0\n",
    "    s=0\n",
    "    while j<3:\n",
    "        s=s+m[i][j]\n",
    "        j=j+1\n",
    "    print('row',i,':',s)\n",
    "    i=i+1\n",
    "    \n",
    "    "
   ]
  },
  {
   "cell_type": "code",
   "execution_count": null,
   "id": "bea8ffb6",
   "metadata": {},
   "outputs": [],
   "source": []
  }
 ],
 "metadata": {
  "kernelspec": {
   "display_name": "Python 3 (ipykernel)",
   "language": "python",
   "name": "python3"
  },
  "language_info": {
   "codemirror_mode": {
    "name": "ipython",
    "version": 3
   },
   "file_extension": ".py",
   "mimetype": "text/x-python",
   "name": "python",
   "nbconvert_exporter": "python",
   "pygments_lexer": "ipython3",
   "version": "3.8.5"
  }
 },
 "nbformat": 4,
 "nbformat_minor": 5
}

{
 "cells": [
  {
   "cell_type": "code",
   "execution_count": 2,
   "id": "829026d6",
   "metadata": {},
   "outputs": [
    {
     "name": "stdout",
     "output_type": "stream",
     "text": [
      "3\n",
      "element:12\n",
      "element:45\n",
      "element:23\n",
      "12\n",
      "45\n",
      "23\n"
     ]
    }
   ],
   "source": [
    "\"\"\"\n",
    "pg.no.254\n",
    "construct a set of n elements and print element by element\n",
    "20/9/23\n",
    "\n",
    "\"\"\"\n",
    "a=set()\n",
    "n=int(input())\n",
    "for i in range(n):\n",
    "    b=int(input(\"element:\"))\n",
    "    a.add(b)\n",
    "for i in a:\n",
    "    print(i)"
   ]
  },
  {
   "cell_type": "code",
   "execution_count": null,
   "id": "26ba6f8d",
   "metadata": {},
   "outputs": [],
   "source": []
  }
 ],
 "metadata": {
  "kernelspec": {
   "display_name": "Python 3 (ipykernel)",
   "language": "python",
   "name": "python3"
  },
  "language_info": {
   "codemirror_mode": {
    "name": "ipython",
    "version": 3
   },
   "file_extension": ".py",
   "mimetype": "text/x-python",
   "name": "python",
   "nbconvert_exporter": "python",
   "pygments_lexer": "ipython3",
   "version": "3.8.5"
  }
 },
 "nbformat": 4,
 "nbformat_minor": 5
}

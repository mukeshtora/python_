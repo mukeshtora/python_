{
 "cells": [
  {
   "cell_type": "code",
   "execution_count": 1,
   "id": "cff5f6df",
   "metadata": {},
   "outputs": [
    {
     "name": "stdout",
     "output_type": "stream",
     "text": [
      "153.86\n"
     ]
    }
   ],
   "source": [
    "\"\"\"\n",
    "pg.no.296\n",
    "15/11/23\n",
    "find the area of circle usinng lambda function \n",
    "\"\"\"\n",
    "x=lambda r: 3.14*r**2\n",
    "print(x(7))"
   ]
  },
  {
   "cell_type": "code",
   "execution_count": null,
   "id": "38b71037",
   "metadata": {},
   "outputs": [],
   "source": []
  }
 ],
 "metadata": {
  "kernelspec": {
   "display_name": "Python 3 (ipykernel)",
   "language": "python",
   "name": "python3"
  },
  "language_info": {
   "codemirror_mode": {
    "name": "ipython",
    "version": 3
   },
   "file_extension": ".py",
   "mimetype": "text/x-python",
   "name": "python",
   "nbconvert_exporter": "python",
   "pygments_lexer": "ipython3",
   "version": "3.8.5"
  }
 },
 "nbformat": 4,
 "nbformat_minor": 5
}

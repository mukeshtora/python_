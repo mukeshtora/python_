{
 "cells": [
  {
   "cell_type": "code",
   "execution_count": 4,
   "id": "bea0b000",
   "metadata": {},
   "outputs": [
    {
     "name": "stdout",
     "output_type": "stream",
     "text": [
      "0 The comparison of covishield and covaxin is to distinguish both the vaccines.\n",
      "\n",
      "78  Few researches have already showed a detailed comparison of covaxin Vs covishield.\n",
      "\n",
      "162  During the pandemic situation precautions and treatments became significant.\n",
      "\n",
      "240  Without vaccines, people are at risk of serious illness and disability\n",
      "\n",
      "312  from diseases like measles, pneumonia, tetanus, polio and most popularly known covid19.\n",
      "\n",
      "401  Many of the diseases can be life-threatening. WHO estimates childhood vaccines alone save 4 million lives every year.\n"
     ]
    }
   ],
   "source": [
    "\"\"\"\n",
    "pg.no.328\n",
    "27/11/23\n",
    "print the offset of the lines in the file\n",
    "\"\"\"\n",
    "f=open('sample.txt','r')\n",
    "offset=0\n",
    "for i in f:\n",
    "    print(offset,i)\n",
    "    offset+=len(i)"
   ]
  },
  {
   "cell_type": "code",
   "execution_count": null,
   "id": "cfa2cbdd",
   "metadata": {},
   "outputs": [],
   "source": []
  }
 ],
 "metadata": {
  "kernelspec": {
   "display_name": "Python 3 (ipykernel)",
   "language": "python",
   "name": "python3"
  },
  "language_info": {
   "codemirror_mode": {
    "name": "ipython",
    "version": 3
   },
   "file_extension": ".py",
   "mimetype": "text/x-python",
   "name": "python",
   "nbconvert_exporter": "python",
   "pygments_lexer": "ipython3",
   "version": "3.8.5"
  }
 },
 "nbformat": 4,
 "nbformat_minor": 5
}

{
 "cells": [
  {
   "cell_type": "code",
   "execution_count": 3,
   "id": "a9756050",
   "metadata": {},
   "outputs": [
    {
     "name": "stdout",
     "output_type": "stream",
     "text": [
      "n:10\n",
      "[28, 34, 79, 20, 89, 12, 89, 20, 98, 28]\n",
      "12\n"
     ]
    }
   ],
   "source": [
    "\"\"\"\n",
    "pg.no.310\n",
    "18/11/23\n",
    "find out the smallest element of the list using reduce function.\n",
    "\"\"\"\n",
    "import random as rd\n",
    "from functools import reduce\n",
    "n=int(input('n:'))\n",
    "l=[rd.randint(1,100) for i in range(n)]\n",
    "x=reduce(lambda a,b: a if a<b else b, l)\n",
    "print(l)\n",
    "print(x)"
   ]
  },
  {
   "cell_type": "code",
   "execution_count": null,
   "id": "3ddd1949",
   "metadata": {},
   "outputs": [],
   "source": []
  }
 ],
 "metadata": {
  "kernelspec": {
   "display_name": "Python 3 (ipykernel)",
   "language": "python",
   "name": "python3"
  },
  "language_info": {
   "codemirror_mode": {
    "name": "ipython",
    "version": 3
   },
   "file_extension": ".py",
   "mimetype": "text/x-python",
   "name": "python",
   "nbconvert_exporter": "python",
   "pygments_lexer": "ipython3",
   "version": "3.8.5"
  }
 },
 "nbformat": 4,
 "nbformat_minor": 5
}

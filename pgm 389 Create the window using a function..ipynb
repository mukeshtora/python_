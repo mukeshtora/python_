{
 "cells": [
  {
   "cell_type": "code",
   "execution_count": 1,
   "id": "8b5f2c36",
   "metadata": {},
   "outputs": [],
   "source": [
    "\"\"\"\n",
    "pg.no.389\n",
    "04/01/24\n",
    "create the window using a function.\n",
    "\"\"\"\n",
    "import tkinter\n",
    "w=tkinter.Tk()\n",
    "\n",
    "def mainwindow():\n",
    "    w.title('linsoft')\n",
    "    w.configure(background='blue')\n",
    "    w.minsize(600,400)\n",
    "    w.maxsize(1200,900)\n",
    "    w.geometry(\"100x900+90+90\")\n",
    "    w.resizable(False,True)\n",
    "    w.attributes('-alpha',0.6)\n",
    "    w.mainloop()\n",
    "    \n",
    "#main\n",
    "mainwindow()"
   ]
  },
  {
   "cell_type": "code",
   "execution_count": null,
   "id": "5661ab0a",
   "metadata": {},
   "outputs": [],
   "source": []
  }
 ],
 "metadata": {
  "kernelspec": {
   "display_name": "Python 3 (ipykernel)",
   "language": "python",
   "name": "python3"
  },
  "language_info": {
   "codemirror_mode": {
    "name": "ipython",
    "version": 3
   },
   "file_extension": ".py",
   "mimetype": "text/x-python",
   "name": "python",
   "nbconvert_exporter": "python",
   "pygments_lexer": "ipython3",
   "version": "3.8.5"
  }
 },
 "nbformat": 4,
 "nbformat_minor": 5
}

{
 "cells": [
  {
   "cell_type": "code",
   "execution_count": 1,
   "id": "d6ed1556",
   "metadata": {},
   "outputs": [
    {
     "name": "stdout",
     "output_type": "stream",
     "text": [
      "n:4\n",
      " Without vaccines, people are at risk of serious illness and disability\n",
      "\n"
     ]
    }
   ],
   "source": [
    "\"\"\"\n",
    "pg.no.331\n",
    "27/11/23\n",
    "display the nth line of the file using seek function.\n",
    "\"\"\"\n",
    "f=open('sample.txt','r')\n",
    "d={}\n",
    "offset=0\n",
    "l=0\n",
    "n=int(input('n:'))\n",
    "for i in f:\n",
    "    l+=1\n",
    "    d[l]=[offset,i]\n",
    "    offset+=len(i)+1\n",
    "x=d[n][0]\n",
    "f.seek(x)\n",
    "print(f.readline())"
   ]
  },
  {
   "cell_type": "code",
   "execution_count": null,
   "id": "dcc2e496",
   "metadata": {},
   "outputs": [],
   "source": []
  }
 ],
 "metadata": {
  "kernelspec": {
   "display_name": "Python 3 (ipykernel)",
   "language": "python",
   "name": "python3"
  },
  "language_info": {
   "codemirror_mode": {
    "name": "ipython",
    "version": 3
   },
   "file_extension": ".py",
   "mimetype": "text/x-python",
   "name": "python",
   "nbconvert_exporter": "python",
   "pygments_lexer": "ipython3",
   "version": "3.8.5"
  }
 },
 "nbformat": 4,
 "nbformat_minor": 5
}

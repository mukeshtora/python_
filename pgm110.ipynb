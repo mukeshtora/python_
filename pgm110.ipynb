{
 "cells": [
  {
   "cell_type": "code",
   "execution_count": 2,
   "id": "6965f880",
   "metadata": {},
   "outputs": [
    {
     "name": "stdout",
     "output_type": "stream",
     "text": [
      "MadaM\n",
      "MadaM is palindrome\n"
     ]
    }
   ],
   "source": [
    "#pg.no.110\n",
    "#04/08/23\n",
    "#palindrome or not\n",
    "s1=input()\n",
    "s2=''\n",
    "n=len(s1)-1\n",
    "while n>=0:\n",
    "    s2=s2+s1[n]\n",
    "    n=n-1\n",
    "if s2==s1:\n",
    "    print(s1,'is palindrome')\n",
    "else:\n",
    "    print(s2,'is not palindrome')"
   ]
  },
  {
   "cell_type": "code",
   "execution_count": null,
   "id": "f58fce95",
   "metadata": {},
   "outputs": [],
   "source": []
  }
 ],
 "metadata": {
  "kernelspec": {
   "display_name": "Python 3 (ipykernel)",
   "language": "python",
   "name": "python3"
  },
  "language_info": {
   "codemirror_mode": {
    "name": "ipython",
    "version": 3
   },
   "file_extension": ".py",
   "mimetype": "text/x-python",
   "name": "python",
   "nbconvert_exporter": "python",
   "pygments_lexer": "ipython3",
   "version": "3.8.5"
  }
 },
 "nbformat": 4,
 "nbformat_minor": 5
}

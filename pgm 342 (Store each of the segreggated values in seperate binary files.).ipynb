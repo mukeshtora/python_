{
 "cells": [
  {
   "cell_type": "code",
   "execution_count": 4,
   "id": "8204d855",
   "metadata": {},
   "outputs": [],
   "source": [
    "\"\"\"\n",
    "pg.no.342\n",
    "02/12/23\n",
    "store each of the segreggated values in seperate binary files\n",
    "\"\"\"\n",
    "import pickle\n",
    "f=open('file1.dat','rb')\n",
    "x=pickle.load(f)\n",
    "one=[i for i in x if i>=0 and i<10]\n",
    "t=[i for i in x if i>=10 and i<100]\n",
    "th=[i for i in x if i>=100 and i<1000]\n",
    "fr=[i for i in x if i>=1000 and i<10000]\n",
    "\n",
    "a=open('file1a.dat','wb')\n",
    "pickle.dump(one,a)\n",
    "b=open('file1b.dat','wb')\n",
    "pickle.dump(t,b)\n",
    "c=open('file1c.dat','wb')\n",
    "pickle.dump(th,c)\n",
    "d=open('file1d.dat','wb')\n",
    "pickle.dump(fr,d)\n",
    "\n",
    "f.close()\n",
    "a.close()\n",
    "b.close()\n",
    "c.close()\n",
    "d.close()"
   ]
  },
  {
   "cell_type": "code",
   "execution_count": null,
   "id": "f057c914",
   "metadata": {},
   "outputs": [],
   "source": []
  }
 ],
 "metadata": {
  "kernelspec": {
   "display_name": "Python 3 (ipykernel)",
   "language": "python",
   "name": "python3"
  },
  "language_info": {
   "codemirror_mode": {
    "name": "ipython",
    "version": 3
   },
   "file_extension": ".py",
   "mimetype": "text/x-python",
   "name": "python",
   "nbconvert_exporter": "python",
   "pygments_lexer": "ipython3",
   "version": "3.8.5"
  }
 },
 "nbformat": 4,
 "nbformat_minor": 5
}

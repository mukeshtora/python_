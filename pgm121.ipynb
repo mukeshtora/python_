{
 "cells": [
  {
   "cell_type": "code",
   "execution_count": 5,
   "id": "44a9307d",
   "metadata": {},
   "outputs": [
    {
     "name": "stdout",
     "output_type": "stream",
     "text": [
      "enter n:4\n",
      "enter a:90\n",
      "enter a:23\n",
      "enter a:67\n",
      "enter a:4\n",
      "Index of smallest number: 1\n",
      "Index of biggest number: 0\n"
     ]
    }
   ],
   "source": [
    "#05/08/23\n",
    "#Index of the smallest and biggest number of the list\n",
    "a=[]\n",
    "n=int(input('enter n:'))\n",
    "i=0\n",
    "while i<n:\n",
    "    l=int(input('enter a:'))\n",
    "    a.append(l)\n",
    "    i=i+1\n",
    "x=len(a)\n",
    "i=0\n",
    "b=0\n",
    "s=0\n",
    "c=0\n",
    "d=999\n",
    "while i<x:\n",
    "    if a[i]>b:\n",
    "        b=a[i]\n",
    "    elif a[i]<d:\n",
    "        s=a[i]\n",
    "        d=i\n",
    "    i=i+1\n",
    "print('Index of smallest number:',d)\n",
    "print('Index of biggest number:',c)\n"
   ]
  },
  {
   "cell_type": "code",
   "execution_count": null,
   "id": "ab8faa71",
   "metadata": {},
   "outputs": [],
   "source": []
  }
 ],
 "metadata": {
  "kernelspec": {
   "display_name": "Python 3 (ipykernel)",
   "language": "python",
   "name": "python3"
  },
  "language_info": {
   "codemirror_mode": {
    "name": "ipython",
    "version": 3
   },
   "file_extension": ".py",
   "mimetype": "text/x-python",
   "name": "python",
   "nbconvert_exporter": "python",
   "pygments_lexer": "ipython3",
   "version": "3.8.5"
  }
 },
 "nbformat": 4,
 "nbformat_minor": 5
}

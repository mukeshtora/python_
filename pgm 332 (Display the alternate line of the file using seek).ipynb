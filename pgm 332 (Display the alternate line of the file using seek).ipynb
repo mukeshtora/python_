{
 "cells": [
  {
   "cell_type": "code",
   "execution_count": 2,
   "id": "ab722cd4",
   "metadata": {},
   "outputs": [
    {
     "name": "stdout",
     "output_type": "stream",
     "text": [
      "n:3\n",
      "The comparison of covishield and covaxin is to distinguish both the vaccines.\n",
      "\n",
      " During the pandemic situation precautions and treatments became significant.\n",
      "\n",
      " from diseases like measles, pneumonia, tetanus, polio and most popularly known covid19.\n",
      "\n"
     ]
    }
   ],
   "source": [
    "\"\"\"\n",
    "pg.no.332\n",
    "30/11/23\n",
    "Displlay the alternate linie of the file\n",
    "\"\"\"\n",
    "f=open('sample.txt','r')\n",
    "d={}\n",
    "offset=0\n",
    "l=0\n",
    "n=int(input('n:'))\n",
    "for i in f:\n",
    "    l+=1\n",
    "    d[l]=[offset,i]\n",
    "    offset+=len(i)+1\n",
    "    \n",
    "x=0\n",
    "a=list(d.keys())\n",
    "for i in range(1,len(a)+1,2):\n",
    "    x=d[i][0]\n",
    "    f.seek(x)\n",
    "    print(f.readline())"
   ]
  },
  {
   "cell_type": "code",
   "execution_count": null,
   "id": "2819fa0e",
   "metadata": {},
   "outputs": [],
   "source": []
  }
 ],
 "metadata": {
  "kernelspec": {
   "display_name": "Python 3 (ipykernel)",
   "language": "python",
   "name": "python3"
  },
  "language_info": {
   "codemirror_mode": {
    "name": "ipython",
    "version": 3
   },
   "file_extension": ".py",
   "mimetype": "text/x-python",
   "name": "python",
   "nbconvert_exporter": "python",
   "pygments_lexer": "ipython3",
   "version": "3.8.5"
  }
 },
 "nbformat": 4,
 "nbformat_minor": 5
}

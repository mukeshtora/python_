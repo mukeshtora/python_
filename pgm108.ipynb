{
 "cells": [
  {
   "cell_type": "code",
   "execution_count": 2,
   "id": "7170e78b",
   "metadata": {},
   "outputs": [
    {
     "name": "stdout",
     "output_type": "stream",
     "text": [
      "enter string:Linsoft Academy\n",
      "ymedacA tfosniL\n"
     ]
    }
   ],
   "source": [
    "#pg.no.108\n",
    "#04/08/23\n",
    "#reverse the string\n",
    "s1=input(\"enter string:\")\n",
    "s2=''\n",
    "n=len(s1)-1\n",
    "while n>=0:\n",
    "    s2=s2+s1[n]\n",
    "    n=n-1\n",
    "print(s2)"
   ]
  },
  {
   "cell_type": "code",
   "execution_count": null,
   "id": "2fc5a302",
   "metadata": {},
   "outputs": [],
   "source": []
  }
 ],
 "metadata": {
  "kernelspec": {
   "display_name": "Python 3 (ipykernel)",
   "language": "python",
   "name": "python3"
  },
  "language_info": {
   "codemirror_mode": {
    "name": "ipython",
    "version": 3
   },
   "file_extension": ".py",
   "mimetype": "text/x-python",
   "name": "python",
   "nbconvert_exporter": "python",
   "pygments_lexer": "ipython3",
   "version": "3.8.5"
  }
 },
 "nbformat": 4,
 "nbformat_minor": 5
}

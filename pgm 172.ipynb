{
 "cells": [
  {
   "cell_type": "code",
   "execution_count": 1,
   "id": "3b51854a",
   "metadata": {},
   "outputs": [
    {
     "name": "stdout",
     "output_type": "stream",
     "text": [
      "linsoft academy\n",
      "ymedaca tfosnil\n"
     ]
    }
   ],
   "source": [
    "#16/08/23\n",
    "#reverse the string\n",
    "s1=input()\n",
    "s2=''\n",
    "n=len(s1)\n",
    "for i in range(n-1,-1,-1):\n",
    "    s2+=s1[i]\n",
    "print(s2)"
   ]
  },
  {
   "cell_type": "code",
   "execution_count": null,
   "id": "79370554",
   "metadata": {},
   "outputs": [],
   "source": []
  }
 ],
 "metadata": {
  "kernelspec": {
   "display_name": "Python 3 (ipykernel)",
   "language": "python",
   "name": "python3"
  },
  "language_info": {
   "codemirror_mode": {
    "name": "ipython",
    "version": 3
   },
   "file_extension": ".py",
   "mimetype": "text/x-python",
   "name": "python",
   "nbconvert_exporter": "python",
   "pygments_lexer": "ipython3",
   "version": "3.8.5"
  }
 },
 "nbformat": 4,
 "nbformat_minor": 5
}

{
 "cells": [
  {
   "cell_type": "code",
   "execution_count": 1,
   "id": "015123f9",
   "metadata": {},
   "outputs": [
    {
     "name": "stdout",
     "output_type": "stream",
     "text": [
      "[-19, 0, 0, 0, 0, 23, 0, 0, 0, -31, 85, 0, 0, -61, -61, -53, 0, 21, 0, 0, 89, 0, 0, -81, -79, 0, 9, 0, 0, 0, 0, 97, 0, 0, 0, -77, 0, -13, -43, 23, -55, 0, -55, 0, 0, -23, 0, 0, -27, -41, 0, 0, -83, -29, 85, 0, 0, -51, 0, 0, 0, 79, 0, -53, -79, 0, -65, 0, 0, 65, -59, 0, 27, 55, -71, 0, -99, 0, -89, 0, 27, 85, 19, -75, 0, 0, 0, 85, 0, 0, -25, 0, -79, 45, 0, 0, 0, -1, -33, 75]\n"
     ]
    }
   ],
   "source": [
    "\"\"\"23/08/23\n",
    "make all the even numbers to zero in a list of n random numbers\"\"\"\n",
    "import random as rd\n",
    "a=[rd.randint(-100,100) for i in range(100)]\n",
    "x=[0 if i%2==0 else i for i in a]\n",
    "print(x)"
   ]
  },
  {
   "cell_type": "code",
   "execution_count": null,
   "id": "ece2947c",
   "metadata": {},
   "outputs": [],
   "source": []
  }
 ],
 "metadata": {
  "kernelspec": {
   "display_name": "Python 3 (ipykernel)",
   "language": "python",
   "name": "python3"
  },
  "language_info": {
   "codemirror_mode": {
    "name": "ipython",
    "version": 3
   },
   "file_extension": ".py",
   "mimetype": "text/x-python",
   "name": "python",
   "nbconvert_exporter": "python",
   "pygments_lexer": "ipython3",
   "version": "3.8.5"
  }
 },
 "nbformat": 4,
 "nbformat_minor": 5
}

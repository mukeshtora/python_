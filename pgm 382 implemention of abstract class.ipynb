{
 "cells": [
  {
   "cell_type": "code",
   "execution_count": 2,
   "id": "01af9fac",
   "metadata": {},
   "outputs": [],
   "source": [
    "from abc import ABC, abstractmethod\n",
    "class Op2nos_AC(ABC):\n",
    "    @abstractmethod\n",
    "    def sum(self):\n",
    "        pass\n",
    "    \n",
    "    @abstractmethod\n",
    "    def diff(self):\n",
    "        pass\n",
    "    \n",
    "    @abstractmethod\n",
    "    def prod(self):\n",
    "        pass\n",
    "    \n",
    "    @abstractmethod\n",
    "    def div(self):\n",
    "        pass\n",
    "    \n",
    "    @abstractmethod\n",
    "    def reminder(self):\n",
    "        pass\n",
    "    \n",
    "    def display(self):\n",
    "        print(\"Linsoft\")\n",
    "    "
   ]
  },
  {
   "cell_type": "code",
   "execution_count": 3,
   "id": "7a63b0b8",
   "metadata": {},
   "outputs": [
    {
     "name": "stdout",
     "output_type": "stream",
     "text": [
      "30\n",
      "-10\n",
      "200\n",
      "0\n",
      "10\n",
      "20\n",
      "10\n"
     ]
    }
   ],
   "source": [
    "\"\"\"\n",
    "pg.no.382\n",
    "31/12/23\n",
    "implemention of abstract class\n",
    "\"\"\"\n",
    "\n",
    "from abc import ABC,abstractmethod\n",
    "class Op2nos_imp(Op2nos_AC):\n",
    "    __x=None\n",
    "    __y=None\n",
    "    \n",
    "    def __init__(self,x=10,y=20):\n",
    "        self.__x=x\n",
    "        self.__y=y\n",
    "        \n",
    "    def sum(self):\n",
    "        print(self.__x+self.__y)\n",
    "        \n",
    "    def diff(self):\n",
    "        print(self.__x-self.__y)\n",
    "    def prod(self):\n",
    "        print(self.__x*self.__y)\n",
    "    def div(self):\n",
    "        print(self.__x//self.__y)\n",
    "    def reminder(self):\n",
    "        print(self.__x%self.__y)\n",
    "    def big2(self):\n",
    "        a=self.__x if self.__x>self.__y else self.__y\n",
    "        print(a)\n",
    "    def small2(self):\n",
    "        a=self.__x if self.__x<self.__y else self.__y\n",
    "        print(a)\n",
    "        \n",
    "#main\n",
    "a=Op2nos_imp()\n",
    "a.sum()\n",
    "a.diff()\n",
    "a.prod()\n",
    "a.div()\n",
    "a.reminder()\n",
    "a.big2()\n",
    "a.small2()"
   ]
  },
  {
   "cell_type": "code",
   "execution_count": null,
   "id": "7cf5f3be",
   "metadata": {},
   "outputs": [],
   "source": []
  }
 ],
 "metadata": {
  "kernelspec": {
   "display_name": "Python 3 (ipykernel)",
   "language": "python",
   "name": "python3"
  },
  "language_info": {
   "codemirror_mode": {
    "name": "ipython",
    "version": 3
   },
   "file_extension": ".py",
   "mimetype": "text/x-python",
   "name": "python",
   "nbconvert_exporter": "python",
   "pygments_lexer": "ipython3",
   "version": "3.8.5"
  }
 },
 "nbformat": 4,
 "nbformat_minor": 5
}

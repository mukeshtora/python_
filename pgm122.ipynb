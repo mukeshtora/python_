{
 "cells": [
  {
   "cell_type": "code",
   "execution_count": 9,
   "id": "8da576db",
   "metadata": {},
   "outputs": [
    {
     "name": "stdout",
     "output_type": "stream",
     "text": [
      "enter n:4\n",
      "enter a:12\n",
      "enter a:54\n",
      "enter a:3\n",
      "enter a:7\n",
      "the list: [12, 54, 3, 7]\n",
      "The second biggest number: 12\n"
     ]
    }
   ],
   "source": [
    "#05/08/23\n",
    "#find the second biggeset number\n",
    "a=[]\n",
    "n=int(input('enter n:'))\n",
    "i=0\n",
    "while i<n:\n",
    "    l=int(input('enter a:'))\n",
    "    a.append(l)\n",
    "    i=i+1\n",
    "print(\"the list:\",a)\n",
    "x=len(a)\n",
    "i=0\n",
    "b=0\n",
    "c=0\n",
    "\n",
    "while i<x:\n",
    "    if a[i]>b:\n",
    "        b=a[i]\n",
    "        c=i\n",
    "    i=i+1\n",
    "i=0\n",
    "sb=0\n",
    "\n",
    "while i<x:\n",
    "    if a[i]!=b:\n",
    "        if a[i]>sb:\n",
    "            sb=a[i]\n",
    "    i=i+1\n",
    "        \n",
    "print('The second biggest number:',sb)\n"
   ]
  },
  {
   "cell_type": "code",
   "execution_count": null,
   "id": "30f4c9fe",
   "metadata": {},
   "outputs": [],
   "source": []
  }
 ],
 "metadata": {
  "kernelspec": {
   "display_name": "Python 3 (ipykernel)",
   "language": "python",
   "name": "python3"
  },
  "language_info": {
   "codemirror_mode": {
    "name": "ipython",
    "version": 3
   },
   "file_extension": ".py",
   "mimetype": "text/x-python",
   "name": "python",
   "nbconvert_exporter": "python",
   "pygments_lexer": "ipython3",
   "version": "3.8.5"
  }
 },
 "nbformat": 4,
 "nbformat_minor": 5
}

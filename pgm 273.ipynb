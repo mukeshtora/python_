{
 "cells": [
  {
   "cell_type": "code",
   "execution_count": 2,
   "id": "e9f1709f",
   "metadata": {},
   "outputs": [
    {
     "name": "stdout",
     "output_type": "stream",
     "text": [
      "90\n"
     ]
    }
   ],
   "source": [
    "\"\"\"\n",
    "pg.no.273\n",
    "biggest element of the arguments\n",
    "21/09/23\n",
    "\"\"\"\n",
    "import random as rd\n",
    "def bigg(*x):\n",
    "    y=0\n",
    "    for i in x:\n",
    "        y=i if i>y else y\n",
    "    print(y)\n",
    "#main\n",
    "bigg(90,45,8,32,89,34)"
   ]
  },
  {
   "cell_type": "code",
   "execution_count": null,
   "id": "451c6e04",
   "metadata": {},
   "outputs": [],
   "source": []
  }
 ],
 "metadata": {
  "kernelspec": {
   "display_name": "Python 3 (ipykernel)",
   "language": "python",
   "name": "python3"
  },
  "language_info": {
   "codemirror_mode": {
    "name": "ipython",
    "version": 3
   },
   "file_extension": ".py",
   "mimetype": "text/x-python",
   "name": "python",
   "nbconvert_exporter": "python",
   "pygments_lexer": "ipython3",
   "version": "3.8.5"
  }
 },
 "nbformat": 4,
 "nbformat_minor": 5
}

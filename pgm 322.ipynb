{
 "cells": [
  {
   "cell_type": "code",
   "execution_count": 2,
   "id": "919d0e7a",
   "metadata": {},
   "outputs": [
    {
     "name": "stdout",
     "output_type": "stream",
     "text": [
      "1 The comparison of covishield and covaxin is to distinguish both the vaccines.\n",
      "2  Few researches have already showed a detailed comparison of covaxin Vs covishield.\n",
      "3  During the pandemic situation precautions and treatments became significant.\n",
      "4  Without vaccines, people are at risk of serious illness and disability\n",
      "5  from diseases like measles, pneumonia, tetanus, polio and most popularly known covid19.\n",
      "6  Many of the diseases can be life-threatening. WHO estimates childhood vaccines alone save 4 million lives every year."
     ]
    }
   ],
   "source": [
    "\"\"\"\n",
    "pg.no.322\n",
    "23/11/23\n",
    "display the file line by line along with line number\n",
    "\"\"\"\n",
    "f=open('sample.txt','r')\n",
    "l=1\n",
    "for i in f:\n",
    "    print(l,i,end='')\n",
    "    l+=1\n",
    "f.close()\n"
   ]
  },
  {
   "cell_type": "code",
   "execution_count": null,
   "id": "521c817f",
   "metadata": {},
   "outputs": [],
   "source": []
  }
 ],
 "metadata": {
  "kernelspec": {
   "display_name": "Python 3 (ipykernel)",
   "language": "python",
   "name": "python3"
  },
  "language_info": {
   "codemirror_mode": {
    "name": "ipython",
    "version": 3
   },
   "file_extension": ".py",
   "mimetype": "text/x-python",
   "name": "python",
   "nbconvert_exporter": "python",
   "pygments_lexer": "ipython3",
   "version": "3.8.5"
  }
 },
 "nbformat": 4,
 "nbformat_minor": 5
}

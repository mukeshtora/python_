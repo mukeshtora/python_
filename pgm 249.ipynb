{
 "cells": [
  {
   "cell_type": "code",
   "execution_count": 3,
   "id": "6bca556d",
   "metadata": {},
   "outputs": [
    {
     "name": "stdout",
     "output_type": "stream",
     "text": [
      "n:2\n",
      "name:mjk\n",
      "age:21\n",
      "gender:m\n",
      "mail:m@gmail\n",
      "rollno:19\n",
      "name:jai\n",
      "age:20\n",
      "gender:m\n",
      "mail:j@gmail\n",
      "rollno:20\n",
      "{19: ['mjk', 21, 'm', 'm@gmail'], 20: ['jai', 20, 'm', 'j@gmail']}\n"
     ]
    }
   ],
   "source": [
    "\"\"\"\n",
    "25/08/23\n",
    "construct a dict, store bio-data of the n students with only rollno as key\n",
    "\"\"\"\n",
    "d={}\n",
    "h=int(input('n:'))\n",
    "for i in range(h):\n",
    "    n=input('name:')\n",
    "    a=int(input('age:'))\n",
    "    g=input('gender:')\n",
    "    m=input('mail:')\n",
    "    l=[n,a,g,m]\n",
    "    r=int(input('rollno:'))\n",
    "    d[r]=l\n",
    "print(d)"
   ]
  },
  {
   "cell_type": "code",
   "execution_count": null,
   "id": "7b0857ad",
   "metadata": {},
   "outputs": [],
   "source": []
  }
 ],
 "metadata": {
  "kernelspec": {
   "display_name": "Python 3 (ipykernel)",
   "language": "python",
   "name": "python3"
  },
  "language_info": {
   "codemirror_mode": {
    "name": "ipython",
    "version": 3
   },
   "file_extension": ".py",
   "mimetype": "text/x-python",
   "name": "python",
   "nbconvert_exporter": "python",
   "pygments_lexer": "ipython3",
   "version": "3.8.5"
  }
 },
 "nbformat": 4,
 "nbformat_minor": 5
}

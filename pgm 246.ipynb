{
 "cells": [
  {
   "cell_type": "code",
   "execution_count": 1,
   "id": "ceda1399",
   "metadata": {},
   "outputs": [
    {
     "name": "stdout",
     "output_type": "stream",
     "text": [
      "name mukesh\n",
      "age 21\n",
      "gender male\n",
      "mailid m@gamil.com\n"
     ]
    }
   ],
   "source": [
    "\"\"\"\n",
    "25/08/23\n",
    "construct a dict of bio-data, print element by element\n",
    "\"\"\"\n",
    "d={}\n",
    "d['name']='mukesh'\n",
    "d['age']=21\n",
    "d['gender']='male'\n",
    "d['mailid']='m@gamil.com'\n",
    "for i in d:\n",
    "    print(i,d[i])"
   ]
  },
  {
   "cell_type": "code",
   "execution_count": null,
   "id": "d515ad18",
   "metadata": {},
   "outputs": [],
   "source": []
  }
 ],
 "metadata": {
  "kernelspec": {
   "display_name": "Python 3 (ipykernel)",
   "language": "python",
   "name": "python3"
  },
  "language_info": {
   "codemirror_mode": {
    "name": "ipython",
    "version": 3
   },
   "file_extension": ".py",
   "mimetype": "text/x-python",
   "name": "python",
   "nbconvert_exporter": "python",
   "pygments_lexer": "ipython3",
   "version": "3.8.5"
  }
 },
 "nbformat": 4,
 "nbformat_minor": 5
}

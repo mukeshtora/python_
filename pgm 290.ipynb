{
 "cells": [
  {
   "cell_type": "code",
   "execution_count": 1,
   "id": "1eaa47e8",
   "metadata": {},
   "outputs": [
    {
     "name": "stdout",
     "output_type": "stream",
     "text": [
      "25\n"
     ]
    }
   ],
   "source": [
    "\"\"\"\n",
    "pg.no.290\n",
    "05/11/23\n",
    "sum of two numbers using closure function, one argument for out function and another for inner function\n",
    "\n",
    "\"\"\"\n",
    "def cal(a):\n",
    "    def sum(b):\n",
    "        return a+b\n",
    "    return sum\n",
    "x=cal(10)\n",
    "print(x(15))"
   ]
  },
  {
   "cell_type": "code",
   "execution_count": null,
   "id": "88c43a74",
   "metadata": {},
   "outputs": [],
   "source": []
  }
 ],
 "metadata": {
  "kernelspec": {
   "display_name": "Python 3 (ipykernel)",
   "language": "python",
   "name": "python3"
  },
  "language_info": {
   "codemirror_mode": {
    "name": "ipython",
    "version": 3
   },
   "file_extension": ".py",
   "mimetype": "text/x-python",
   "name": "python",
   "nbconvert_exporter": "python",
   "pygments_lexer": "ipython3",
   "version": "3.8.5"
  }
 },
 "nbformat": 4,
 "nbformat_minor": 5
}

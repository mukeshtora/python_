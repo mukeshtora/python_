{
 "cells": [
  {
   "cell_type": "code",
   "execution_count": 4,
   "id": "d3343431",
   "metadata": {},
   "outputs": [
    {
     "name": "stdout",
     "output_type": "stream",
     "text": [
      "      1 \t\n",
      "    1 \t\n",
      "    2 \t\n",
      "    3 \t\n",
      "  1 \t\n",
      "  2 \t\n",
      "  3 \t\n",
      "  4 \t\n",
      "  5 \t\n"
     ]
    }
   ],
   "source": [
    "#10/08/23\n",
    "n=1\n",
    "for i in range(6,0,-2):\n",
    "    a=1\n",
    "    for j in range(n):\n",
    "        print(' '*i+str(a),'\\t')\n",
    "        a+=1\n",
    "    n+=2"
   ]
  },
  {
   "cell_type": "code",
   "execution_count": null,
   "id": "567451d8",
   "metadata": {},
   "outputs": [],
   "source": []
  }
 ],
 "metadata": {
  "kernelspec": {
   "display_name": "Python 3 (ipykernel)",
   "language": "python",
   "name": "python3"
  },
  "language_info": {
   "codemirror_mode": {
    "name": "ipython",
    "version": 3
   },
   "file_extension": ".py",
   "mimetype": "text/x-python",
   "name": "python",
   "nbconvert_exporter": "python",
   "pygments_lexer": "ipython3",
   "version": "3.8.5"
  }
 },
 "nbformat": 4,
 "nbformat_minor": 5
}

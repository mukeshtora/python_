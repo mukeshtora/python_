{
 "cells": [
  {
   "cell_type": "code",
   "execution_count": 2,
   "id": "4e12a14a",
   "metadata": {},
   "outputs": [
    {
     "name": "stdout",
     "output_type": "stream",
     "text": [
      "parameter for outer fn:16\n",
      "parameter for inner fn:20\n",
      "1 * 16 = 16\n",
      "2 * 16 = 32\n",
      "3 * 16 = 48\n",
      "4 * 16 = 64\n",
      "5 * 16 = 80\n",
      "6 * 16 = 96\n",
      "7 * 16 = 112\n",
      "8 * 16 = 128\n",
      "9 * 16 = 144\n",
      "10 * 16 = 160\n",
      "11 * 16 = 176\n",
      "12 * 16 = 192\n",
      "13 * 16 = 208\n",
      "14 * 16 = 224\n",
      "15 * 16 = 240\n",
      "16 * 16 = 256\n",
      "17 * 16 = 272\n",
      "18 * 16 = 288\n",
      "19 * 16 = 304\n",
      "20 * 16 = 320\n"
     ]
    }
   ],
   "source": [
    "\"\"\"\n",
    "pg.no.292\n",
    "05/11/23\n",
    "print a multiplication table using closure function\n",
    "\"\"\"\n",
    "def cal(a):\n",
    "    def prod(b):\n",
    "        return a*b\n",
    "    return prod\n",
    "m=int(input('parameter for outer fn:'))\n",
    "n=int(input('parameter for inner fn:'))\n",
    "x=cal(m)\n",
    "for i in range(1,n+1):\n",
    "    res=x(i)\n",
    "    print(i,'*',m,'=',res)"
   ]
  },
  {
   "cell_type": "code",
   "execution_count": null,
   "id": "9f62819f",
   "metadata": {},
   "outputs": [],
   "source": []
  }
 ],
 "metadata": {
  "kernelspec": {
   "display_name": "Python 3 (ipykernel)",
   "language": "python",
   "name": "python3"
  },
  "language_info": {
   "codemirror_mode": {
    "name": "ipython",
    "version": 3
   },
   "file_extension": ".py",
   "mimetype": "text/x-python",
   "name": "python",
   "nbconvert_exporter": "python",
   "pygments_lexer": "ipython3",
   "version": "3.8.5"
  }
 },
 "nbformat": 4,
 "nbformat_minor": 5
}

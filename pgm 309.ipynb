{
 "cells": [
  {
   "cell_type": "code",
   "execution_count": 1,
   "id": "63ccbbd3",
   "metadata": {},
   "outputs": [
    {
     "name": "stdout",
     "output_type": "stream",
     "text": [
      "n:10\n",
      "-14\n"
     ]
    }
   ],
   "source": [
    "\n",
    "\"\"\"\n",
    "pg.no.309\n",
    "16/11/23\n",
    "sum of elements of a list using reduce and lambda function\n",
    "\"\"\"\n",
    "import random as rd\n",
    "from functools import reduce\n",
    "\n",
    "n=int(input('n:'))\n",
    "l=[rd.randint(-100,100) for i in range(n)]\n",
    "x=reduce(lambda a,b:a+b,l)\n",
    "print(x)"
   ]
  },
  {
   "cell_type": "code",
   "execution_count": 13,
   "id": "73ffa77f",
   "metadata": {},
   "outputs": [
    {
     "name": "stdout",
     "output_type": "stream",
     "text": [
      "5\n"
     ]
    }
   ],
   "source": [
    "from functools import reduce\n",
    "l=[1,1,1,5,1]\n",
    "x=reduce(lambda a,b: b if b>a else a, l)\n",
    "print(x)"
   ]
  },
  {
   "cell_type": "code",
   "execution_count": null,
   "id": "f6d78471",
   "metadata": {},
   "outputs": [],
   "source": []
  }
 ],
 "metadata": {
  "kernelspec": {
   "display_name": "Python 3 (ipykernel)",
   "language": "python",
   "name": "python3"
  },
  "language_info": {
   "codemirror_mode": {
    "name": "ipython",
    "version": 3
   },
   "file_extension": ".py",
   "mimetype": "text/x-python",
   "name": "python",
   "nbconvert_exporter": "python",
   "pygments_lexer": "ipython3",
   "version": "3.8.5"
  }
 },
 "nbformat": 4,
 "nbformat_minor": 5
}

{
 "cells": [
  {
   "cell_type": "code",
   "execution_count": 11,
   "id": "6b4ff007",
   "metadata": {},
   "outputs": [
    {
     "name": "stdout",
     "output_type": "stream",
     "text": [
      "longest line: [74, 519, ' Many of the diseases can be life-threatening. WHO estimates childhood vaccines alone save 4 million lives every year.']\n"
     ]
    }
   ],
   "source": [
    "\"\"\"\n",
    "pgm 325\n",
    "23/11/23\n",
    "find out the longest line of the text\n",
    "\"\"\"\n",
    "f=open('sample.txt','r')\n",
    "x=0\n",
    "l=0\n",
    "w=0\n",
    "c=0\n",
    "d={}\n",
    "for i in f:\n",
    "    l+=1\n",
    "    x=i.split()\n",
    "    w+=len(x)\n",
    "    c+=len(i)\n",
    "    d[l]=[w,c,i]\n",
    "    \n",
    "y=0\n",
    "z=0\n",
    "\n",
    "for i in d:\n",
    "    if type(d[i][0])==int and d[i][0]>z:\n",
    "            z=d[i][0]\n",
    "            y=i\n",
    "    \n",
    "print(\"longest line:\",d[y])\n"
   ]
  }
 ],
 "metadata": {
  "kernelspec": {
   "display_name": "Python 3 (ipykernel)",
   "language": "python",
   "name": "python3"
  },
  "language_info": {
   "codemirror_mode": {
    "name": "ipython",
    "version": 3
   },
   "file_extension": ".py",
   "mimetype": "text/x-python",
   "name": "python",
   "nbconvert_exporter": "python",
   "pygments_lexer": "ipython3",
   "version": "3.8.5"
  }
 },
 "nbformat": 4,
 "nbformat_minor": 5
}

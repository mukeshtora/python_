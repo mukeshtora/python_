{
 "cells": [
  {
   "cell_type": "code",
   "execution_count": 1,
   "id": "ad013aae",
   "metadata": {},
   "outputs": [
    {
     "name": "stdout",
     "output_type": "stream",
     "text": [
      "m:12\n",
      "n:34\n",
      "p:5\n",
      "biggest of three: 34\n"
     ]
    }
   ],
   "source": [
    "\"\"\"\n",
    "pg.no.297\n",
    "15/11/23\n",
    "find biggest of three numbers using lambda function\n",
    "\"\"\"\n",
    "x=lambda a,b,c:(a if a>c else c) if a>b else (b if b>c else c)\n",
    "m=int(input('m:'))\n",
    "n=int(input('n:'))\n",
    "p=int(input('p:'))\n",
    "print('biggest of three:',x(m,n,p))"
   ]
  },
  {
   "cell_type": "code",
   "execution_count": null,
   "id": "cc5176f7",
   "metadata": {},
   "outputs": [],
   "source": []
  }
 ],
 "metadata": {
  "kernelspec": {
   "display_name": "Python 3 (ipykernel)",
   "language": "python",
   "name": "python3"
  },
  "language_info": {
   "codemirror_mode": {
    "name": "ipython",
    "version": 3
   },
   "file_extension": ".py",
   "mimetype": "text/x-python",
   "name": "python",
   "nbconvert_exporter": "python",
   "pygments_lexer": "ipython3",
   "version": "3.8.5"
  }
 },
 "nbformat": 4,
 "nbformat_minor": 5
}

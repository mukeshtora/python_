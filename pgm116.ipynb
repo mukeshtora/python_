{
 "cells": [
  {
   "cell_type": "code",
   "execution_count": 2,
   "id": "1ed0d33e",
   "metadata": {},
   "outputs": [
    {
     "name": "stdout",
     "output_type": "stream",
     "text": [
      "55\n"
     ]
    }
   ],
   "source": [
    "#05/08/23\n",
    "#sum of elements of the list\n",
    "l=[1,2,3,4,5,6,7,8,9,10]\n",
    "a=len(l)\n",
    "b=0\n",
    "i=0\n",
    "while i<a:\n",
    "    b=b+l[i]\n",
    "    i=i+1\n",
    "print(b)"
   ]
  },
  {
   "cell_type": "code",
   "execution_count": null,
   "id": "cd2c9bf6",
   "metadata": {},
   "outputs": [],
   "source": []
  }
 ],
 "metadata": {
  "kernelspec": {
   "display_name": "Python 3 (ipykernel)",
   "language": "python",
   "name": "python3"
  },
  "language_info": {
   "codemirror_mode": {
    "name": "ipython",
    "version": 3
   },
   "file_extension": ".py",
   "mimetype": "text/x-python",
   "name": "python",
   "nbconvert_exporter": "python",
   "pygments_lexer": "ipython3",
   "version": "3.8.5"
  }
 },
 "nbformat": 4,
 "nbformat_minor": 5
}

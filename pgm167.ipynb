{
 "cells": [
  {
   "cell_type": "code",
   "execution_count": 1,
   "id": "e12800da",
   "metadata": {},
   "outputs": [
    {
     "name": "stdout",
     "output_type": "stream",
     "text": [
      "LinSoft AcaDemy\n",
      "lINsOFT aCAdEMY\n"
     ]
    }
   ],
   "source": [
    "#16/08/23\n",
    "#flip the character case\n",
    "\n",
    "s1=input()\n",
    "s2=''\n",
    "n=len(s1)\n",
    "for i in range(n):\n",
    "    x=ord(s1[i])\n",
    "    if x>=65 and x<=90:\n",
    "        y=x+32\n",
    "        s2+=chr(y)\n",
    "    elif x>=97 and x<=122:\n",
    "        y=x-32\n",
    "        s2+=chr(y)\n",
    "    else:\n",
    "        s2+=s1[i]\n",
    "print(s2)"
   ]
  },
  {
   "cell_type": "code",
   "execution_count": null,
   "id": "03c970f5",
   "metadata": {},
   "outputs": [],
   "source": []
  }
 ],
 "metadata": {
  "kernelspec": {
   "display_name": "Python 3 (ipykernel)",
   "language": "python",
   "name": "python3"
  },
  "language_info": {
   "codemirror_mode": {
    "name": "ipython",
    "version": 3
   },
   "file_extension": ".py",
   "mimetype": "text/x-python",
   "name": "python",
   "nbconvert_exporter": "python",
   "pygments_lexer": "ipython3",
   "version": "3.8.5"
  }
 },
 "nbformat": 4,
 "nbformat_minor": 5
}

{
 "cells": [
  {
   "cell_type": "code",
   "execution_count": 4,
   "id": "6b4b0842",
   "metadata": {},
   "outputs": [
    {
     "name": "stdout",
     "output_type": "stream",
     "text": [
      "15\n"
     ]
    }
   ],
   "source": [
    "\"\"\"\n",
    "pg.no. 358\n",
    "11/12/23\n",
    "Product of two real numbers using Oop\n",
    "\"\"\"\n",
    "class prod2():\n",
    "    __x=None\n",
    "    __y=None\n",
    "    __p=None\n",
    "    \n",
    "    def set(self):\n",
    "        self.__x=5\n",
    "        self.__y=10\n",
    "    def find(self):\n",
    "        self.__p=self.__x+self.__y\n",
    "    def display(self):\n",
    "        print(self.__p)\n",
    "        \n",
    "#main\n",
    "a=prod2()\n",
    "a.set()\n",
    "a.find()\n",
    "a.display()\n"
   ]
  },
  {
   "cell_type": "code",
   "execution_count": null,
   "id": "b71082bc",
   "metadata": {},
   "outputs": [],
   "source": []
  }
 ],
 "metadata": {
  "kernelspec": {
   "display_name": "Python 3 (ipykernel)",
   "language": "python",
   "name": "python3"
  },
  "language_info": {
   "codemirror_mode": {
    "name": "ipython",
    "version": 3
   },
   "file_extension": ".py",
   "mimetype": "text/x-python",
   "name": "python",
   "nbconvert_exporter": "python",
   "pygments_lexer": "ipython3",
   "version": "3.8.5"
  }
 },
 "nbformat": 4,
 "nbformat_minor": 5
}

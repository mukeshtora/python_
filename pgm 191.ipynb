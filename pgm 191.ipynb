{
 "cells": [
  {
   "cell_type": "code",
   "execution_count": 9,
   "id": "ebad867e",
   "metadata": {},
   "outputs": [
    {
     "name": "stdout",
     "output_type": "stream",
     "text": [
      "m matrix: [1, 2, 3]\n",
      "m matrix: [4, 5, 6]\n",
      "m matrix: [7, 8, 9]\n",
      "\n",
      "t matrix: [1, 4, 7]\n",
      "t matrix: [2, 5, 8]\n",
      "t matrix: [3, 6, 9]\n"
     ]
    }
   ],
   "source": [
    "#21/08/23\n",
    "#transpose of the matrix\n",
    "m=[[1,2,3],[4,5,6],[7,8,9]]\n",
    "for i in range(3):\n",
    "    a=[]\n",
    "    for j in range(3):\n",
    "        n=m[i][j]\n",
    "        a.append(n)\n",
    "    m.append(a)\n",
    "    print('m matrix:',a)\n",
    "print()\n",
    "t=[]\n",
    "for i in range(3):\n",
    "    a=[]\n",
    "    d=0\n",
    "    for j in range(3):\n",
    "        d=m[j][i]\n",
    "        a.append(d)\n",
    "    print('t matrix:',a)\n",
    "    t.append(a)\n",
    "#print(t)"
   ]
  },
  {
   "cell_type": "code",
   "execution_count": null,
   "id": "e31ea9dd",
   "metadata": {},
   "outputs": [],
   "source": []
  }
 ],
 "metadata": {
  "kernelspec": {
   "display_name": "Python 3 (ipykernel)",
   "language": "python",
   "name": "python3"
  },
  "language_info": {
   "codemirror_mode": {
    "name": "ipython",
    "version": 3
   },
   "file_extension": ".py",
   "mimetype": "text/x-python",
   "name": "python",
   "nbconvert_exporter": "python",
   "pygments_lexer": "ipython3",
   "version": "3.8.5"
  }
 },
 "nbformat": 4,
 "nbformat_minor": 5
}

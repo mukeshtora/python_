{
 "cells": [
  {
   "cell_type": "code",
   "execution_count": 1,
   "id": "4d5c0539",
   "metadata": {},
   "outputs": [
    {
     "name": "stdout",
     "output_type": "stream",
     "text": [
      "a:90\n",
      "b:89\n",
      "c:108\n",
      "108\n"
     ]
    }
   ],
   "source": [
    "\"\"\"\n",
    "biggest of three integer numbers\n",
    "21/09/23\n",
    "\"\"\"\n",
    "def big(a,b,c):\n",
    "    d=(a if a>c else c) if a>b else (b if b>c else c)\n",
    "    return d\n",
    "a= int(input('a:'))\n",
    "b=int(input('b:'))\n",
    "c=int(input('c:'))\n",
    "x=big(a,b,c)\n",
    "print(x)"
   ]
  },
  {
   "cell_type": "code",
   "execution_count": null,
   "id": "5932e021",
   "metadata": {},
   "outputs": [],
   "source": []
  }
 ],
 "metadata": {
  "kernelspec": {
   "display_name": "Python 3 (ipykernel)",
   "language": "python",
   "name": "python3"
  },
  "language_info": {
   "codemirror_mode": {
    "name": "ipython",
    "version": 3
   },
   "file_extension": ".py",
   "mimetype": "text/x-python",
   "name": "python",
   "nbconvert_exporter": "python",
   "pygments_lexer": "ipython3",
   "version": "3.8.5"
  }
 },
 "nbformat": 4,
 "nbformat_minor": 5
}

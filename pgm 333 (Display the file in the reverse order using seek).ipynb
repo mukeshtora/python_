{
 "cells": [
  {
   "cell_type": "code",
   "execution_count": 35,
   "id": "e0f50534",
   "metadata": {},
   "outputs": [
    {
     "name": "stdout",
     "output_type": "stream",
     "text": [
      "Many of the diseases can be life-threatening. WHO estimates childhood vaccines alone save 4 million lives every year.\n",
      "\n",
      "from diseases like measles, pneumonia, tetanus, polio and most popularly known covid19.\n",
      "\n",
      "Without vaccines, people are at risk of serious illness and disability\n",
      "\n",
      "During the pandemic situation precautions and treatments became significant.\n",
      "\n",
      "Few researches have already showed a detailed comparison of covaxin Vs covishield.\n",
      "\n",
      "The comparison of covishield and covaxin is to distinguish both the vaccines.\n",
      "\n"
     ]
    }
   ],
   "source": [
    "\"\"\"\n",
    "pg.no.333\n",
    "30/11/23\n",
    "Display the file in the reverse order.\n",
    "\"\"\"\n",
    "f=open('sample.txt','r')\n",
    "d={}\n",
    "offset=0\n",
    "l=0\n",
    "for i in f:\n",
    "    l+=1\n",
    "    d[l]=offset\n",
    "    offset+=len(i)\n",
    "    \n",
    "x=0\n",
    "a=list(d.keys())\n",
    "for i in range(len(a),0,-1):\n",
    "    x=d[i]\n",
    "    f.seek(x)\n",
    "    print(f.readline())\n",
    "    "
   ]
  },
  {
   "cell_type": "code",
   "execution_count": null,
   "id": "5e9201e8",
   "metadata": {},
   "outputs": [],
   "source": []
  }
 ],
 "metadata": {
  "kernelspec": {
   "display_name": "Python 3 (ipykernel)",
   "language": "python",
   "name": "python3"
  },
  "language_info": {
   "codemirror_mode": {
    "name": "ipython",
    "version": 3
   },
   "file_extension": ".py",
   "mimetype": "text/x-python",
   "name": "python",
   "nbconvert_exporter": "python",
   "pygments_lexer": "ipython3",
   "version": "3.8.5"
  }
 },
 "nbformat": 4,
 "nbformat_minor": 5
}

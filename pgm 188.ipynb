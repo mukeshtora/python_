{
 "cells": [
  {
   "cell_type": "code",
   "execution_count": 2,
   "id": "37690b61",
   "metadata": {},
   "outputs": [
    {
     "name": "stdout",
     "output_type": "stream",
     "text": [
      "enter n:4\n",
      "enter n:7\n",
      "enter n:2\n",
      "enter n:8\n",
      "enter n:3\n",
      "enter n:8\n",
      "enter n:4\n",
      "enter n:7\n",
      "enter n:34\n"
     ]
    }
   ],
   "source": [
    "#21/08/23\n",
    "#construct a 3x3 matrix\n",
    "\n",
    "m=[]\n",
    "for i in range(3):\n",
    "    a=[]\n",
    "    for j in range(3):\n",
    "        n=int(input('enter n:'))\n",
    "        a.append(n)\n",
    "    m.append(a)\n"
   ]
  },
  {
   "cell_type": "code",
   "execution_count": 3,
   "id": "a3f9624e",
   "metadata": {},
   "outputs": [
    {
     "name": "stdout",
     "output_type": "stream",
     "text": [
      "[[4, 7, 2], [8, 3, 8], [4, 7, 34]]\n"
     ]
    }
   ],
   "source": [
    "print(m)\n"
   ]
  },
  {
   "cell_type": "code",
   "execution_count": null,
   "id": "4b36d86e",
   "metadata": {},
   "outputs": [],
   "source": []
  }
 ],
 "metadata": {
  "kernelspec": {
   "display_name": "Python 3 (ipykernel)",
   "language": "python",
   "name": "python3"
  },
  "language_info": {
   "codemirror_mode": {
    "name": "ipython",
    "version": 3
   },
   "file_extension": ".py",
   "mimetype": "text/x-python",
   "name": "python",
   "nbconvert_exporter": "python",
   "pygments_lexer": "ipython3",
   "version": "3.8.5"
  }
 },
 "nbformat": 4,
 "nbformat_minor": 5
}

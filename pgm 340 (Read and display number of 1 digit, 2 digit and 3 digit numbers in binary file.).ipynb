{
 "cells": [
  {
   "cell_type": "code",
   "execution_count": 1,
   "id": "aeda0cd1",
   "metadata": {},
   "outputs": [
    {
     "name": "stdout",
     "output_type": "stream",
     "text": [
      "one digit: 5\n",
      "two digit: 95\n",
      "three digit: 898\n"
     ]
    }
   ],
   "source": [
    "\"\"\"\n",
    "pg.no.340\n",
    "02/12/23\n",
    "Read and display number of 1 digit, 2 digit and 3 digit numbers in binary file.\n",
    "\"\"\"\n",
    "import pickle\n",
    "f=open('file1.dat','rb')\n",
    "one=0\n",
    "two=0\n",
    "three=0\n",
    "x=pickle.load(f)\n",
    "for i in x:\n",
    "    if i>=0 and i<=9:\n",
    "        one+=1\n",
    "    elif i>=10 and i<=99:\n",
    "        two+=1\n",
    "    elif i>=100 and i<=999:\n",
    "        three+=1\n",
    "print('one digit:',one)\n",
    "print('two digit:',two)\n",
    "print('three digit:',three)\n"
   ]
  },
  {
   "cell_type": "code",
   "execution_count": null,
   "id": "ca96fcda",
   "metadata": {},
   "outputs": [],
   "source": []
  }
 ],
 "metadata": {
  "kernelspec": {
   "display_name": "Python 3 (ipykernel)",
   "language": "python",
   "name": "python3"
  },
  "language_info": {
   "codemirror_mode": {
    "name": "ipython",
    "version": 3
   },
   "file_extension": ".py",
   "mimetype": "text/x-python",
   "name": "python",
   "nbconvert_exporter": "python",
   "pygments_lexer": "ipython3",
   "version": "3.8.5"
  }
 },
 "nbformat": 4,
 "nbformat_minor": 5
}

{
 "cells": [
  {
   "cell_type": "code",
   "execution_count": 1,
   "id": "c099c3bc",
   "metadata": {},
   "outputs": [
    {
     "name": "stdout",
     "output_type": "stream",
     "text": [
      "q:09\n",
      "r:43\n",
      "s:65\n",
      "30\n",
      "43\n",
      "65\n"
     ]
    }
   ],
   "source": [
    "\"\"\"\n",
    "biggest of 3 numbers using keyword aurgument\n",
    "21/09/23\n",
    "\"\"\"\n",
    "def big(a=10,b=20,c=30):\n",
    "    d=(a if a>c else c) if a>b else(b if b>c else c)\n",
    "    return d\n",
    "#main\n",
    "x=big()\n",
    "q=int(input('q:'))\n",
    "r=int(input('r:'))\n",
    "y=big(b=q,c=r)\n",
    "s=int(input('s:'))\n",
    "z=big(a=s,b=q,c=r)\n",
    "\n",
    "print(x)\n",
    "print(y)\n",
    "print(z)\n"
   ]
  },
  {
   "cell_type": "code",
   "execution_count": null,
   "id": "e0b292ca",
   "metadata": {},
   "outputs": [],
   "source": []
  }
 ],
 "metadata": {
  "kernelspec": {
   "display_name": "Python 3 (ipykernel)",
   "language": "python",
   "name": "python3"
  },
  "language_info": {
   "codemirror_mode": {
    "name": "ipython",
    "version": 3
   },
   "file_extension": ".py",
   "mimetype": "text/x-python",
   "name": "python",
   "nbconvert_exporter": "python",
   "pygments_lexer": "ipython3",
   "version": "3.8.5"
  }
 },
 "nbformat": 4,
 "nbformat_minor": 5
}

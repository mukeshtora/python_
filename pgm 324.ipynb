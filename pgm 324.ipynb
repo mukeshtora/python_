{
 "cells": [
  {
   "cell_type": "code",
   "execution_count": 3,
   "id": "fcd10d57",
   "metadata": {},
   "outputs": [
    {
     "name": "stdout",
     "output_type": "stream",
     "text": [
      "{1: [12, 78, 'The comparison of covishield and covaxin is to distinguish both the vaccines.\\n'], 2: [24, 162, ' Few researches have already showed a detailed comparison of covaxin Vs covishield.\\n'], 3: [33, 240, ' During the pandemic situation precautions and treatments became significant.\\n'], 4: [44, 312, ' Without vaccines, people are at risk of serious illness and disability\\n'], 5: [56, 401, ' from diseases like measles, pneumonia, tetanus, polio and most popularly known covid19.\\n'], 6: [74, 519, ' Many of the diseases can be life-threatening. WHO estimates childhood vaccines alone save 4 million lives every year.']}\n"
     ]
    }
   ],
   "source": [
    "\"\"\"\n",
    "pg.no.324\n",
    "23/11/23\n",
    "store the number of words, characters along with the text in a dictionary and print\n",
    "\"\"\"\n",
    "f=open('sample.txt','r')\n",
    "x=0\n",
    "l=0\n",
    "w=0\n",
    "c=0\n",
    "d={}\n",
    "for i in f:\n",
    "    l+=1\n",
    "    x=i.split()\n",
    "    w+=len(x)\n",
    "    c+=len(i)\n",
    "    d[l]=[w,c,i]\n",
    "print(d)\n",
    "f.close()"
   ]
  },
  {
   "cell_type": "code",
   "execution_count": null,
   "id": "c374e839",
   "metadata": {},
   "outputs": [],
   "source": [
    "d[l]=[f\"words:{w}\",f\"character:{c}\",f\"text:{i}\"]"
   ]
  }
 ],
 "metadata": {
  "kernelspec": {
   "display_name": "Python 3 (ipykernel)",
   "language": "python",
   "name": "python3"
  },
  "language_info": {
   "codemirror_mode": {
    "name": "ipython",
    "version": 3
   },
   "file_extension": ".py",
   "mimetype": "text/x-python",
   "name": "python",
   "nbconvert_exporter": "python",
   "pygments_lexer": "ipython3",
   "version": "3.8.5"
  }
 },
 "nbformat": 4,
 "nbformat_minor": 5
}

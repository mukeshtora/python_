{
 "cells": [
  {
   "cell_type": "code",
   "execution_count": 1,
   "id": "93cccae7",
   "metadata": {},
   "outputs": [
    {
     "name": "stdout",
     "output_type": "stream",
     "text": [
      "enter n:1\n",
      "enter n:4\n",
      "enter n:7\n",
      "enter n:9\n",
      "enter n:4\n",
      "enter n:7\n",
      "enter n:34\n",
      "enter n:7\n",
      "enter n:2\n",
      "[1, 4, 7]\n",
      "[9, 4, 7]\n",
      "[34, 7, 2]\n"
     ]
    }
   ],
   "source": [
    "#21/08/23\n",
    "#display the matrix row by row\n",
    "\n",
    "m=[]\n",
    "for i in range(3):\n",
    "    a=[]\n",
    "    for j in range(3):\n",
    "        n=int(input('enter n:'))\n",
    "        a.append(n)\n",
    "    m.append(a)\n",
    "for i in m:\n",
    "    print(i)"
   ]
  },
  {
   "cell_type": "code",
   "execution_count": null,
   "id": "495095fd",
   "metadata": {},
   "outputs": [],
   "source": []
  }
 ],
 "metadata": {
  "kernelspec": {
   "display_name": "Python 3 (ipykernel)",
   "language": "python",
   "name": "python3"
  },
  "language_info": {
   "codemirror_mode": {
    "name": "ipython",
    "version": 3
   },
   "file_extension": ".py",
   "mimetype": "text/x-python",
   "name": "python",
   "nbconvert_exporter": "python",
   "pygments_lexer": "ipython3",
   "version": "3.8.5"
  }
 },
 "nbformat": 4,
 "nbformat_minor": 5
}

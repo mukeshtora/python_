{
 "cells": [
  {
   "cell_type": "code",
   "execution_count": 3,
   "id": "199769f3",
   "metadata": {},
   "outputs": [
    {
     "name": "stdout",
     "output_type": "stream",
     "text": [
      "{119: ['mj', 21, 'm', 45, 67, 89, 90, 67]}\n",
      "{120: ['mjk', 21, 'm', 78, 90, 87, 96, 67]}\n",
      "{121: ['shri', 21, 'f', 89, 76, 97, 69, 59]}\n",
      "{122: ['jai', 21, 'm', 59, 67, 45, 86, 66]}\n",
      "{122: ['jai', 21, 'm', 59, 67, 45, 86, 66]}\n"
     ]
    }
   ],
   "source": [
    "\"\"\"\n",
    "pg.no 350\n",
    "04/12/23\n",
    "Read and display the entire student's bio-data \n",
    "\"\"\"\n",
    "import pickle\n",
    "f=open('file12.dat','rb')\n",
    "try:\n",
    "    x=pickle.load(f)\n",
    "    while x:\n",
    "        print(x)\n",
    "        x=pickle.load(f)\n",
    "except EOFError:\n",
    "    print(x)"
   ]
  },
  {
   "cell_type": "code",
   "execution_count": null,
   "id": "9d410c33",
   "metadata": {},
   "outputs": [],
   "source": []
  }
 ],
 "metadata": {
  "kernelspec": {
   "display_name": "Python 3 (ipykernel)",
   "language": "python",
   "name": "python3"
  },
  "language_info": {
   "codemirror_mode": {
    "name": "ipython",
    "version": 3
   },
   "file_extension": ".py",
   "mimetype": "text/x-python",
   "name": "python",
   "nbconvert_exporter": "python",
   "pygments_lexer": "ipython3",
   "version": "3.8.5"
  }
 },
 "nbformat": 4,
 "nbformat_minor": 5
}

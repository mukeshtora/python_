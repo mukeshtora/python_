{
 "cells": [
  {
   "cell_type": "code",
   "execution_count": 2,
   "id": "34f45e0f",
   "metadata": {},
   "outputs": [
    {
     "name": "stdout",
     "output_type": "stream",
     "text": [
      "153.86\n"
     ]
    }
   ],
   "source": [
    "\"\"\"\n",
    "pg.no. 359\n",
    "11/12/23\n",
    "Find Area of circle using Oop\n",
    "\"\"\"\n",
    "class area():\n",
    "    __r=None\n",
    "    __a=None\n",
    "    \n",
    "    def set(self):\n",
    "        self.__r=7\n",
    "        \n",
    "    def find(self):\n",
    "        self.__a=3.14*self.__r**2\n",
    "    def disp(self):\n",
    "        print(self.__a)\n",
    "        \n",
    "#main\n",
    "a=area()\n",
    "a.set()\n",
    "a.find()\n",
    "a.disp()"
   ]
  },
  {
   "cell_type": "code",
   "execution_count": null,
   "id": "b47d906c",
   "metadata": {},
   "outputs": [],
   "source": []
  }
 ],
 "metadata": {
  "kernelspec": {
   "display_name": "Python 3 (ipykernel)",
   "language": "python",
   "name": "python3"
  },
  "language_info": {
   "codemirror_mode": {
    "name": "ipython",
    "version": 3
   },
   "file_extension": ".py",
   "mimetype": "text/x-python",
   "name": "python",
   "nbconvert_exporter": "python",
   "pygments_lexer": "ipython3",
   "version": "3.8.5"
  }
 },
 "nbformat": 4,
 "nbformat_minor": 5
}

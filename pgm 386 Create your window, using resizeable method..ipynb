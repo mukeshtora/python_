{
 "cells": [
  {
   "cell_type": "code",
   "execution_count": 10,
   "id": "94480776",
   "metadata": {},
   "outputs": [],
   "source": [
    "\"\"\"\n",
    "pg.no. 386\n",
    "04/01/23\n",
    "Create your window, using resizeable method.\n",
    "\"\"\"\n",
    "import tkinter\n",
    "w=tkinter.Tk()\n",
    "w.configure(background='orange')\n",
    "w.resizable(False,False)\n",
    "w.mainloop()"
   ]
  },
  {
   "cell_type": "code",
   "execution_count": null,
   "id": "d88defaf",
   "metadata": {},
   "outputs": [],
   "source": []
  }
 ],
 "metadata": {
  "kernelspec": {
   "display_name": "Python 3 (ipykernel)",
   "language": "python",
   "name": "python3"
  },
  "language_info": {
   "codemirror_mode": {
    "name": "ipython",
    "version": 3
   },
   "file_extension": ".py",
   "mimetype": "text/x-python",
   "name": "python",
   "nbconvert_exporter": "python",
   "pygments_lexer": "ipython3",
   "version": "3.8.5"
  }
 },
 "nbformat": 4,
 "nbformat_minor": 5
}

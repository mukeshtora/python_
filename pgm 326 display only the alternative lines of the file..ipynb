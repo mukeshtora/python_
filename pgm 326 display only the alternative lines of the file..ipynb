{
 "cells": [
  {
   "cell_type": "code",
   "execution_count": 10,
   "id": "fceb4061",
   "metadata": {},
   "outputs": [
    {
     "name": "stdout",
     "output_type": "stream",
     "text": [
      "[12, 78, 'The comparison of covishield and covaxin is to distinguish both the vaccines.\\n']\n",
      "[33, 240, ' During the pandemic situation precautions and treatments became significant.\\n']\n",
      "[56, 401, ' from diseases like measles, pneumonia, tetanus, polio and most popularly known covid19.\\n']\n"
     ]
    }
   ],
   "source": [
    "\"\"\"\n",
    "pg.no.326\n",
    "27/11/23\n",
    "display only the alternative lines of the file\n",
    "\"\"\"\n",
    "f=open('sample.txt','r')\n",
    "x=0\n",
    "l=0\n",
    "w=0\n",
    "c=0\n",
    "d={}\n",
    "for i in f:\n",
    "    l+=1\n",
    "    x=i.split()\n",
    "    w+=len(x)\n",
    "    c+=len(i)\n",
    "    d[l]=[w,c,i]\n",
    "    \n",
    "a=list(d.keys())\n",
    "for i in range(1,len(a),2):\n",
    "    print(d[i])"
   ]
  },
  {
   "cell_type": "code",
   "execution_count": null,
   "id": "05c27f56",
   "metadata": {},
   "outputs": [],
   "source": []
  }
 ],
 "metadata": {
  "kernelspec": {
   "display_name": "Python 3 (ipykernel)",
   "language": "python",
   "name": "python3"
  },
  "language_info": {
   "codemirror_mode": {
    "name": "ipython",
    "version": 3
   },
   "file_extension": ".py",
   "mimetype": "text/x-python",
   "name": "python",
   "nbconvert_exporter": "python",
   "pygments_lexer": "ipython3",
   "version": "3.8.5"
  }
 },
 "nbformat": 4,
 "nbformat_minor": 5
}

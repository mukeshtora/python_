{
 "cells": [
  {
   "cell_type": "code",
   "execution_count": 1,
   "id": "296f91e3",
   "metadata": {},
   "outputs": [
    {
     "name": "stdout",
     "output_type": "stream",
     "text": [
      "h:20\n",
      "n:9\n",
      "(-28, -1, -14, -11, 48, -53, -96, 6, 98)\n"
     ]
    }
   ],
   "source": [
    "\"\"\"\n",
    "25/08/23\n",
    "copy last n numbers\"\"\"\n",
    "import random as rd\n",
    "h=int(input('h:'))\n",
    "a=tuple(rd.randint(-100,100) for i in range(h))\n",
    "n=int(input('n:'))\n",
    "l=len(a)-n\n",
    "b=a[l:]\n",
    "print(b)"
   ]
  },
  {
   "cell_type": "code",
   "execution_count": null,
   "id": "c6bb5023",
   "metadata": {},
   "outputs": [],
   "source": []
  }
 ],
 "metadata": {
  "kernelspec": {
   "display_name": "Python 3 (ipykernel)",
   "language": "python",
   "name": "python3"
  },
  "language_info": {
   "codemirror_mode": {
    "name": "ipython",
    "version": 3
   },
   "file_extension": ".py",
   "mimetype": "text/x-python",
   "name": "python",
   "nbconvert_exporter": "python",
   "pygments_lexer": "ipython3",
   "version": "3.8.5"
  }
 },
 "nbformat": 4,
 "nbformat_minor": 5
}

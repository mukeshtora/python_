{
 "cells": [
  {
   "cell_type": "code",
   "execution_count": 2,
   "id": "c1fb8b7f",
   "metadata": {},
   "outputs": [
    {
     "name": "stdout",
     "output_type": "stream",
     "text": [
      "enter n:7\n",
      "*******"
     ]
    }
   ],
   "source": [
    "#pg.no.81\n",
    "#27/7/23\n",
    "#print n stars\n",
    "\n",
    "n=int(input(\"enter n:\"))\n",
    "c=1\n",
    "while c<=n:\n",
    "    print('*',end='')\n",
    "    c=c+1"
   ]
  },
  {
   "cell_type": "code",
   "execution_count": null,
   "id": "c4f828a8",
   "metadata": {},
   "outputs": [],
   "source": []
  }
 ],
 "metadata": {
  "kernelspec": {
   "display_name": "Python 3 (ipykernel)",
   "language": "python",
   "name": "python3"
  },
  "language_info": {
   "codemirror_mode": {
    "name": "ipython",
    "version": 3
   },
   "file_extension": ".py",
   "mimetype": "text/x-python",
   "name": "python",
   "nbconvert_exporter": "python",
   "pygments_lexer": "ipython3",
   "version": "3.8.5"
  }
 },
 "nbformat": 4,
 "nbformat_minor": 5
}

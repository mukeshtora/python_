{
 "cells": [
  {
   "cell_type": "code",
   "execution_count": 1,
   "id": "6f87b4e8",
   "metadata": {},
   "outputs": [
    {
     "name": "stdout",
     "output_type": "stream",
     "text": [
      "{'name': 'mukesh', 'age': 21, 'ph_no': 9360376261}\n"
     ]
    }
   ],
   "source": [
    "\"\"\"\n",
    "pg.no.274\n",
    "pass your bio-data asargs\n",
    "21/09/23\n",
    "\"\"\"\n",
    "def bio_data(**x):\n",
    "    print(x)\n",
    "#main\n",
    "bio_data(name='mukesh',age=21,ph_no=9360376261)"
   ]
  },
  {
   "cell_type": "code",
   "execution_count": null,
   "id": "d6281bb1",
   "metadata": {},
   "outputs": [],
   "source": []
  }
 ],
 "metadata": {
  "kernelspec": {
   "display_name": "Python 3 (ipykernel)",
   "language": "python",
   "name": "python3"
  },
  "language_info": {
   "codemirror_mode": {
    "name": "ipython",
    "version": 3
   },
   "file_extension": ".py",
   "mimetype": "text/x-python",
   "name": "python",
   "nbconvert_exporter": "python",
   "pygments_lexer": "ipython3",
   "version": "3.8.5"
  }
 },
 "nbformat": 4,
 "nbformat_minor": 5
}

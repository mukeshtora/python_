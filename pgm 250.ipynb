{
 "cells": [
  {
   "cell_type": "code",
   "execution_count": 2,
   "id": "f42c8564",
   "metadata": {},
   "outputs": [
    {
     "name": "stdout",
     "output_type": "stream",
     "text": [
      "h:2\n",
      "name:mukesh\n",
      "age:21\n",
      "gender:m\n",
      "mail:m@gamil\n",
      "rollno:19\n",
      "name:jai\n",
      "age:20\n",
      "gender:m\n",
      "mail:j@gmail\n",
      "rollno:20\n",
      "19 ['mukesh', 21, 'm', 'm@gamil']\n",
      "20 ['jai', 20, 'm', 'j@gmail']\n"
     ]
    }
   ],
   "source": [
    "\"\"\"\n",
    "25/08/23\n",
    "construct a dict, store bio-data of the n students print record by record\n",
    "\"\"\"\n",
    "d={}\n",
    "h=int(input('h:'))\n",
    "for i in range(h):\n",
    "    n=input('name:')\n",
    "    a=int(input('age:'))\n",
    "    g=input('gender:')\n",
    "    m=input('mail:')\n",
    "    l=[n,a,g,m]\n",
    "    r=int(input('rollno:'))\n",
    "    d[r]=l\n",
    "for i in d:\n",
    "    print(i,d[i])"
   ]
  },
  {
   "cell_type": "code",
   "execution_count": null,
   "id": "8c084db3",
   "metadata": {},
   "outputs": [],
   "source": []
  }
 ],
 "metadata": {
  "kernelspec": {
   "display_name": "Python 3 (ipykernel)",
   "language": "python",
   "name": "python3"
  },
  "language_info": {
   "codemirror_mode": {
    "name": "ipython",
    "version": 3
   },
   "file_extension": ".py",
   "mimetype": "text/x-python",
   "name": "python",
   "nbconvert_exporter": "python",
   "pygments_lexer": "ipython3",
   "version": "3.8.5"
  }
 },
 "nbformat": 4,
 "nbformat_minor": 5
}

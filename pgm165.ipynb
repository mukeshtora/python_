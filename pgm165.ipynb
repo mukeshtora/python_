{
 "cells": [
  {
   "cell_type": "code",
   "execution_count": 2,
   "id": "64ddc6e2",
   "metadata": {},
   "outputs": [
    {
     "name": "stdout",
     "output_type": "stream",
     "text": [
      "linsoft\n",
      "\n",
      "academy\n",
      "linsoftacademy\n"
     ]
    }
   ],
   "source": [
    "#16/08/23\n",
    "#concadinate 3 strings\n",
    "s=''\n",
    "for i in range(3):\n",
    "    a=input()\n",
    "    s+=a\n",
    "print(s)"
   ]
  },
  {
   "cell_type": "code",
   "execution_count": 3,
   "id": "6293ea0f",
   "metadata": {},
   "outputs": [
    {
     "name": "stdout",
     "output_type": "stream",
     "text": [
      "linsoft academy\n",
      "linsoft academy\n"
     ]
    }
   ],
   "source": [
    "#read a dtring copy to another string using string concadination\n",
    "\n",
    "s1=input()\n",
    "s2=''\n",
    "n=len(s1)\n",
    "for i in range(n):\n",
    "    s2+=s1[i]\n",
    "print(s2)"
   ]
  },
  {
   "cell_type": "code",
   "execution_count": null,
   "id": "e62c5c25",
   "metadata": {},
   "outputs": [],
   "source": []
  }
 ],
 "metadata": {
  "kernelspec": {
   "display_name": "Python 3 (ipykernel)",
   "language": "python",
   "name": "python3"
  },
  "language_info": {
   "codemirror_mode": {
    "name": "ipython",
    "version": 3
   },
   "file_extension": ".py",
   "mimetype": "text/x-python",
   "name": "python",
   "nbconvert_exporter": "python",
   "pygments_lexer": "ipython3",
   "version": "3.8.5"
  }
 },
 "nbformat": 4,
 "nbformat_minor": 5
}

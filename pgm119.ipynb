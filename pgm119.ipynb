{
 "cells": [
  {
   "cell_type": "code",
   "execution_count": 1,
   "id": "08ba78c3",
   "metadata": {},
   "outputs": [
    {
     "name": "stdout",
     "output_type": "stream",
     "text": [
      "enter n:3\n",
      "enter a:123\n",
      "enter a:34\n",
      "enter a:2\n",
      "123\n"
     ]
    }
   ],
   "source": [
    "#05/08/23\n",
    "#sum of elements of the list\n",
    "a=[]\n",
    "n=int(input('enter n:'))\n",
    "i=0\n",
    "while i<n:\n",
    "    l=int(input('enter a:'))\n",
    "    a.append(l)\n",
    "    i=i+1\n",
    "x=len(a)\n",
    "b=0\n",
    "i=0\n",
    "while i<x:\n",
    "    if  a[i]>b:\n",
    "        b=a[i]\n",
    "    i=i+1\n",
    "print(b)"
   ]
  },
  {
   "cell_type": "code",
   "execution_count": null,
   "id": "e4f97a99",
   "metadata": {},
   "outputs": [],
   "source": []
  }
 ],
 "metadata": {
  "kernelspec": {
   "display_name": "Python 3 (ipykernel)",
   "language": "python",
   "name": "python3"
  },
  "language_info": {
   "codemirror_mode": {
    "name": "ipython",
    "version": 3
   },
   "file_extension": ".py",
   "mimetype": "text/x-python",
   "name": "python",
   "nbconvert_exporter": "python",
   "pygments_lexer": "ipython3",
   "version": "3.8.5"
  }
 },
 "nbformat": 4,
 "nbformat_minor": 5
}

{
 "cells": [
  {
   "cell_type": "code",
   "execution_count": 3,
   "id": "03fb581c",
   "metadata": {
    "scrolled": true
   },
   "outputs": [
    {
     "name": "stdout",
     "output_type": "stream",
     "text": [
      "a:54\n",
      "a:5\n",
      "a:151\n",
      "a:1616\n",
      "a:11\n",
      "a:15\n",
      "a:1131\n",
      "a:48\n",
      "a:486\n",
      "b:6\n",
      "b:89\n",
      "b:36\n",
      "b:25\n",
      "b:14\n",
      "b:78\n",
      "b:9\n",
      "b:63\n",
      "b:52\n",
      "[[48, -84, 115], [1591, -3, -63], [1122, -15, 434]]\n"
     ]
    }
   ],
   "source": [
    "\"\"\"23/08/23\n",
    "difference of the 2 matrices\"\"\"\n",
    "a=[[int(input('a:')) for i in range(3)] for i in range(3)]\n",
    "b=[[int(input('b:')) for i in range(3)] for i in range(3)]\n",
    "c=[[a[i][j]-b[i][j] for j in range(3)] for i in range(3)]\n",
    "print(c)"
   ]
  }
 ],
 "metadata": {
  "kernelspec": {
   "display_name": "Python 3 (ipykernel)",
   "language": "python",
   "name": "python3"
  },
  "language_info": {
   "codemirror_mode": {
    "name": "ipython",
    "version": 3
   },
   "file_extension": ".py",
   "mimetype": "text/x-python",
   "name": "python",
   "nbconvert_exporter": "python",
   "pygments_lexer": "ipython3",
   "version": "3.8.5"
  }
 },
 "nbformat": 4,
 "nbformat_minor": 5
}

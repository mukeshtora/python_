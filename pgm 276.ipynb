{
 "cells": [
  {
   "cell_type": "code",
   "execution_count": 2,
   "id": "7e0531d3",
   "metadata": {},
   "outputs": [
    {
     "name": "stdout",
     "output_type": "stream",
     "text": [
      "sin: -0.9880316240928618 cos: -0.6669380616522619 tan: 1.2219599181369434\n"
     ]
    }
   ],
   "source": [
    "\"\"\"\n",
    "pass the function as argument to a function, find sin, cos and tan value\n",
    "pg.no.276\n",
    "03/11/23\n",
    "\"\"\"\n",
    "import math\n",
    "def cal (fn,d):\n",
    "    return (fn(d))\n",
    "a=cal(math.sin,30)\n",
    "b=cal(math.cos,40)\n",
    "c=cal(math.tan,70)\n",
    "print('sin:',a,'cos:',b,'tan:',c)"
   ]
  },
  {
   "cell_type": "code",
   "execution_count": null,
   "id": "4ce4f66a",
   "metadata": {},
   "outputs": [],
   "source": []
  }
 ],
 "metadata": {
  "kernelspec": {
   "display_name": "Python 3 (ipykernel)",
   "language": "python",
   "name": "python3"
  },
  "language_info": {
   "codemirror_mode": {
    "name": "ipython",
    "version": 3
   },
   "file_extension": ".py",
   "mimetype": "text/x-python",
   "name": "python",
   "nbconvert_exporter": "python",
   "pygments_lexer": "ipython3",
   "version": "3.8.5"
  }
 },
 "nbformat": 4,
 "nbformat_minor": 5
}

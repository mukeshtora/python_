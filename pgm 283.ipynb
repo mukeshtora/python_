{
 "cells": [
  {
   "cell_type": "code",
   "execution_count": 3,
   "id": "9e2d198c",
   "metadata": {},
   "outputs": [
    {
     "name": "stdout",
     "output_type": "stream",
     "text": [
      "add: 15\n",
      "product: 50\n",
      "division 2\n",
      "modulus 0\n"
     ]
    }
   ],
   "source": [
    "\"\"\" calculator function\n",
    "    03/11/23\n",
    "    pg.no.283\n",
    "\"\"\"\n",
    "def calc(d,p,r):\n",
    "    def add(a,b):\n",
    "        return a+b\n",
    "    def prod(a,b):\n",
    "        return a*b\n",
    "    def div(a,b):\n",
    "        return a//b\n",
    "    def mod(a,b):\n",
    "        return a%b\n",
    "    if r=='+':\n",
    "        return add(d,p)\n",
    "    elif r=='*':\n",
    "        return prod(d,p)\n",
    "    elif r=='//':\n",
    "        return div(d,p)\n",
    "    elif r=='%':\n",
    "        return mod(d,p)\n",
    "print('add:',calc(10,5,'+'))\n",
    "print('product:',calc(10,5,'*'))\n",
    "print('division',calc(10,5,'//'))\n",
    "print('modulus',calc(10,5,'%'))\n",
    "        \n",
    "        \n",
    "    "
   ]
  },
  {
   "cell_type": "code",
   "execution_count": null,
   "id": "961d6841",
   "metadata": {},
   "outputs": [],
   "source": []
  }
 ],
 "metadata": {
  "kernelspec": {
   "display_name": "Python 3 (ipykernel)",
   "language": "python",
   "name": "python3"
  },
  "language_info": {
   "codemirror_mode": {
    "name": "ipython",
    "version": 3
   },
   "file_extension": ".py",
   "mimetype": "text/x-python",
   "name": "python",
   "nbconvert_exporter": "python",
   "pygments_lexer": "ipython3",
   "version": "3.8.5"
  }
 },
 "nbformat": 4,
 "nbformat_minor": 5
}

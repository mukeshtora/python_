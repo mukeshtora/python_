{
 "cells": [
  {
   "cell_type": "code",
   "execution_count": 9,
   "id": "cdd48627",
   "metadata": {},
   "outputs": [],
   "source": [
    "\"\"\"\n",
    "04/01/2024\n",
    "pg.no. 391\n",
    "Pack your labels on top, bottom, right and left sides.\n",
    "\"\"\"\n",
    "import tkinter as tk\n",
    "w=tk.Tk()\n",
    "def mainwindow():\n",
    "    w.title('linsoft')\n",
    "    w.configure(background='pink')\n",
    "    w.minsize(600,400)\n",
    "    w.maxsize(1200,900)\n",
    "    w.geometry(\"00x400+90+90\")\n",
    "    w.attributes('-alpha',1)\n",
    "\n",
    "def design():\n",
    "    l1=tk.Label(w,text='Name   : Mukesh',bg='blue',fg='yellow',font=('times',15))\n",
    "    l1.pack(side=tk.LEFT)\n",
    "    l2=tk.Label(w,text='Age    : 21',bg='blue',fg='yellow',font=('times',15))\n",
    "    l2.pack(side=tk.RIGHT)\n",
    "    l3=tk.Label(w,text='Address: Trichy',bg='blue',fg='yellow',font=('times',15))\n",
    "    l3.pack(side=tk.TOP)\n",
    "    l4=tk.Label(w,text='pin    : 621218',bg='blue',fg='yellow',font=('times',15))\n",
    "    l4.pack(side=tk.BOTTOM)\n",
    "    w.mainloop()\n",
    "    \n",
    "#main\n",
    "mainwindow()\n",
    "design()"
   ]
  },
  {
   "cell_type": "code",
   "execution_count": null,
   "id": "3f6ec6b7",
   "metadata": {},
   "outputs": [],
   "source": []
  }
 ],
 "metadata": {
  "kernelspec": {
   "display_name": "Python 3 (ipykernel)",
   "language": "python",
   "name": "python3"
  },
  "language_info": {
   "codemirror_mode": {
    "name": "ipython",
    "version": 3
   },
   "file_extension": ".py",
   "mimetype": "text/x-python",
   "name": "python",
   "nbconvert_exporter": "python",
   "pygments_lexer": "ipython3",
   "version": "3.8.5"
  }
 },
 "nbformat": 4,
 "nbformat_minor": 5
}

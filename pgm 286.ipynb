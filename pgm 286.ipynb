{
 "cells": [
  {
   "cell_type": "code",
   "execution_count": 1,
   "id": "6f9daa26",
   "metadata": {},
   "outputs": [
    {
     "name": "stdout",
     "output_type": "stream",
     "text": [
      "35\n"
     ]
    }
   ],
   "source": [
    "\"\"\"\n",
    "pg.no.286\n",
    "calculate biggest of three numbers using closure function\n",
    "05/11/23\n",
    "\"\"\"\n",
    "def big():\n",
    "    def biggest(a,b,c):\n",
    "        a= (a if a>c else c) if a>b else (b if b>c else c)\n",
    "        return a\n",
    "    return biggest\n",
    "x=big()\n",
    "print(x(10,20,35))"
   ]
  },
  {
   "cell_type": "code",
   "execution_count": null,
   "id": "611dd5ea",
   "metadata": {},
   "outputs": [],
   "source": []
  }
 ],
 "metadata": {
  "kernelspec": {
   "display_name": "Python 3 (ipykernel)",
   "language": "python",
   "name": "python3"
  },
  "language_info": {
   "codemirror_mode": {
    "name": "ipython",
    "version": 3
   },
   "file_extension": ".py",
   "mimetype": "text/x-python",
   "name": "python",
   "nbconvert_exporter": "python",
   "pygments_lexer": "ipython3",
   "version": "3.8.5"
  }
 },
 "nbformat": 4,
 "nbformat_minor": 5
}

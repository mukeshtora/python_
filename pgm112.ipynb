{
 "cells": [
  {
   "cell_type": "code",
   "execution_count": 1,
   "id": "91da7285",
   "metadata": {},
   "outputs": [
    {
     "name": "stdout",
     "output_type": "stream",
     "text": [
      "Linsoft Academy\n",
      "ymedacA tfosniL\n"
     ]
    }
   ],
   "source": [
    "#pg.no.112\n",
    "#04/08/23\n",
    "#reverse the string using negative indexing\n",
    "s1=input()\n",
    "s2=''\n",
    "n=len(s1)\n",
    "i=1\n",
    "while i<=n:\n",
    "    s2=s2+s1[-i]\n",
    "    i=i+1\n",
    "print(s2)\n"
   ]
  },
  {
   "cell_type": "code",
   "execution_count": null,
   "id": "7a3a11b4",
   "metadata": {},
   "outputs": [],
   "source": []
  }
 ],
 "metadata": {
  "kernelspec": {
   "display_name": "Python 3 (ipykernel)",
   "language": "python",
   "name": "python3"
  },
  "language_info": {
   "codemirror_mode": {
    "name": "ipython",
    "version": 3
   },
   "file_extension": ".py",
   "mimetype": "text/x-python",
   "name": "python",
   "nbconvert_exporter": "python",
   "pygments_lexer": "ipython3",
   "version": "3.8.5"
  }
 },
 "nbformat": 4,
 "nbformat_minor": 5
}

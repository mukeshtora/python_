{
 "cells": [
  {
   "cell_type": "code",
   "execution_count": 2,
   "id": "1fcb3892",
   "metadata": {},
   "outputs": [
    {
     "name": "stdout",
     "output_type": "stream",
     "text": [
      "enter n:5\n",
      "enter a:24\n",
      "enter a:67\n",
      "enter a:23\n",
      "enter a:8\n",
      "enter a:3\n",
      "second biggest number: 24\n"
     ]
    }
   ],
   "source": [
    "#21/07/23\n",
    "#find the 2nd biggest element of the list\n",
    "a=[]\n",
    "n=int(input('enter n:'))\n",
    "for i in range(n):\n",
    "    l=int(input('enter a:'))\n",
    "    a.append(l)\n",
    "b=0\n",
    "c=0\n",
    "for i in range(len(a)):\n",
    "    b=a[i] if a[i]>b else b\n",
    "    c=i if a[i] > a[c] else c\n",
    "sb=0\n",
    "for i in range(len(a)):\n",
    "    sb=a[i] if a[i]!=b and a[i]>sb else sb\n",
    "    \n",
    "print('second biggest number:',sb)"
   ]
  },
  {
   "cell_type": "code",
   "execution_count": null,
   "id": "4a70dc70",
   "metadata": {},
   "outputs": [],
   "source": []
  }
 ],
 "metadata": {
  "kernelspec": {
   "display_name": "Python 3 (ipykernel)",
   "language": "python",
   "name": "python3"
  },
  "language_info": {
   "codemirror_mode": {
    "name": "ipython",
    "version": 3
   },
   "file_extension": ".py",
   "mimetype": "text/x-python",
   "name": "python",
   "nbconvert_exporter": "python",
   "pygments_lexer": "ipython3",
   "version": "3.8.5"
  }
 },
 "nbformat": 4,
 "nbformat_minor": 5
}

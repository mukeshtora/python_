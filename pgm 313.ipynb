{
 "cells": [
  {
   "cell_type": "code",
   "execution_count": 6,
   "id": "9d17415d",
   "metadata": {},
   "outputs": [
    {
     "name": "stdout",
     "output_type": "stream",
     "text": [
      "string:L1n$)fTaC@DeMY\n",
      "upper: 6\n",
      "lower: 4\n",
      "digit: 1\n",
      "special chr: 3\n"
     ]
    }
   ],
   "source": [
    "\"\"\"\n",
    "pg.no.313\n",
    "18/11/23\n",
    "read the string in main and count the number of upper case, lower case and special character using global variable.\n",
    "\"\"\"\n",
    "u=0\n",
    "l=0\n",
    "d=0\n",
    "s=0\n",
    "def count(a):\n",
    "    global u,l,d,s\n",
    "    for i in a:\n",
    "        if i>='A' and i<='Z':\n",
    "            u+=1\n",
    "        elif i>='a' and i<='z':\n",
    "            l+=1\n",
    "        elif i>='0' and i<='9':\n",
    "            d+=1\n",
    "        else:\n",
    "            s+=1\n",
    "def print_():\n",
    "    print('upper:',u)\n",
    "    print('lower:',l)\n",
    "    print('digit:',d)\n",
    "    print('special chr:',s)\n",
    "    \n",
    "#main\n",
    "n=input('string:')\n",
    "count(n)\n",
    "print_()\n"
   ]
  },
  {
   "cell_type": "code",
   "execution_count": null,
   "id": "c7d88e43",
   "metadata": {},
   "outputs": [],
   "source": [
    "L1n$)fTaC@DeMY"
   ]
  }
 ],
 "metadata": {
  "kernelspec": {
   "display_name": "Python 3 (ipykernel)",
   "language": "python",
   "name": "python3"
  },
  "language_info": {
   "codemirror_mode": {
    "name": "ipython",
    "version": 3
   },
   "file_extension": ".py",
   "mimetype": "text/x-python",
   "name": "python",
   "nbconvert_exporter": "python",
   "pygments_lexer": "ipython3",
   "version": "3.8.5"
  }
 },
 "nbformat": 4,
 "nbformat_minor": 5
}

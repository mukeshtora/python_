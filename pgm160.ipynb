{
 "cells": [
  {
   "cell_type": "code",
   "execution_count": 11,
   "id": "aac2fd64",
   "metadata": {},
   "outputs": [
    {
     "name": "stdout",
     "output_type": "stream",
     "text": [
      "          *\n",
      "         * *\n",
      "        *   *\n",
      "       *     *\n",
      "      *       *\n",
      "     ***********\n"
     ]
    }
   ],
   "source": [
    "#11/08/23\n",
    "#a\n",
    "print(' '*10,end='*')\n",
    "print()\n",
    "n=9\n",
    "m=1\n",
    "for i in range(4):\n",
    "    print(' '*n+'*'+' '*m+'*')\n",
    "    n-=1\n",
    "    m+=2\n",
    "print(' '*5+'*'*11)"
   ]
  },
  {
   "cell_type": "code",
   "execution_count": 44,
   "id": "c04a2d09",
   "metadata": {},
   "outputs": [
    {
     "name": "stdout",
     "output_type": "stream",
     "text": [
      "    *********\n",
      "     * * *\n",
      "   *  *  *\n",
      " *   *   *\n",
      "*    *    *\n"
     ]
    }
   ],
   "source": [
    "#l1\n",
    "a1=4\n",
    "b=0\n",
    "c=0\n",
    "d=7\n",
    "for i in range(5):\n",
    "    print(' '*a1+'*'+' '*b+'*'+' '*c+'*'*7if d==7 else ' '*d+'*'+' '*b+'*'+' '*c+'*')\n",
    "    a1-=1\n",
    "    b+=1\n",
    "    c+=1\n",
    "    d-=2"
   ]
  },
  {
   "cell_type": "code",
   "execution_count": 24,
   "id": "214c67cc",
   "metadata": {},
   "outputs": [
    {
     "name": "stdout",
     "output_type": "stream",
     "text": [
      " *   *   **   *   *\n",
      "  *  *  * *  *  *\n",
      "   * * *   * * *\n"
     ]
    }
   ],
   "source": [
    "#l2\n",
    "a=1\n",
    "b=3\n",
    "c=3\n",
    "d=-1\n",
    "for i in range(1,4):\n",
    "    print(' '*a+'*'+' '*b+'*'+' '*c+'*'+' '*d+'*'+' '*b+'*'+' '*c+'*')\n",
    "    a+=1\n",
    "    b-=1\n",
    "    c-=1\n",
    "    d+=2\n",
    "#print(' '*5+'*'*11)"
   ]
  },
  {
   "cell_type": "code",
   "execution_count": 15,
   "id": "9cd917c6",
   "metadata": {},
   "outputs": [
    {
     "name": "stdout",
     "output_type": "stream",
     "text": [
      "      *       *\n",
      "       *     *\n",
      "        *   *\n",
      "         * *\n",
      "          *"
     ]
    }
   ],
   "source": [
    "#d\n",
    "z=6\n",
    "y=7\n",
    "for i in range(4):\n",
    "    print(' '*z+'*'+' '*y+'*')\n",
    "    z+=1\n",
    "    y-=2\n",
    "print(' '*10,end='*')"
   ]
  },
  {
   "cell_type": "code",
   "execution_count": null,
   "id": "ebe53d10",
   "metadata": {},
   "outputs": [],
   "source": []
  },
  {
   "cell_type": "code",
   "execution_count": 61,
   "id": "b7749251",
   "metadata": {},
   "outputs": [
    {
     "name": "stdout",
     "output_type": "stream",
     "text": [
      "          *\n",
      "         * *\n",
      "        *   *\n",
      "       *     *\n",
      "      *       *\n",
      "     *         *\n",
      "    ***       ***\n",
      "* * *     * * *\n",
      "*  *  *   *  *  *\n",
      "*   *   * *   *   *\n",
      "*    *    **    *    *\n",
      "    *********\n",
      "     * * *\n",
      "   *  *  *\n",
      " *   *   *\n",
      "*    *    *\n",
      " *   *   **   *   *\n",
      "  *  *  * *  *  *\n",
      "   * * *   * * *\n",
      "      *       *\n",
      "       *     *\n",
      "        *   *\n",
      "         * *\n",
      "          *"
     ]
    }
   ],
   "source": [
    "print(' '*10,end='*')\n",
    "print()\n",
    "n=9\n",
    "m=1\n",
    "for i in range(5):\n",
    "    print(' '*n+'*'+' '*m+'*')\n",
    "    n-=1\n",
    "    m+=2\n",
    "a1=4\n",
    "b=0\n",
    "c=0\n",
    "d=7\n",
    "for i in range(5):\n",
    "    print(' '*a1+'*'+' '*b+'*'+' '*c+'*'+' '*d+'*'+' '*b+'*'+' '*c+'*')\n",
    "    a1-=4\n",
    "    b+=1\n",
    "    c+=1\n",
    "    d-=2\n",
    "#l1\n",
    "a1=4\n",
    "b=0\n",
    "c=0\n",
    "d=7\n",
    "for i in range(5):\n",
    "    print(' '*a1+'*'+' '*b+'*'+' '*c+'*'*7if d==7 else ' '*d+'*'+' '*b+'*'+' '*c+'*')\n",
    "    a1-=1\n",
    "    b+=1\n",
    "    c+=1\n",
    "    d-=2\n",
    "#l2\n",
    "a=1\n",
    "b=3\n",
    "c=3\n",
    "d=-1\n",
    "for i in range(1,4):\n",
    "    print(' '*a+'*'+' '*b+'*'+' '*c+'*'+' '*d+'*'+' '*b+'*'+' '*c+'*')\n",
    "    a+=1\n",
    "    b-=1\n",
    "    c-=1\n",
    "    d+=2\n",
    "#print(' '*5+'*'*11)\n",
    "#d\n",
    "z=6\n",
    "y=7\n",
    "for i in range(4):\n",
    "    print(' '*z+'*'+' '*y+'*')\n",
    "    z+=1\n",
    "    y-=2\n",
    "print(' '*10,end='*')"
   ]
  },
  {
   "cell_type": "code",
   "execution_count": null,
   "id": "74872de3",
   "metadata": {},
   "outputs": [],
   "source": []
  }
 ],
 "metadata": {
  "kernelspec": {
   "display_name": "Python 3 (ipykernel)",
   "language": "python",
   "name": "python3"
  },
  "language_info": {
   "codemirror_mode": {
    "name": "ipython",
    "version": 3
   },
   "file_extension": ".py",
   "mimetype": "text/x-python",
   "name": "python",
   "nbconvert_exporter": "python",
   "pygments_lexer": "ipython3",
   "version": "3.8.5"
  }
 },
 "nbformat": 4,
 "nbformat_minor": 5
}

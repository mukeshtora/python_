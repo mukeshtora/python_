{
 "cells": [
  {
   "cell_type": "code",
   "execution_count": 2,
   "id": "8a619e6c",
   "metadata": {},
   "outputs": [
    {
     "name": "stdout",
     "output_type": "stream",
     "text": [
      "30\n"
     ]
    }
   ],
   "source": [
    "\"\"\"\n",
    "pg.no.357\n",
    "11/12/23\n",
    "Sum of two int numbers using Oop\n",
    "\"\"\"\n",
    "class sumof2():\n",
    "    __x=None\n",
    "    __y=None\n",
    "    __s=None\n",
    "    \n",
    "    def set(self):\n",
    "        self.__x=10\n",
    "        self.__y=20\n",
    "        \n",
    "    def find(self):\n",
    "        self.__s= self.__x+self.__y\n",
    "        \n",
    "    def display(self):\n",
    "        print(self.__s)\n",
    "        \n",
    "#main\n",
    "a=sumof2()\n",
    "a.set()\n",
    "a.find()\n",
    "a.display()\n",
    "        "
   ]
  },
  {
   "cell_type": "code",
   "execution_count": null,
   "id": "b7bf0e80",
   "metadata": {},
   "outputs": [],
   "source": []
  }
 ],
 "metadata": {
  "kernelspec": {
   "display_name": "Python 3 (ipykernel)",
   "language": "python",
   "name": "python3"
  },
  "language_info": {
   "codemirror_mode": {
    "name": "ipython",
    "version": 3
   },
   "file_extension": ".py",
   "mimetype": "text/x-python",
   "name": "python",
   "nbconvert_exporter": "python",
   "pygments_lexer": "ipython3",
   "version": "3.8.5"
  }
 },
 "nbformat": 4,
 "nbformat_minor": 5
}

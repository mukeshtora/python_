{
 "cells": [
  {
   "cell_type": "code",
   "execution_count": 3,
   "id": "7e787625",
   "metadata": {},
   "outputs": [
    {
     "name": "stdout",
     "output_type": "stream",
     "text": [
      "list: [1, 54, 69, 42, -41, -59, 25, -50, 36, 74]\n",
      "unique values: {1, 36, 69, -59, 42, 74, -50, 54, -41, 25}\n"
     ]
    }
   ],
   "source": [
    "\"\"\"\n",
    "pg.no.256\n",
    "print the unique values of the list\n",
    "20/9/23\n",
    "\"\"\"\n",
    "import random as rd\n",
    "a=[rd.randint(-100,100) for i in range(10)]\n",
    "b=set(a)\n",
    "print('list:',a)\n",
    "print('unique values:',b)"
   ]
  },
  {
   "cell_type": "code",
   "execution_count": null,
   "id": "aaf7b37e",
   "metadata": {},
   "outputs": [],
   "source": []
  }
 ],
 "metadata": {
  "kernelspec": {
   "display_name": "Python 3 (ipykernel)",
   "language": "python",
   "name": "python3"
  },
  "language_info": {
   "codemirror_mode": {
    "name": "ipython",
    "version": 3
   },
   "file_extension": ".py",
   "mimetype": "text/x-python",
   "name": "python",
   "nbconvert_exporter": "python",
   "pygments_lexer": "ipython3",
   "version": "3.8.5"
  }
 },
 "nbformat": 4,
 "nbformat_minor": 5
}

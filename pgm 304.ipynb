{
 "cells": [
  {
   "cell_type": "code",
   "execution_count": 2,
   "id": "f1223531",
   "metadata": {},
   "outputs": [
    {
     "name": "stdout",
     "output_type": "stream",
     "text": [
      "n:3\n",
      "matrix 1: [[38, -21, -64], [3, 92, 2], [57, 99, 95]]\n",
      "matrix 2: [[-17, 37, -9], [4, -88, 64], [20, 52, -56]]\n",
      "sum of matrices: [[21, 16, -73], [7, 4, 66], [77, 151, 39]]\n"
     ]
    }
   ],
   "source": [
    "\"\"\"\n",
    "pg.no.304\n",
    "16/11/23\n",
    "sum of two matrices using lambda function\n",
    "\"\"\"\n",
    "import random as rd\n",
    "x=lambda n:[[rd.randint(-100,100) for i in range(n)] for i in range(n)]\n",
    "n=int(input('n:'))\n",
    "m1=x(n)\n",
    "m2=x(n)\n",
    "m3=lambda a,b:[[a[i][j]+b[i][j] for j in range(n)] for i in range(n)]\n",
    "print('matrix 1:',m1)\n",
    "print('matrix 2:',m2)\n",
    "print('sum of matrices:',m3(m1,m2))\n"
   ]
  },
  {
   "cell_type": "code",
   "execution_count": null,
   "id": "c9f59a9e",
   "metadata": {},
   "outputs": [],
   "source": []
  }
 ],
 "metadata": {
  "kernelspec": {
   "display_name": "Python 3 (ipykernel)",
   "language": "python",
   "name": "python3"
  },
  "language_info": {
   "codemirror_mode": {
    "name": "ipython",
    "version": 3
   },
   "file_extension": ".py",
   "mimetype": "text/x-python",
   "name": "python",
   "nbconvert_exporter": "python",
   "pygments_lexer": "ipython3",
   "version": "3.8.5"
  }
 },
 "nbformat": 4,
 "nbformat_minor": 5
}

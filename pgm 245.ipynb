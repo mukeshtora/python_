{
 "cells": [
  {
   "cell_type": "code",
   "execution_count": 1,
   "id": "0a68ef34",
   "metadata": {},
   "outputs": [
    {
     "name": "stdout",
     "output_type": "stream",
     "text": [
      "{'name': 'mukesh', 'age': 21, 'gender': 'male', 'mailid': 'm@gamil.com'}\n",
      "keys: dict_keys(['name', 'age', 'gender', 'mailid'])\n",
      "values: dict_values(['mukesh', 21, 'male', 'm@gamil.com'])\n"
     ]
    }
   ],
   "source": [
    "\"\"\"\n",
    "25/08/23\n",
    "construct a dictionary of bio-data, print the entire dictionary, print only the keys, and only the values\n",
    "\"\"\"\n",
    "d={}\n",
    "d['name']='mukesh'\n",
    "d['age']=21\n",
    "d['gender']='male'\n",
    "d['mailid']='m@gamil.com'\n",
    "keys=d.keys()\n",
    "values=d.values()\n",
    "print(d)\n",
    "print('keys:',keys)\n",
    "print('values:',values)"
   ]
  },
  {
   "cell_type": "code",
   "execution_count": null,
   "id": "6883c9c0",
   "metadata": {},
   "outputs": [],
   "source": []
  }
 ],
 "metadata": {
  "kernelspec": {
   "display_name": "Python 3 (ipykernel)",
   "language": "python",
   "name": "python3"
  },
  "language_info": {
   "codemirror_mode": {
    "name": "ipython",
    "version": 3
   },
   "file_extension": ".py",
   "mimetype": "text/x-python",
   "name": "python",
   "nbconvert_exporter": "python",
   "pygments_lexer": "ipython3",
   "version": "3.8.5"
  }
 },
 "nbformat": 4,
 "nbformat_minor": 5
}

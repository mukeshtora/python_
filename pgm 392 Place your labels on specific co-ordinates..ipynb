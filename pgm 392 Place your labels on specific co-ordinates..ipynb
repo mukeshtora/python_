{
 "cells": [
  {
   "cell_type": "code",
   "execution_count": 1,
   "id": "c7edd5b2",
   "metadata": {},
   "outputs": [],
   "source": [
    "\"\"\"\n",
    "04/01/2024\n",
    "pg.no. 392\n",
    "Place your labels on specific co-ordinates.\n",
    "\"\"\"\n",
    "import tkinter as tk\n",
    "w=tk.Tk()\n",
    "def mainwindow():\n",
    "    w.title('Main window')\n",
    "    w.configure(background='grey')\n",
    "    w.minsize(600,400)\n",
    "    w.maxsize(1520,900)\n",
    "    w.geometry(\"00x400+90+90\")\n",
    "    w.attributes('-alpha',1)\n",
    "\n",
    "def design():\n",
    "    l0=tk.Label(w,text=\"Bio - Data\",bg='black',fg='White',font=(\"algerian\",15))\n",
    "    l0.place(x=220,y=20,w=150,h=70)\n",
    "    l1=tk.Label(w,text='Name: Mukesh',bg='blue',fg='gold',font=('times',15))\n",
    "    l1.place(x=50+5,y=100+50,w=150,h=70)\n",
    "    l2=tk.Label(w,text='Age: 21',bg='pink',fg='red',font=('times',15))\n",
    "    l2.place(x=50+5,y=150+50,w=150,h=70)\n",
    "    l3=tk.Label(w,text='Address: Trichy',bg='green',fg='white',font=('times',15))\n",
    "    l3.place(x=350+20,y=100+50,w=150,h=70)\n",
    "    l4=tk.Label(w,text='Pincode: 621218',bg='gold',fg='darkgreen',font=('times',15))\n",
    "    l4.place(x=350+20,y=150+50,w=150,h=70)\n",
    "    \n",
    "    w.mainloop()\n",
    "    \n",
    "#main\n",
    "mainwindow()\n",
    "design()"
   ]
  },
  {
   "cell_type": "code",
   "execution_count": null,
   "id": "8f9a34e7",
   "metadata": {},
   "outputs": [],
   "source": []
  },
  {
   "cell_type": "code",
   "execution_count": null,
   "id": "c5c9cc9e",
   "metadata": {},
   "outputs": [],
   "source": []
  }
 ],
 "metadata": {
  "kernelspec": {
   "display_name": "Python 3 (ipykernel)",
   "language": "python",
   "name": "python3"
  },
  "language_info": {
   "codemirror_mode": {
    "name": "ipython",
    "version": 3
   },
   "file_extension": ".py",
   "mimetype": "text/x-python",
   "name": "python",
   "nbconvert_exporter": "python",
   "pygments_lexer": "ipython3",
   "version": "3.8.5"
  }
 },
 "nbformat": 4,
 "nbformat_minor": 5
}

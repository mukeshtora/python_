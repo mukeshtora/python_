{
 "cells": [
  {
   "cell_type": "code",
   "execution_count": 15,
   "id": "40d873b0",
   "metadata": {},
   "outputs": [],
   "source": [
    "\"\"\"\n",
    "pg.no. 387\n",
    "04/01/24\n",
    "Create your window using attributes method. make it transparent.\n",
    "\"\"\"\n",
    "import tkinter\n",
    "w=tkinter.Tk()\n",
    "w.attributes('-alpha',0.6)\n",
    "w.mainloop()"
   ]
  },
  {
   "cell_type": "code",
   "execution_count": null,
   "id": "835ddec7",
   "metadata": {},
   "outputs": [],
   "source": []
  }
 ],
 "metadata": {
  "kernelspec": {
   "display_name": "Python 3 (ipykernel)",
   "language": "python",
   "name": "python3"
  },
  "language_info": {
   "codemirror_mode": {
    "name": "ipython",
    "version": 3
   },
   "file_extension": ".py",
   "mimetype": "text/x-python",
   "name": "python",
   "nbconvert_exporter": "python",
   "pygments_lexer": "ipython3",
   "version": "3.8.5"
  }
 },
 "nbformat": 4,
 "nbformat_minor": 5
}

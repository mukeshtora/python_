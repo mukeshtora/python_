{
 "cells": [
  {
   "cell_type": "code",
   "execution_count": 3,
   "id": "43b94c84",
   "metadata": {},
   "outputs": [
    {
     "name": "stdout",
     "output_type": "stream",
     "text": [
      "n:10\n",
      "[9, 59, 45, 67, 12, 8, 24, 52, 76, 48]\n"
     ]
    }
   ],
   "source": [
    "\"\"\"\n",
    "pg.no.298\n",
    "15/11/23\n",
    "construct a list of n random numbers using lambda\n",
    "\"\"\"\n",
    "import random as rd\n",
    "x=lambda n:[rd.randint(1,100) for i in range(n)]\n",
    "n=int(input('n:'))\n",
    "print(x(n))"
   ]
  },
  {
   "cell_type": "code",
   "execution_count": null,
   "id": "bc7c260b",
   "metadata": {},
   "outputs": [],
   "source": []
  }
 ],
 "metadata": {
  "kernelspec": {
   "display_name": "Python 3 (ipykernel)",
   "language": "python",
   "name": "python3"
  },
  "language_info": {
   "codemirror_mode": {
    "name": "ipython",
    "version": 3
   },
   "file_extension": ".py",
   "mimetype": "text/x-python",
   "name": "python",
   "nbconvert_exporter": "python",
   "pygments_lexer": "ipython3",
   "version": "3.8.5"
  }
 },
 "nbformat": 4,
 "nbformat_minor": 5
}

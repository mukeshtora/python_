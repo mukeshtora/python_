{
 "cells": [
  {
   "cell_type": "code",
   "execution_count": 4,
   "id": "246e6fa3",
   "metadata": {},
   "outputs": [
    {
     "name": "stdout",
     "output_type": "stream",
     "text": [
      "n:10\n",
      "list: [-67, 24, -26, -58, 36, -7, -36, 60, 54, 17]\n",
      "4489\n",
      "576\n",
      "676\n",
      "3364\n",
      "1296\n",
      "49\n",
      "1296\n",
      "3600\n",
      "2916\n",
      "289\n"
     ]
    }
   ],
   "source": [
    "\"\"\"\n",
    "pg.no.308\n",
    "16/11/23\n",
    "find the squares of the elements in the list using mapand lambda function\n",
    "\"\"\"\n",
    "import random as rd\n",
    "n=int(input('n:'))\n",
    "l=[rd.randint(-100,100) for i in range(n)]\n",
    "x=map(lambda n:n**2, l)\n",
    "print('list:',l)\n",
    "for i in x:\n",
    "    print(i)"
   ]
  },
  {
   "cell_type": "code",
   "execution_count": null,
   "id": "04f68b98",
   "metadata": {},
   "outputs": [],
   "source": []
  }
 ],
 "metadata": {
  "kernelspec": {
   "display_name": "Python 3 (ipykernel)",
   "language": "python",
   "name": "python3"
  },
  "language_info": {
   "codemirror_mode": {
    "name": "ipython",
    "version": 3
   },
   "file_extension": ".py",
   "mimetype": "text/x-python",
   "name": "python",
   "nbconvert_exporter": "python",
   "pygments_lexer": "ipython3",
   "version": "3.8.5"
  }
 },
 "nbformat": 4,
 "nbformat_minor": 5
}

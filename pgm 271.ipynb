{
 "cells": [
  {
   "cell_type": "code",
   "execution_count": 12,
   "id": "24057ee8",
   "metadata": {},
   "outputs": [
    {
     "name": "stdout",
     "output_type": "stream",
     "text": [
      "1\n",
      "2\n",
      "5\n",
      "6\n"
     ]
    }
   ],
   "source": [
    "\"\"\"\n",
    "pg.no.271\n",
    "get various arguments and print it\n",
    "21/09/23\n",
    "\"\"\"\n",
    "import random as rd\n",
    "def display(*x):\n",
    "    for i in x:\n",
    "        print(i,end='\\n')\n",
    "#main\n",
    "\n",
    "display(1,2,5,6)"
   ]
  },
  {
   "cell_type": "code",
   "execution_count": null,
   "id": "4f4585d7",
   "metadata": {},
   "outputs": [],
   "source": []
  }
 ],
 "metadata": {
  "kernelspec": {
   "display_name": "Python 3 (ipykernel)",
   "language": "python",
   "name": "python3"
  },
  "language_info": {
   "codemirror_mode": {
    "name": "ipython",
    "version": 3
   },
   "file_extension": ".py",
   "mimetype": "text/x-python",
   "name": "python",
   "nbconvert_exporter": "python",
   "pygments_lexer": "ipython3",
   "version": "3.8.5"
  }
 },
 "nbformat": 4,
 "nbformat_minor": 5
}

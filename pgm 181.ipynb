{
 "cells": [
  {
   "cell_type": "code",
   "execution_count": 1,
   "id": "0166383c",
   "metadata": {},
   "outputs": [
    {
     "name": "stdout",
     "output_type": "stream",
     "text": [
      "enter n:5\n",
      "enter a:1\n",
      "enter a:3\n",
      "enter a:4\n",
      "enter a:7\n",
      "enter a:3\n",
      "18\n"
     ]
    }
   ],
   "source": [
    "#21/07/23\n",
    "#su of elements of thelist\n",
    "l=[]\n",
    "n=int(input('enter n:'))\n",
    "for i in range(n):\n",
    "    a=int(input('enter a:'))\n",
    "    l.append(a)\n",
    "b=0\n",
    "for i in l:\n",
    "    b+=i\n",
    "print(b)"
   ]
  },
  {
   "cell_type": "code",
   "execution_count": null,
   "id": "852d36fc",
   "metadata": {},
   "outputs": [],
   "source": []
  }
 ],
 "metadata": {
  "kernelspec": {
   "display_name": "Python 3 (ipykernel)",
   "language": "python",
   "name": "python3"
  },
  "language_info": {
   "codemirror_mode": {
    "name": "ipython",
    "version": 3
   },
   "file_extension": ".py",
   "mimetype": "text/x-python",
   "name": "python",
   "nbconvert_exporter": "python",
   "pygments_lexer": "ipython3",
   "version": "3.8.5"
  }
 },
 "nbformat": 4,
 "nbformat_minor": 5
}

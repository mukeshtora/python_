{
 "cells": [
  {
   "cell_type": "code",
   "execution_count": 1,
   "id": "d5a32ee6",
   "metadata": {},
   "outputs": [
    {
     "name": "stdout",
     "output_type": "stream",
     "text": [
      "enter r:6\n",
      "904.3199999999999\n"
     ]
    }
   ],
   "source": [
    "#pg.no15\n",
    "#17/7/23\n",
    "#find volumn of sphere\n",
    "\n",
    "r=int(input(\"enter r:\"))\n",
    "v=4/3*3.14*r**3\n",
    "print(v)"
   ]
  },
  {
   "cell_type": "code",
   "execution_count": 2,
   "id": "1c4f97d7",
   "metadata": {},
   "outputs": [
    {
     "name": "stdout",
     "output_type": "stream",
     "text": [
      "enter r:5\n",
      "enter x:4\n",
      "314.0\n"
     ]
    }
   ],
   "source": [
    "#pg.no.16\n",
    "#17/7/23\n",
    "#find volumn of cylinder\n",
    "\n",
    "r=int(input(\"enter r:\"))\n",
    "x=int(input(\"enter x:\"))\n",
    "v=3.14*r**2*x\n",
    "print(v)"
   ]
  },
  {
   "cell_type": "code",
   "execution_count": 3,
   "id": "54d8fad6",
   "metadata": {},
   "outputs": [
    {
     "name": "stdout",
     "output_type": "stream",
     "text": [
      "enter breath:6\n",
      "enter height7\n",
      "21.0\n"
     ]
    }
   ],
   "source": [
    "#pg.no.17\n",
    "#17/7/23\n",
    "#area of triangle\n",
    "\n",
    "b=int(input(\"enter breath:\"))\n",
    "h=int(input(\"enter height\"))\n",
    "area=1/2*b*h\n",
    "print(area)"
   ]
  },
  {
   "cell_type": "code",
   "execution_count": 4,
   "id": "b6a12b73",
   "metadata": {},
   "outputs": [
    {
     "name": "stdout",
     "output_type": "stream",
     "text": [
      "enter a:8\n",
      "enter b:9\n",
      "8\n"
     ]
    }
   ],
   "source": [
    "#pg.no.18\n",
    "#18/7/23\n",
    "#find reminder value of the expression a by b\n",
    "\n",
    "a=int(input(\"enter a:\"))\n",
    "b=int(input(\"enter b:\"))\n",
    "c=a%b\n",
    "print(c)"
   ]
  },
  {
   "cell_type": "code",
   "execution_count": 5,
   "id": "a7c3fdf1",
   "metadata": {},
   "outputs": [
    {
     "name": "stdout",
     "output_type": "stream",
     "text": [
      "enter a:4\n",
      "enter b:3\n",
      "reminder: 1\n",
      "Quiotient: 1\n",
      "true division: 1.3333333333333333\n"
     ]
    }
   ],
   "source": [
    "#pg.no.19\n",
    "#18/7/23\n",
    "#find reminder,quiotient and true division of the expression a by b.\n",
    "\n",
    "a=int(input(\"enter a:\"))\n",
    "b=int(input(\"enter b:\"))\n",
    "c=a%b\n",
    "d=a//b\n",
    "e=a/b\n",
    "print(\"reminder:\",c)\n",
    "print(\"Quiotient:\",d)\n",
    "print(\"true division:\",e)\n"
   ]
  },
  {
   "cell_type": "code",
   "execution_count": 8,
   "id": "8fe2e8d1",
   "metadata": {},
   "outputs": [
    {
     "name": "stdout",
     "output_type": "stream",
     "text": [
      "enter a:45\n",
      "product: 20  sum: 9\n"
     ]
    }
   ],
   "source": [
    "#pg.no.21\n",
    "#18/7/23\n",
    "#find product and sum of digits of a two digit number\n",
    "\n",
    "a=int(input(\"enter a:\"))\n",
    "c=a%10\n",
    "d=a//10\n",
    "prod=c*d\n",
    "s=c+d\n",
    "print(\"product:\",prod,\" sum:\",s)"
   ]
  },
  {
   "cell_type": "code",
   "execution_count": 9,
   "id": "a2cc5c44",
   "metadata": {},
   "outputs": [
    {
     "name": "stdout",
     "output_type": "stream",
     "text": [
      "enter a:345\n",
      "5\n",
      "4\n",
      "3\n"
     ]
    }
   ],
   "source": [
    "#pg.no 22\n",
    "#18/7/23\n",
    "#print digits of the given 3 digit number\n",
    "\n",
    "a=int(input(\"enter a:\"))\n",
    "b=a%10\n",
    "c=a//10\n",
    "d=c%10\n",
    "e=c//10\n",
    "\n",
    "print(b)\n",
    "print(d)\n",
    "print(e)"
   ]
  },
  {
   "cell_type": "code",
   "execution_count": 10,
   "id": "85559fcb",
   "metadata": {},
   "outputs": [
    {
     "name": "stdout",
     "output_type": "stream",
     "text": [
      "enter a:456\n",
      "654\n"
     ]
    }
   ],
   "source": [
    "#pg.no.23\n",
    "#18/7/23\n",
    "#reverse the given digits(number) \n",
    "\n",
    "a=int(input(\"enter a:\"))\n",
    "b=a%10\n",
    "c=a//10\n",
    "d=c%10\n",
    "e=c//10\n",
    "f=b*100+d*10+e\n",
    "print(f)"
   ]
  },
  {
   "cell_type": "code",
   "execution_count": 11,
   "id": "bde915a5",
   "metadata": {},
   "outputs": [
    {
     "name": "stdout",
     "output_type": "stream",
     "text": [
      "enter a:1\n",
      "1 is positive\n"
     ]
    }
   ],
   "source": [
    "#pg.no.24\n",
    "#18/7/23\n",
    "#find whether given number is positive or not.\n",
    "\n",
    "a=int(input(\"enter a:\"))\n",
    "if a>=0:\n",
    "    print(a,'is positive')\n",
    "else:\n",
    "    print(a,'is not positive')\n",
    "    "
   ]
  },
  {
   "cell_type": "code",
   "execution_count": 13,
   "id": "3c7da86e",
   "metadata": {},
   "outputs": [
    {
     "name": "stdout",
     "output_type": "stream",
     "text": [
      "enter a:-55\n",
      "-55 is negative\n"
     ]
    }
   ],
   "source": [
    "#pg.no.25\n",
    "#18/7/23\n",
    "#given integer number positive, negetive or zero\n",
    "\n",
    "a=int(input(\"enter a:\"))\n",
    "if a==0:\n",
    "    print(a,'a is zero')\n",
    "else:\n",
    "    if a>0:\n",
    "        print(a,'is positive')\n",
    "    else:\n",
    "        print(a,'is negative')"
   ]
  },
  {
   "cell_type": "code",
   "execution_count": 15,
   "id": "9b81d077",
   "metadata": {},
   "outputs": [
    {
     "name": "stdout",
     "output_type": "stream",
     "text": [
      "enter a:4\n",
      "enter b:5\n",
      "enter c:6\n",
      "6 is bigger\n"
     ]
    }
   ],
   "source": [
    "#pg.no.26\n",
    "#18/7/23\n",
    "#find biggest of three numbers\n",
    "\n",
    "a=int(input(\"enter a:\"))\n",
    "b=int(input(\"enter b:\"))\n",
    "c=int(input(\"enter c:\"))\n",
    "\n",
    "if a>b:\n",
    "    if a>c:\n",
    "        print(a,'is bigger')\n",
    "    else:\n",
    "        print(c,'is bigger')\n",
    "else:\n",
    "    if b>c:\n",
    "        print(b,'is bigger')\n",
    "    else:\n",
    "        print(c,'is bigger')\n",
    "        "
   ]
  },
  {
   "cell_type": "code",
   "execution_count": 16,
   "id": "47237584",
   "metadata": {},
   "outputs": [
    {
     "name": "stdout",
     "output_type": "stream",
     "text": [
      "enter a:4\n",
      "enter b:3\n",
      "enter c:9\n",
      "3 is smallest\n"
     ]
    }
   ],
   "source": [
    "#pg.no.27\n",
    "#18/7/23\n",
    "#find the smallest of three intger numbers\n",
    "\n",
    "a=int(input(\"enter a:\"))\n",
    "b=int(input(\"enter b:\"))\n",
    "c=int(input(\"enter c:\"))\n",
    "if a<b:\n",
    "    if a<c:\n",
    "        print(a,'is smallest')\n",
    "    else:\n",
    "        print(c,'is smallest')\n",
    "else:\n",
    "    if b<c:\n",
    "        print(b,'is smallest')\n",
    "    else:\n",
    "        print(c,'is smallest')"
   ]
  },
  {
   "cell_type": "code",
   "execution_count": 17,
   "id": "bb52ba93",
   "metadata": {},
   "outputs": [
    {
     "name": "stdout",
     "output_type": "stream",
     "text": [
      "enter a:4\n",
      "4 is even\n"
     ]
    }
   ],
   "source": [
    "#pg.no.28\n",
    "#18/7/23\n",
    "#given number even or not\n",
    "\n",
    "a=int(input(\"enter a:\"))\n",
    "if a%2==0:\n",
    "    print(a,'is even')\n",
    "else:\n",
    "    print(a,'not even')"
   ]
  },
  {
   "cell_type": "code",
   "execution_count": 18,
   "id": "697900f6",
   "metadata": {},
   "outputs": [
    {
     "name": "stdout",
     "output_type": "stream",
     "text": [
      "enter a:2004\n",
      "2004 is leap year\n"
     ]
    }
   ],
   "source": [
    "#pg.no.29\n",
    "#18/7/23\n",
    "#given year is leap year or not\n",
    "a=int(input('enter a:'))\n",
    "if a%4==0:\n",
    "    print(a,'is leap year')\n",
    "else:\n",
    "    print(a,'is not leap year')"
   ]
  },
  {
   "cell_type": "code",
   "execution_count": 19,
   "id": "b36443b6",
   "metadata": {},
   "outputs": [
    {
     "name": "stdout",
     "output_type": "stream",
     "text": [
      "enter a:454\n",
      "454 is palindrome\n"
     ]
    }
   ],
   "source": [
    "#pg.no.30\n",
    "#18/7/23\n",
    "#given number is palindrome or not\n",
    "a=int(input(\"enter a:\"))\n",
    "b=a%10\n",
    "c=a//10\n",
    "d=c%10\n",
    "e=c//10\n",
    "f=b*100+d*10+e\n",
    "if a==f:\n",
    "    print(a,'is palindrome')\n",
    "else:\n",
    "    print(a,'is not palindrome')"
   ]
  },
  {
   "cell_type": "code",
   "execution_count": 20,
   "id": "beeb1fee",
   "metadata": {},
   "outputs": [
    {
     "name": "stdout",
     "output_type": "stream",
     "text": [
      "enter a:7\n",
      "7 is a single digit\n"
     ]
    }
   ],
   "source": [
    "#pg.no.31\n",
    "#18/7/23\n",
    "#given number single digit ot not\n",
    "a=int(input(\"enter a:\"))\n",
    "if a>=0 and a<=9:\n",
    "    print(a,'is a single digit')\n",
    "else:\n",
    "    print(a,'is not a single digit')"
   ]
  },
  {
   "cell_type": "code",
   "execution_count": 26,
   "id": "6dd70238",
   "metadata": {},
   "outputs": [
    {
     "name": "stdout",
     "output_type": "stream",
     "text": [
      "a:890\n",
      "890 is three digit\n"
     ]
    }
   ],
   "source": [
    "#pg.no.32,33\n",
    "#18/7/23\n",
    "#given number single, double, three or four digit number\n",
    "\n",
    "a=int(input(\"a:\"))\n",
    "if a>=0 and a<=9:\n",
    "    print(a,'is a single digit')\n",
    "elif a>9 and a<=100:\n",
    "        print(a,'is a double digit')\n",
    "elif a>100 and a<1000:\n",
    "            print(a,'is three digit')\n",
    "elif a>=1000 and a<=10000:\n",
    "                print(a,'is a four digit')"
   ]
  },
  {
   "cell_type": "code",
   "execution_count": 30,
   "id": "947741e5",
   "metadata": {},
   "outputs": [
    {
     "name": "stdout",
     "output_type": "stream",
     "text": [
      "enter a:A\n",
      "A is upper\n"
     ]
    }
   ],
   "source": [
    "#pg.no.34\n",
    "#19/7/23\n",
    "# given character uppercase or not\n",
    "\n",
    "a=input(\"enter a:\")\n",
    "if a>='A' and a<='Z':\n",
    "    print(a,'is upper')\n",
    "else:\n",
    "    print(a,'is not upper')\n",
    "    "
   ]
  },
  {
   "cell_type": "code",
   "execution_count": 31,
   "id": "fa7f807d",
   "metadata": {},
   "outputs": [
    {
     "name": "stdout",
     "output_type": "stream",
     "text": [
      "enter character:v\n",
      "v is lowercase\n"
     ]
    }
   ],
   "source": [
    "#pg.no.35\n",
    "#19/7/23\n",
    "#given character lowercase or not\n",
    "\n",
    "b=input(\"enter character:\")\n",
    "if b>='a' and b<='z':\n",
    "    print(b,'is lowercase')\n",
    "else:\n",
    "    print(b,'is not lower case')\n",
    "    "
   ]
  },
  {
   "cell_type": "code",
   "execution_count": 33,
   "id": "e94690d4",
   "metadata": {},
   "outputs": [
    {
     "name": "stdout",
     "output_type": "stream",
     "text": [
      "enter character:6\n",
      "6 is digit\n"
     ]
    }
   ],
   "source": [
    "#pg.no.36\n",
    "#19/7/23\n",
    "#given character digit or not\n",
    "\n",
    "a=input('enter character:')\n",
    "if a>='0' and a<='9':\n",
    "    print(a,'is digit')\n",
    "else:\n",
    "    print(a,'is not digit')"
   ]
  },
  {
   "cell_type": "code",
   "execution_count": 34,
   "id": "d506f21a",
   "metadata": {},
   "outputs": [
    {
     "name": "stdout",
     "output_type": "stream",
     "text": [
      "enter character:@\n",
      "@ is special character\n"
     ]
    }
   ],
   "source": [
    "#pg.no.37\n",
    "#19/7/23\n",
    "#given character upper, lower, digit or special character\n",
    "\n",
    "a=input(\"enter character:\")\n",
    "if a>='A' and a<='Z':\n",
    "    print(a,'is upper')\n",
    "elif a>='a' and a<='z':\n",
    "    print(a,'is lower')\n",
    "elif a>='0' and a<='9':\n",
    "    print(a,'is digit')\n",
    "else:\n",
    "    print(a,\"is special character\")"
   ]
  },
  {
   "cell_type": "code",
   "execution_count": 35,
   "id": "f41add1f",
   "metadata": {},
   "outputs": [
    {
     "name": "stdout",
     "output_type": "stream",
     "text": [
      "enter character:r\n",
      "r is not an vowel\n"
     ]
    }
   ],
   "source": [
    "#pg.no.38\n",
    "#19/7/23\n",
    "#given character is a vowel or not\n",
    "a=input(\"enter character:\")\n",
    "if a=='a' or a=='e' or a=='i' or a=='o' or a=='u':\n",
    "    print(a,'is an vowel')\n",
    "else:\n",
    "    print(a,'is not an vowel')"
   ]
  },
  {
   "cell_type": "code",
   "execution_count": 36,
   "id": "45d0ce88",
   "metadata": {},
   "outputs": [
    {
     "name": "stdout",
     "output_type": "stream",
     "text": [
      "enter character:*\n",
      "* is an arithmetic operator\n"
     ]
    }
   ],
   "source": [
    "#pg.no.39\n",
    "#19/7/23\n",
    "#given number is  a arithmetic operator or not\n",
    "\n",
    "a=input(\"enter character:\")\n",
    "if a=='+' or a=='-' or a=='*'or a=='/' or a=='%' or a=='//' or a=='**':\n",
    "    print(a,'is an arithmetic operator')\n",
    "else:\n",
    "    print(a,'is not an arithmetic operator')\n",
    "    "
   ]
  },
  {
   "cell_type": "code",
   "execution_count": 37,
   "id": "a513221d",
   "metadata": {},
   "outputs": [
    {
     "name": "stdout",
     "output_type": "stream",
     "text": [
      "enter char:!=\n",
      "!= is an relational operator\n"
     ]
    }
   ],
   "source": [
    "#pg.no.40\n",
    "#19/7/23\n",
    "#given operator is relational or not\n",
    "\n",
    "a=input(\"enter char:\")\n",
    "if a=='>' or a=='<' or a=='<='or a=='>=' or a=='==' or a=='!=':\n",
    "    print(a,'is an relational operator')\n",
    "else:\n",
    "    print(a,'is not an relational operator')"
   ]
  },
  {
   "cell_type": "code",
   "execution_count": 39,
   "id": "f8177132",
   "metadata": {},
   "outputs": [
    {
     "name": "stdout",
     "output_type": "stream",
     "text": [
      "enter a:or\n",
      "or is a logical operator\n"
     ]
    }
   ],
   "source": [
    "#pg.no.41\n",
    "#19/7/23\n",
    "#given character is logical or not\n",
    "\n",
    "a=input(\"enter a:\")\n",
    "if a=='and' or a=='or' or a=='not':\n",
    "    print(a,'is a logical operator')\n",
    "else:\n",
    "    print(a,'is not a logical operator')\n"
   ]
  },
  {
   "cell_type": "code",
   "execution_count": 40,
   "id": "404e0ffc",
   "metadata": {},
   "outputs": [
    {
     "name": "stdout",
     "output_type": "stream",
     "text": [
      "enter character:&\n",
      "& is some other operator\n"
     ]
    }
   ],
   "source": [
    "#pg.no.42\n",
    "#19/7/23\n",
    "#given character is arithmetic, logical, relational or some other operator\n",
    "a=input(\"enter character:\")\n",
    "if a=='+' or a=='-' or a=='*'or a=='/' or a=='%' or a=='//' or a=='**':\n",
    "    print(a,'is an arithmetic operator')\n",
    "elif a=='>' or a=='<' or a=='<='or a=='>=' or a=='==' or a=='!=':\n",
    "    print(a,'is an relational operator')\n",
    "elif a=='and' or a=='or' or a=='not':\n",
    "    print(a,'is a logical operator')\n",
    "else:\n",
    "    print(a,'is some other operator')\n"
   ]
  },
  {
   "cell_type": "code",
   "execution_count": 41,
   "id": "5fb4e5f1",
   "metadata": {},
   "outputs": [
    {
     "name": "stdout",
     "output_type": "stream",
     "text": [
      "enter a:0\n",
      "0 is zero\n"
     ]
    }
   ],
   "source": [
    "#pg.no.43\n",
    "#21/7/23\n",
    "#given integer zero or not\n",
    "\n",
    "a=int(input(\"enter a:\"))\n",
    "if a:\n",
    "    print(a,'is not zero')\n",
    "else:\n",
    "    print(a,'is zero')"
   ]
  },
  {
   "cell_type": "code",
   "execution_count": 42,
   "id": "4b633a3f",
   "metadata": {},
   "outputs": [
    {
     "name": "stdout",
     "output_type": "stream",
     "text": [
      "enter a:67\n",
      "67 is not even\n"
     ]
    }
   ],
   "source": [
    "#pg.no.44\n",
    "#21/7/23\n",
    "#given integer even or not using implicit check\n",
    "\n",
    "a=int(input(\"enter a:\"))\n",
    "b=a%2\n",
    "if a:\n",
    "    print(a,'is not even')\n",
    "else:\n",
    "    print(a,'is even')\n",
    "    "
   ]
  },
  {
   "cell_type": "code",
   "execution_count": 43,
   "id": "bc2b7958",
   "metadata": {},
   "outputs": [
    {
     "name": "stdout",
     "output_type": "stream",
     "text": [
      "enter a:2002\n",
      "2002 is not leap year\n"
     ]
    }
   ],
   "source": [
    "#pg.no.45\n",
    "#21/7/23\n",
    "#given year  is leap year or not using implicit check\n",
    "a=int(input('enter a:'))\n",
    "b=a%4\n",
    "if b:\n",
    "    print(a,'is not leap year')\n",
    "else:\n",
    "    print(a,'is leap year')"
   ]
  },
  {
   "cell_type": "code",
   "execution_count": 44,
   "id": "aee0dcaa",
   "metadata": {},
   "outputs": [
    {
     "name": "stdout",
     "output_type": "stream",
     "text": [
      "enter a:6\n",
      "6 is not zero\n"
     ]
    }
   ],
   "source": [
    "#re writting pg.no.43(using not operator)\n",
    "#pg.no.46\n",
    "#21/7/23\n",
    "#given number is zero or not\n",
    "a=int(input(\"enter a:\"))\n",
    "if not a:\n",
    "    print(a,'is zero')\n",
    "else:\n",
    "    print(a,'is not zero')"
   ]
  },
  {
   "cell_type": "code",
   "execution_count": 47,
   "id": "5e16225f",
   "metadata": {},
   "outputs": [
    {
     "name": "stdout",
     "output_type": "stream",
     "text": [
      "enter a:74\n",
      "74 is even\n"
     ]
    }
   ],
   "source": [
    "#re writting pg.no.44(using not operator)\n",
    "#pg.no.47\n",
    "#21/7/23\n",
    "#given integer even or not\n",
    "a=int(input(\"enter a:\"))\n",
    "b=a%2\n",
    "if not b:\n",
    "    print(a,'is even')\n",
    "else:\n",
    "    print(a,'is not even')\n",
    "    "
   ]
  },
  {
   "cell_type": "code",
   "execution_count": 48,
   "id": "e7a06a9e",
   "metadata": {},
   "outputs": [
    {
     "name": "stdout",
     "output_type": "stream",
     "text": [
      "enter a:2016\n",
      "2016 is leap year\n"
     ]
    }
   ],
   "source": [
    "#re writtingpg.no.45(using not operator)\n",
    "#pg.no.48\n",
    "#21/7/23\n",
    "#given year leap year or not\n",
    "a=int(input('enter a:'))\n",
    "b=a%4\n",
    "if not b:\n",
    "    print(a,'is leap year')\n",
    "else:\n",
    "    print(a,'is not leap year')\n"
   ]
  },
  {
   "cell_type": "code",
   "execution_count": 49,
   "id": "369d38a1",
   "metadata": {},
   "outputs": [
    {
     "name": "stdout",
     "output_type": "stream",
     "text": [
      "enter a:4\n",
      "enter b:5\n",
      "5 is biggest\n"
     ]
    }
   ],
   "source": [
    "#pg.no.49\n",
    "#24/7/23\n",
    "#biggest of two numbers using termory expression\n",
    "a=int(input(\"enter a:\"))\n",
    "b=int(input(\"enter b:\"))\n",
    "c=a if a>b else b\n",
    "print(c,'is biggest')"
   ]
  },
  {
   "cell_type": "code",
   "execution_count": 50,
   "id": "ebe03999",
   "metadata": {},
   "outputs": [
    {
     "name": "stdout",
     "output_type": "stream",
     "text": [
      "enter a:5\n",
      "enter b:4\n",
      "4 is smallest\n"
     ]
    }
   ],
   "source": [
    "#pg.no.50\n",
    "#24/7/23\n",
    "#smallest of two numbers using termory expression\n",
    "a=int(input(\"enter a:\"))\n",
    "b=int(input(\"enter b:\"))\n",
    "c=a if a<b else b\n",
    "print(c,'is smallest')"
   ]
  },
  {
   "cell_type": "code",
   "execution_count": 51,
   "id": "77336c6a",
   "metadata": {},
   "outputs": [
    {
     "name": "stdout",
     "output_type": "stream",
     "text": [
      "enter a:45\n",
      "enter b:56\n",
      "enter c:34\n",
      "56 is biggest\n"
     ]
    }
   ],
   "source": [
    "#pg.no.51\n",
    "#24/7/23\n",
    "#biggest of three numbers\n",
    "a=int(input(\"enter a:\"))\n",
    "b=int(input(\"enter b:\"))\n",
    "c=int(input(\"enter c:\"))\n",
    "d=a if a>b else b\n",
    "e=d if  d>c else c\n",
    "print(e,'is biggest')\n"
   ]
  },
  {
   "cell_type": "code",
   "execution_count": 52,
   "id": "8b83aa5f",
   "metadata": {},
   "outputs": [
    {
     "name": "stdout",
     "output_type": "stream",
     "text": [
      "enter a:89\n",
      "enter b:90\n",
      "enter c:12\n",
      "12 is smallest\n"
     ]
    }
   ],
   "source": [
    "#pg.no.52\n",
    "#24/7/23\n",
    "#smallest of three numbers\n",
    "a=int(input(\"enter a:\"))\n",
    "b=int(input(\"enter b:\"))\n",
    "c=int(input(\"enter c:\"))\n",
    "d=a if a<b else b\n",
    "e=d if  d<c else c\n",
    "print(e,'is smallest')"
   ]
  },
  {
   "cell_type": "code",
   "execution_count": 53,
   "id": "ccb7e075",
   "metadata": {},
   "outputs": [
    {
     "name": "stdout",
     "output_type": "stream",
     "text": [
      "enter a:56\n",
      "enter b:89\n",
      "enter c:5678\n",
      "5678 is biggest\n"
     ]
    }
   ],
   "source": [
    "#pg.no.53\n",
    "#24/7/23\n",
    "#biggest of three numbers using nested termory expression\n",
    "a=int(input(\"enter a:\"))\n",
    "b=int(input(\"enter b:\"))\n",
    "c=int(input(\"enter c:\"))\n",
    "d=(a if a>c else c) if a>b else (b if b>c else c)\n",
    "print(d,'is biggest')\n"
   ]
  },
  {
   "cell_type": "code",
   "execution_count": 55,
   "id": "80b3454a",
   "metadata": {},
   "outputs": [
    {
     "name": "stdout",
     "output_type": "stream",
     "text": [
      "enter a:67\n",
      "enter b:89\n",
      "enter c:345\n",
      "67 is smallest\n"
     ]
    }
   ],
   "source": [
    "#pg.no.54\n",
    "#24/7/23\n",
    "#smallest of three numbers using nested termory expression\n",
    "a=int(input(\"enter a:\"))\n",
    "b=int(input(\"enter b:\"))\n",
    "c=int(input(\"enter c:\"))\n",
    "d=(a if a<c else c) if a<b else (b if b<c else c)\n",
    "print(d,'is smallest')"
   ]
  },
  {
   "cell_type": "code",
   "execution_count": 56,
   "id": "4cb1685d",
   "metadata": {},
   "outputs": [
    {
     "name": "stdout",
     "output_type": "stream",
     "text": [
      "enter char:h\n",
      "104\n"
     ]
    }
   ],
   "source": [
    "#pg.no.55\n",
    "#24/7/23\n",
    "#print unicode of given char\n",
    "\n",
    "a=input(\"enter char:\")\n",
    "u=ord(a)\n",
    "print(u)"
   ]
  },
  {
   "cell_type": "code",
   "execution_count": 57,
   "id": "21844ac8",
   "metadata": {},
   "outputs": [
    {
     "name": "stdout",
     "output_type": "stream",
     "text": [
      "enter char:E\n",
      "E is upper\n"
     ]
    }
   ],
   "source": [
    "#pg.no.56\n",
    "#24/7/23\n",
    "#given char is upper or not using unicode\n",
    "\n",
    "a=input(\"enter char:\")\n",
    "x=ord(a)\n",
    "if x>=65and x<=90:\n",
    "    print(a,'is upper')\n",
    "else:\n",
    "    print(a,'is not upper')"
   ]
  },
  {
   "cell_type": "code",
   "execution_count": 58,
   "id": "6ef6bb32",
   "metadata": {},
   "outputs": [
    {
     "name": "stdout",
     "output_type": "stream",
     "text": [
      "enter char:y\n",
      "y is lower\n"
     ]
    }
   ],
   "source": [
    "#pg.no.57\n",
    "#24/7/23\n",
    "#given char is lower or not using unicode\n",
    "\n",
    "a=input(\"enter char:\")\n",
    "x=ord(a)\n",
    "if x>=97 and x<=122:\n",
    "    print(a,'is lower')\n",
    "else:\n",
    "    print(a,'is not lower')"
   ]
  },
  {
   "cell_type": "code",
   "execution_count": 59,
   "id": "008b8a42",
   "metadata": {},
   "outputs": [
    {
     "name": "stdout",
     "output_type": "stream",
     "text": [
      "enter char:7\n",
      "7 is digit\n"
     ]
    }
   ],
   "source": [
    "#pg.no.58\n",
    "#24/7/23\n",
    "#given char is digit or not using unicode\n",
    "\n",
    "a=input(\"enter char:\")\n",
    "x=ord(a)\n",
    "if x>=48 and x<=57:\n",
    "    print(a,'is digit')\n",
    "else:\n",
    "    print(a,'is not digit')"
   ]
  },
  {
   "cell_type": "code",
   "execution_count": 60,
   "id": "de800790",
   "metadata": {},
   "outputs": [
    {
     "name": "stdout",
     "output_type": "stream",
     "text": [
      "enter char:*\n",
      "* is special character\n"
     ]
    }
   ],
   "source": [
    "#pg.no.59\n",
    "#24/7/23\n",
    "#given char is upper, lower, digit or special character using unicode\n",
    "\n",
    "a=input(\"enter char:\")\n",
    "x=ord(a)\n",
    "if x>=65and x<=90:\n",
    "    print(a,'is upper')\n",
    "elif x>=97 and x<=122:\n",
    "    print(a,'is lower')\n",
    "elif x>=48 and x<=57:\n",
    "    print(a,'is digit')\n",
    "else:\n",
    "    print(a,'is special character')"
   ]
  },
  {
   "cell_type": "code",
   "execution_count": 61,
   "id": "3d92d845",
   "metadata": {},
   "outputs": [
    {
     "name": "stdout",
     "output_type": "stream",
     "text": [
      "enter unicode:97\n",
      "a\n"
     ]
    }
   ],
   "source": [
    "#pg.no.60\n",
    "#24/7/23\n",
    "#print character of given unicode\n",
    "a=int(input(\"enter unicode:\"))\n",
    "c=chr(a)\n",
    "print(c)"
   ]
  },
  {
   "cell_type": "code",
   "execution_count": 62,
   "id": "e50c1438",
   "metadata": {},
   "outputs": [
    {
     "name": "stdout",
     "output_type": "stream",
     "text": [
      "enter character:D\n",
      "d\n"
     ]
    }
   ],
   "source": [
    "#pg.no.61\n",
    "#24/7/23\n",
    "#convert upper to lower case\n",
    "a=input(\"enter character:\")\n",
    "x=ord(a)\n",
    "if x>=65 and x<=90:\n",
    "    b=x+32\n",
    "    d=chr(b)\n",
    "    print(d)\n"
   ]
  },
  {
   "cell_type": "code",
   "execution_count": 63,
   "id": "24751ca3",
   "metadata": {},
   "outputs": [
    {
     "name": "stdout",
     "output_type": "stream",
     "text": [
      "enter character:b\n",
      "B\n"
     ]
    }
   ],
   "source": [
    "#pg.no.61\n",
    "#24/7/23\n",
    "#convert lower to upper case\n",
    "a=input(\"enter character:\")\n",
    "x=ord(a)\n",
    "if x>=97 and x<=122:\n",
    "    b=x-32\n",
    "    d=chr(b)\n",
    "    print(d)"
   ]
  },
  {
   "cell_type": "code",
   "execution_count": null,
   "id": "ad0bc53b",
   "metadata": {},
   "outputs": [],
   "source": []
  }
 ],
 "metadata": {
  "kernelspec": {
   "display_name": "Python 3 (ipykernel)",
   "language": "python",
   "name": "python3"
  },
  "language_info": {
   "codemirror_mode": {
    "name": "ipython",
    "version": 3
   },
   "file_extension": ".py",
   "mimetype": "text/x-python",
   "name": "python",
   "nbconvert_exporter": "python",
   "pygments_lexer": "ipython3",
   "version": "3.8.5"
  }
 },
 "nbformat": 4,
 "nbformat_minor": 5
}

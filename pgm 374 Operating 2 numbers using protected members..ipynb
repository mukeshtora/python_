{
 "cells": [
  {
   "cell_type": "code",
   "execution_count": 2,
   "id": "fe5a398e",
   "metadata": {},
   "outputs": [],
   "source": [
    "class A2nospro():\n",
    "    _x=None\n",
    "    _y=None\n",
    "    \n",
    "    def __init__(self,x=500,y=350):\n",
    "        self._x=x\n",
    "        self._y=y\n",
    "    def disp(self):\n",
    "        print(self._x,self._y)\n",
    "    def setx(self,x=23):\n",
    "        self._x=x\n",
    "    def sety(self,y=78):\n",
    "        self._y=y\n",
    "    def setxy(self,x=89,y=90):\n",
    "        self._x=x\n",
    "        self._y=y\n",
    "    def setobj(self,ob):\n",
    "        self._x=ob._x\n",
    "        self._y=ob._y\n",
    "    def reset(self):\n",
    "        self._x=500\n",
    "        self._y=350\n",
    "    def getx(self):\n",
    "        return self._x\n",
    "    def gety(self):\n",
    "        return self._y\n",
    "    def getxy(self):\n",
    "        return self._x,self._y\n",
    "    def getobj(self):\n",
    "        return self\n",
    "    "
   ]
  },
  {
   "cell_type": "code",
   "execution_count": 5,
   "id": "26cfac54",
   "metadata": {},
   "outputs": [
    {
     "name": "stdout",
     "output_type": "stream",
     "text": [
      "120\n",
      "80\n",
      "2000\n",
      "5.0\n",
      "0\n"
     ]
    }
   ],
   "source": [
    "\"\"\"\n",
    "pg.no.374\n",
    "23/12/23\n",
    "Operating two numbers using protected members\n",
    "\"\"\"\n",
    "class P2nospro(A2nospro):\n",
    "    def __init__(self,x=100,y=20):\n",
    "        self._x=x\n",
    "        self._y=y\n",
    "        \n",
    "    def sum(self):\n",
    "        return self._x+self._y\n",
    "    \n",
    "    def diff(self):\n",
    "        return self._x-self._y\n",
    "    \n",
    "    def prod(self):\n",
    "        return self._x*self._y\n",
    "    \n",
    "    def div(self):\n",
    "        return self._x/self._y\n",
    "    \n",
    "    def remain(self):\n",
    "        return self._x%self._y\n",
    "    \n",
    "#main\n",
    "a=P2nospro()\n",
    "x=a.sum()\n",
    "print(x)\n",
    "\n",
    "x=a.diff()\n",
    "print(x)\n",
    "\n",
    "x=a.prod()\n",
    "print(x)\n",
    "\n",
    "x=a.div()\n",
    "print(x)\n",
    "\n",
    "x=a.remain()\n",
    "print(x)"
   ]
  },
  {
   "cell_type": "code",
   "execution_count": null,
   "id": "222309f9",
   "metadata": {},
   "outputs": [],
   "source": []
  }
 ],
 "metadata": {
  "kernelspec": {
   "display_name": "Python 3 (ipykernel)",
   "language": "python",
   "name": "python3"
  },
  "language_info": {
   "codemirror_mode": {
    "name": "ipython",
    "version": 3
   },
   "file_extension": ".py",
   "mimetype": "text/x-python",
   "name": "python",
   "nbconvert_exporter": "python",
   "pygments_lexer": "ipython3",
   "version": "3.8.5"
  }
 },
 "nbformat": 4,
 "nbformat_minor": 5
}

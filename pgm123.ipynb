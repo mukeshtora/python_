{
 "cells": [
  {
   "cell_type": "code",
   "execution_count": 8,
   "id": "50869e8e",
   "metadata": {},
   "outputs": [
    {
     "name": "stdout",
     "output_type": "stream",
     "text": [
      "enter n:5\n",
      "enter a:1\n",
      "enter a:3\n",
      "enter a:6\n",
      "enter a:8\n",
      "enter a:5\n",
      "Before interchage: [1, 3, 6, 8, 5]\n",
      "second biggest: 6\n",
      "second smallest: 3\n",
      "After interchange: [1, 6, 3, 8, 5]\n"
     ]
    }
   ],
   "source": [
    "#05/08/23\n",
    "#interchange the second biggest and second smallest value\n",
    "a=[]\n",
    "n=int(input('enter n:'))\n",
    "i=0\n",
    "while i<n:\n",
    "    l=int(input('enter a:'))\n",
    "    a.append(l)\n",
    "    i=i+1\n",
    "print(\"Before interchage:\",a)\n",
    "x=len(a)\n",
    "i=0\n",
    "b=0\n",
    "s=999\n",
    "c=0\n",
    "d=0\n",
    "\n",
    "while i<x:\n",
    "    if a[i]>b:\n",
    "        b=a[i]\n",
    "        c=i\n",
    "    if a[i]<s:\n",
    "        s=a[i]\n",
    "        d=i\n",
    "    i=i+1\n",
    "i=0\n",
    "sb=0\n",
    "ss=999\n",
    "p=0\n",
    "q=0\n",
    "while i<x:\n",
    "    if a[i]!=b:\n",
    "        if a[i]>sb:\n",
    "            sb=a[i]\n",
    "            p=i\n",
    "    if a[i]!=s:\n",
    "        if a[i]<ss:\n",
    "            ss=a[i]\n",
    "            q=i\n",
    "    i=i+1\n",
    "y=a[p]\n",
    "a[p]=a[q]\n",
    "a[q]=y\n",
    "\n",
    "print(\"second biggest:\",sb)\n",
    "print(\"second smallest:\",ss)\n",
    "print('After interchange:',a)\n"
   ]
  },
  {
   "cell_type": "code",
   "execution_count": null,
   "id": "e757125d",
   "metadata": {},
   "outputs": [],
   "source": []
  }
 ],
 "metadata": {
  "kernelspec": {
   "display_name": "Python 3 (ipykernel)",
   "language": "python",
   "name": "python3"
  },
  "language_info": {
   "codemirror_mode": {
    "name": "ipython",
    "version": 3
   },
   "file_extension": ".py",
   "mimetype": "text/x-python",
   "name": "python",
   "nbconvert_exporter": "python",
   "pygments_lexer": "ipython3",
   "version": "3.8.5"
  }
 },
 "nbformat": 4,
 "nbformat_minor": 5
}

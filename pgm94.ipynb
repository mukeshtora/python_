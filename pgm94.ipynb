{
 "cells": [
  {
   "cell_type": "code",
   "execution_count": 1,
   "id": "64289145",
   "metadata": {},
   "outputs": [
    {
     "name": "stdout",
     "output_type": "stream",
     "text": [
      "          1 \n",
      "        1 2 3 \n",
      "      1 2 3 4 5 \n",
      "    1 2 3 4 5 6 7 \n",
      "  1 2 3 4 5 6 7 8 9 \n",
      "1 2 3 4 5 6 7 8 9 10 11 \n",
      "  1 2 3 4 5 6 7 8 9 \n",
      "    1 2 3 4 5 6 7 \n",
      "      1 2 3 4 5 \n",
      "        1 2 3 \n",
      "          1 \n",
      "            \n",
      "              \n",
      "                \n",
      "                  \n",
      "                    \n"
     ]
    }
   ],
   "source": [
    "#pg.no.93\n",
    "#29/7/23\n",
    "#print the diamond pattern\n",
    "\n",
    "n=5\n",
    "a=1\n",
    "c=1\n",
    "while c<=5:\n",
    "    d=1\n",
    "    while d<=n:\n",
    "        print(' ',end=\" \")\n",
    "        d=d+1\n",
    "    d=1\n",
    "    while d<=a:\n",
    "        print(d,end=\" \")\n",
    "        d=d+1\n",
    "    print()\n",
    "    a=a+2\n",
    "    n=n-1\n",
    "    c=c+1\n",
    "n=11\n",
    "c=1\n",
    "a=0\n",
    "while c<=11:\n",
    "    d=1\n",
    "    while d<=a:\n",
    "        print(' ',end=\" \")\n",
    "        d=d+1\n",
    "    d=1\n",
    "    while d<=n:\n",
    "        print(d,end=\" \")\n",
    "        d=d+1\n",
    "    print()\n",
    "    n=n-2\n",
    "    a=a+1\n",
    "    c=c+1"
   ]
  },
  {
   "cell_type": "code",
   "execution_count": null,
   "id": "1abb75c7",
   "metadata": {},
   "outputs": [],
   "source": []
  }
 ],
 "metadata": {
  "kernelspec": {
   "display_name": "Python 3 (ipykernel)",
   "language": "python",
   "name": "python3"
  },
  "language_info": {
   "codemirror_mode": {
    "name": "ipython",
    "version": 3
   },
   "file_extension": ".py",
   "mimetype": "text/x-python",
   "name": "python",
   "nbconvert_exporter": "python",
   "pygments_lexer": "ipython3",
   "version": "3.8.5"
  }
 },
 "nbformat": 4,
 "nbformat_minor": 5
}

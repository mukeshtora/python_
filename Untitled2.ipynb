{
 "cells": [
  {
   "cell_type": "code",
   "execution_count": 3,
   "id": "75e7b8dd",
   "metadata": {},
   "outputs": [
    {
     "name": "stdout",
     "output_type": "stream",
     "text": [
      " *      *\n",
      "   *     *\n",
      "     *    *\n",
      "       *   *\n",
      "         *  *\n",
      "           * *\n",
      "      *\n"
     ]
    }
   ],
   "source": [
    "#inverse hallow pascal triangle\n",
    "\n",
    "i=0\n",
    "n=1\n",
    "a=5\n",
    "while i<=5:\n",
    "    j=1\n",
    "    while j<=n:\n",
    "        print(' ',end='')\n",
    "        j=j+1\n",
    "    print('*',end='')\n",
    "    j=0\n",
    "    while j<=a:\n",
    "        print(' ',end='')\n",
    "        j=j+1\n",
    "    print('*')\n",
    "    i+=1\n",
    "    n=n+2\n",
    "    a=a-1\n",
    "i=0\n",
    "while i<=5:\n",
    "    print(' ',end='')\n",
    "    i=i+1\n",
    "print('*')\n",
    "    "
   ]
  },
  {
   "cell_type": "code",
   "execution_count": null,
   "id": "69dcae15",
   "metadata": {},
   "outputs": [],
   "source": []
  }
 ],
 "metadata": {
  "kernelspec": {
   "display_name": "Python 3 (ipykernel)",
   "language": "python",
   "name": "python3"
  },
  "language_info": {
   "codemirror_mode": {
    "name": "ipython",
    "version": 3
   },
   "file_extension": ".py",
   "mimetype": "text/x-python",
   "name": "python",
   "nbconvert_exporter": "python",
   "pygments_lexer": "ipython3",
   "version": "3.8.5"
  }
 },
 "nbformat": 4,
 "nbformat_minor": 5
}

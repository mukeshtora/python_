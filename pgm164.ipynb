{
 "cells": [
  {
   "cell_type": "code",
   "execution_count": 6,
   "id": "811696dc",
   "metadata": {},
   "outputs": [
    {
     "name": "stdout",
     "output_type": "stream",
     "text": [
      "l1nsoft Ac@Demy\n",
      "Upper: 2 Lower: 10 digit: 1 special char: 2\n"
     ]
    }
   ],
   "source": [
    "#16/08/23\n",
    "#Read input string, count no. of upper, lower, digit and special characters\n",
    "\n",
    "s1=input()\n",
    "n=len(s1)\n",
    "u=0\n",
    "l=0\n",
    "d=0\n",
    "s=0\n",
    "for i in range(n):\n",
    "    x=ord(s1[i])\n",
    "    if x>=65 and x<=90:\n",
    "        u+=1\n",
    "    elif x>=97 and x<=122:\n",
    "        l+=1\n",
    "    elif x>=48 and x<=57:\n",
    "        d+=1\n",
    "    else:\n",
    "        s+=1\n",
    "print('Upper:',u,'Lower:',l,'digit:',d,'special char:',s)\n",
    "    "
   ]
  },
  {
   "cell_type": "code",
   "execution_count": null,
   "id": "6e7c10ed",
   "metadata": {},
   "outputs": [],
   "source": []
  }
 ],
 "metadata": {
  "kernelspec": {
   "display_name": "Python 3 (ipykernel)",
   "language": "python",
   "name": "python3"
  },
  "language_info": {
   "codemirror_mode": {
    "name": "ipython",
    "version": 3
   },
   "file_extension": ".py",
   "mimetype": "text/x-python",
   "name": "python",
   "nbconvert_exporter": "python",
   "pygments_lexer": "ipython3",
   "version": "3.8.5"
  }
 },
 "nbformat": 4,
 "nbformat_minor": 5
}

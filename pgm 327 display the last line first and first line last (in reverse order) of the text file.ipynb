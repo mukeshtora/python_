{
 "cells": [
  {
   "cell_type": "code",
   "execution_count": 10,
   "id": "1959c743",
   "metadata": {},
   "outputs": [
    {
     "name": "stdout",
     "output_type": "stream",
     "text": [
      "[74, 519, ' Many of the diseases can be life-threatening. WHO estimates childhood vaccines alone save 4 million lives every year.']\n",
      "[56, 401, ' from diseases like measles, pneumonia, tetanus, polio and most popularly known covid19.\\n']\n",
      "[44, 312, ' Without vaccines, people are at risk of serious illness and disability\\n']\n",
      "[33, 240, ' During the pandemic situation precautions and treatments became significant.\\n']\n",
      "[24, 162, ' Few researches have already showed a detailed comparison of covaxin Vs covishield.\\n']\n"
     ]
    }
   ],
   "source": [
    "\"\"\"\n",
    "pg.no.327\n",
    "27/11/23\n",
    "display the last line first and first line last (in reverse order)\n",
    "\"\"\"\n",
    "f=open('sample.txt','r')\n",
    "x=0\n",
    "l=0\n",
    "w=0\n",
    "c=0\n",
    "d={}\n",
    "for i in f:\n",
    "    l+=1\n",
    "    x=i.split()\n",
    "    w+=len(x)\n",
    "    c+=len(i)\n",
    "    d[l]=[w,c,i]\n",
    "    \n",
    "a=list(d.keys())\n",
    "for i in range(len(a),1,-1):\n",
    "    print(d[i])"
   ]
  },
  {
   "cell_type": "code",
   "execution_count": 8,
   "id": "d664b992",
   "metadata": {},
   "outputs": [
    {
     "data": {
      "text/plain": [
       "6"
      ]
     },
     "execution_count": 8,
     "metadata": {},
     "output_type": "execute_result"
    }
   ],
   "source": [
    "len(a)"
   ]
  },
  {
   "cell_type": "code",
   "execution_count": 9,
   "id": "6c6061cb",
   "metadata": {},
   "outputs": [
    {
     "data": {
      "text/plain": [
       "{1: [12,\n",
       "  78,\n",
       "  'The comparison of covishield and covaxin is to distinguish both the vaccines.\\n'],\n",
       " 2: [24,\n",
       "  162,\n",
       "  ' Few researches have already showed a detailed comparison of covaxin Vs covishield.\\n'],\n",
       " 3: [33,\n",
       "  240,\n",
       "  ' During the pandemic situation precautions and treatments became significant.\\n'],\n",
       " 4: [44,\n",
       "  312,\n",
       "  ' Without vaccines, people are at risk of serious illness and disability\\n'],\n",
       " 5: [56,\n",
       "  401,\n",
       "  ' from diseases like measles, pneumonia, tetanus, polio and most popularly known covid19.\\n'],\n",
       " 6: [74,\n",
       "  519,\n",
       "  ' Many of the diseases can be life-threatening. WHO estimates childhood vaccines alone save 4 million lives every year.']}"
      ]
     },
     "execution_count": 9,
     "metadata": {},
     "output_type": "execute_result"
    }
   ],
   "source": [
    "d"
   ]
  },
  {
   "cell_type": "code",
   "execution_count": null,
   "id": "01803752",
   "metadata": {},
   "outputs": [],
   "source": []
  }
 ],
 "metadata": {
  "kernelspec": {
   "display_name": "Python 3 (ipykernel)",
   "language": "python",
   "name": "python3"
  },
  "language_info": {
   "codemirror_mode": {
    "name": "ipython",
    "version": 3
   },
   "file_extension": ".py",
   "mimetype": "text/x-python",
   "name": "python",
   "nbconvert_exporter": "python",
   "pygments_lexer": "ipython3",
   "version": "3.8.5"
  }
 },
 "nbformat": 4,
 "nbformat_minor": 5
}

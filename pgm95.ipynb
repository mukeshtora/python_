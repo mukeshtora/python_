{
 "cells": [
  {
   "cell_type": "code",
   "execution_count": 3,
   "id": "02abdb42",
   "metadata": {},
   "outputs": [
    {
     "name": "stdout",
     "output_type": "stream",
     "text": [
      "          a \n",
      "        a b c \n",
      "      a b c d e \n",
      "    a b c d e f g \n",
      "  a b c d e f g h i \n",
      "a b c d e f g h i j k \n",
      "  a b c d e f g h i \n",
      "    a b c d e f g \n",
      "      a b c d e \n",
      "        a b c \n",
      "          a \n",
      "            \n",
      "              \n",
      "                \n",
      "                  \n",
      "                    \n"
     ]
    }
   ],
   "source": [
    "#pg.no.95\n",
    "#29/7/23\n",
    "#print the pattern\n",
    "\n",
    "#pg.no.93\n",
    "#29/7/23\n",
    "#print the diamond pattern\n",
    "\n",
    "n=5\n",
    "a=1\n",
    "c=1\n",
    "while c<=5:\n",
    "    d=1\n",
    "    while d<=n:\n",
    "        print(' ',end=\" \")\n",
    "        d=d+1\n",
    "    d=1\n",
    "    while d<=a:\n",
    "        e=96+d\n",
    "        u=chr(e)\n",
    "        print(u,end=\" \")\n",
    "        d=d+1\n",
    "    print()\n",
    "    a=a+2\n",
    "    n=n-1\n",
    "    c=c+1\n",
    "\n",
    "n=11\n",
    "c=1\n",
    "a=0\n",
    "while c<=11:\n",
    "    d=1\n",
    "    while d<=a:\n",
    "        print(' ',end=\" \")\n",
    "        d=d+1\n",
    "    d=1\n",
    "    while d<=n:\n",
    "        e=96+d\n",
    "        u=chr(e)\n",
    "        print(u,end=\" \")\n",
    "        d=d+1\n",
    "    print()\n",
    "    n=n-2\n",
    "    a=a+1\n",
    "    c=c+1"
   ]
  },
  {
   "cell_type": "code",
   "execution_count": null,
   "id": "1dcb4cee",
   "metadata": {},
   "outputs": [],
   "source": []
  }
 ],
 "metadata": {
  "kernelspec": {
   "display_name": "Python 3 (ipykernel)",
   "language": "python",
   "name": "python3"
  },
  "language_info": {
   "codemirror_mode": {
    "name": "ipython",
    "version": 3
   },
   "file_extension": ".py",
   "mimetype": "text/x-python",
   "name": "python",
   "nbconvert_exporter": "python",
   "pygments_lexer": "ipython3",
   "version": "3.8.5"
  }
 },
 "nbformat": 4,
 "nbformat_minor": 5
}

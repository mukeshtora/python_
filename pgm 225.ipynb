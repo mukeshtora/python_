{
 "cells": [
  {
   "cell_type": "code",
   "execution_count": 1,
   "id": "9c6bcab2",
   "metadata": {},
   "outputs": [
    {
     "name": "stdout",
     "output_type": "stream",
     "text": [
      "single: [2, 6]\n",
      "double: [53, 64, 91]\n",
      "triple: [856, 659, 290, 547, 270, 705, 983, 203, 304, 509, 101, 170, 823, 504, 463, 487, 404, 272, 848, 960, 877, 331, 789, 217, 508, 920, 639, 613, 140, 200, 319, 238, 437, 192, 453, 389, 347, 666, 909, 755]\n"
     ]
    }
   ],
   "source": [
    "\"\"\"23/08/23\n",
    "extract only the single, double, trible digit numbers\"\"\"\n",
    "import random as rd\n",
    "a=[rd.randint(-1000,1000) for i in range(100)]\n",
    "s=[i for i in a if i>=0 and i<=9]\n",
    "d=[i for i in a if i>=10 and i<=99]\n",
    "t=[i for i in a if i>=100 and i<=999]\n",
    "print('single:',s)\n",
    "print('double:',d)\n",
    "print('triple:',t)"
   ]
  },
  {
   "cell_type": "code",
   "execution_count": null,
   "id": "228581cc",
   "metadata": {},
   "outputs": [],
   "source": []
  }
 ],
 "metadata": {
  "kernelspec": {
   "display_name": "Python 3 (ipykernel)",
   "language": "python",
   "name": "python3"
  },
  "language_info": {
   "codemirror_mode": {
    "name": "ipython",
    "version": 3
   },
   "file_extension": ".py",
   "mimetype": "text/x-python",
   "name": "python",
   "nbconvert_exporter": "python",
   "pygments_lexer": "ipython3",
   "version": "3.8.5"
  }
 },
 "nbformat": 4,
 "nbformat_minor": 5
}

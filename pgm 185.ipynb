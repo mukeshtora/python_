{
 "cells": [
  {
   "cell_type": "code",
   "execution_count": 4,
   "id": "b8e643c3",
   "metadata": {},
   "outputs": [
    {
     "name": "stdout",
     "output_type": "stream",
     "text": [
      "enter n:5\n",
      "enter a:23\n",
      "enter a:67\n",
      "enter a:2\n",
      "enter a:8\n",
      "enter a:34\n",
      "Before interchange: [23, 67, 2, 8, 34]\n",
      "after interchange: [23, 2, 67, 8, 34]\n"
     ]
    }
   ],
   "source": [
    "#21/07/23\n",
    "#interchange the position of biggest and smallest element in the list\n",
    "a=[]\n",
    "n=int(input('enter n:'))\n",
    "for i in range(n):\n",
    "    l=int(input('enter a:'))\n",
    "    a.append(l)\n",
    "print('Before interchange:',a)\n",
    "b=0\n",
    "s=0\n",
    "c=0\n",
    "d=0\n",
    "for i in range(len(a)):\n",
    "    b=a[i] if a[i]>b else b\n",
    "    c=i if a[i] > a[c] else c\n",
    "    \n",
    "    s=a[i] if a[i]<d else s\n",
    "    d=i if a[i] < a[d] else d\n",
    "z=a[c]\n",
    "a[c]=a[d]\n",
    "a[d]=z\n",
    "\n",
    "print('after interchange:',a)\n"
   ]
  },
  {
   "cell_type": "code",
   "execution_count": null,
   "id": "c829b304",
   "metadata": {},
   "outputs": [],
   "source": []
  }
 ],
 "metadata": {
  "kernelspec": {
   "display_name": "Python 3 (ipykernel)",
   "language": "python",
   "name": "python3"
  },
  "language_info": {
   "codemirror_mode": {
    "name": "ipython",
    "version": 3
   },
   "file_extension": ".py",
   "mimetype": "text/x-python",
   "name": "python",
   "nbconvert_exporter": "python",
   "pygments_lexer": "ipython3",
   "version": "3.8.5"
  }
 },
 "nbformat": 4,
 "nbformat_minor": 5
}

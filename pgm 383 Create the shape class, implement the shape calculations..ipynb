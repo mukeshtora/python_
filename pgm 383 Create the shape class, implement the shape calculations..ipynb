{
 "cells": [
  {
   "cell_type": "code",
   "execution_count": 28,
   "id": "320d6109",
   "metadata": {},
   "outputs": [],
   "source": [
    "\"\"\"\n",
    "pg.no.383\n",
    "31/12/23\n",
    "Create the shape class, implement the shape calculations.\n",
    "\"\"\"\n",
    "from abc import ABC, abstractmethod\n",
    "class Shape(ABC):\n",
    "    @abstractmethod \n",
    "    def area(self):\n",
    "        pass\n",
    "    @abstractmethod\n",
    "    def perimeter(self):\n",
    "        pass\n",
    "    @abstractmethod\n",
    "    def volume(self):\n",
    "        pass\n",
    "    "
   ]
  },
  {
   "cell_type": "code",
   "execution_count": 29,
   "id": "466b4f1a",
   "metadata": {},
   "outputs": [
    {
     "name": "stdout",
     "output_type": "stream",
     "text": [
      "153.86\n",
      "1436.0266666666666\n",
      "1384.7400000000002\n"
     ]
    }
   ],
   "source": [
    "class Circle(Shape):\n",
    "        _r=None\n",
    "        def __init__(self,r=7):\n",
    "            self._r=r\n",
    "            \n",
    "        def area(self):\n",
    "            a=3.14*self._r**2\n",
    "            print(a)\n",
    "            \n",
    "        def perimeter(self):\n",
    "            pass\n",
    "        def volume(self):\n",
    "            pass\n",
    "        \n",
    "class Sphere(Shape):\n",
    "    _r=None\n",
    "    def __init__(self,r=7):\n",
    "            self._r=r\n",
    "            \n",
    "    def area(self):\n",
    "            pass\n",
    "            \n",
    "    def perimeter(self):\n",
    "            pass\n",
    "    def volume(self):\n",
    "            v=4/3*3.14*self._r**3\n",
    "            print(v)\n",
    "            \n",
    "class Cylinder(Shape):\n",
    "    _r=None\n",
    "    _x=None\n",
    "    \n",
    "    def __init__(self,r=7,x=9):\n",
    "            self._r=r\n",
    "            self._x=x\n",
    "    def area(self):\n",
    "            pass\n",
    "    def perimeter(self):\n",
    "            pass\n",
    "    def volume(self):\n",
    "        v=3.14*self._r**2*self._x\n",
    "        print(v)\n",
    "            \n",
    "#main\n",
    "a=Circle()\n",
    "b=Sphere()\n",
    "c=Cylinder()\n",
    "\n",
    "a.area()\n",
    "b.volume()\n",
    "c.volume()"
   ]
  },
  {
   "cell_type": "code",
   "execution_count": null,
   "id": "7a0fc9b9",
   "metadata": {},
   "outputs": [],
   "source": []
  }
 ],
 "metadata": {
  "kernelspec": {
   "display_name": "Python 3 (ipykernel)",
   "language": "python",
   "name": "python3"
  },
  "language_info": {
   "codemirror_mode": {
    "name": "ipython",
    "version": 3
   },
   "file_extension": ".py",
   "mimetype": "text/x-python",
   "name": "python",
   "nbconvert_exporter": "python",
   "pygments_lexer": "ipython3",
   "version": "3.8.5"
  }
 },
 "nbformat": 4,
 "nbformat_minor": 5
}

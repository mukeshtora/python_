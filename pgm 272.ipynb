{
 "cells": [
  {
   "cell_type": "code",
   "execution_count": 5,
   "id": "fcc47856",
   "metadata": {},
   "outputs": [
    {
     "name": "stdout",
     "output_type": "stream",
     "text": [
      "258\n"
     ]
    }
   ],
   "source": [
    "\"\"\"\n",
    "sum of the elements of the aurguments passed \n",
    "21/09/23\n",
    "\"\"\"\n",
    "import random as rd\n",
    "def sums(*x):\n",
    "    y=0\n",
    "    for i in x:\n",
    "        y+=i\n",
    "    print(y)\n",
    "#main\n",
    "sums(12,45,23,6,23,2,1,56,90)"
   ]
  },
  {
   "cell_type": "code",
   "execution_count": null,
   "id": "9f1a6400",
   "metadata": {},
   "outputs": [],
   "source": []
  }
 ],
 "metadata": {
  "kernelspec": {
   "display_name": "Python 3 (ipykernel)",
   "language": "python",
   "name": "python3"
  },
  "language_info": {
   "codemirror_mode": {
    "name": "ipython",
    "version": 3
   },
   "file_extension": ".py",
   "mimetype": "text/x-python",
   "name": "python",
   "nbconvert_exporter": "python",
   "pygments_lexer": "ipython3",
   "version": "3.8.5"
  }
 },
 "nbformat": 4,
 "nbformat_minor": 5
}

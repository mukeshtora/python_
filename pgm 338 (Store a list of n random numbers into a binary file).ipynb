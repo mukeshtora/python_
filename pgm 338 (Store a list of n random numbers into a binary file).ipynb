{
 "cells": [
  {
   "cell_type": "code",
   "execution_count": 1,
   "id": "9dfa9cbd",
   "metadata": {},
   "outputs": [
    {
     "name": "stdout",
     "output_type": "stream",
     "text": [
      "n:1000\n"
     ]
    }
   ],
   "source": [
    "\"\"\"\n",
    "pg.no.338\n",
    "02/12/23\n",
    "Store a list of n random numbers into a binary file\n",
    "\"\"\"\n",
    "import random as rd\n",
    "import pickle\n",
    "\n",
    "n=int(input('n:'))\n",
    "l=[rd.randint(1,1000) for i in range(n)]\n",
    "f=open('file1.dat','wb')\n",
    "pickle.dump(l,f)\n",
    "f.close()"
   ]
  },
  {
   "cell_type": "code",
   "execution_count": null,
   "id": "c7f0d55d",
   "metadata": {},
   "outputs": [],
   "source": []
  }
 ],
 "metadata": {
  "kernelspec": {
   "display_name": "Python 3 (ipykernel)",
   "language": "python",
   "name": "python3"
  },
  "language_info": {
   "codemirror_mode": {
    "name": "ipython",
    "version": 3
   },
   "file_extension": ".py",
   "mimetype": "text/x-python",
   "name": "python",
   "nbconvert_exporter": "python",
   "pygments_lexer": "ipython3",
   "version": "3.8.5"
  }
 },
 "nbformat": 4,
 "nbformat_minor": 5
}

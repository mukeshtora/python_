{
 "cells": [
  {
   "cell_type": "code",
   "execution_count": 1,
   "id": "755033e0",
   "metadata": {},
   "outputs": [
    {
     "name": "stdout",
     "output_type": "stream",
     "text": [
      "count of duplicate values: 22\n"
     ]
    }
   ],
   "source": [
    "\"\"\"\n",
    "find the count of duplicate values\n",
    "20/9/23\n",
    "\"\"\"\n",
    "import random as rd\n",
    "a=[rd.randint(-100,100) for i in range(100)]\n",
    "b=set(a)\n",
    "d=len(a)-len(b)\n",
    "print(\"count of duplicate values:\",d)"
   ]
  },
  {
   "cell_type": "code",
   "execution_count": null,
   "id": "2c293aa6",
   "metadata": {},
   "outputs": [],
   "source": []
  }
 ],
 "metadata": {
  "kernelspec": {
   "display_name": "Python 3 (ipykernel)",
   "language": "python",
   "name": "python3"
  },
  "language_info": {
   "codemirror_mode": {
    "name": "ipython",
    "version": 3
   },
   "file_extension": ".py",
   "mimetype": "text/x-python",
   "name": "python",
   "nbconvert_exporter": "python",
   "pygments_lexer": "ipython3",
   "version": "3.8.5"
  }
 },
 "nbformat": 4,
 "nbformat_minor": 5
}

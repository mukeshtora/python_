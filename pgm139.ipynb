{
 "cells": [
  {
   "cell_type": "code",
   "execution_count": 1,
   "id": "5905fc71",
   "metadata": {},
   "outputs": [
    {
     "name": "stdout",
     "output_type": "stream",
     "text": [
      "enter n:1\n",
      "enter m:10\n",
      "1 is odd\n",
      "2 is even\n",
      "3 is odd\n",
      "4 is even\n",
      "5 is odd\n",
      "6 is even\n",
      "7 is odd\n",
      "8 is even\n",
      "9 is odd\n",
      "10 is even\n"
     ]
    }
   ],
   "source": [
    "#09/08/23\n",
    "#print the numbers b/w two limits that is even number or odd number.\n",
    "n=int(input(\"enter n:\"))\n",
    "m=int(input(\"enter m:\"))\n",
    "for i in range(n,m+1):\n",
    "    if i%2==0:\n",
    "        print(i,'is even')\n",
    "    else:\n",
    "        print(i,'is odd')"
   ]
  },
  {
   "cell_type": "code",
   "execution_count": null,
   "id": "547b461f",
   "metadata": {},
   "outputs": [],
   "source": []
  }
 ],
 "metadata": {
  "kernelspec": {
   "display_name": "Python 3 (ipykernel)",
   "language": "python",
   "name": "python3"
  },
  "language_info": {
   "codemirror_mode": {
    "name": "ipython",
    "version": 3
   },
   "file_extension": ".py",
   "mimetype": "text/x-python",
   "name": "python",
   "nbconvert_exporter": "python",
   "pygments_lexer": "ipython3",
   "version": "3.8.5"
  }
 },
 "nbformat": 4,
 "nbformat_minor": 5
}

{
 "cells": [
  {
   "cell_type": "code",
   "execution_count": 1,
   "id": "fcf939c6",
   "metadata": {},
   "outputs": [
    {
     "name": "stdout",
     "output_type": "stream",
     "text": [
      "linsoft academy\n",
      "5\n"
     ]
    }
   ],
   "source": [
    "#16/08/23\n",
    "#Get input, count the no. of vowels in the string\n",
    "s=input()\n",
    "n=len(s)\n",
    "c=0\n",
    "\n",
    "for i in range(n):\n",
    "    if s[i] in 'aeiou':\n",
    "        c+=1\n",
    "print(c)"
   ]
  },
  {
   "cell_type": "code",
   "execution_count": null,
   "id": "6f318430",
   "metadata": {},
   "outputs": [],
   "source": []
  }
 ],
 "metadata": {
  "kernelspec": {
   "display_name": "Python 3 (ipykernel)",
   "language": "python",
   "name": "python3"
  },
  "language_info": {
   "codemirror_mode": {
    "name": "ipython",
    "version": 3
   },
   "file_extension": ".py",
   "mimetype": "text/x-python",
   "name": "python",
   "nbconvert_exporter": "python",
   "pygments_lexer": "ipython3",
   "version": "3.8.5"
  }
 },
 "nbformat": 4,
 "nbformat_minor": 5
}

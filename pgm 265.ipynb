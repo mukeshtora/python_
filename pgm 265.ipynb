{
 "cells": [
  {
   "cell_type": "code",
   "execution_count": 1,
   "id": "8399c94b",
   "metadata": {},
   "outputs": [
    {
     "name": "stdout",
     "output_type": "stream",
     "text": [
      "a:243\n",
      "b:45\n",
      "50\n",
      "273\n",
      "288\n"
     ]
    }
   ],
   "source": [
    "\"\"\"\n",
    "sum of 2 numbers using default aurguments\n",
    "21/09/23\n",
    "\"\"\"\n",
    "def add(a=20,b=30):\n",
    "    c=a+b\n",
    "    return c\n",
    "#main\n",
    "d=add()\n",
    "a=int(input('a:'))\n",
    "x=add(a)\n",
    "b=int(input('b:'))\n",
    "y=add(a,b)\n",
    "\n",
    "print(d)\n",
    "print(x)\n",
    "print(y)"
   ]
  },
  {
   "cell_type": "markdown",
   "id": "fbc3c75b",
   "metadata": {},
   "source": []
  }
 ],
 "metadata": {
  "kernelspec": {
   "display_name": "Python 3 (ipykernel)",
   "language": "python",
   "name": "python3"
  },
  "language_info": {
   "codemirror_mode": {
    "name": "ipython",
    "version": 3
   },
   "file_extension": ".py",
   "mimetype": "text/x-python",
   "name": "python",
   "nbconvert_exporter": "python",
   "pygments_lexer": "ipython3",
   "version": "3.8.5"
  }
 },
 "nbformat": 4,
 "nbformat_minor": 5
}

{
 "cells": [
  {
   "cell_type": "code",
   "execution_count": 5,
   "id": "8c643094",
   "metadata": {},
   "outputs": [
    {
     "name": "stdout",
     "output_type": "stream",
     "text": [
      "n:10\n",
      "32 84 88 83 "
     ]
    }
   ],
   "source": [
    "\"\"\"\n",
    "pg.no.306\n",
    "16/11/23\n",
    "construct n random numbers, filter only the positive numbers of the list, using lambda function\n",
    "\"\"\"\n",
    "import random as rd\n",
    "n=int(input('n:'))\n",
    "l=[rd.randint(-100,100) for i in range(n)]\n",
    "x=filter(lambda n: n>0, l)\n",
    "for i in x:\n",
    "    print(i,end=' ')\n"
   ]
  },
  {
   "cell_type": "code",
   "execution_count": null,
   "id": "83a6a258",
   "metadata": {},
   "outputs": [],
   "source": []
  }
 ],
 "metadata": {
  "kernelspec": {
   "display_name": "Python 3 (ipykernel)",
   "language": "python",
   "name": "python3"
  },
  "language_info": {
   "codemirror_mode": {
    "name": "ipython",
    "version": 3
   },
   "file_extension": ".py",
   "mimetype": "text/x-python",
   "name": "python",
   "nbconvert_exporter": "python",
   "pygments_lexer": "ipython3",
   "version": "3.8.5"
  }
 },
 "nbformat": 4,
 "nbformat_minor": 5
}

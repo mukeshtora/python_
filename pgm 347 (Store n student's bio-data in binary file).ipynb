{
 "cells": [
  {
   "cell_type": "code",
   "execution_count": 2,
   "id": "f928508c",
   "metadata": {},
   "outputs": [
    {
     "name": "stdout",
     "output_type": "stream",
     "text": [
      "n:4\n",
      "rollno:111\n",
      "name:jk\n",
      "age:21\n",
      "gender:male\n",
      "ph.no:1347789\n",
      "rollno:112\n",
      "name:mjk\n",
      "age:21\n",
      "gender:fe-male\n",
      "ph.no:345688\n",
      "rollno:113\n",
      "name:jay\n",
      "age:21\n",
      "gender:female\n",
      "ph.no:09877\n",
      "rollno:114\n",
      "name:kumar\n",
      "age:21\n",
      "gender:male\n",
      "ph.no:56789\n"
     ]
    }
   ],
   "source": [
    "\"\"\"\n",
    "pg.no 347\n",
    "04/12/23\n",
    "Store n student's bio-data in binary file\n",
    "\"\"\"\n",
    "import pickle\n",
    "f=open('file12.dat','wb')\n",
    "n=int(input('n:'))\n",
    "for i in range(n):\n",
    "    d={}\n",
    "    r=int(input('rollno:'))\n",
    "    n=input('name:')\n",
    "    a=int(input('age:'))\n",
    "    g=input('gender:')\n",
    "    p=int(input('ph.no:'))\n",
    "    \n",
    "    d[r]=[n,a,g,p]\n",
    "    pickle.dump(d,f)\n",
    "f.close()"
   ]
  },
  {
   "cell_type": "code",
   "execution_count": null,
   "id": "c4f60093",
   "metadata": {},
   "outputs": [],
   "source": []
  }
 ],
 "metadata": {
  "kernelspec": {
   "display_name": "Python 3 (ipykernel)",
   "language": "python",
   "name": "python3"
  },
  "language_info": {
   "codemirror_mode": {
    "name": "ipython",
    "version": 3
   },
   "file_extension": ".py",
   "mimetype": "text/x-python",
   "name": "python",
   "nbconvert_exporter": "python",
   "pygments_lexer": "ipython3",
   "version": "3.8.5"
  }
 },
 "nbformat": 4,
 "nbformat_minor": 5
}

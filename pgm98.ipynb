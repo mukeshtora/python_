{
 "cells": [
  {
   "cell_type": "code",
   "execution_count": 19,
   "id": "eff957a4",
   "metadata": {},
   "outputs": [
    {
     "name": "stdout",
     "output_type": "stream",
     "text": [
      "I\n",
      "O\n",
      "A\n",
      "A\n",
      "E\n"
     ]
    }
   ],
   "source": [
    "#pg.no.98\n",
    "#03/08/23\n",
    "#store the string print only the vowels of the string\n",
    "\n",
    "s='LINSOFT ACADEMY'\n",
    "n=len(s)\n",
    "i=0\n",
    "while i<n:\n",
    "    if s[i]=='a'or s[i]=='e' or s[i]=='i' or s[i]=='o' or s[i]=='u'or s[i]=='A'or s[i]=='E' or s[i]=='I' or s[i]=='O' or s[i]=='U':\n",
    "        print(s[i])\n",
    "    i=i+1\n"
   ]
  },
  {
   "cell_type": "code",
   "execution_count": null,
   "id": "43091e7f",
   "metadata": {},
   "outputs": [],
   "source": []
  }
 ],
 "metadata": {
  "kernelspec": {
   "display_name": "Python 3 (ipykernel)",
   "language": "python",
   "name": "python3"
  },
  "language_info": {
   "codemirror_mode": {
    "name": "ipython",
    "version": 3
   },
   "file_extension": ".py",
   "mimetype": "text/x-python",
   "name": "python",
   "nbconvert_exporter": "python",
   "pygments_lexer": "ipython3",
   "version": "3.8.5"
  }
 },
 "nbformat": 4,
 "nbformat_minor": 5
}

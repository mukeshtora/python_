{
 "cells": [
  {
   "cell_type": "code",
   "execution_count": 1,
   "id": "f74fd3c9",
   "metadata": {},
   "outputs": [
    {
     "name": "stdout",
     "output_type": "stream",
     "text": [
      "enter n:4\n",
      "enter a:2345\n",
      "enter a:568879\n",
      "enter a:12\n",
      "enter a:0\n",
      "571236\n"
     ]
    }
   ],
   "source": [
    "#05/08/23\n",
    "#sum of elements of the list\n",
    "a=[]\n",
    "n=int(input('enter n:'))\n",
    "i=0\n",
    "while i<n:\n",
    "    l=int(input('enter a:'))\n",
    "    a.append(l)\n",
    "    i=i+1\n",
    "x=len(a)\n",
    "b=0\n",
    "i=0\n",
    "while i<x:\n",
    "    b=b+a[i]\n",
    "    i=i+1\n",
    "print(b)"
   ]
  },
  {
   "cell_type": "code",
   "execution_count": null,
   "id": "8da244ad",
   "metadata": {},
   "outputs": [],
   "source": []
  }
 ],
 "metadata": {
  "kernelspec": {
   "display_name": "Python 3 (ipykernel)",
   "language": "python",
   "name": "python3"
  },
  "language_info": {
   "codemirror_mode": {
    "name": "ipython",
    "version": 3
   },
   "file_extension": ".py",
   "mimetype": "text/x-python",
   "name": "python",
   "nbconvert_exporter": "python",
   "pygments_lexer": "ipython3",
   "version": "3.8.5"
  }
 },
 "nbformat": 4,
 "nbformat_minor": 5
}

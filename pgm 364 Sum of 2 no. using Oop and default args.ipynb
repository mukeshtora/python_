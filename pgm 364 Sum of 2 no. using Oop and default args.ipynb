{
 "cells": [
  {
   "cell_type": "code",
   "execution_count": 1,
   "id": "ac3b5b76",
   "metadata": {},
   "outputs": [
    {
     "name": "stdout",
     "output_type": "stream",
     "text": [
      "40\n",
      "130\n",
      "240\n"
     ]
    }
   ],
   "source": [
    "\"\"\"\n",
    "pg.no. 364 \n",
    "14/12/23\n",
    "Sum of 2 no. using Oop and default args\n",
    "\"\"\"\n",
    "class sum2():\n",
    "    __x=None\n",
    "    __y=None\n",
    "    __r=None\n",
    "    \n",
    "    def __init__(self,x=10,y=30):\n",
    "        self.__x=x\n",
    "        self.__y=y\n",
    "    def find(self):\n",
    "        self.__r=self.__x +self.__y\n",
    "    def disp(self):\n",
    "        print(self.__r)\n",
    "#main\n",
    "a=sum2()\n",
    "a.find()\n",
    "a.disp()\n",
    "\n",
    "b=sum2(100)\n",
    "b.find()\n",
    "b.disp()\n",
    "\n",
    "c=sum2(200,40)\n",
    "c.find()\n",
    "c.disp()"
   ]
  },
  {
   "cell_type": "code",
   "execution_count": null,
   "id": "3ed5fc2e",
   "metadata": {},
   "outputs": [],
   "source": []
  }
 ],
 "metadata": {
  "kernelspec": {
   "display_name": "Python 3 (ipykernel)",
   "language": "python",
   "name": "python3"
  },
  "language_info": {
   "codemirror_mode": {
    "name": "ipython",
    "version": 3
   },
   "file_extension": ".py",
   "mimetype": "text/x-python",
   "name": "python",
   "nbconvert_exporter": "python",
   "pygments_lexer": "ipython3",
   "version": "3.8.5"
  }
 },
 "nbformat": 4,
 "nbformat_minor": 5
}

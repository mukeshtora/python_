{
 "cells": [
  {
   "cell_type": "code",
   "execution_count": 1,
   "id": "364d59c9",
   "metadata": {},
   "outputs": [
    {
     "name": "stdout",
     "output_type": "stream",
     "text": [
      "enter number:12321\n",
      "12321 is palindrome\n"
     ]
    }
   ],
   "source": [
    "#16/08/23\n",
    "#given integer number is palindrome or not\n",
    "s1=int(input('enter number:'))\n",
    "s=str(s1)\n",
    "s2=''\n",
    "n=len(s)-1\n",
    "for i in range(n,-1,-1):\n",
    "    s2+=s[i]\n",
    "s2=int(s2)\n",
    "if s2==s1:\n",
    "    print(s1,'is palindrome')\n",
    "else:\n",
    "    print('not palindrome')"
   ]
  },
  {
   "cell_type": "code",
   "execution_count": null,
   "id": "44023c8e",
   "metadata": {},
   "outputs": [],
   "source": []
  }
 ],
 "metadata": {
  "kernelspec": {
   "display_name": "Python 3 (ipykernel)",
   "language": "python",
   "name": "python3"
  },
  "language_info": {
   "codemirror_mode": {
    "name": "ipython",
    "version": 3
   },
   "file_extension": ".py",
   "mimetype": "text/x-python",
   "name": "python",
   "nbconvert_exporter": "python",
   "pygments_lexer": "ipython3",
   "version": "3.8.5"
  }
 },
 "nbformat": 4,
 "nbformat_minor": 5
}
